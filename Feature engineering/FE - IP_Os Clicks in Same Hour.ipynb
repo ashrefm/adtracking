{
 "cells": [
  {
   "cell_type": "markdown",
   "metadata": {},
   "source": [
    "# Loading Libraries"
   ]
  },
  {
   "cell_type": "code",
   "execution_count": 2,
   "metadata": {
    "collapsed": true
   },
   "outputs": [],
   "source": [
    "import numpy as np\n",
    "import pandas as pd\n",
    "import matplotlib.pyplot as plt\n",
    "% matplotlib inline\n",
    "\n",
    "import seaborn as sns\n",
    "sns.set(rc={'figure.figsize':(12, 5)},\n",
    "        font_scale=1.5,\n",
    "        style=\"whitegrid\")\n",
    "        \n",
    "from pyspark.sql import HiveContext\n",
    "from pyspark.sql import SQLContext\n",
    "\n",
    "# initialize session hive and sql environments\n",
    "hiveContext = HiveContext(sc)\n",
    "sqlContext = SQLContext(sc)"
   ]
  },
  {
   "cell_type": "markdown",
   "metadata": {},
   "source": [
    "# Data Reading"
   ]
  },
  {
   "cell_type": "code",
   "execution_count": 3,
   "metadata": {
    "collapsed": true
   },
   "outputs": [],
   "source": [
    "project_folder = \"../\"\n",
    "datapath = project_folder + \"data/\"\n",
    "plotpath = project_folder + \"graphs/\"\n",
    "mungepath = project_folder + \"munge/\"\n",
    "configpath = project_folder + \"config/\"\n",
    "diagnostic = project_folder + \"diagnostic/\"\n",
    "modelpath = project_folder + \"model/\"\n",
    "output = project_folder + \"output/\""
   ]
  },
  {
   "cell_type": "code",
   "execution_count": 4,
   "metadata": {
    "collapsed": false
   },
   "outputs": [
    {
     "name": "stdout",
     "output_type": "stream",
     "text": [
      "Found 184903890 observations in training set.\n"
     ]
    }
   ],
   "source": [
    "from pyspark.sql.functions import col\n",
    "\n",
    "train = spark.read.csv(os.path.join(datapath,\"train.csv\"), header=True)\n",
    "print('Found %d observations in training set.' %train.count())"
   ]
  },
  {
   "cell_type": "code",
   "execution_count": 5,
   "metadata": {
    "collapsed": false
   },
   "outputs": [
    {
     "name": "stdout",
     "output_type": "stream",
     "text": [
      "Found 57536872 observations in test_old set.\n"
     ]
    }
   ],
   "source": [
    "from pyspark.sql.functions import col\n",
    "\n",
    "test_old = (spark.read.csv(os.path.join(datapath,\"test_supplement.csv\"), header=True)\n",
    "            .filter(col('click_time') >= '2017-11-09 16:00:00'))\n",
    "\n",
    "print('Found %d observations in test_old set.' %test_old.count())"
   ]
  },
  {
   "cell_type": "code",
   "execution_count": 6,
   "metadata": {
    "collapsed": false
   },
   "outputs": [
    {
     "name": "stdout",
     "output_type": "stream",
     "text": [
      "+------+---+------+---+-------+-------------------+---------------+-------------+\n",
      "|    ip|app|device| os|channel|         click_time|attributed_time|is_attributed|\n",
      "+------+---+------+---+-------+-------------------+---------------+-------------+\n",
      "| 83230|  3|     1| 13|    379|2017-11-06 14:32:21|           null|            0|\n",
      "| 17357|  3|     1| 19|    379|2017-11-06 14:33:34|           null|            0|\n",
      "| 35810|  3|     1| 13|    379|2017-11-06 14:34:12|           null|            0|\n",
      "| 45745| 14|     1| 13|    478|2017-11-06 14:34:52|           null|            0|\n",
      "|161007|  3|     1| 13|    379|2017-11-06 14:35:08|           null|            0|\n",
      "| 18787|  3|     1| 16|    379|2017-11-06 14:36:26|           null|            0|\n",
      "|103022|  3|     1| 23|    379|2017-11-06 14:37:44|           null|            0|\n",
      "|114221|  3|     1| 19|    379|2017-11-06 14:37:59|           null|            0|\n",
      "|165970|  3|     1| 13|    379|2017-11-06 14:38:10|           null|            0|\n",
      "| 74544| 64|     1| 22|    459|2017-11-06 14:38:23|           null|            0|\n",
      "+------+---+------+---+-------+-------------------+---------------+-------------+\n",
      "only showing top 10 rows\n",
      "\n"
     ]
    }
   ],
   "source": [
    "train.show(10)"
   ]
  },
  {
   "cell_type": "code",
   "execution_count": 7,
   "metadata": {
    "collapsed": false,
    "scrolled": true
   },
   "outputs": [
    {
     "name": "stdout",
     "output_type": "stream",
     "text": [
      "root\n",
      " |-- ip: string (nullable = true)\n",
      " |-- app: string (nullable = true)\n",
      " |-- device: string (nullable = true)\n",
      " |-- os: string (nullable = true)\n",
      " |-- channel: string (nullable = true)\n",
      " |-- click_time: string (nullable = true)\n",
      " |-- attributed_time: string (nullable = true)\n",
      " |-- is_attributed: string (nullable = true)\n",
      "\n"
     ]
    }
   ],
   "source": [
    "train.printSchema()"
   ]
  },
  {
   "cell_type": "markdown",
   "metadata": {},
   "source": [
    "# Build the full dataset"
   ]
  },
  {
   "cell_type": "code",
   "execution_count": 8,
   "metadata": {
    "collapsed": false
   },
   "outputs": [
    {
     "name": "stdout",
     "output_type": "stream",
     "text": [
      "Total number of clicks in one week: 242440762\n"
     ]
    }
   ],
   "source": [
    "# train and test set concatenation\n",
    "from pyspark.sql.functions import col\n",
    "data = (train.select('ip', 'app', 'device', 'os', 'channel', 'click_time')\n",
    "        .unionAll(test_old.select('ip', 'app', 'device', 'os', 'channel', 'click_time')))\n",
    "        \n",
    "print('Total number of clicks in one week:', data.count())"
   ]
  },
  {
   "cell_type": "code",
   "execution_count": 9,
   "metadata": {
    "collapsed": false
   },
   "outputs": [
    {
     "name": "stdout",
     "output_type": "stream",
     "text": [
      "+------+---+------+---+-------+-------------------+\n",
      "|    ip|app|device| os|channel|         click_time|\n",
      "+------+---+------+---+-------+-------------------+\n",
      "| 83230|  3|     1| 13|    379|2017-11-06 14:32:21|\n",
      "| 17357|  3|     1| 19|    379|2017-11-06 14:33:34|\n",
      "| 35810|  3|     1| 13|    379|2017-11-06 14:34:12|\n",
      "| 45745| 14|     1| 13|    478|2017-11-06 14:34:52|\n",
      "|161007|  3|     1| 13|    379|2017-11-06 14:35:08|\n",
      "+------+---+------+---+-------+-------------------+\n",
      "only showing top 5 rows\n",
      "\n"
     ]
    }
   ],
   "source": [
    "data.show(5)"
   ]
  },
  {
   "cell_type": "markdown",
   "metadata": {},
   "source": [
    "# Datetime Features"
   ]
  },
  {
   "cell_type": "code",
   "execution_count": 10,
   "metadata": {
    "collapsed": true
   },
   "outputs": [],
   "source": [
    "# day function\n",
    "def get_day(date):\n",
    "    \"\"\"\n",
    "    Returns the hour based on a string date\n",
    "        \n",
    "    Args:\n",
    "        date (String): A String containing the click datetime\n",
    "\n",
    "    Returns:\n",
    "        day: A String containing the day of click (\"06\", \"07\", ..\"10\")\n",
    "    \"\"\"\n",
    "    \n",
    "    return date[8:10]\n",
    "\n",
    "# hour function\n",
    "def get_hour(date):\n",
    "    \"\"\"\n",
    "    Returns the hour based on a string date\n",
    "        \n",
    "    Args:\n",
    "        date (String): A String containing the click datetime\n",
    "\n",
    "    Returns:\n",
    "        hour: A String containing the hour interval (\"01\", \"02\", ..\"23\")\n",
    "    \"\"\"\n",
    "    \n",
    "    return date[11:13]\n",
    "\n",
    "# minute function\n",
    "def get_minute(date):\n",
    "    \"\"\"\n",
    "    Returns the minute based on a string date\n",
    "        \n",
    "    Args:\n",
    "        date (String): A String containing the click datetime\n",
    "\n",
    "    Returns:\n",
    "        hour: A String containing the minute interval (\"01\", \"02\", ..\"59\")\n",
    "    \"\"\"\n",
    "    \n",
    "    return date[14:16]"
   ]
  },
  {
   "cell_type": "code",
   "execution_count": 11,
   "metadata": {
    "collapsed": true
   },
   "outputs": [],
   "source": [
    "# Get datetime features\n",
    "from pyspark.sql.functions import udf\n",
    "from pyspark.sql.types import StringType\n",
    "\n",
    "day_udf = udf(get_day, StringType())\n",
    "hour_udf = udf(get_hour, StringType())\n",
    "minute_udf = udf(get_minute, StringType())\n",
    "\n",
    "data = data.withColumn('day', day_udf(data.click_time))\n",
    "data = data.withColumn('hour', hour_udf(data.click_time))\n",
    "data = data.withColumn('minute', minute_udf(data.click_time))"
   ]
  },
  {
   "cell_type": "code",
   "execution_count": 12,
   "metadata": {
    "collapsed": false
   },
   "outputs": [
    {
     "name": "stdout",
     "output_type": "stream",
     "text": [
      "+------+---+------+---+-------+-------------------+---+----+------+\n",
      "|    ip|app|device| os|channel|         click_time|day|hour|minute|\n",
      "+------+---+------+---+-------+-------------------+---+----+------+\n",
      "| 83230|  3|     1| 13|    379|2017-11-06 14:32:21| 06|  14|    32|\n",
      "| 17357|  3|     1| 19|    379|2017-11-06 14:33:34| 06|  14|    33|\n",
      "| 35810|  3|     1| 13|    379|2017-11-06 14:34:12| 06|  14|    34|\n",
      "| 45745| 14|     1| 13|    478|2017-11-06 14:34:52| 06|  14|    34|\n",
      "|161007|  3|     1| 13|    379|2017-11-06 14:35:08| 06|  14|    35|\n",
      "+------+---+------+---+-------+-------------------+---+----+------+\n",
      "only showing top 5 rows\n",
      "\n"
     ]
    }
   ],
   "source": [
    "data.show(5)"
   ]
  },
  {
   "cell_type": "markdown",
   "metadata": {},
   "source": [
    "# IP Number of Clicks for same Os in same Hour"
   ]
  },
  {
   "cell_type": "code",
   "execution_count": 15,
   "metadata": {
    "collapsed": true
   },
   "outputs": [],
   "source": [
    "from pyspark.sql.functions import col, unix_timestamp, lit\n",
    "import pyspark.sql.functions as func"
   ]
  },
  {
   "cell_type": "code",
   "execution_count": 16,
   "metadata": {
    "collapsed": true
   },
   "outputs": [],
   "source": [
    "var = 'os'"
   ]
  },
  {
   "cell_type": "code",
   "execution_count": 17,
   "metadata": {
    "collapsed": false
   },
   "outputs": [
    {
     "name": "stdout",
     "output_type": "stream",
     "text": [
      "+------+---+---+----+-----------------+---------------------+---------------------+\n",
      "|ip    |os |day|hour|ip_os_hour_clicks|ip_os_hour_std_minute|ip_os_hour_avg_minute|\n",
      "+------+---+---+----+-----------------+---------------------+---------------------+\n",
      "|71692 |9  |06 |17  |8                |18.59                |35.0                 |\n",
      "|34842 |19 |06 |17  |36               |16.4                 |29.5                 |\n",
      "|210905|13 |06 |17  |58               |7.72                 |45.28                |\n",
      "|4052  |41 |06 |17  |23               |21.78                |23.43                |\n",
      "|40022 |4  |06 |17  |14               |0.47                 |43.29                |\n",
      "|209663|41 |06 |17  |40               |13.28                |35.78                |\n",
      "|201337|19 |06 |17  |2                |0.71                 |42.5                 |\n",
      "|116651|1  |06 |17  |73               |8.98                 |41.63                |\n",
      "|18390 |13 |06 |17  |6                |0.41                 |42.17                |\n",
      "|177781|18 |06 |17  |5                |12.48                |35.2                 |\n",
      "|103106|15 |06 |17  |9                |1.2                  |43.22                |\n",
      "|7178  |11 |06 |17  |17               |9.97                 |34.0                 |\n",
      "|2095  |35 |06 |17  |5                |10.47                |39.2                 |\n",
      "|84640 |17 |06 |17  |25               |5.74                 |50.8                 |\n",
      "|146001|22 |06 |17  |15               |10.63                |36.27                |\n",
      "|100809|18 |06 |17  |2                |0.71                 |43.5                 |\n",
      "|95145 |31 |06 |17  |1                |0.0                  |43.0                 |\n",
      "|88501 |18 |06 |17  |32               |5.54                 |47.81                |\n",
      "|57859 |22 |06 |17  |6                |0.0                  |43.0                 |\n",
      "|148222|19 |06 |17  |5                |3.83                 |40.8                 |\n",
      "|60314 |8  |06 |17  |9                |11.74                |36.78                |\n",
      "|212485|49 |06 |17  |2                |0.0                  |43.0                 |\n",
      "|74029 |13 |06 |17  |25               |16.26                |41.56                |\n",
      "|100088|10 |06 |17  |41               |10.11                |4.61                 |\n",
      "|100275|17 |06 |17  |105              |22.61                |26.97                |\n",
      "|87272 |19 |06 |17  |3                |0.0                  |43.0                 |\n",
      "|192756|19 |06 |17  |148              |14.23                |26.68                |\n",
      "|60163 |13 |06 |17  |487              |11.82                |17.83                |\n",
      "|81419 |17 |06 |17  |63               |9.9                  |34.08                |\n",
      "|44261 |17 |06 |17  |7                |4.24                 |47.57                |\n",
      "|123788|13 |06 |17  |35               |18.69                |27.8                 |\n",
      "|79724 |19 |06 |17  |23               |14.92                |25.43                |\n",
      "|189950|24 |06 |17  |1                |0.0                  |43.0                 |\n",
      "|190846|19 |06 |17  |23               |20.42                |27.43                |\n",
      "|49553 |10 |06 |17  |3                |15.31                |25.33                |\n",
      "|71643 |19 |06 |17  |20               |10.2                 |34.15                |\n",
      "|129733|19 |06 |17  |7                |13.29                |35.0                 |\n",
      "|69164 |6  |06 |17  |1                |0.0                  |43.0                 |\n",
      "|83576 |13 |06 |17  |162              |16.79                |29.88                |\n",
      "|113354|17 |06 |17  |29               |1.64                 |38.41                |\n",
      "|182500|14 |06 |17  |1                |0.0                  |43.0                 |\n",
      "|145810|17 |06 |17  |6                |0.52                 |43.33                |\n",
      "|139768|19 |06 |17  |5                |16.67                |14.0                 |\n",
      "|28201 |19 |06 |17  |3                |21.94                |30.33                |\n",
      "|178117|19 |06 |17  |20               |4.41                 |42.5                 |\n",
      "|169576|19 |06 |17  |3                |3.46                 |40.0                 |\n",
      "|208136|19 |06 |17  |3                |0.0                  |44.0                 |\n",
      "|51914 |25 |06 |17  |20               |7.43                 |26.65                |\n",
      "|69469 |19 |06 |17  |29               |14.53                |22.55                |\n",
      "|21762 |13 |06 |17  |1                |0.0                  |44.0                 |\n",
      "|82038 |13 |06 |17  |11               |22.04                |34.91                |\n",
      "|8190  |20 |06 |17  |2                |0.0                  |44.0                 |\n",
      "|38941 |17 |06 |17  |12               |13.76                |21.17                |\n",
      "|192756|17 |06 |17  |22               |10.78                |15.09                |\n",
      "|25553 |18 |06 |17  |23               |15.21                |25.3                 |\n",
      "|61106 |3  |06 |17  |2                |0.71                 |44.5                 |\n",
      "|144738|13 |06 |17  |1                |0.0                  |44.0                 |\n",
      "|147957|26 |06 |17  |11               |12.6                 |7.36                 |\n",
      "|8215  |28 |06 |17  |1                |0.0                  |44.0                 |\n",
      "|116557|8  |06 |17  |10               |7.72                 |33.4                 |\n",
      "|105072|19 |06 |17  |3                |0.0                  |45.0                 |\n",
      "|108881|10 |06 |17  |34               |13.53                |22.18                |\n",
      "|120195|13 |06 |17  |21               |14.62                |48.43                |\n",
      "|120936|23 |06 |17  |9                |3.69                 |45.11                |\n",
      "|104370|13 |06 |17  |21               |4.01                 |47.81                |\n",
      "|172483|18 |06 |17  |17               |13.62                |24.41                |\n",
      "|85107 |15 |06 |17  |21               |15.22                |41.14                |\n",
      "|47098 |19 |06 |17  |6                |9.83                 |49.17                |\n",
      "|84808 |13 |06 |17  |2                |0.0                  |45.0                 |\n",
      "|43931 |13 |06 |17  |19               |9.83                 |47.58                |\n",
      "|141511|46 |06 |17  |1                |0.0                  |45.0                 |\n",
      "|210016|10 |06 |17  |28               |13.97                |40.18                |\n",
      "|116616|8  |06 |17  |1                |0.0                  |45.0                 |\n",
      "|56051 |13 |06 |17  |16               |1.15                 |46.44                |\n",
      "|41399 |8  |06 |17  |4                |17.04                |30.75                |\n",
      "|124797|19 |06 |17  |17               |18.75                |18.88                |\n",
      "|85945 |18 |06 |17  |7                |18.01                |31.43                |\n",
      "|75670 |13 |06 |17  |1                |0.0                  |46.0                 |\n",
      "|114220|29 |06 |17  |2                |0.0                  |46.0                 |\n",
      "|110133|19 |06 |17  |4                |19.21                |29.5                 |\n",
      "|9099  |13 |06 |17  |16               |8.61                 |29.81                |\n",
      "|51512 |19 |06 |17  |35               |18.0                 |33.57                |\n",
      "|33267 |16 |06 |17  |13               |13.45                |28.46                |\n",
      "|182820|17 |06 |17  |1                |0.0                  |46.0                 |\n",
      "|84265 |18 |06 |17  |10               |16.65                |25.4                 |\n",
      "|17149 |0  |06 |17  |26               |9.15                 |23.62                |\n",
      "|90590 |19 |06 |17  |4                |0.0                  |46.0                 |\n",
      "|51992 |37 |06 |17  |9                |9.4                  |42.44                |\n",
      "|54986 |62 |06 |17  |1                |0.0                  |46.0                 |\n",
      "|201906|13 |06 |17  |2                |22.63                |30.0                 |\n",
      "|106406|19 |06 |17  |29               |11.56                |25.0                 |\n",
      "|88925 |18 |06 |17  |29               |3.37                 |50.17                |\n",
      "|176552|13 |06 |17  |1                |0.0                  |46.0                 |\n",
      "|22310 |1  |06 |17  |2                |0.0                  |46.0                 |\n",
      "|138131|19 |06 |17  |5                |11.46                |40.6                 |\n",
      "|55805 |19 |06 |17  |36               |17.17                |33.08                |\n",
      "|2742  |19 |06 |17  |11               |0.4                  |47.18                |\n",
      "|36073 |22 |06 |17  |6                |4.47                 |52.0                 |\n",
      "|18940 |3  |06 |17  |3                |13.86                |39.0                 |\n",
      "|5761  |13 |06 |17  |42               |11.87                |11.21                |\n",
      "+------+---+---+----+-----------------+---------------------+---------------------+\n",
      "only showing top 100 rows\n",
      "\n"
     ]
    }
   ],
   "source": [
    "ip_var_hour_clicks = (data\n",
    "                      .groupBy('ip', var, 'day', 'hour')\n",
    "                      .agg(func.count(func.lit(1)).alias('ip_'+var+'_hour_clicks'),\n",
    "                           func.round(func.stddev(col('minute')), 2).alias('ip_'+var+'_hour_std_minute'),\n",
    "                           func.round(func.mean(col('minute')), 2).alias('ip_'+var+'_hour_avg_minute'))\n",
    "                      .fillna({'ip_'+var+'_hour_std_minute':0,\n",
    "                               'ip_'+var+'_hour_avg_minute':0})\n",
    "                      .cache())\n",
    "\n",
    "ip_var_hour_clicks.show(100, truncate=False)"
   ]
  },
  {
   "cell_type": "code",
   "execution_count": 18,
   "metadata": {
    "collapsed": false
   },
   "outputs": [
    {
     "name": "stdout",
     "output_type": "stream",
     "text": [
      "+-----+---+------+---+-------+-------------------+---+----+------+\n",
      "|ip   |app|device|os |channel|click_time         |day|hour|minute|\n",
      "+-----+---+------+---+-------+-------------------+---+----+------+\n",
      "|71692|12 |1     |9  |328    |2017-11-06 16:07:30|06 |16  |07    |\n",
      "|71692|2  |1     |9  |212    |2017-11-06 16:07:38|06 |16  |07    |\n",
      "|71692|2  |1     |9  |212    |2017-11-06 16:19:12|06 |16  |19    |\n",
      "|71692|12 |1     |9  |328    |2017-11-06 16:19:13|06 |16  |19    |\n",
      "|71692|12 |1     |9  |328    |2017-11-06 16:28:39|06 |16  |28    |\n",
      "|71692|2  |1     |9  |212    |2017-11-06 16:28:41|06 |16  |28    |\n",
      "|71692|2  |1     |9  |212    |2017-11-06 16:40:33|06 |16  |40    |\n",
      "|71692|12 |1     |9  |328    |2017-11-06 16:40:34|06 |16  |40    |\n",
      "|71692|12 |1     |9  |328    |2017-11-06 16:50:16|06 |16  |50    |\n",
      "|71692|12 |1     |9  |328    |2017-11-06 16:58:52|06 |16  |58    |\n",
      "|71692|2  |1     |9  |212    |2017-11-06 16:59:30|06 |16  |59    |\n",
      "|71692|2  |1     |9  |212    |2017-11-06 17:06:12|06 |17  |06    |\n",
      "|71692|12 |1     |9  |328    |2017-11-06 17:06:12|06 |17  |06    |\n",
      "|71692|2  |1     |9  |212    |2017-11-06 17:39:12|06 |17  |39    |\n",
      "|71692|12 |1     |9  |328    |2017-11-06 17:39:12|06 |17  |39    |\n",
      "|71692|2  |1     |9  |212    |2017-11-06 17:43:00|06 |17  |43    |\n",
      "|71692|12 |1     |9  |328    |2017-11-06 17:43:00|06 |17  |43    |\n",
      "|71692|12 |1     |9  |328    |2017-11-06 17:52:14|06 |17  |52    |\n",
      "|71692|2  |1     |9  |212    |2017-11-06 17:52:15|06 |17  |52    |\n",
      "|71692|2  |1     |9  |212    |2017-11-06 18:05:18|06 |18  |05    |\n",
      "+-----+---+------+---+-------+-------------------+---+----+------+\n",
      "only showing top 20 rows\n",
      "\n"
     ]
    }
   ],
   "source": [
    "data.filter((col('ip')==71692) & (col(var)==9)).show(truncate=False)"
   ]
  },
  {
   "cell_type": "markdown",
   "metadata": {},
   "source": [
    "## Export New Features"
   ]
  },
  {
   "cell_type": "code",
   "execution_count": 19,
   "metadata": {
    "collapsed": true
   },
   "outputs": [],
   "source": [
    "(ip_var_hour_clicks\n",
    " .coalesce(1)\n",
    " .write\n",
    " .format(\"com.databricks.spark.csv\")\n",
    " .option(\"header\", \"true\")\n",
    " .mode(\"overwrite\")\n",
    " .save(mungepath+\"f_ip_\"+var+\"_hour_clicks\", compression=\"None\"))"
   ]
  },
  {
   "cell_type": "code",
   "execution_count": 20,
   "metadata": {
    "collapsed": false
   },
   "outputs": [
    {
     "data": {
      "text/plain": [
       "26491410"
      ]
     },
     "execution_count": 20,
     "metadata": {},
     "output_type": "execute_result"
    }
   ],
   "source": [
    "ip_var_hour_clicks.count()"
   ]
  },
  {
   "cell_type": "markdown",
   "metadata": {},
   "source": [
    "## Check the impact of new features"
   ]
  },
  {
   "cell_type": "code",
   "execution_count": 21,
   "metadata": {
    "collapsed": false
   },
   "outputs": [
    {
     "name": "stdout",
     "output_type": "stream",
     "text": [
      "+--------------------+\n",
      "|  avg(is_attributed)|\n",
      "+--------------------+\n",
      "|0.002470721410998979|\n",
      "+--------------------+\n",
      "\n"
     ]
    }
   ],
   "source": [
    "import pyspark.sql.functions as func\n",
    "\n",
    "train.groupBy().agg(func.mean(col('is_attributed'))).show()"
   ]
  },
  {
   "cell_type": "code",
   "execution_count": 22,
   "metadata": {
    "collapsed": true
   },
   "outputs": [],
   "source": [
    "train_sample = (train.sample(fraction=0.05, withReplacement=False, seed=22)\n",
    "                .withColumn('day', day_udf(data.click_time))\n",
    "                .withColumn('hour', hour_udf(data.click_time))\n",
    "                .join(ip_var_hour_clicks, ['ip', var, 'day', 'hour'], 'left_outer')\n",
    "                .cache())"
   ]
  },
  {
   "cell_type": "code",
   "execution_count": 23,
   "metadata": {
    "collapsed": false
   },
   "outputs": [
    {
     "data": {
      "text/plain": [
       "9248009"
      ]
     },
     "execution_count": 23,
     "metadata": {},
     "output_type": "execute_result"
    }
   ],
   "source": [
    "train_sample.count()"
   ]
  },
  {
   "cell_type": "code",
   "execution_count": 24,
   "metadata": {
    "collapsed": false
   },
   "outputs": [
    {
     "data": {
      "text/plain": [
       "9248009"
      ]
     },
     "execution_count": 24,
     "metadata": {},
     "output_type": "execute_result"
    }
   ],
   "source": [
    "train.sample(fraction=0.05, withReplacement=False, seed=22).count()"
   ]
  },
  {
   "cell_type": "code",
   "execution_count": 25,
   "metadata": {
    "collapsed": false
   },
   "outputs": [
    {
     "name": "stdout",
     "output_type": "stream",
     "text": [
      "+------+---+---+----+---+------+-------+-------------------+---------------+-------------+-----------------+---------------------+---------------------+\n",
      "|ip    |os |day|hour|app|device|channel|click_time         |attributed_time|is_attributed|ip_os_hour_clicks|ip_os_hour_std_minute|ip_os_hour_avg_minute|\n",
      "+------+---+---+----+---+------+-------+-------------------+---------------+-------------+-----------------+---------------------+---------------------+\n",
      "|1     |52 |09 |10  |7  |1     |101    |2017-11-09 10:34:25|null           |0            |5                |0.0                  |34.0                 |\n",
      "|100009|22 |07 |08  |2  |1     |237    |2017-11-07 08:37:47|null           |0            |2                |21.21                |22.0                 |\n",
      "|100013|13 |07 |00  |9  |1     |244    |2017-11-07 00:06:54|null           |0            |32               |13.68                |40.88                |\n",
      "|100013|13 |07 |00  |9  |1     |215    |2017-11-07 00:53:20|null           |0            |32               |13.68                |40.88                |\n",
      "|100013|13 |07 |00  |55 |1     |453    |2017-11-07 00:53:46|null           |0            |32               |13.68                |40.88                |\n",
      "+------+---+---+----+---+------+-------+-------------------+---------------+-------------+-----------------+---------------------+---------------------+\n",
      "only showing top 5 rows\n",
      "\n"
     ]
    }
   ],
   "source": [
    "train_sample.show(5, truncate=False)"
   ]
  },
  {
   "cell_type": "code",
   "execution_count": 26,
   "metadata": {
    "collapsed": true
   },
   "outputs": [],
   "source": [
    "features = ['ip_'+var+'_hour_clicks', 'ip_'+var+'_hour_std_minute', 'ip_'+var+'_hour_avg_minute']"
   ]
  },
  {
   "cell_type": "code",
   "execution_count": 27,
   "metadata": {
    "collapsed": false,
    "scrolled": false
   },
   "outputs": [
    {
     "data": {
      "image/png": "[encoded data removed]",
      "text/plain": [
       "<matplotlib.figure.Figure at 0x7f6ee9eb1f28>"
      ]
     },
     "metadata": {},
     "output_type": "display_data"
    },
    {
     "data": {
      "image/png": "[encoded data removed]",
      "text/plain": [
       "<matplotlib.figure.Figure at 0x7f6e790eae48>"
      ]
     },
     "metadata": {},
     "output_type": "display_data"
    },
    {
     "data": {
      "image/png": "[encoded data removed]",
      "text/plain": [
       "<matplotlib.figure.Figure at 0x7f6f156b1dd8>"
      ]
     },
     "metadata": {},
     "output_type": "display_data"
    },
    {
     "data": {
      "image/png": "[encoded data removed]",
      "text/plain": [
       "<matplotlib.figure.Figure at 0x7f6f1c21add8>"
      ]
     },
     "metadata": {},
     "output_type": "display_data"
    }
   ],
   "source": [
    "for f in features:\n",
    "    PDF = train_sample.select('is_attributed', f).toPandas()\n",
    "    PDF_sorted = PDF.sort_values(by=f)\n",
    "    PDF_sorted['roll'] = PDF_sorted.is_attributed.rolling(window=10000).mean()\n",
    "    plt.title('Impact of '+f)\n",
    "    plt.plot(PDF_sorted[f], PDF_sorted.roll)\n",
    "    plt.show()\n",
    "    \n",
    "    if np.max(PDF_sorted[f])>200:\n",
    "        PDF_filtered = PDF_sorted[PDF_sorted[f]<100]\n",
    "        plt.title('Impact of '+f)\n",
    "        plt.plot(PDF_filtered[f], PDF_filtered.roll)\n",
    "        plt.show()"
   ]
  },
  {
   "cell_type": "code",
   "execution_count": null,
   "metadata": {
    "collapsed": true
   },
   "outputs": [],
   "source": []
  }
 ],
 "metadata": {
  "anaconda-cloud": {},
  "kernelspec": {
   "display_name": "PySpark",
   "language": "python3",
   "name": "pyspark"
  },
  "language_info": {
   "codemirror_mode": {
    "name": "ipython",
    "version": 3
   },
   "file_extension": ".py",
   "mimetype": "text/x-python",
   "name": "python",
   "nbconvert_exporter": "python",
   "pygments_lexer": "ipython3",
   "version": "3.6.4"
  }
 },
 "nbformat": 4,
 "nbformat_minor": 2
}
