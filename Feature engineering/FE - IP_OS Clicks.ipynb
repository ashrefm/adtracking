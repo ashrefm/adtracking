{
 "cells": [
  {
   "cell_type": "markdown",
   "metadata": {},
   "source": [
    "# Loading Libraries"
   ]
  },
  {
   "cell_type": "code",
   "execution_count": 2,
   "metadata": {
    "collapsed": true
   },
   "outputs": [],
   "source": [
    "import numpy as np\n",
    "import pandas as pd\n",
    "import matplotlib.pyplot as plt\n",
    "% matplotlib inline\n",
    "\n",
    "import seaborn as sns\n",
    "sns.set(rc={'figure.figsize':(12, 5)},\n",
    "        font_scale=1.5,\n",
    "        style=\"whitegrid\")\n",
    "        \n",
    "from pyspark.sql import HiveContext\n",
    "from pyspark.sql import SQLContext\n",
    "\n",
    "# initialize session hive and sql environments\n",
    "hiveContext = HiveContext(sc)\n",
    "sqlContext = SQLContext(sc)"
   ]
  },
  {
   "cell_type": "markdown",
   "metadata": {},
   "source": [
    "# Data Reading"
   ]
  },
  {
   "cell_type": "code",
   "execution_count": 3,
   "metadata": {
    "collapsed": true
   },
   "outputs": [],
   "source": [
    "project_folder = \"../\"\n",
    "datapath = project_folder + \"data/\"\n",
    "plotpath = project_folder + \"graphs/\"\n",
    "mungepath = project_folder + \"munge/\"\n",
    "configpath = project_folder + \"config/\"\n",
    "diagnostic = project_folder + \"diagnostic/\"\n",
    "modelpath = project_folder + \"model/\"\n",
    "output = project_folder + \"output/\""
   ]
  },
  {
   "cell_type": "code",
   "execution_count": 4,
   "metadata": {
    "collapsed": false
   },
   "outputs": [
    {
     "name": "stdout",
     "output_type": "stream",
     "text": [
      "Found 184903890 observations in training set.\n"
     ]
    }
   ],
   "source": [
    "from pyspark.sql.functions import col\n",
    "\n",
    "train = spark.read.csv(os.path.join(datapath,\"train.csv\"), header=True)\n",
    "print('Found %d observations in training set.' %train.count())"
   ]
  },
  {
   "cell_type": "code",
   "execution_count": 5,
   "metadata": {
    "collapsed": false
   },
   "outputs": [
    {
     "name": "stdout",
     "output_type": "stream",
     "text": [
      "Found 57536872 observations in test_old set.\n"
     ]
    }
   ],
   "source": [
    "from pyspark.sql.functions import col\n",
    "\n",
    "test_old = (spark.read.csv(os.path.join(datapath,\"test_supplement.csv\"), header=True)\n",
    "            .filter(col('click_time') >= '2017-11-09 16:00:00'))\n",
    "\n",
    "print('Found %d observations in test_old set.' %test_old.count())"
   ]
  },
  {
   "cell_type": "code",
   "execution_count": 6,
   "metadata": {
    "collapsed": false
   },
   "outputs": [
    {
     "name": "stdout",
     "output_type": "stream",
     "text": [
      "+------+---+------+---+-------+-------------------+---------------+-------------+\n",
      "|    ip|app|device| os|channel|         click_time|attributed_time|is_attributed|\n",
      "+------+---+------+---+-------+-------------------+---------------+-------------+\n",
      "| 83230|  3|     1| 13|    379|2017-11-06 14:32:21|           null|            0|\n",
      "| 17357|  3|     1| 19|    379|2017-11-06 14:33:34|           null|            0|\n",
      "| 35810|  3|     1| 13|    379|2017-11-06 14:34:12|           null|            0|\n",
      "| 45745| 14|     1| 13|    478|2017-11-06 14:34:52|           null|            0|\n",
      "|161007|  3|     1| 13|    379|2017-11-06 14:35:08|           null|            0|\n",
      "| 18787|  3|     1| 16|    379|2017-11-06 14:36:26|           null|            0|\n",
      "|103022|  3|     1| 23|    379|2017-11-06 14:37:44|           null|            0|\n",
      "|114221|  3|     1| 19|    379|2017-11-06 14:37:59|           null|            0|\n",
      "|165970|  3|     1| 13|    379|2017-11-06 14:38:10|           null|            0|\n",
      "| 74544| 64|     1| 22|    459|2017-11-06 14:38:23|           null|            0|\n",
      "+------+---+------+---+-------+-------------------+---------------+-------------+\n",
      "only showing top 10 rows\n",
      "\n"
     ]
    }
   ],
   "source": [
    "train.show(10)"
   ]
  },
  {
   "cell_type": "code",
   "execution_count": 7,
   "metadata": {
    "collapsed": false,
    "scrolled": true
   },
   "outputs": [
    {
     "name": "stdout",
     "output_type": "stream",
     "text": [
      "root\n",
      " |-- ip: string (nullable = true)\n",
      " |-- app: string (nullable = true)\n",
      " |-- device: string (nullable = true)\n",
      " |-- os: string (nullable = true)\n",
      " |-- channel: string (nullable = true)\n",
      " |-- click_time: string (nullable = true)\n",
      " |-- attributed_time: string (nullable = true)\n",
      " |-- is_attributed: string (nullable = true)\n",
      "\n"
     ]
    }
   ],
   "source": [
    "train.printSchema()"
   ]
  },
  {
   "cell_type": "markdown",
   "metadata": {},
   "source": [
    "# Build the full dataset"
   ]
  },
  {
   "cell_type": "code",
   "execution_count": 8,
   "metadata": {
    "collapsed": false
   },
   "outputs": [
    {
     "name": "stdout",
     "output_type": "stream",
     "text": [
      "Total number of clicks in one week: 242440762\n"
     ]
    }
   ],
   "source": [
    "# train and test set concatenation\n",
    "from pyspark.sql.functions import col\n",
    "data = (train.select('ip', 'app', 'device', 'os', 'channel', 'click_time')\n",
    "        .unionAll(test_old.select('ip', 'app', 'device', 'os', 'channel', 'click_time')))\n",
    "        \n",
    "print('Total number of clicks in one week:', data.count())"
   ]
  },
  {
   "cell_type": "code",
   "execution_count": 9,
   "metadata": {
    "collapsed": false
   },
   "outputs": [
    {
     "name": "stdout",
     "output_type": "stream",
     "text": [
      "+------+---+------+---+-------+-------------------+\n",
      "|    ip|app|device| os|channel|         click_time|\n",
      "+------+---+------+---+-------+-------------------+\n",
      "| 83230|  3|     1| 13|    379|2017-11-06 14:32:21|\n",
      "| 17357|  3|     1| 19|    379|2017-11-06 14:33:34|\n",
      "| 35810|  3|     1| 13|    379|2017-11-06 14:34:12|\n",
      "| 45745| 14|     1| 13|    478|2017-11-06 14:34:52|\n",
      "|161007|  3|     1| 13|    379|2017-11-06 14:35:08|\n",
      "+------+---+------+---+-------+-------------------+\n",
      "only showing top 5 rows\n",
      "\n"
     ]
    }
   ],
   "source": [
    "data.show(5)"
   ]
  },
  {
   "cell_type": "markdown",
   "metadata": {},
   "source": [
    "# Datetime Features"
   ]
  },
  {
   "cell_type": "code",
   "execution_count": 10,
   "metadata": {
    "collapsed": true
   },
   "outputs": [],
   "source": [
    "# day function\n",
    "def get_day(date):\n",
    "    \"\"\"\n",
    "    Returns the hour based on a string date\n",
    "        \n",
    "    Args:\n",
    "        date (String): A String containing the click datetime\n",
    "\n",
    "    Returns:\n",
    "        day: A String containing the day of click (\"06\", \"07\", ..\"10\")\n",
    "    \"\"\"\n",
    "    \n",
    "    return date[8:10]\n",
    "\n",
    "# hour function\n",
    "def get_hour(date):\n",
    "    \"\"\"\n",
    "    Returns the hour based on a string date\n",
    "        \n",
    "    Args:\n",
    "        date (String): A String containing the click datetime\n",
    "\n",
    "    Returns:\n",
    "        hour: A String containing the hour interval (\"01\", \"02\", ..\"23\")\n",
    "    \"\"\"\n",
    "    \n",
    "    return date[11:13]\n",
    "\n",
    "# minute function\n",
    "def get_minute(date):\n",
    "    \"\"\"\n",
    "    Returns the minute based on a string date\n",
    "        \n",
    "    Args:\n",
    "        date (String): A String containing the click datetime\n",
    "\n",
    "    Returns:\n",
    "        hour: A String containing the minute interval (\"01\", \"02\", ..\"59\")\n",
    "    \"\"\"\n",
    "    \n",
    "    return date[14:16]"
   ]
  },
  {
   "cell_type": "code",
   "execution_count": 11,
   "metadata": {
    "collapsed": true
   },
   "outputs": [],
   "source": [
    "# Get datetime features\n",
    "from pyspark.sql.functions import udf\n",
    "from pyspark.sql.types import StringType\n",
    "\n",
    "day_udf = udf(get_day, StringType())\n",
    "hour_udf = udf(get_hour, StringType())\n",
    "minute_udf = udf(get_minute, StringType())\n",
    "\n",
    "data = data.withColumn('day', day_udf(data.click_time))\n",
    "data = data.withColumn('hour', hour_udf(data.click_time))\n",
    "data = data.withColumn('minute', minute_udf(data.click_time))"
   ]
  },
  {
   "cell_type": "code",
   "execution_count": 12,
   "metadata": {
    "collapsed": false
   },
   "outputs": [
    {
     "name": "stdout",
     "output_type": "stream",
     "text": [
      "+------+---+------+---+-------+-------------------+---+----+------+\n",
      "|    ip|app|device| os|channel|         click_time|day|hour|minute|\n",
      "+------+---+------+---+-------+-------------------+---+----+------+\n",
      "| 83230|  3|     1| 13|    379|2017-11-06 14:32:21| 06|  14|    32|\n",
      "| 17357|  3|     1| 19|    379|2017-11-06 14:33:34| 06|  14|    33|\n",
      "| 35810|  3|     1| 13|    379|2017-11-06 14:34:12| 06|  14|    34|\n",
      "| 45745| 14|     1| 13|    478|2017-11-06 14:34:52| 06|  14|    34|\n",
      "|161007|  3|     1| 13|    379|2017-11-06 14:35:08| 06|  14|    35|\n",
      "+------+---+------+---+-------+-------------------+---+----+------+\n",
      "only showing top 5 rows\n",
      "\n"
     ]
    }
   ],
   "source": [
    "data.show(5)"
   ]
  },
  {
   "cell_type": "markdown",
   "metadata": {},
   "source": [
    "# IP Number of Clicks for same OS"
   ]
  },
  {
   "cell_type": "code",
   "execution_count": 13,
   "metadata": {
    "collapsed": true
   },
   "outputs": [],
   "source": [
    "from pyspark.sql.functions import col, unix_timestamp, lit\n",
    "import pyspark.sql.functions as func"
   ]
  },
  {
   "cell_type": "code",
   "execution_count": 14,
   "metadata": {
    "collapsed": true
   },
   "outputs": [],
   "source": [
    "var = 'os'"
   ]
  },
  {
   "cell_type": "code",
   "execution_count": 16,
   "metadata": {
    "collapsed": false
   },
   "outputs": [
    {
     "name": "stdout",
     "output_type": "stream",
     "text": [
      "+-------------------+\n",
      "|    min(click_time)|\n",
      "+-------------------+\n",
      "|2017-11-06 14:32:21|\n",
      "+-------------------+\n",
      "\n"
     ]
    }
   ],
   "source": [
    "train.groupBy().agg(func.min('click_time')).show()"
   ]
  },
  {
   "cell_type": "code",
   "execution_count": 15,
   "metadata": {
    "collapsed": false
   },
   "outputs": [
    {
     "name": "stdout",
     "output_type": "stream",
     "text": [
      "+------+---+------------+--------------------+--------------+----------------+--------------+----------------+\n",
      "|ip    |os |ip_os_clicks|ip_os_std_click_time|ip_os_std_hour|ip_os_std_minute|ip_os_avg_hour|ip_os_avg_minute|\n",
      "+------+---+------------+--------------------+--------------+----------------+--------------+----------------+\n",
      "|59395 |19 |23982       |99425.0             |6.12          |17.49           |10.77         |29.35           |\n",
      "|34036 |20 |260         |113006.0            |6.32          |17.34           |11.34         |24.28           |\n",
      "|100275|13 |75167       |97937.0             |6.13          |17.45           |11.25         |29.54           |\n",
      "|188653|41 |76          |11188.0             |8.66          |18.14           |13.39         |28.39           |\n",
      "|139797|3  |24          |98925.0             |4.12          |21.65           |7.63          |29.88           |\n",
      "|19188 |10 |509         |80565.0             |5.55          |17.88           |8.35          |26.98           |\n",
      "|64381 |19 |3888        |89955.0             |6.61          |17.23           |8.43          |29.52           |\n",
      "|107246|13 |2142        |93931.0             |6.09          |16.58           |8.31          |27.03           |\n",
      "|38265 |39 |9           |104926.0            |7.55          |17.56           |13.44         |20.44           |\n",
      "|77866 |17 |907         |116726.0            |5.52          |15.55           |11.21         |29.62           |\n",
      "|114720|22 |370         |98651.0             |5.92          |18.07           |10.22         |25.19           |\n",
      "|110386|19 |2866        |94412.0             |5.73          |16.97           |10.77         |30.56           |\n",
      "|38866 |19 |3381        |91816.0             |6.18          |15.29           |4.66          |26.86           |\n",
      "|26039 |22 |370         |111639.0            |6.32          |16.26           |9.71          |29.3            |\n",
      "|161370|6  |67          |70014.0             |8.67          |19.57           |11.21         |33.52           |\n",
      "|123214|10 |62          |137281.0            |3.62          |17.21           |12.97         |25.19           |\n",
      "|99160 |17 |998         |99145.0             |6.17          |17.78           |10.05         |31.1            |\n",
      "|36183 |22 |4985        |95232.0             |6.17          |17.8            |10.96         |29.93           |\n",
      "|24200 |24 |6           |135125.0            |5.42          |19.6            |10.83         |22.5            |\n",
      "|13608 |22 |812         |91389.0             |6.57          |17.19           |12.46         |30.29           |\n",
      "|43449 |20 |128         |93360.0             |6.66          |19.31           |7.26          |24.37           |\n",
      "|23484 |6  |85          |90918.0             |5.72          |14.75           |9.87          |25.51           |\n",
      "|190846|3  |131         |60681.0             |3.77          |14.8            |10.53         |34.08           |\n",
      "|13573 |19 |5623        |95856.0             |6.38          |16.77           |10.32         |28.95           |\n",
      "|110209|14 |135         |116876.0            |6.08          |18.55           |11.59         |28.79           |\n",
      "|62790 |19 |374         |131211.0            |5.33          |17.16           |10.37         |29.33           |\n",
      "|150910|19 |31          |91374.0             |8.71          |18.45           |10.42         |29.19           |\n",
      "|28123 |27 |102         |36697.0             |2.58          |10.56           |15.91         |15.47           |\n",
      "|60471 |13 |1282        |103730.0            |6.23          |17.14           |10.49         |27.89           |\n",
      "|128648|13 |182         |81495.0             |4.56          |18.42           |7.59          |32.05           |\n",
      "|188387|42 |23          |6909.0              |1.94          |21.17           |16.96         |25.35           |\n",
      "|92735 |13 |32615       |97104.0             |6.66          |17.18           |10.85         |29.41           |\n",
      "|55119 |6  |446         |93662.0             |5.35          |17.52           |9.2           |26.53           |\n",
      "|159702|13 |5346        |83832.0             |5.67          |18.0            |11.25         |28.99           |\n",
      "|172941|13 |403         |90355.0             |7.97          |16.59           |12.0          |31.9            |\n",
      "|25588 |17 |2102        |89098.0             |5.66          |16.5            |12.27         |27.51           |\n",
      "|231   |4  |85          |104058.0            |4.8           |15.15           |7.65          |32.13           |\n",
      "|124384|10 |735         |103526.0            |5.68          |17.37           |10.81         |31.39           |\n",
      "|33888 |6  |132         |99983.0             |7.29          |17.22           |8.3           |28.48           |\n",
      "|88192 |13 |4730        |108077.0            |6.04          |18.09           |8.76          |29.4            |\n",
      "|210427|56 |45          |30615.0             |5.75          |19.09           |2.4           |18.16           |\n",
      "|100212|15 |2707        |82905.0             |4.92          |18.04           |11.48         |29.49           |\n",
      "|129822|19 |370         |16449.0             |8.17          |17.5            |8.51          |30.14           |\n",
      "|64779 |40 |2           |1.0                 |0.0           |0.0             |16.0          |0.0             |\n",
      "|42677 |22 |662         |98370.0             |6.9           |17.85           |9.43          |29.27           |\n",
      "|118284|9  |3647        |93341.0             |6.29          |17.53           |11.47         |29.22           |\n",
      "|100701|17 |599         |89959.0             |5.64          |17.1            |8.91          |30.65           |\n",
      "|32453 |2  |107         |105435.0            |5.54          |18.09           |11.33         |35.11           |\n",
      "|162718|13 |146         |15054.0             |5.38          |18.39           |7.6           |21.29           |\n",
      "|94101 |19 |1620        |97507.0             |6.28          |17.3            |8.21          |30.03           |\n",
      "|96699 |18 |218         |88659.0             |6.13          |16.74           |7.67          |25.17           |\n",
      "|40398 |19 |2262        |88946.0             |6.17          |17.94           |8.27          |28.9            |\n",
      "|79614 |13 |2729        |105977.0            |5.28          |16.76           |13.42         |28.58           |\n",
      "|26849 |607|125         |21074.0             |5.74          |18.41           |10.39         |30.07           |\n",
      "|4330  |20 |141         |121268.0            |6.44          |19.18           |6.52          |26.84           |\n",
      "|112629|13 |1425        |85705.0             |5.68          |17.63           |10.52         |30.66           |\n",
      "|43255 |19 |4384        |89923.0             |6.76          |17.16           |9.24          |28.21           |\n",
      "|207838|13 |569         |76356.0             |5.66          |17.61           |8.25          |28.26           |\n",
      "|2306  |19 |2037        |102646.0            |6.27          |17.9            |7.5           |29.46           |\n",
      "|182317|36 |18          |25733.0             |1.65          |22.87           |17.61         |40.17           |\n",
      "|62766 |13 |1324        |95681.0             |5.84          |16.33           |8.24          |29.07           |\n",
      "|93253 |13 |1306        |109724.0            |5.63          |16.72           |10.28         |25.41           |\n",
      "|145896|15 |564         |50572.0             |6.64          |17.7            |10.5          |28.92           |\n",
      "|187037|29 |1           |0.0                 |0.0           |0.0             |16.0          |0.0             |\n",
      "|59456 |9  |554         |96902.0             |5.49          |16.8            |10.5          |32.36           |\n",
      "|26890 |9  |486         |96068.0             |5.01          |17.92           |10.74         |27.69           |\n",
      "|119356|13 |2130        |95332.0             |5.89          |16.16           |7.67          |29.46           |\n",
      "|39889 |20 |269         |117553.0            |5.57          |15.9            |8.2           |24.93           |\n",
      "|77399 |13 |1564        |103075.0            |5.68          |18.05           |10.11         |30.51           |\n",
      "|37490 |6  |1388        |97728.0             |6.36          |17.34           |10.59         |26.24           |\n",
      "|103108|19 |2807        |97995.0             |5.69          |18.44           |7.17          |30.31           |\n",
      "|106857|16 |66          |113048.0            |7.07          |19.75           |6.92          |20.85           |\n",
      "|5348  |26 |9302        |96910.0             |5.9           |16.82           |10.58         |29.39           |\n",
      "|139176|17 |62          |22642.0             |5.9           |20.74           |8.34          |23.94           |\n",
      "|35703 |13 |1269        |108808.0            |6.14          |16.87           |9.85          |29.53           |\n",
      "|154971|13 |2056        |48006.0             |5.91          |17.47           |10.59         |29.8            |\n",
      "|93549 |18 |269         |67178.0             |5.53          |15.38           |11.39         |28.84           |\n",
      "|175617|19 |116         |89596.0             |6.87          |18.02           |8.16          |26.75           |\n",
      "|23484 |13 |1255        |97745.0             |5.71          |17.72           |7.98          |30.55           |\n",
      "|109728|22 |812         |83477.0             |4.51          |18.62           |12.8          |31.7            |\n",
      "|43763 |19 |3331        |83111.0             |5.79          |16.79           |11.25         |27.74           |\n",
      "|141866|12 |1           |0.0                 |0.0           |0.0             |16.0          |1.0             |\n",
      "|162367|13 |2068        |72610.0             |7.14          |16.22           |11.18         |27.66           |\n",
      "|48212 |15 |4562        |87837.0             |5.55          |17.74           |10.81         |29.61           |\n",
      "|104569|17 |640         |126302.0            |4.28          |17.18           |13.78         |29.12           |\n",
      "|197605|16 |8           |67994.0             |6.27          |24.67           |8.88          |38.38           |\n",
      "|47780 |9  |38          |72782.0             |4.24          |13.87           |5.39          |23.97           |\n",
      "|62195 |30 |101         |91199.0             |4.38          |15.27           |7.43          |26.38           |\n",
      "|34670 |18 |338         |85657.0             |5.87          |17.81           |7.63          |32.48           |\n",
      "|66003 |27 |164         |83983.0             |5.96          |18.0            |8.47          |35.45           |\n",
      "|92789 |35 |70          |70050.0             |5.2           |15.54           |14.59         |22.6            |\n",
      "|212293|13 |473         |90477.0             |5.45          |17.68           |10.95         |28.7            |\n",
      "|117867|53 |395         |88643.0             |6.7           |15.87           |11.75         |30.76           |\n",
      "|105811|19 |3769        |79715.0             |6.07          |17.03           |10.71         |29.7            |\n",
      "|15769 |17 |673         |113174.0            |6.06          |18.26           |9.86          |31.12           |\n",
      "|67628 |3  |899         |92499.0             |5.96          |17.07           |11.44         |30.07           |\n",
      "|64659 |19 |4635        |96366.0             |7.01          |16.94           |9.5           |28.26           |\n",
      "|195491|3  |12          |76907.0             |6.14          |18.89           |5.67          |32.58           |\n",
      "|30077 |20 |116         |73514.0             |4.96          |15.67           |9.08          |28.56           |\n",
      "|35983 |10 |612         |106112.0            |5.57          |17.01           |9.96          |29.75           |\n",
      "+------+---+------------+--------------------+--------------+----------------+--------------+----------------+\n",
      "only showing top 100 rows\n",
      "\n"
     ]
    }
   ],
   "source": [
    "ip_var_clicks = (data\n",
    "                 .withColumn('click_time_seconds',\n",
    "                             (unix_timestamp(col('click_time')) - unix_timestamp(lit('2017-11-06 14:32:21'))))\n",
    "                 .groupBy('ip', var)\n",
    "                 .agg(func.count(func.lit(1)).alias('ip_'+var+'_clicks'),\n",
    "                      func.round(func.stddev(col('click_time_seconds'))).alias('ip_'+var+'_std_click_time'),\n",
    "                      func.round(func.stddev(col('hour')), 2).alias('ip_'+var+'_std_hour'),\n",
    "                      func.round(func.stddev(col('minute')), 2).alias('ip_'+var+'_std_minute'),\n",
    "                      func.round(func.mean(col('hour')), 2).alias('ip_'+var+'_avg_hour'),\n",
    "                      func.round(func.mean(col('minute')), 2).alias('ip_'+var+'_avg_minute'))\n",
    "                 .fillna({'ip_'+var+'_std_click_time':0,\n",
    "                          'ip_'+var+'_std_hour':0,\n",
    "                          'ip_'+var+'_std_minute':0,\n",
    "                          'ip_'+var+'_avg_hour':0,\n",
    "                          'ip_'+var+'_avg_minute':0})\n",
    "                 .cache())\n",
    "\n",
    "ip_var_clicks.show(100, truncate=False)"
   ]
  },
  {
   "cell_type": "code",
   "execution_count": 19,
   "metadata": {
    "collapsed": false
   },
   "outputs": [
    {
     "name": "stdout",
     "output_type": "stream",
     "text": [
      "+-----+---+------+---+-------+-------------------+---+----+------+\n",
      "|ip   |app|device|os |channel|click_time         |day|hour|minute|\n",
      "+-----+---+------+---+-------+-------------------+---+----+------+\n",
      "|64779|64 |1     |40 |459    |2017-11-06 16:00:25|06 |16  |00    |\n",
      "|64779|6  |1     |40 |459    |2017-11-06 16:00:26|06 |16  |00    |\n",
      "+-----+---+------+---+-------+-------------------+---+----+------+\n",
      "\n"
     ]
    }
   ],
   "source": [
    "data.filter((col('ip')==64779) & (col(var)==40)).show(truncate=False)"
   ]
  },
  {
   "cell_type": "markdown",
   "metadata": {},
   "source": [
    "## Export New Features"
   ]
  },
  {
   "cell_type": "code",
   "execution_count": 17,
   "metadata": {
    "collapsed": true
   },
   "outputs": [],
   "source": [
    "(ip_var_clicks\n",
    " .coalesce(1)\n",
    " .write\n",
    " .format(\"com.databricks.spark.csv\")\n",
    " .option(\"header\", \"true\")\n",
    " .mode(\"overwrite\")\n",
    " .save(mungepath+\"f_ip_\"+var+\"_clicks\", compression=\"None\"))"
   ]
  },
  {
   "cell_type": "code",
   "execution_count": 18,
   "metadata": {
    "collapsed": false
   },
   "outputs": [
    {
     "data": {
      "text/plain": [
       "3578758"
      ]
     },
     "execution_count": 18,
     "metadata": {},
     "output_type": "execute_result"
    }
   ],
   "source": [
    "ip_var_clicks.count()"
   ]
  },
  {
   "cell_type": "markdown",
   "metadata": {},
   "source": [
    "## Check the impact of new features"
   ]
  },
  {
   "cell_type": "code",
   "execution_count": 21,
   "metadata": {
    "collapsed": false
   },
   "outputs": [
    {
     "name": "stdout",
     "output_type": "stream",
     "text": [
      "+--------------------+\n",
      "|  avg(is_attributed)|\n",
      "+--------------------+\n",
      "|0.002470721410998979|\n",
      "+--------------------+\n",
      "\n"
     ]
    }
   ],
   "source": [
    "import pyspark.sql.functions as func\n",
    "\n",
    "train.groupBy().agg(func.mean(col('is_attributed'))).show()"
   ]
  },
  {
   "cell_type": "code",
   "execution_count": 20,
   "metadata": {
    "collapsed": true
   },
   "outputs": [],
   "source": [
    "train_sample = (train.sample(fraction=0.05, withReplacement=False, seed=22)\n",
    "                .join(ip_var_clicks, ['ip', var], 'left_outer')\n",
    "                .cache())"
   ]
  },
  {
   "cell_type": "code",
   "execution_count": 21,
   "metadata": {
    "collapsed": false
   },
   "outputs": [
    {
     "data": {
      "text/plain": [
       "9248009"
      ]
     },
     "execution_count": 21,
     "metadata": {},
     "output_type": "execute_result"
    }
   ],
   "source": [
    "train_sample.count()"
   ]
  },
  {
   "cell_type": "code",
   "execution_count": 22,
   "metadata": {
    "collapsed": false
   },
   "outputs": [
    {
     "data": {
      "text/plain": [
       "9248009"
      ]
     },
     "execution_count": 22,
     "metadata": {},
     "output_type": "execute_result"
    }
   ],
   "source": [
    "train.sample(fraction=0.05, withReplacement=False, seed=22).count()"
   ]
  },
  {
   "cell_type": "code",
   "execution_count": 23,
   "metadata": {
    "collapsed": false
   },
   "outputs": [
    {
     "name": "stdout",
     "output_type": "stream",
     "text": [
      "+------+---+---+------+-------+-------------------+---------------+-------------+------------+--------------------+--------------+----------------+--------------+----------------+\n",
      "|ip    |os |app|device|channel|click_time         |attributed_time|is_attributed|ip_os_clicks|ip_os_std_click_time|ip_os_std_hour|ip_os_std_minute|ip_os_avg_hour|ip_os_avg_minute|\n",
      "+------+---+---+------+-------+-------------------+---------------+-------------+------------+--------------------+--------------+----------------+--------------+----------------+\n",
      "|100032|13 |2  |1     |469    |2017-11-07 06:40:12|null           |0            |515         |103259.0            |6.3           |16.91           |8.72          |30.62           |\n",
      "|100032|13 |7  |1     |101    |2017-11-07 10:27:59|null           |0            |515         |103259.0            |6.3           |16.91           |8.72          |30.62           |\n",
      "|100032|13 |3  |1     |19     |2017-11-08 01:57:48|null           |0            |515         |103259.0            |6.3           |16.91           |8.72          |30.62           |\n",
      "|100032|13 |12 |1     |259    |2017-11-08 03:07:44|null           |0            |515         |103259.0            |6.3           |16.91           |8.72          |30.62           |\n",
      "|100032|13 |3  |1     |130    |2017-11-07 10:35:44|null           |0            |515         |103259.0            |6.3           |16.91           |8.72          |30.62           |\n",
      "+------+---+---+------+-------+-------------------+---------------+-------------+------------+--------------------+--------------+----------------+--------------+----------------+\n",
      "only showing top 5 rows\n",
      "\n"
     ]
    }
   ],
   "source": [
    "train_sample.show(5, truncate=False)"
   ]
  },
  {
   "cell_type": "markdown",
   "metadata": {},
   "source": [
    "### ip_os_clicks"
   ]
  },
  {
   "cell_type": "code",
   "execution_count": 24,
   "metadata": {
    "collapsed": true
   },
   "outputs": [],
   "source": [
    "feature = 'ip_os_clicks'"
   ]
  },
  {
   "cell_type": "code",
   "execution_count": 25,
   "metadata": {
    "collapsed": true
   },
   "outputs": [],
   "source": [
    "PDF = train_sample.select('is_attributed', feature).toPandas()"
   ]
  },
  {
   "cell_type": "code",
   "execution_count": 26,
   "metadata": {
    "collapsed": false
   },
   "outputs": [
    {
     "data": {
      "text/html": [
       "<div>\n",
       "<style scoped>\n",
       "    .dataframe tbody tr th:only-of-type {\n",
       "        vertical-align: middle;\n",
       "    }\n",
       "\n",
       "    .dataframe tbody tr th {\n",
       "        vertical-align: top;\n",
       "    }\n",
       "\n",
       "    .dataframe thead th {\n",
       "        text-align: right;\n",
       "    }\n",
       "</style>\n",
       "<table border=\"1\" class=\"dataframe\">\n",
       "  <thead>\n",
       "    <tr style=\"text-align: right;\">\n",
       "      <th></th>\n",
       "      <th>is_attributed</th>\n",
       "      <th>ip_os_clicks</th>\n",
       "    </tr>\n",
       "  </thead>\n",
       "  <tbody>\n",
       "    <tr>\n",
       "      <th>0</th>\n",
       "      <td>0</td>\n",
       "      <td>515</td>\n",
       "    </tr>\n",
       "    <tr>\n",
       "      <th>1</th>\n",
       "      <td>0</td>\n",
       "      <td>515</td>\n",
       "    </tr>\n",
       "    <tr>\n",
       "      <th>2</th>\n",
       "      <td>0</td>\n",
       "      <td>515</td>\n",
       "    </tr>\n",
       "    <tr>\n",
       "      <th>3</th>\n",
       "      <td>0</td>\n",
       "      <td>515</td>\n",
       "    </tr>\n",
       "    <tr>\n",
       "      <th>4</th>\n",
       "      <td>0</td>\n",
       "      <td>515</td>\n",
       "    </tr>\n",
       "  </tbody>\n",
       "</table>\n",
       "</div>"
      ],
      "text/plain": [
       "  is_attributed  ip_os_clicks\n",
       "0             0           515\n",
       "1             0           515\n",
       "2             0           515\n",
       "3             0           515\n",
       "4             0           515"
      ]
     },
     "execution_count": 26,
     "metadata": {},
     "output_type": "execute_result"
    }
   ],
   "source": [
    "PDF.head()"
   ]
  },
  {
   "cell_type": "code",
   "execution_count": 27,
   "metadata": {
    "collapsed": true
   },
   "outputs": [],
   "source": [
    "PDF_sorted = PDF.sort_values(by=feature)"
   ]
  },
  {
   "cell_type": "code",
   "execution_count": 28,
   "metadata": {
    "collapsed": true
   },
   "outputs": [],
   "source": [
    "PDF_sorted['roll'] = PDF_sorted.is_attributed.rolling(window=10000).mean()"
   ]
  },
  {
   "cell_type": "code",
   "execution_count": 29,
   "metadata": {
    "collapsed": false
   },
   "outputs": [
    {
     "data": {
      "text/html": [
       "<div>\n",
       "<style scoped>\n",
       "    .dataframe tbody tr th:only-of-type {\n",
       "        vertical-align: middle;\n",
       "    }\n",
       "\n",
       "    .dataframe tbody tr th {\n",
       "        vertical-align: top;\n",
       "    }\n",
       "\n",
       "    .dataframe thead th {\n",
       "        text-align: right;\n",
       "    }\n",
       "</style>\n",
       "<table border=\"1\" class=\"dataframe\">\n",
       "  <thead>\n",
       "    <tr style=\"text-align: right;\">\n",
       "      <th></th>\n",
       "      <th>is_attributed</th>\n",
       "      <th>ip_os_clicks</th>\n",
       "      <th>roll</th>\n",
       "    </tr>\n",
       "  </thead>\n",
       "  <tbody>\n",
       "    <tr>\n",
       "      <th>5039953</th>\n",
       "      <td>0</td>\n",
       "      <td>1</td>\n",
       "      <td>NaN</td>\n",
       "    </tr>\n",
       "    <tr>\n",
       "      <th>191174</th>\n",
       "      <td>0</td>\n",
       "      <td>1</td>\n",
       "      <td>NaN</td>\n",
       "    </tr>\n",
       "    <tr>\n",
       "      <th>7243625</th>\n",
       "      <td>1</td>\n",
       "      <td>1</td>\n",
       "      <td>NaN</td>\n",
       "    </tr>\n",
       "    <tr>\n",
       "      <th>1693844</th>\n",
       "      <td>0</td>\n",
       "      <td>1</td>\n",
       "      <td>NaN</td>\n",
       "    </tr>\n",
       "    <tr>\n",
       "      <th>3402338</th>\n",
       "      <td>0</td>\n",
       "      <td>1</td>\n",
       "      <td>NaN</td>\n",
       "    </tr>\n",
       "  </tbody>\n",
       "</table>\n",
       "</div>"
      ],
      "text/plain": [
       "        is_attributed  ip_os_clicks  roll\n",
       "5039953             0             1   NaN\n",
       "191174              0             1   NaN\n",
       "7243625             1             1   NaN\n",
       "1693844             0             1   NaN\n",
       "3402338             0             1   NaN"
      ]
     },
     "execution_count": 29,
     "metadata": {},
     "output_type": "execute_result"
    }
   ],
   "source": [
    "PDF_sorted.head()"
   ]
  },
  {
   "cell_type": "code",
   "execution_count": 30,
   "metadata": {
    "collapsed": false
   },
   "outputs": [
    {
     "data": {
      "text/plain": [
       "[<matplotlib.lines.Line2D at 0x7f584a2c7e10>]"
      ]
     },
     "execution_count": 30,
     "metadata": {},
     "output_type": "execute_result"
    },
    {
     "data": {
      "image/png": "[encoded data removed]",
      "text/plain": [
       "<matplotlib.figure.Figure at 0x7f58c59f7400>"
      ]
     },
     "metadata": {},
     "output_type": "display_data"
    }
   ],
   "source": [
    "plt.plot(PDF_sorted[feature], PDF_sorted.roll)"
   ]
  },
  {
   "cell_type": "code",
   "execution_count": 31,
   "metadata": {
    "collapsed": false,
    "scrolled": true
   },
   "outputs": [
    {
     "data": {
      "text/plain": [
       "[<matplotlib.lines.Line2D at 0x7f5849520940>]"
      ]
     },
     "execution_count": 31,
     "metadata": {},
     "output_type": "execute_result"
    },
    {
     "data": {
      "image/png": "[encoded data removed]",
      "text/plain": [
       "<matplotlib.figure.Figure at 0x7f58c59f7278>"
      ]
     },
     "metadata": {},
     "output_type": "display_data"
    }
   ],
   "source": [
    "PDF_filtered = PDF_sorted[PDF_sorted[feature]<100]\n",
    "\n",
    "plt.plot(PDF_filtered[feature], PDF_filtered.roll)"
   ]
  },
  {
   "cell_type": "markdown",
   "metadata": {},
   "source": [
    "Very strong feature !"
   ]
  },
  {
   "cell_type": "markdown",
   "metadata": {},
   "source": [
    "### ip_os_std_click_time"
   ]
  },
  {
   "cell_type": "code",
   "execution_count": 32,
   "metadata": {
    "collapsed": true
   },
   "outputs": [],
   "source": [
    "feature = 'ip_os_std_click_time'"
   ]
  },
  {
   "cell_type": "code",
   "execution_count": 33,
   "metadata": {
    "collapsed": true
   },
   "outputs": [],
   "source": [
    "PDF = train_sample.select('is_attributed', feature).toPandas()"
   ]
  },
  {
   "cell_type": "code",
   "execution_count": 34,
   "metadata": {
    "collapsed": false
   },
   "outputs": [
    {
     "data": {
      "text/html": [
       "<div>\n",
       "<style scoped>\n",
       "    .dataframe tbody tr th:only-of-type {\n",
       "        vertical-align: middle;\n",
       "    }\n",
       "\n",
       "    .dataframe tbody tr th {\n",
       "        vertical-align: top;\n",
       "    }\n",
       "\n",
       "    .dataframe thead th {\n",
       "        text-align: right;\n",
       "    }\n",
       "</style>\n",
       "<table border=\"1\" class=\"dataframe\">\n",
       "  <thead>\n",
       "    <tr style=\"text-align: right;\">\n",
       "      <th></th>\n",
       "      <th>is_attributed</th>\n",
       "      <th>ip_os_std_click_time</th>\n",
       "    </tr>\n",
       "  </thead>\n",
       "  <tbody>\n",
       "    <tr>\n",
       "      <th>0</th>\n",
       "      <td>0</td>\n",
       "      <td>103259.0</td>\n",
       "    </tr>\n",
       "    <tr>\n",
       "      <th>1</th>\n",
       "      <td>0</td>\n",
       "      <td>103259.0</td>\n",
       "    </tr>\n",
       "    <tr>\n",
       "      <th>2</th>\n",
       "      <td>0</td>\n",
       "      <td>103259.0</td>\n",
       "    </tr>\n",
       "    <tr>\n",
       "      <th>3</th>\n",
       "      <td>0</td>\n",
       "      <td>103259.0</td>\n",
       "    </tr>\n",
       "    <tr>\n",
       "      <th>4</th>\n",
       "      <td>0</td>\n",
       "      <td>103259.0</td>\n",
       "    </tr>\n",
       "  </tbody>\n",
       "</table>\n",
       "</div>"
      ],
      "text/plain": [
       "  is_attributed  ip_os_std_click_time\n",
       "0             0              103259.0\n",
       "1             0              103259.0\n",
       "2             0              103259.0\n",
       "3             0              103259.0\n",
       "4             0              103259.0"
      ]
     },
     "execution_count": 34,
     "metadata": {},
     "output_type": "execute_result"
    }
   ],
   "source": [
    "PDF.head()"
   ]
  },
  {
   "cell_type": "code",
   "execution_count": 35,
   "metadata": {
    "collapsed": true
   },
   "outputs": [],
   "source": [
    "PDF_sorted = PDF.sort_values(by=feature)"
   ]
  },
  {
   "cell_type": "code",
   "execution_count": 36,
   "metadata": {
    "collapsed": true
   },
   "outputs": [],
   "source": [
    "PDF_sorted['roll'] = PDF_sorted.is_attributed.rolling(window=10000).mean()"
   ]
  },
  {
   "cell_type": "code",
   "execution_count": 37,
   "metadata": {
    "collapsed": false
   },
   "outputs": [
    {
     "data": {
      "text/html": [
       "<div>\n",
       "<style scoped>\n",
       "    .dataframe tbody tr th:only-of-type {\n",
       "        vertical-align: middle;\n",
       "    }\n",
       "\n",
       "    .dataframe tbody tr th {\n",
       "        vertical-align: top;\n",
       "    }\n",
       "\n",
       "    .dataframe thead th {\n",
       "        text-align: right;\n",
       "    }\n",
       "</style>\n",
       "<table border=\"1\" class=\"dataframe\">\n",
       "  <thead>\n",
       "    <tr style=\"text-align: right;\">\n",
       "      <th></th>\n",
       "      <th>is_attributed</th>\n",
       "      <th>ip_os_std_click_time</th>\n",
       "      <th>roll</th>\n",
       "    </tr>\n",
       "  </thead>\n",
       "  <tbody>\n",
       "    <tr>\n",
       "      <th>3343055</th>\n",
       "      <td>0</td>\n",
       "      <td>0.0</td>\n",
       "      <td>NaN</td>\n",
       "    </tr>\n",
       "    <tr>\n",
       "      <th>3921003</th>\n",
       "      <td>0</td>\n",
       "      <td>0.0</td>\n",
       "      <td>NaN</td>\n",
       "    </tr>\n",
       "    <tr>\n",
       "      <th>1325047</th>\n",
       "      <td>0</td>\n",
       "      <td>0.0</td>\n",
       "      <td>NaN</td>\n",
       "    </tr>\n",
       "    <tr>\n",
       "      <th>5464309</th>\n",
       "      <td>0</td>\n",
       "      <td>0.0</td>\n",
       "      <td>NaN</td>\n",
       "    </tr>\n",
       "    <tr>\n",
       "      <th>2333460</th>\n",
       "      <td>1</td>\n",
       "      <td>0.0</td>\n",
       "      <td>NaN</td>\n",
       "    </tr>\n",
       "  </tbody>\n",
       "</table>\n",
       "</div>"
      ],
      "text/plain": [
       "        is_attributed  ip_os_std_click_time  roll\n",
       "3343055             0                   0.0   NaN\n",
       "3921003             0                   0.0   NaN\n",
       "1325047             0                   0.0   NaN\n",
       "5464309             0                   0.0   NaN\n",
       "2333460             1                   0.0   NaN"
      ]
     },
     "execution_count": 37,
     "metadata": {},
     "output_type": "execute_result"
    }
   ],
   "source": [
    "PDF_sorted.head()"
   ]
  },
  {
   "cell_type": "code",
   "execution_count": 38,
   "metadata": {
    "collapsed": false
   },
   "outputs": [
    {
     "data": {
      "text/plain": [
       "[<matplotlib.lines.Line2D at 0x7f580429c978>]"
      ]
     },
     "execution_count": 38,
     "metadata": {},
     "output_type": "execute_result"
    },
    {
     "data": {
      "image/png": "[encoded data removed]",
      "text/plain": [
       "<matplotlib.figure.Figure at 0x7f58494ef588>"
      ]
     },
     "metadata": {},
     "output_type": "display_data"
    }
   ],
   "source": [
    "plt.plot(PDF_sorted[feature], PDF_sorted.roll)"
   ]
  },
  {
   "cell_type": "code",
   "execution_count": 39,
   "metadata": {
    "collapsed": false,
    "scrolled": true
   },
   "outputs": [
    {
     "data": {
      "text/plain": [
       "[<matplotlib.lines.Line2D at 0x7f5804471f98>]"
      ]
     },
     "execution_count": 39,
     "metadata": {},
     "output_type": "execute_result"
    },
    {
     "data": {
      "image/png": "[encoded data removed]",
      "text/plain": [
       "<matplotlib.figure.Figure at 0x7f58a4b03898>"
      ]
     },
     "metadata": {},
     "output_type": "display_data"
    }
   ],
   "source": [
    "PDF_filtered = PDF_sorted[PDF_sorted[feature]<1000]\n",
    "\n",
    "plt.plot(PDF_filtered[feature], PDF_filtered.roll)"
   ]
  },
  {
   "cell_type": "markdown",
   "metadata": {},
   "source": [
    "Very strong feature !"
   ]
  },
  {
   "cell_type": "markdown",
   "metadata": {},
   "source": [
    "### ip_os_std_hour"
   ]
  },
  {
   "cell_type": "code",
   "execution_count": 40,
   "metadata": {
    "collapsed": true
   },
   "outputs": [],
   "source": [
    "feature = 'ip_os_std_hour'"
   ]
  },
  {
   "cell_type": "code",
   "execution_count": 41,
   "metadata": {
    "collapsed": true
   },
   "outputs": [],
   "source": [
    "PDF = train_sample.select('is_attributed', feature).toPandas()"
   ]
  },
  {
   "cell_type": "code",
   "execution_count": 42,
   "metadata": {
    "collapsed": false
   },
   "outputs": [
    {
     "data": {
      "text/html": [
       "<div>\n",
       "<style scoped>\n",
       "    .dataframe tbody tr th:only-of-type {\n",
       "        vertical-align: middle;\n",
       "    }\n",
       "\n",
       "    .dataframe tbody tr th {\n",
       "        vertical-align: top;\n",
       "    }\n",
       "\n",
       "    .dataframe thead th {\n",
       "        text-align: right;\n",
       "    }\n",
       "</style>\n",
       "<table border=\"1\" class=\"dataframe\">\n",
       "  <thead>\n",
       "    <tr style=\"text-align: right;\">\n",
       "      <th></th>\n",
       "      <th>is_attributed</th>\n",
       "      <th>ip_os_std_hour</th>\n",
       "    </tr>\n",
       "  </thead>\n",
       "  <tbody>\n",
       "    <tr>\n",
       "      <th>0</th>\n",
       "      <td>0</td>\n",
       "      <td>6.3</td>\n",
       "    </tr>\n",
       "    <tr>\n",
       "      <th>1</th>\n",
       "      <td>0</td>\n",
       "      <td>6.3</td>\n",
       "    </tr>\n",
       "    <tr>\n",
       "      <th>2</th>\n",
       "      <td>0</td>\n",
       "      <td>6.3</td>\n",
       "    </tr>\n",
       "    <tr>\n",
       "      <th>3</th>\n",
       "      <td>0</td>\n",
       "      <td>6.3</td>\n",
       "    </tr>\n",
       "    <tr>\n",
       "      <th>4</th>\n",
       "      <td>0</td>\n",
       "      <td>6.3</td>\n",
       "    </tr>\n",
       "  </tbody>\n",
       "</table>\n",
       "</div>"
      ],
      "text/plain": [
       "  is_attributed  ip_os_std_hour\n",
       "0             0             6.3\n",
       "1             0             6.3\n",
       "2             0             6.3\n",
       "3             0             6.3\n",
       "4             0             6.3"
      ]
     },
     "execution_count": 42,
     "metadata": {},
     "output_type": "execute_result"
    }
   ],
   "source": [
    "PDF.head()"
   ]
  },
  {
   "cell_type": "code",
   "execution_count": 43,
   "metadata": {
    "collapsed": true
   },
   "outputs": [],
   "source": [
    "PDF_sorted = PDF.sort_values(by=feature)"
   ]
  },
  {
   "cell_type": "code",
   "execution_count": 44,
   "metadata": {
    "collapsed": true
   },
   "outputs": [],
   "source": [
    "PDF_sorted['roll'] = PDF_sorted.is_attributed.rolling(window=10000).mean()"
   ]
  },
  {
   "cell_type": "code",
   "execution_count": 45,
   "metadata": {
    "collapsed": false
   },
   "outputs": [
    {
     "data": {
      "text/html": [
       "<div>\n",
       "<style scoped>\n",
       "    .dataframe tbody tr th:only-of-type {\n",
       "        vertical-align: middle;\n",
       "    }\n",
       "\n",
       "    .dataframe tbody tr th {\n",
       "        vertical-align: top;\n",
       "    }\n",
       "\n",
       "    .dataframe thead th {\n",
       "        text-align: right;\n",
       "    }\n",
       "</style>\n",
       "<table border=\"1\" class=\"dataframe\">\n",
       "  <thead>\n",
       "    <tr style=\"text-align: right;\">\n",
       "      <th></th>\n",
       "      <th>is_attributed</th>\n",
       "      <th>ip_os_std_hour</th>\n",
       "      <th>roll</th>\n",
       "    </tr>\n",
       "  </thead>\n",
       "  <tbody>\n",
       "    <tr>\n",
       "      <th>5063958</th>\n",
       "      <td>0</td>\n",
       "      <td>0.0</td>\n",
       "      <td>NaN</td>\n",
       "    </tr>\n",
       "    <tr>\n",
       "      <th>4664578</th>\n",
       "      <td>0</td>\n",
       "      <td>0.0</td>\n",
       "      <td>NaN</td>\n",
       "    </tr>\n",
       "    <tr>\n",
       "      <th>4664567</th>\n",
       "      <td>0</td>\n",
       "      <td>0.0</td>\n",
       "      <td>NaN</td>\n",
       "    </tr>\n",
       "    <tr>\n",
       "      <th>6551433</th>\n",
       "      <td>0</td>\n",
       "      <td>0.0</td>\n",
       "      <td>NaN</td>\n",
       "    </tr>\n",
       "    <tr>\n",
       "      <th>6551432</th>\n",
       "      <td>0</td>\n",
       "      <td>0.0</td>\n",
       "      <td>NaN</td>\n",
       "    </tr>\n",
       "  </tbody>\n",
       "</table>\n",
       "</div>"
      ],
      "text/plain": [
       "        is_attributed  ip_os_std_hour  roll\n",
       "5063958             0             0.0   NaN\n",
       "4664578             0             0.0   NaN\n",
       "4664567             0             0.0   NaN\n",
       "6551433             0             0.0   NaN\n",
       "6551432             0             0.0   NaN"
      ]
     },
     "execution_count": 45,
     "metadata": {},
     "output_type": "execute_result"
    }
   ],
   "source": [
    "PDF_sorted.head()"
   ]
  },
  {
   "cell_type": "code",
   "execution_count": 46,
   "metadata": {
    "collapsed": false
   },
   "outputs": [
    {
     "data": {
      "text/plain": [
       "[<matplotlib.lines.Line2D at 0x7f57c64d33c8>]"
      ]
     },
     "execution_count": 46,
     "metadata": {},
     "output_type": "execute_result"
    },
    {
     "data": {
      "image/png": "[encoded data removed]",
      "text/plain": [
       "<matplotlib.figure.Figure at 0x7f58c5a827b8>"
      ]
     },
     "metadata": {},
     "output_type": "display_data"
    }
   ],
   "source": [
    "plt.plot(PDF_sorted[feature], PDF_sorted.roll)"
   ]
  },
  {
   "cell_type": "markdown",
   "metadata": {},
   "source": [
    "Very strong feature !"
   ]
  },
  {
   "cell_type": "markdown",
   "metadata": {},
   "source": [
    "### ip_os_std_minute"
   ]
  },
  {
   "cell_type": "code",
   "execution_count": 47,
   "metadata": {
    "collapsed": true
   },
   "outputs": [],
   "source": [
    "feature = 'ip_os_std_minute'"
   ]
  },
  {
   "cell_type": "code",
   "execution_count": 48,
   "metadata": {
    "collapsed": true
   },
   "outputs": [],
   "source": [
    "PDF = train_sample.select('is_attributed', feature).toPandas()"
   ]
  },
  {
   "cell_type": "code",
   "execution_count": 49,
   "metadata": {
    "collapsed": false
   },
   "outputs": [
    {
     "data": {
      "text/html": [
       "<div>\n",
       "<style scoped>\n",
       "    .dataframe tbody tr th:only-of-type {\n",
       "        vertical-align: middle;\n",
       "    }\n",
       "\n",
       "    .dataframe tbody tr th {\n",
       "        vertical-align: top;\n",
       "    }\n",
       "\n",
       "    .dataframe thead th {\n",
       "        text-align: right;\n",
       "    }\n",
       "</style>\n",
       "<table border=\"1\" class=\"dataframe\">\n",
       "  <thead>\n",
       "    <tr style=\"text-align: right;\">\n",
       "      <th></th>\n",
       "      <th>is_attributed</th>\n",
       "      <th>ip_os_std_minute</th>\n",
       "    </tr>\n",
       "  </thead>\n",
       "  <tbody>\n",
       "    <tr>\n",
       "      <th>0</th>\n",
       "      <td>0</td>\n",
       "      <td>16.91</td>\n",
       "    </tr>\n",
       "    <tr>\n",
       "      <th>1</th>\n",
       "      <td>0</td>\n",
       "      <td>16.91</td>\n",
       "    </tr>\n",
       "    <tr>\n",
       "      <th>2</th>\n",
       "      <td>0</td>\n",
       "      <td>16.91</td>\n",
       "    </tr>\n",
       "    <tr>\n",
       "      <th>3</th>\n",
       "      <td>0</td>\n",
       "      <td>16.91</td>\n",
       "    </tr>\n",
       "    <tr>\n",
       "      <th>4</th>\n",
       "      <td>0</td>\n",
       "      <td>16.91</td>\n",
       "    </tr>\n",
       "  </tbody>\n",
       "</table>\n",
       "</div>"
      ],
      "text/plain": [
       "  is_attributed  ip_os_std_minute\n",
       "0             0             16.91\n",
       "1             0             16.91\n",
       "2             0             16.91\n",
       "3             0             16.91\n",
       "4             0             16.91"
      ]
     },
     "execution_count": 49,
     "metadata": {},
     "output_type": "execute_result"
    }
   ],
   "source": [
    "PDF.head()"
   ]
  },
  {
   "cell_type": "code",
   "execution_count": 50,
   "metadata": {
    "collapsed": true
   },
   "outputs": [],
   "source": [
    "PDF_sorted = PDF.sort_values(by=feature)"
   ]
  },
  {
   "cell_type": "code",
   "execution_count": 51,
   "metadata": {
    "collapsed": true
   },
   "outputs": [],
   "source": [
    "PDF_sorted['roll'] = PDF_sorted.is_attributed.rolling(window=10000).mean()"
   ]
  },
  {
   "cell_type": "code",
   "execution_count": 52,
   "metadata": {
    "collapsed": false
   },
   "outputs": [
    {
     "data": {
      "text/html": [
       "<div>\n",
       "<style scoped>\n",
       "    .dataframe tbody tr th:only-of-type {\n",
       "        vertical-align: middle;\n",
       "    }\n",
       "\n",
       "    .dataframe tbody tr th {\n",
       "        vertical-align: top;\n",
       "    }\n",
       "\n",
       "    .dataframe thead th {\n",
       "        text-align: right;\n",
       "    }\n",
       "</style>\n",
       "<table border=\"1\" class=\"dataframe\">\n",
       "  <thead>\n",
       "    <tr style=\"text-align: right;\">\n",
       "      <th></th>\n",
       "      <th>is_attributed</th>\n",
       "      <th>ip_os_std_minute</th>\n",
       "      <th>roll</th>\n",
       "    </tr>\n",
       "  </thead>\n",
       "  <tbody>\n",
       "    <tr>\n",
       "      <th>5738923</th>\n",
       "      <td>0</td>\n",
       "      <td>0.0</td>\n",
       "      <td>NaN</td>\n",
       "    </tr>\n",
       "    <tr>\n",
       "      <th>8874885</th>\n",
       "      <td>0</td>\n",
       "      <td>0.0</td>\n",
       "      <td>NaN</td>\n",
       "    </tr>\n",
       "    <tr>\n",
       "      <th>6001786</th>\n",
       "      <td>0</td>\n",
       "      <td>0.0</td>\n",
       "      <td>NaN</td>\n",
       "    </tr>\n",
       "    <tr>\n",
       "      <th>5070453</th>\n",
       "      <td>0</td>\n",
       "      <td>0.0</td>\n",
       "      <td>NaN</td>\n",
       "    </tr>\n",
       "    <tr>\n",
       "      <th>4614859</th>\n",
       "      <td>0</td>\n",
       "      <td>0.0</td>\n",
       "      <td>NaN</td>\n",
       "    </tr>\n",
       "  </tbody>\n",
       "</table>\n",
       "</div>"
      ],
      "text/plain": [
       "        is_attributed  ip_os_std_minute  roll\n",
       "5738923             0               0.0   NaN\n",
       "8874885             0               0.0   NaN\n",
       "6001786             0               0.0   NaN\n",
       "5070453             0               0.0   NaN\n",
       "4614859             0               0.0   NaN"
      ]
     },
     "execution_count": 52,
     "metadata": {},
     "output_type": "execute_result"
    }
   ],
   "source": [
    "PDF_sorted.head()"
   ]
  },
  {
   "cell_type": "code",
   "execution_count": 53,
   "metadata": {
    "collapsed": false
   },
   "outputs": [
    {
     "data": {
      "text/plain": [
       "[<matplotlib.lines.Line2D at 0x7f579a1eb9e8>]"
      ]
     },
     "execution_count": 53,
     "metadata": {},
     "output_type": "execute_result"
    },
    {
     "data": {
      "image/png": "[encoded data removed]",
      "text/plain": [
       "<matplotlib.figure.Figure at 0x7f58dedecc18>"
      ]
     },
     "metadata": {},
     "output_type": "display_data"
    }
   ],
   "source": [
    "plt.plot(PDF_sorted[feature], PDF_sorted.roll)"
   ]
  },
  {
   "cell_type": "markdown",
   "metadata": {},
   "source": [
    "Very strong feature !"
   ]
  },
  {
   "cell_type": "markdown",
   "metadata": {},
   "source": [
    "### ip_os_avg_hour"
   ]
  },
  {
   "cell_type": "code",
   "execution_count": 54,
   "metadata": {
    "collapsed": true
   },
   "outputs": [],
   "source": [
    "feature = 'ip_os_avg_hour'"
   ]
  },
  {
   "cell_type": "code",
   "execution_count": 55,
   "metadata": {
    "collapsed": true
   },
   "outputs": [],
   "source": [
    "PDF = train_sample.select('is_attributed', feature).toPandas()"
   ]
  },
  {
   "cell_type": "code",
   "execution_count": 56,
   "metadata": {
    "collapsed": false
   },
   "outputs": [
    {
     "data": {
      "text/html": [
       "<div>\n",
       "<style scoped>\n",
       "    .dataframe tbody tr th:only-of-type {\n",
       "        vertical-align: middle;\n",
       "    }\n",
       "\n",
       "    .dataframe tbody tr th {\n",
       "        vertical-align: top;\n",
       "    }\n",
       "\n",
       "    .dataframe thead th {\n",
       "        text-align: right;\n",
       "    }\n",
       "</style>\n",
       "<table border=\"1\" class=\"dataframe\">\n",
       "  <thead>\n",
       "    <tr style=\"text-align: right;\">\n",
       "      <th></th>\n",
       "      <th>is_attributed</th>\n",
       "      <th>ip_os_avg_hour</th>\n",
       "    </tr>\n",
       "  </thead>\n",
       "  <tbody>\n",
       "    <tr>\n",
       "      <th>0</th>\n",
       "      <td>0</td>\n",
       "      <td>8.72</td>\n",
       "    </tr>\n",
       "    <tr>\n",
       "      <th>1</th>\n",
       "      <td>0</td>\n",
       "      <td>8.72</td>\n",
       "    </tr>\n",
       "    <tr>\n",
       "      <th>2</th>\n",
       "      <td>0</td>\n",
       "      <td>8.72</td>\n",
       "    </tr>\n",
       "    <tr>\n",
       "      <th>3</th>\n",
       "      <td>0</td>\n",
       "      <td>8.72</td>\n",
       "    </tr>\n",
       "    <tr>\n",
       "      <th>4</th>\n",
       "      <td>0</td>\n",
       "      <td>8.72</td>\n",
       "    </tr>\n",
       "  </tbody>\n",
       "</table>\n",
       "</div>"
      ],
      "text/plain": [
       "  is_attributed  ip_os_avg_hour\n",
       "0             0            8.72\n",
       "1             0            8.72\n",
       "2             0            8.72\n",
       "3             0            8.72\n",
       "4             0            8.72"
      ]
     },
     "execution_count": 56,
     "metadata": {},
     "output_type": "execute_result"
    }
   ],
   "source": [
    "PDF.head()"
   ]
  },
  {
   "cell_type": "code",
   "execution_count": 57,
   "metadata": {
    "collapsed": true
   },
   "outputs": [],
   "source": [
    "PDF_sorted = PDF.sort_values(by=feature)"
   ]
  },
  {
   "cell_type": "code",
   "execution_count": 58,
   "metadata": {
    "collapsed": true
   },
   "outputs": [],
   "source": [
    "PDF_sorted['roll'] = PDF_sorted.is_attributed.rolling(window=10000).mean()"
   ]
  },
  {
   "cell_type": "code",
   "execution_count": 59,
   "metadata": {
    "collapsed": false
   },
   "outputs": [
    {
     "data": {
      "text/html": [
       "<div>\n",
       "<style scoped>\n",
       "    .dataframe tbody tr th:only-of-type {\n",
       "        vertical-align: middle;\n",
       "    }\n",
       "\n",
       "    .dataframe tbody tr th {\n",
       "        vertical-align: top;\n",
       "    }\n",
       "\n",
       "    .dataframe thead th {\n",
       "        text-align: right;\n",
       "    }\n",
       "</style>\n",
       "<table border=\"1\" class=\"dataframe\">\n",
       "  <thead>\n",
       "    <tr style=\"text-align: right;\">\n",
       "      <th></th>\n",
       "      <th>is_attributed</th>\n",
       "      <th>ip_os_avg_hour</th>\n",
       "      <th>roll</th>\n",
       "    </tr>\n",
       "  </thead>\n",
       "  <tbody>\n",
       "    <tr>\n",
       "      <th>3026098</th>\n",
       "      <td>0</td>\n",
       "      <td>0.0</td>\n",
       "      <td>NaN</td>\n",
       "    </tr>\n",
       "    <tr>\n",
       "      <th>4139336</th>\n",
       "      <td>0</td>\n",
       "      <td>0.0</td>\n",
       "      <td>NaN</td>\n",
       "    </tr>\n",
       "    <tr>\n",
       "      <th>242940</th>\n",
       "      <td>0</td>\n",
       "      <td>0.0</td>\n",
       "      <td>NaN</td>\n",
       "    </tr>\n",
       "    <tr>\n",
       "      <th>242941</th>\n",
       "      <td>0</td>\n",
       "      <td>0.0</td>\n",
       "      <td>NaN</td>\n",
       "    </tr>\n",
       "    <tr>\n",
       "      <th>113330</th>\n",
       "      <td>0</td>\n",
       "      <td>0.0</td>\n",
       "      <td>NaN</td>\n",
       "    </tr>\n",
       "  </tbody>\n",
       "</table>\n",
       "</div>"
      ],
      "text/plain": [
       "        is_attributed  ip_os_avg_hour  roll\n",
       "3026098             0             0.0   NaN\n",
       "4139336             0             0.0   NaN\n",
       "242940              0             0.0   NaN\n",
       "242941              0             0.0   NaN\n",
       "113330              0             0.0   NaN"
      ]
     },
     "execution_count": 59,
     "metadata": {},
     "output_type": "execute_result"
    }
   ],
   "source": [
    "PDF_sorted.head()"
   ]
  },
  {
   "cell_type": "code",
   "execution_count": 60,
   "metadata": {
    "collapsed": false
   },
   "outputs": [
    {
     "data": {
      "text/plain": [
       "[<matplotlib.lines.Line2D at 0x7f57d0cf45f8>]"
      ]
     },
     "execution_count": 60,
     "metadata": {},
     "output_type": "execute_result"
    },
    {
     "data": {
      "image/png": "[encoded data removed]",
      "text/plain": [
       "<matplotlib.figure.Figure at 0x7f57c64f47f0>"
      ]
     },
     "metadata": {},
     "output_type": "display_data"
    }
   ],
   "source": [
    "plt.plot(PDF_sorted[feature], PDF_sorted.roll)"
   ]
  },
  {
   "cell_type": "markdown",
   "metadata": {},
   "source": [
    "Very interesting feature !  \n",
    "It looks like ip addresses that use same device in average between 5 and 15 download much less."
   ]
  },
  {
   "cell_type": "markdown",
   "metadata": {},
   "source": [
    "### ip_os_avg_minute"
   ]
  },
  {
   "cell_type": "code",
   "execution_count": 61,
   "metadata": {
    "collapsed": true
   },
   "outputs": [],
   "source": [
    "feature = 'ip_os_avg_minute'"
   ]
  },
  {
   "cell_type": "code",
   "execution_count": 62,
   "metadata": {
    "collapsed": true
   },
   "outputs": [],
   "source": [
    "PDF = train_sample.select('is_attributed', feature).toPandas()"
   ]
  },
  {
   "cell_type": "code",
   "execution_count": 63,
   "metadata": {
    "collapsed": false
   },
   "outputs": [
    {
     "data": {
      "text/html": [
       "<div>\n",
       "<style scoped>\n",
       "    .dataframe tbody tr th:only-of-type {\n",
       "        vertical-align: middle;\n",
       "    }\n",
       "\n",
       "    .dataframe tbody tr th {\n",
       "        vertical-align: top;\n",
       "    }\n",
       "\n",
       "    .dataframe thead th {\n",
       "        text-align: right;\n",
       "    }\n",
       "</style>\n",
       "<table border=\"1\" class=\"dataframe\">\n",
       "  <thead>\n",
       "    <tr style=\"text-align: right;\">\n",
       "      <th></th>\n",
       "      <th>is_attributed</th>\n",
       "      <th>ip_os_avg_minute</th>\n",
       "    </tr>\n",
       "  </thead>\n",
       "  <tbody>\n",
       "    <tr>\n",
       "      <th>0</th>\n",
       "      <td>0</td>\n",
       "      <td>30.62</td>\n",
       "    </tr>\n",
       "    <tr>\n",
       "      <th>1</th>\n",
       "      <td>0</td>\n",
       "      <td>30.62</td>\n",
       "    </tr>\n",
       "    <tr>\n",
       "      <th>2</th>\n",
       "      <td>0</td>\n",
       "      <td>30.62</td>\n",
       "    </tr>\n",
       "    <tr>\n",
       "      <th>3</th>\n",
       "      <td>0</td>\n",
       "      <td>30.62</td>\n",
       "    </tr>\n",
       "    <tr>\n",
       "      <th>4</th>\n",
       "      <td>0</td>\n",
       "      <td>30.62</td>\n",
       "    </tr>\n",
       "  </tbody>\n",
       "</table>\n",
       "</div>"
      ],
      "text/plain": [
       "  is_attributed  ip_os_avg_minute\n",
       "0             0             30.62\n",
       "1             0             30.62\n",
       "2             0             30.62\n",
       "3             0             30.62\n",
       "4             0             30.62"
      ]
     },
     "execution_count": 63,
     "metadata": {},
     "output_type": "execute_result"
    }
   ],
   "source": [
    "PDF.head()"
   ]
  },
  {
   "cell_type": "code",
   "execution_count": 64,
   "metadata": {
    "collapsed": true
   },
   "outputs": [],
   "source": [
    "PDF_sorted = PDF.sort_values(by=feature)"
   ]
  },
  {
   "cell_type": "code",
   "execution_count": 65,
   "metadata": {
    "collapsed": true
   },
   "outputs": [],
   "source": [
    "PDF_sorted['roll'] = PDF_sorted.is_attributed.rolling(window=10000).mean()"
   ]
  },
  {
   "cell_type": "code",
   "execution_count": 66,
   "metadata": {
    "collapsed": false
   },
   "outputs": [
    {
     "data": {
      "text/html": [
       "<div>\n",
       "<style scoped>\n",
       "    .dataframe tbody tr th:only-of-type {\n",
       "        vertical-align: middle;\n",
       "    }\n",
       "\n",
       "    .dataframe tbody tr th {\n",
       "        vertical-align: top;\n",
       "    }\n",
       "\n",
       "    .dataframe thead th {\n",
       "        text-align: right;\n",
       "    }\n",
       "</style>\n",
       "<table border=\"1\" class=\"dataframe\">\n",
       "  <thead>\n",
       "    <tr style=\"text-align: right;\">\n",
       "      <th></th>\n",
       "      <th>is_attributed</th>\n",
       "      <th>ip_os_avg_minute</th>\n",
       "      <th>roll</th>\n",
       "    </tr>\n",
       "  </thead>\n",
       "  <tbody>\n",
       "    <tr>\n",
       "      <th>7479340</th>\n",
       "      <td>0</td>\n",
       "      <td>0.0</td>\n",
       "      <td>NaN</td>\n",
       "    </tr>\n",
       "    <tr>\n",
       "      <th>2934822</th>\n",
       "      <td>0</td>\n",
       "      <td>0.0</td>\n",
       "      <td>NaN</td>\n",
       "    </tr>\n",
       "    <tr>\n",
       "      <th>1318613</th>\n",
       "      <td>0</td>\n",
       "      <td>0.0</td>\n",
       "      <td>NaN</td>\n",
       "    </tr>\n",
       "    <tr>\n",
       "      <th>8823352</th>\n",
       "      <td>0</td>\n",
       "      <td>0.0</td>\n",
       "      <td>NaN</td>\n",
       "    </tr>\n",
       "    <tr>\n",
       "      <th>344954</th>\n",
       "      <td>1</td>\n",
       "      <td>0.0</td>\n",
       "      <td>NaN</td>\n",
       "    </tr>\n",
       "  </tbody>\n",
       "</table>\n",
       "</div>"
      ],
      "text/plain": [
       "        is_attributed  ip_os_avg_minute  roll\n",
       "7479340             0               0.0   NaN\n",
       "2934822             0               0.0   NaN\n",
       "1318613             0               0.0   NaN\n",
       "8823352             0               0.0   NaN\n",
       "344954              1               0.0   NaN"
      ]
     },
     "execution_count": 66,
     "metadata": {},
     "output_type": "execute_result"
    }
   ],
   "source": [
    "PDF_sorted.head()"
   ]
  },
  {
   "cell_type": "code",
   "execution_count": 68,
   "metadata": {
    "collapsed": false
   },
   "outputs": [
    {
     "data": {
      "text/plain": [
       "[<matplotlib.lines.Line2D at 0x7f576526ffd0>]"
      ]
     },
     "execution_count": 68,
     "metadata": {},
     "output_type": "execute_result"
    },
    {
     "data": {
      "image/png": "[encoded data removed]",
      "text/plain": [
       "<matplotlib.figure.Figure at 0x7f5765237128>"
      ]
     },
     "metadata": {},
     "output_type": "display_data"
    }
   ],
   "source": [
    "plt.plot(PDF_sorted[feature], PDF_sorted.roll)"
   ]
  },
  {
   "cell_type": "markdown",
   "metadata": {},
   "source": [
    "Very strong feature !  \n",
    "It looks like ip addresses that use same os in average at the half of a minute download much less.  "
   ]
  },
  {
   "cell_type": "code",
   "execution_count": null,
   "metadata": {
    "collapsed": true
   },
   "outputs": [],
   "source": []
  }
 ],
 "metadata": {
  "anaconda-cloud": {},
  "kernelspec": {
   "display_name": "PySpark",
   "language": "python3",
   "name": "pyspark"
  },
  "language_info": {
   "codemirror_mode": {
    "name": "ipython",
    "version": 3
   },
   "file_extension": ".py",
   "mimetype": "text/x-python",
   "name": "python",
   "nbconvert_exporter": "python",
   "pygments_lexer": "ipython3",
   "version": "3.6.4"
  }
 },
 "nbformat": 4,
 "nbformat_minor": 2
}
