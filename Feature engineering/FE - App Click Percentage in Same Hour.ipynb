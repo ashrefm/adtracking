{
 "cells": [
  {
   "cell_type": "markdown",
   "metadata": {},
   "source": [
    "# Loading Libraries"
   ]
  },
  {
   "cell_type": "code",
   "execution_count": 2,
   "metadata": {
    "collapsed": true
   },
   "outputs": [],
   "source": [
    "import numpy as np\n",
    "import pandas as pd\n",
    "import matplotlib.pyplot as plt\n",
    "% matplotlib inline\n",
    "\n",
    "import seaborn as sns\n",
    "sns.set(rc={'figure.figsize':(12, 5)},\n",
    "        font_scale=1.5,\n",
    "        style=\"whitegrid\")\n",
    "        \n",
    "from pyspark.sql import HiveContext\n",
    "from pyspark.sql import SQLContext\n",
    "\n",
    "# initialize session hive and sql environments\n",
    "hiveContext = HiveContext(sc)\n",
    "sqlContext = SQLContext(sc)"
   ]
  },
  {
   "cell_type": "markdown",
   "metadata": {},
   "source": [
    "# Data Reading"
   ]
  },
  {
   "cell_type": "code",
   "execution_count": 3,
   "metadata": {
    "collapsed": true
   },
   "outputs": [],
   "source": [
    "project_folder = \"../\"\n",
    "datapath = project_folder + \"data/\"\n",
    "plotpath = project_folder + \"graphs/\"\n",
    "mungepath = project_folder + \"munge/\"\n",
    "configpath = project_folder + \"config/\"\n",
    "diagnostic = project_folder + \"diagnostic/\"\n",
    "modelpath = project_folder + \"model/\"\n",
    "output = project_folder + \"output/\""
   ]
  },
  {
   "cell_type": "code",
   "execution_count": 4,
   "metadata": {
    "collapsed": false
   },
   "outputs": [
    {
     "name": "stdout",
     "output_type": "stream",
     "text": [
      "Found 184903890 observations in training set.\n"
     ]
    }
   ],
   "source": [
    "from pyspark.sql.functions import col\n",
    "\n",
    "train = spark.read.csv(os.path.join(datapath,\"train.csv\"), header=True)\n",
    "print('Found %d observations in training set.' %train.count())"
   ]
  },
  {
   "cell_type": "code",
   "execution_count": 5,
   "metadata": {
    "collapsed": false
   },
   "outputs": [
    {
     "name": "stdout",
     "output_type": "stream",
     "text": [
      "Found 57536872 observations in test_old set.\n"
     ]
    }
   ],
   "source": [
    "from pyspark.sql.functions import col\n",
    "\n",
    "test_old = (spark.read.csv(os.path.join(datapath,\"test_supplement.csv\"), header=True)\n",
    "            .filter(col('click_time') >= '2017-11-09 16:00:00'))\n",
    "\n",
    "print('Found %d observations in test_old set.' %test_old.count())"
   ]
  },
  {
   "cell_type": "code",
   "execution_count": 6,
   "metadata": {
    "collapsed": false
   },
   "outputs": [
    {
     "name": "stdout",
     "output_type": "stream",
     "text": [
      "+------+---+------+---+-------+-------------------+---------------+-------------+\n",
      "|    ip|app|device| os|channel|         click_time|attributed_time|is_attributed|\n",
      "+------+---+------+---+-------+-------------------+---------------+-------------+\n",
      "| 83230|  3|     1| 13|    379|2017-11-06 14:32:21|           null|            0|\n",
      "| 17357|  3|     1| 19|    379|2017-11-06 14:33:34|           null|            0|\n",
      "| 35810|  3|     1| 13|    379|2017-11-06 14:34:12|           null|            0|\n",
      "| 45745| 14|     1| 13|    478|2017-11-06 14:34:52|           null|            0|\n",
      "|161007|  3|     1| 13|    379|2017-11-06 14:35:08|           null|            0|\n",
      "| 18787|  3|     1| 16|    379|2017-11-06 14:36:26|           null|            0|\n",
      "|103022|  3|     1| 23|    379|2017-11-06 14:37:44|           null|            0|\n",
      "|114221|  3|     1| 19|    379|2017-11-06 14:37:59|           null|            0|\n",
      "|165970|  3|     1| 13|    379|2017-11-06 14:38:10|           null|            0|\n",
      "| 74544| 64|     1| 22|    459|2017-11-06 14:38:23|           null|            0|\n",
      "+------+---+------+---+-------+-------------------+---------------+-------------+\n",
      "only showing top 10 rows\n",
      "\n"
     ]
    }
   ],
   "source": [
    "train.show(10)"
   ]
  },
  {
   "cell_type": "code",
   "execution_count": 7,
   "metadata": {
    "collapsed": false,
    "scrolled": true
   },
   "outputs": [
    {
     "name": "stdout",
     "output_type": "stream",
     "text": [
      "root\n",
      " |-- ip: string (nullable = true)\n",
      " |-- app: string (nullable = true)\n",
      " |-- device: string (nullable = true)\n",
      " |-- os: string (nullable = true)\n",
      " |-- channel: string (nullable = true)\n",
      " |-- click_time: string (nullable = true)\n",
      " |-- attributed_time: string (nullable = true)\n",
      " |-- is_attributed: string (nullable = true)\n",
      "\n"
     ]
    }
   ],
   "source": [
    "train.printSchema()"
   ]
  },
  {
   "cell_type": "markdown",
   "metadata": {},
   "source": [
    "# Build the full dataset"
   ]
  },
  {
   "cell_type": "code",
   "execution_count": 8,
   "metadata": {
    "collapsed": false
   },
   "outputs": [
    {
     "name": "stdout",
     "output_type": "stream",
     "text": [
      "Total number of clicks in one week: 242440762\n"
     ]
    }
   ],
   "source": [
    "# train and test set concatenation\n",
    "from pyspark.sql.functions import col\n",
    "data = (train.select('ip', 'app', 'device', 'os', 'channel', 'click_time')\n",
    "        .unionAll(test_old.select('ip', 'app', 'device', 'os', 'channel', 'click_time')))\n",
    "        \n",
    "print('Total number of clicks in one week:', data.count())"
   ]
  },
  {
   "cell_type": "code",
   "execution_count": 9,
   "metadata": {
    "collapsed": false
   },
   "outputs": [
    {
     "name": "stdout",
     "output_type": "stream",
     "text": [
      "+------+---+------+---+-------+-------------------+\n",
      "|    ip|app|device| os|channel|         click_time|\n",
      "+------+---+------+---+-------+-------------------+\n",
      "| 83230|  3|     1| 13|    379|2017-11-06 14:32:21|\n",
      "| 17357|  3|     1| 19|    379|2017-11-06 14:33:34|\n",
      "| 35810|  3|     1| 13|    379|2017-11-06 14:34:12|\n",
      "| 45745| 14|     1| 13|    478|2017-11-06 14:34:52|\n",
      "|161007|  3|     1| 13|    379|2017-11-06 14:35:08|\n",
      "+------+---+------+---+-------+-------------------+\n",
      "only showing top 5 rows\n",
      "\n"
     ]
    }
   ],
   "source": [
    "data.show(5)"
   ]
  },
  {
   "cell_type": "markdown",
   "metadata": {},
   "source": [
    "# Datetime Features"
   ]
  },
  {
   "cell_type": "code",
   "execution_count": 10,
   "metadata": {
    "collapsed": true
   },
   "outputs": [],
   "source": [
    "# day function\n",
    "def get_day(date):\n",
    "    \"\"\"\n",
    "    Returns the hour based on a string date\n",
    "        \n",
    "    Args:\n",
    "        date (String): A String containing the click datetime\n",
    "\n",
    "    Returns:\n",
    "        day: A String containing the day of click (\"06\", \"07\", ..\"10\")\n",
    "    \"\"\"\n",
    "    \n",
    "    return date[8:10]\n",
    "\n",
    "# hour function\n",
    "def get_hour(date):\n",
    "    \"\"\"\n",
    "    Returns the hour based on a string date\n",
    "        \n",
    "    Args:\n",
    "        date (String): A String containing the click datetime\n",
    "\n",
    "    Returns:\n",
    "        hour: A String containing the hour interval (\"01\", \"02\", ..\"23\")\n",
    "    \"\"\"\n",
    "    \n",
    "    return date[11:13]\n",
    "\n",
    "# minute function\n",
    "def get_minute(date):\n",
    "    \"\"\"\n",
    "    Returns the minute based on a string date\n",
    "        \n",
    "    Args:\n",
    "        date (String): A String containing the click datetime\n",
    "\n",
    "    Returns:\n",
    "        hour: A String containing the minute interval (\"01\", \"02\", ..\"59\")\n",
    "    \"\"\"\n",
    "    \n",
    "    return date[14:16]"
   ]
  },
  {
   "cell_type": "code",
   "execution_count": 11,
   "metadata": {
    "collapsed": true
   },
   "outputs": [],
   "source": [
    "# Get datetime features\n",
    "from pyspark.sql.functions import udf\n",
    "from pyspark.sql.types import StringType\n",
    "\n",
    "day_udf = udf(get_day, StringType())\n",
    "hour_udf = udf(get_hour, StringType())\n",
    "minute_udf = udf(get_minute, StringType())\n",
    "\n",
    "data = data.withColumn('day', day_udf(data.click_time))\n",
    "data = data.withColumn('hour', hour_udf(data.click_time))\n",
    "data = data.withColumn('minute', minute_udf(data.click_time))"
   ]
  },
  {
   "cell_type": "code",
   "execution_count": 12,
   "metadata": {
    "collapsed": false
   },
   "outputs": [
    {
     "name": "stdout",
     "output_type": "stream",
     "text": [
      "+------+---+------+---+-------+-------------------+---+----+------+\n",
      "|    ip|app|device| os|channel|         click_time|day|hour|minute|\n",
      "+------+---+------+---+-------+-------------------+---+----+------+\n",
      "| 83230|  3|     1| 13|    379|2017-11-06 14:32:21| 06|  14|    32|\n",
      "| 17357|  3|     1| 19|    379|2017-11-06 14:33:34| 06|  14|    33|\n",
      "| 35810|  3|     1| 13|    379|2017-11-06 14:34:12| 06|  14|    34|\n",
      "| 45745| 14|     1| 13|    478|2017-11-06 14:34:52| 06|  14|    34|\n",
      "|161007|  3|     1| 13|    379|2017-11-06 14:35:08| 06|  14|    35|\n",
      "+------+---+------+---+-------+-------------------+---+----+------+\n",
      "only showing top 5 rows\n",
      "\n"
     ]
    }
   ],
   "source": [
    "data.show(5)"
   ]
  },
  {
   "cell_type": "markdown",
   "metadata": {},
   "source": [
    "# IP Number of Clicks for same App in same Hour"
   ]
  },
  {
   "cell_type": "code",
   "execution_count": 13,
   "metadata": {
    "collapsed": true
   },
   "outputs": [],
   "source": [
    "from pyspark.sql.functions import col, unix_timestamp, lit\n",
    "import pyspark.sql.functions as func"
   ]
  },
  {
   "cell_type": "code",
   "execution_count": 14,
   "metadata": {
    "collapsed": true
   },
   "outputs": [],
   "source": [
    "var = 'app'"
   ]
  },
  {
   "cell_type": "code",
   "execution_count": 15,
   "metadata": {
    "collapsed": false
   },
   "outputs": [
    {
     "name": "stdout",
     "output_type": "stream",
     "text": [
      "+---+---+----+---------------+-------------------+-------------------+\n",
      "|app|day|hour|app_hour_clicks|app_hour_std_minute|app_hour_avg_minute|\n",
      "+---+---+----+---------------+-------------------+-------------------+\n",
      "|183|07 |03  |894            |17.5               |37.56              |\n",
      "|128|07 |00  |29             |18.04              |31.07              |\n",
      "|115|07 |10  |65             |15.04              |34.09              |\n",
      "|150|07 |10  |1937           |16.33              |12.4               |\n",
      "|193|07 |10  |9              |16.55              |30.56              |\n",
      "|567|07 |10  |1              |0.0                |45.0               |\n",
      "|27 |07 |17  |6533           |17.18              |26.97              |\n",
      "|310|07 |17  |50             |7.02               |15.44              |\n",
      "|175|07 |18  |5              |11.55              |23.0               |\n",
      "|247|07 |20  |1              |0.0                |58.0               |\n",
      "|143|07 |21  |1              |0.0                |32.0               |\n",
      "|45 |07 |22  |446            |17.3               |35.1               |\n",
      "|94 |07 |22  |60             |15.53              |38.08              |\n",
      "|39 |08 |00  |248            |17.89              |32.3               |\n",
      "|228|08 |01  |5              |24.95              |14.4               |\n",
      "|237|08 |02  |3              |8.66               |6.0                |\n",
      "|299|08 |09  |1              |0.0                |16.0               |\n",
      "|154|08 |10  |10             |19.02              |26.3               |\n",
      "|215|08 |10  |114            |7.83               |18.29              |\n",
      "|45 |08 |05  |2936           |16.87              |28.07              |\n",
      "|150|08 |05  |5397           |17.15              |29.39              |\n",
      "|134|08 |12  |150            |13.14              |24.04              |\n",
      "|3  |08 |13  |830527         |17.29              |29.74              |\n",
      "|497|08 |13  |1              |0.0                |41.0               |\n",
      "|75 |08 |14  |433            |14.51              |21.88              |\n",
      "|82 |08 |14  |641            |17.39              |35.95              |\n",
      "|49 |08 |14  |118            |18.1               |28.69              |\n",
      "|329|08 |14  |1              |0.0                |15.0               |\n",
      "|6  |08 |15  |31916          |17.2               |27.65              |\n",
      "|11 |08 |15  |64061          |17.27              |27.79              |\n",
      "|107|08 |23  |217            |17.17              |29.66              |\n",
      "|108|09 |18  |51             |17.51              |28.06              |\n",
      "|130|09 |18  |10             |18.87              |26.9               |\n",
      "|13 |09 |19  |13245          |17.68              |27.03              |\n",
      "|372|09 |19  |1              |0.0                |48.0               |\n",
      "|0  |09 |21  |11             |12.49              |33.82              |\n",
      "|19 |10 |00  |19781          |17.29              |30.46              |\n",
      "|148|10 |00  |63             |16.68              |28.51              |\n",
      "|169|10 |00  |17             |16.94              |34.59              |\n",
      "|310|08 |15  |31             |0.8                |55.97              |\n",
      "|6  |08 |16  |36547          |17.37              |24.13              |\n",
      "|11 |08 |16  |40047          |17.43              |27.83              |\n",
      "|166|09 |15  |25             |14.01              |32.2               |\n",
      "|19 |09 |22  |14905          |17.22              |31.12              |\n",
      "|266|09 |22  |3              |0.0                |0.0                |\n",
      "|204|09 |22  |5              |15.57              |30.0               |\n",
      "|524|09 |23  |1              |0.0                |35.0               |\n",
      "|30 |10 |01  |135            |17.43              |28.47              |\n",
      "|34 |10 |04  |61             |18.46              |30.51              |\n",
      "|39 |10 |06  |275            |17.35              |28.41              |\n",
      "|43 |10 |06  |3              |15.95              |19.67              |\n",
      "|62 |10 |09  |891            |17.4               |31.33              |\n",
      "|236|10 |09  |7              |14.3               |47.29              |\n",
      "|219|10 |09  |1              |0.0                |58.0               |\n",
      "|84 |06 |16  |128            |18.04              |24.55              |\n",
      "|124|06 |16  |6              |13.93              |22.83              |\n",
      "|56 |06 |17  |99             |16.28              |28.61              |\n",
      "|109|06 |17  |81             |14.25              |24.01              |\n",
      "|5  |06 |20  |658            |17.33              |29.69              |\n",
      "|224|06 |20  |2              |1.41               |7.0                |\n",
      "|419|06 |20  |1              |0.0                |23.0               |\n",
      "|76 |06 |22  |5              |8.93               |36.8               |\n",
      "|33 |07 |02  |398            |18.09              |29.88              |\n",
      "|108|07 |02  |26             |13.78              |36.38              |\n",
      "|188|07 |02  |16             |15.36              |26.75              |\n",
      "|381|07 |16  |57             |18.33              |16.21              |\n",
      "|286|07 |16  |2              |1.41               |4.0                |\n",
      "|176|07 |16  |3              |8.08               |10.67              |\n",
      "|119|07 |16  |38             |11.69              |43.29              |\n",
      "|133|08 |22  |6              |20.2               |34.83              |\n",
      "|164|08 |23  |12             |6.49               |13.42              |\n",
      "|72 |09 |02  |384            |16.77              |31.07              |\n",
      "|111|09 |02  |16             |18.43              |31.5               |\n",
      "|163|09 |02  |4              |11.93              |23.25              |\n",
      "|193|09 |02  |1              |0.0                |34.0               |\n",
      "|203|09 |05  |9              |18.76              |25.89              |\n",
      "|150|09 |06  |32             |16.04              |35.16              |\n",
      "|94 |09 |06  |853            |12.42              |43.81              |\n",
      "|275|07 |04  |1              |0.0                |8.0                |\n",
      "|241|07 |04  |6              |20.25              |27.0               |\n",
      "|314|07 |04  |1              |0.0                |21.0               |\n",
      "|497|07 |04  |1              |0.0                |55.0               |\n",
      "|168|07 |05  |7              |11.09              |17.71              |\n",
      "|32 |07 |06  |17062          |17.24              |28.95              |\n",
      "|49 |10 |11  |76             |16.05              |38.97              |\n",
      "|21 |10 |12  |132844         |17.49              |24.92              |\n",
      "|471|07 |06  |1              |0.0                |37.0               |\n",
      "|145|10 |14  |11             |15.07              |30.18              |\n",
      "|283|07 |13  |17             |20.76              |25.47              |\n",
      "|512|08 |02  |1              |0.0                |41.0               |\n",
      "|690|08 |06  |1              |0.0                |37.0               |\n",
      "|333|08 |07  |1              |0.0                |57.0               |\n",
      "|177|09 |01  |19             |11.39              |26.58              |\n",
      "|83 |09 |04  |1584           |15.16              |22.65              |\n",
      "|247|09 |04  |4              |24.43              |25.0               |\n",
      "|179|09 |13  |2              |27.58              |23.5               |\n",
      "|140|09 |13  |3              |28.35              |36.0               |\n",
      "|161|09 |13  |12             |14.87              |33.17              |\n",
      "|222|10 |07  |2              |2.12               |29.5               |\n",
      "|171|06 |23  |3              |17.1               |11.33              |\n",
      "+---+---+----+---------------+-------------------+-------------------+\n",
      "only showing top 100 rows\n",
      "\n"
     ]
    }
   ],
   "source": [
    "var_hour_clicks = (data\n",
    "                   .groupBy(var, 'day', 'hour')\n",
    "                   .agg(func.count(func.lit(1)).alias(var+'_hour_clicks'),\n",
    "                        func.round(func.stddev(col('minute')), 2).alias(var+'_hour_std_minute'),\n",
    "                        func.round(func.mean(col('minute')), 2).alias(var+'_hour_avg_minute'))\n",
    "                      .fillna({var+'_hour_std_minute':0,\n",
    "                               var+'_hour_avg_minute':0})\n",
    "                      .cache())\n",
    "\n",
    "var_hour_clicks.show(100, truncate=False)"
   ]
  },
  {
   "cell_type": "code",
   "execution_count": 16,
   "metadata": {
    "collapsed": false
   },
   "outputs": [
    {
     "name": "stdout",
     "output_type": "stream",
     "text": [
      "+------+---+------+---+-------+-------------------+---+----+------+\n",
      "|ip    |app|device|os |channel|click_time         |day|hour|minute|\n",
      "+------+---+------+---+-------+-------------------+---+----+------+\n",
      "|60725 |76 |3032  |607|347    |2017-11-06 22:27:36|06 |22  |27    |\n",
      "|85120 |76 |3032  |607|347    |2017-11-06 22:30:28|06 |22  |30    |\n",
      "|75090 |76 |3032  |607|347    |2017-11-06 22:36:24|06 |22  |36    |\n",
      "|165408|76 |3032  |607|347    |2017-11-06 22:42:41|06 |22  |42    |\n",
      "|108913|76 |3032  |607|347    |2017-11-06 22:49:13|06 |22  |49    |\n",
      "|5348  |76 |3543  |748|347    |2017-11-07 22:11:46|07 |22  |11    |\n",
      "|53454 |76 |3543  |748|347    |2017-11-07 22:27:11|07 |22  |27    |\n",
      "|20072 |76 |3543  |748|347    |2017-11-07 22:29:58|07 |22  |29    |\n",
      "|274299|76 |3543  |748|347    |2017-11-07 22:31:35|07 |22  |31    |\n",
      "|5348  |76 |3543  |748|347    |2017-11-07 22:36:34|07 |22  |36    |\n",
      "|100045|76 |1     |13 |347    |2017-11-07 22:39:53|07 |22  |39    |\n",
      "|105560|76 |3543  |748|347    |2017-11-07 22:53:17|07 |22  |53    |\n",
      "|48212 |76 |3543  |748|347    |2017-11-07 22:55:21|07 |22  |55    |\n",
      "|55256 |76 |3866  |866|347    |2017-11-08 22:00:25|08 |22  |00    |\n",
      "|319807|76 |3866  |866|347    |2017-11-08 22:06:34|08 |22  |06    |\n",
      "|25097 |76 |3866  |866|347    |2017-11-08 22:08:27|08 |22  |08    |\n",
      "|25097 |76 |3866  |866|347    |2017-11-08 22:08:44|08 |22  |08    |\n",
      "|68382 |76 |3866  |866|347    |2017-11-08 22:13:18|08 |22  |13    |\n",
      "|37490 |76 |3866  |866|347    |2017-11-08 22:40:13|08 |22  |40    |\n",
      "|109703|76 |3866  |866|347    |2017-11-08 22:48:07|08 |22  |48    |\n",
      "+------+---+------+---+-------+-------------------+---+----+------+\n",
      "only showing top 20 rows\n",
      "\n"
     ]
    }
   ],
   "source": [
    "data.filter((col('hour')==22) & (col(var)==76)).show(truncate=False)"
   ]
  },
  {
   "cell_type": "code",
   "execution_count": 17,
   "metadata": {
    "collapsed": false,
    "scrolled": true
   },
   "outputs": [
    {
     "name": "stdout",
     "output_type": "stream",
     "text": [
      "+---+----+-----------+---------------+---------------+\n",
      "|day|hour|hour_clicks|hour_std_minute|hour_avg_minute|\n",
      "+---+----+-----------+---------------+---------------+\n",
      "|07 |20  |409255     |17.48          |29.26          |\n",
      "|10 |16  |290        |0.0            |0.0            |\n",
      "|08 |16  |2455567    |17.35          |26.86          |\n",
      "|08 |13  |3616634    |17.36          |29.46          |\n",
      "|07 |19  |493056     |17.33          |27.82          |\n",
      "|10 |08  |2878913    |17.31          |29.8           |\n",
      "|10 |01  |2821678    |17.4           |29.33          |\n",
      "|06 |21  |509572     |17.69          |31.55          |\n",
      "|07 |00  |3604365    |17.01          |29.6           |\n",
      "|09 |10  |3304199    |17.35          |29.7           |\n",
      "|09 |21  |571504     |17.5           |31.52          |\n",
      "|09 |12  |3363917    |17.34          |29.54          |\n",
      "|08 |05  |3160269    |17.4           |28.88          |\n",
      "|08 |22  |1260525    |17.08          |33.49          |\n",
      "|10 |03  |2850281    |17.58          |30.21          |\n",
      "|08 |12  |3485357    |17.38          |29.45          |\n",
      "|10 |13  |3213032    |17.35          |30.08          |\n",
      "|09 |14  |3443283    |17.3           |28.88          |\n",
      "|10 |12  |3068579    |17.46          |29.66          |\n",
      "|09 |04  |4032691    |17.11          |30.01          |\n",
      "|10 |14  |3261257    |17.2           |28.93          |\n",
      "|06 |19  |496354     |17.46          |27.32          |\n",
      "|07 |10  |3300746    |17.35          |29.92          |\n",
      "|10 |06  |2621978    |17.38          |29.33          |\n",
      "|07 |01  |3308150    |17.3           |29.01          |\n",
      "|09 |17  |1265180    |17.29          |26.05          |\n",
      "|08 |19  |554053     |17.37          |27.85          |\n",
      "|06 |18  |738140     |17.26          |27.06          |\n",
      "|07 |22  |1172535    |17.18          |33.92          |\n",
      "|06 |14  |48         |7.86           |45.83          |\n",
      "|09 |02  |3068887    |17.34          |29.53          |\n",
      "|07 |23  |2333773    |17.17          |31.62          |\n",
      "|08 |10  |3377086    |17.29          |29.37          |\n",
      "|07 |18  |726684     |17.28          |26.71          |\n",
      "|09 |03  |3351149    |17.53          |30.49          |\n",
      "|07 |05  |3227349    |17.43          |28.79          |\n",
      "|08 |01  |3065649    |17.5           |28.5           |\n",
      "|08 |04  |3545132    |17.19          |29.67          |\n",
      "|10 |07  |2683972    |17.45          |29.56          |\n",
      "|08 |00  |3493769    |17.18          |29.43          |\n",
      "|08 |09  |3068314    |17.55          |29.84          |\n",
      "|07 |21  |518866     |17.41          |31.69          |\n",
      "|07 |11  |3134200    |17.51          |29.01          |\n",
      "|06 |23  |2359612    |17.14          |31.94          |\n",
      "|10 |02  |2760042    |17.31          |29.6           |\n",
      "|06 |17  |1263348    |17.26          |26.34          |\n",
      "|09 |11  |3347741    |17.41          |29.44          |\n",
      "|08 |15  |3336168    |17.29          |27.34          |\n",
      "|06 |20  |409752     |17.45          |29.16          |\n",
      "|09 |22  |1325626    |17.02          |33.38          |\n",
      "|08 |02  |3585843    |16.98          |30.47          |\n",
      "|09 |16  |2495595    |17.11          |26.21          |\n",
      "|07 |16  |2314780    |17.22          |26.52          |\n",
      "|07 |03  |3220271    |17.4           |29.7           |\n",
      "|08 |18  |794088     |17.39          |27.01          |\n",
      "|07 |09  |2961319    |17.39          |29.63          |\n",
      "|09 |00  |3318301    |17.24          |29.37          |\n",
      "|09 |19  |526096     |17.43          |27.57          |\n",
      "|06 |15  |435        |11.6           |46.34          |\n",
      "|09 |15  |3026111    |17.27          |28.06          |\n",
      "|07 |08  |2801293    |17.57          |29.27          |\n",
      "|09 |06  |3570940    |17.3           |29.32          |\n",
      "|08 |17  |1387383    |17.24          |26.51          |\n",
      "|09 |05  |3671741    |17.46          |29.02          |\n",
      "|09 |18  |762056     |17.45          |26.85          |\n",
      "|08 |23  |2366694    |17.22          |31.54          |\n",
      "|09 |20  |432411     |17.64          |28.95          |\n",
      "|07 |15  |2864021    |17.43          |28.52          |\n",
      "|07 |04  |3645493    |17.17          |29.86          |\n",
      "|07 |17  |1263077    |17.29          |26.13          |\n",
      "|07 |12  |3000091    |17.41          |29.29          |\n",
      "|10 |04  |3344571    |17.23          |29.15          |\n",
      "|09 |23  |2423959    |17.19          |31.61          |\n",
      "|10 |00  |3055816    |17.29          |29.12          |\n",
      "|10 |10  |3127993    |17.27          |29.58          |\n",
      "|09 |08  |2804701    |17.47          |29.48          |\n",
      "|08 |14  |3676695    |17.45          |29.2           |\n",
      "|06 |22  |1223530    |17.04          |33.96          |\n",
      "|10 |15  |2953455    |17.4           |28.59          |\n",
      "|10 |09  |2985213    |17.55          |29.49          |\n",
      "|10 |11  |3249395    |17.37          |29.25          |\n",
      "|07 |13  |3235239    |17.38          |29.75          |\n",
      "|08 |20  |447324     |17.48          |29.12          |\n",
      "|07 |06  |2917284    |17.31          |29.21          |\n",
      "|09 |07  |3186240    |17.43          |27.85          |\n",
      "|09 |13  |3457523    |17.37          |29.66          |\n",
      "|07 |02  |3095633    |17.4           |29.27          |\n",
      "|09 |09  |2986204    |17.44          |29.9           |\n",
      "|10 |05  |2858427    |17.27          |28.65          |\n",
      "|08 |06  |2983655    |17.3           |29.45          |\n",
      "|07 |14  |3161797    |17.33          |28.82          |\n",
      "|07 |07  |2924033    |17.34          |29.56          |\n",
      "|06 |16  |2307777    |17.34          |26.64          |\n",
      "|08 |03  |3172056    |17.68          |29.37          |\n",
      "|08 |08  |2976057    |17.45          |29.13          |\n",
      "|08 |21  |550518     |17.4           |31.62          |\n",
      "|08 |11  |3430977    |17.25          |29.77          |\n",
      "|09 |01  |3082862    |17.49          |29.32          |\n",
      "|08 |07  |3155262    |17.3           |29.64          |\n",
      "+---+----+-----------+---------------+---------------+\n",
      "\n"
     ]
    }
   ],
   "source": [
    "hour_clicks = (data\n",
    "               .groupBy('day', 'hour')\n",
    "               .agg(func.count(func.lit(1)).alias('hour_clicks'),\n",
    "                    func.round(func.stddev(col('minute')), 2).alias('hour_std_minute'),\n",
    "                    func.round(func.mean(col('minute')), 2).alias('hour_avg_minute'))\n",
    "               .fillna({'hour_std_minute':0,\n",
    "                        'hour_avg_minute':0})\n",
    "               .cache())\n",
    "\n",
    "hour_clicks.show(100, truncate=False)"
   ]
  },
  {
   "cell_type": "code",
   "execution_count": null,
   "metadata": {
    "collapsed": true
   },
   "outputs": [],
   "source": []
  },
  {
   "cell_type": "markdown",
   "metadata": {},
   "source": [
    "## Export New Features"
   ]
  },
  {
   "cell_type": "code",
   "execution_count": 19,
   "metadata": {
    "collapsed": true
   },
   "outputs": [],
   "source": [
    "(var_hour_clicks\n",
    " .coalesce(1)\n",
    " .write\n",
    " .format(\"com.databricks.spark.csv\")\n",
    " .option(\"header\", \"true\")\n",
    " .mode(\"overwrite\")\n",
    " .save(mungepath+\"f_\"+var+\"_hour_clicks\", compression=\"None\"))"
   ]
  },
  {
   "cell_type": "code",
   "execution_count": 18,
   "metadata": {
    "collapsed": false
   },
   "outputs": [
    {
     "data": {
      "text/plain": [
       "46317015"
      ]
     },
     "execution_count": 18,
     "metadata": {},
     "output_type": "execute_result"
    }
   ],
   "source": [
    "var_hour_clicks.count()"
   ]
  },
  {
   "cell_type": "markdown",
   "metadata": {},
   "source": [
    "## Check the impact of new features"
   ]
  },
  {
   "cell_type": "code",
   "execution_count": 21,
   "metadata": {
    "collapsed": false
   },
   "outputs": [
    {
     "name": "stdout",
     "output_type": "stream",
     "text": [
      "+--------------------+\n",
      "|  avg(is_attributed)|\n",
      "+--------------------+\n",
      "|0.002470721410998979|\n",
      "+--------------------+\n",
      "\n"
     ]
    }
   ],
   "source": [
    "import pyspark.sql.functions as func\n",
    "\n",
    "train.groupBy().agg(func.mean(col('is_attributed'))).show()"
   ]
  },
  {
   "cell_type": "code",
   "execution_count": 18,
   "metadata": {
    "collapsed": true
   },
   "outputs": [],
   "source": [
    "train_sample = (train.sample(fraction=0.05, withReplacement=False, seed=22)\n",
    "                .withColumn('day', day_udf(data.click_time))\n",
    "                .withColumn('hour', hour_udf(data.click_time))\n",
    "                .join(var_hour_clicks, [var, 'day', 'hour'], 'left_outer')\n",
    "                .join(hour_clicks, ['day', 'hour'], 'left_outer')\n",
    "                .withColumn(var+'_hour_click_percentage', func.round(col(var+'_hour_clicks') / col('hour_clicks'),6))\n",
    "                .cache())"
   ]
  },
  {
   "cell_type": "code",
   "execution_count": 19,
   "metadata": {
    "collapsed": false
   },
   "outputs": [
    {
     "data": {
      "text/plain": [
       "9248009"
      ]
     },
     "execution_count": 19,
     "metadata": {},
     "output_type": "execute_result"
    }
   ],
   "source": [
    "train_sample.count()"
   ]
  },
  {
   "cell_type": "code",
   "execution_count": 20,
   "metadata": {
    "collapsed": false
   },
   "outputs": [
    {
     "data": {
      "text/plain": [
       "9248009"
      ]
     },
     "execution_count": 20,
     "metadata": {},
     "output_type": "execute_result"
    }
   ],
   "source": [
    "train.sample(fraction=0.05, withReplacement=False, seed=22).count()"
   ]
  },
  {
   "cell_type": "code",
   "execution_count": 21,
   "metadata": {
    "collapsed": false
   },
   "outputs": [
    {
     "name": "stdout",
     "output_type": "stream",
     "text": [
      "+---+----+---+------+------+---+-------+-------------------+---------------+-------------+---------------+-------------------+-------------------+-----------+---------------+---------------+-------------------------+\n",
      "|day|hour|app|ip    |device|os |channel|click_time         |attributed_time|is_attributed|app_hour_clicks|app_hour_std_minute|app_hour_avg_minute|hour_clicks|hour_std_minute|hour_avg_minute|app_hour_click_percentage|\n",
      "+---+----+---+------+------+---+-------+-------------------+---------------+-------------+---------------+-------------------+-------------------+-----------+---------------+---------------+-------------------------+\n",
      "|06 |14  |3  |38816 |1     |18 |379    |2017-11-06 14:40:39|null           |0            |43             |7.84               |45.98              |48         |7.86           |45.83          |0.895833                 |\n",
      "|06 |14  |3  |134575|1     |13 |379    |2017-11-06 14:43:10|null           |0            |43             |7.84               |45.98              |48         |7.86           |45.83          |0.895833                 |\n",
      "|06 |14  |3  |30986 |1     |19 |379    |2017-11-06 14:52:13|null           |0            |43             |7.84               |45.98              |48         |7.86           |45.83          |0.895833                 |\n",
      "|06 |15  |3  |199564|1     |13 |379    |2017-11-06 15:09:44|null           |0            |353            |11.86              |46.08              |435        |11.6           |46.34          |0.811494                 |\n",
      "|06 |15  |3  |191894|1     |18 |379    |2017-11-06 15:29:16|null           |0            |353            |11.86              |46.08              |435        |11.6           |46.34          |0.811494                 |\n",
      "+---+----+---+------+------+---+-------+-------------------+---------------+-------------+---------------+-------------------+-------------------+-----------+---------------+---------------+-------------------------+\n",
      "only showing top 5 rows\n",
      "\n"
     ]
    }
   ],
   "source": [
    "train_sample.show(5, truncate=False)"
   ]
  },
  {
   "cell_type": "code",
   "execution_count": 22,
   "metadata": {
    "collapsed": true
   },
   "outputs": [],
   "source": [
    "features = [var+'_hour_clicks', var+'_hour_std_minute', var+'_hour_avg_minute', var+'_hour_click_percentage']"
   ]
  },
  {
   "cell_type": "code",
   "execution_count": 23,
   "metadata": {
    "collapsed": false
   },
   "outputs": [
    {
     "data": {
      "image/png": "[encoded data removed]",
      "text/plain": [
       "<matplotlib.figure.Figure at 0x7f12bfa94fd0>"
      ]
     },
     "metadata": {},
     "output_type": "display_data"
    },
    {
     "data": {
      "image/png": "[encoded data removed]",
      "text/plain": [
       "<matplotlib.figure.Figure at 0x7f123d46eb70>"
      ]
     },
     "metadata": {},
     "output_type": "display_data"
    },
    {
     "data": {
      "image/png": "[encoded data removed]",
      "text/plain": [
       "<matplotlib.figure.Figure at 0x7f128f7281d0>"
      ]
     },
     "metadata": {},
     "output_type": "display_data"
    },
    {
     "data": {
      "image/png": "[encoded data removed]",
      "text/plain": [
       "<matplotlib.figure.Figure at 0x7f12bfaa4668>"
      ]
     },
     "metadata": {},
     "output_type": "display_data"
    },
    {
     "data": {
      "image/png": "[encoded data removed]",
      "text/plain": [
       "<matplotlib.figure.Figure at 0x7f12bfa94898>"
      ]
     },
     "metadata": {},
     "output_type": "display_data"
    }
   ],
   "source": [
    "for f in features:\n",
    "    PDF = train_sample.select('is_attributed', f).toPandas()\n",
    "    PDF_sorted = PDF.sort_values(by=f)\n",
    "    PDF_sorted['roll'] = PDF_sorted.is_attributed.rolling(window=10000).mean()\n",
    "    plt.title('Impact of '+f)\n",
    "    plt.plot(PDF_sorted[f], PDF_sorted.roll)\n",
    "    plt.show()\n",
    "    \n",
    "    if np.max(PDF_sorted[f])>200:\n",
    "        PDF_filtered = PDF_sorted[PDF_sorted[f]<100]\n",
    "        plt.title('Impact of '+f)\n",
    "        plt.plot(PDF_filtered[f], PDF_filtered.roll)\n",
    "        plt.show()"
   ]
  },
  {
   "cell_type": "code",
   "execution_count": 22,
   "metadata": {
    "collapsed": false,
    "scrolled": false
   },
   "outputs": [
    {
     "data": {
      "image/png": "[encoded data removed]",
      "text/plain": [
       "<matplotlib.figure.Figure at 0x7fa9769653c8>"
      ]
     },
     "metadata": {},
     "output_type": "display_data"
    },
    {
     "data": {
      "image/png": "[encoded data removed]",
      "text/plain": [
       "<matplotlib.figure.Figure at 0x7fa8f41f22b0>"
      ]
     },
     "metadata": {},
     "output_type": "display_data"
    },
    {
     "data": {
      "image/png": "[encoded data removed]",
      "text/plain": [
       "<matplotlib.figure.Figure at 0x7fa9a8131d30>"
      ]
     },
     "metadata": {},
     "output_type": "display_data"
    },
    {
     "data": {
      "image/png": "[encoded data removed]",
      "text/plain": [
       "<matplotlib.figure.Figure at 0x7fa8f4055470>"
      ]
     },
     "metadata": {},
     "output_type": "display_data"
    }
   ],
   "source": [
    "for f in features:\n",
    "    PDF = train_sample.select('is_attributed', f).toPandas()\n",
    "    PDF_sorted = PDF.sort_values(by=f)\n",
    "    PDF_sorted['roll'] = PDF_sorted.is_attributed.rolling(window=10000).mean()\n",
    "    plt.title('Impact of '+f)\n",
    "    plt.plot(PDF_sorted[f], PDF_sorted.roll)\n",
    "    plt.show()\n",
    "    \n",
    "    if np.max(PDF_sorted[f])>200:\n",
    "        PDF_filtered = PDF_sorted[PDF_sorted[f]<100]\n",
    "        plt.title('Impact of '+f)\n",
    "        plt.plot(PDF_filtered[f], PDF_filtered.roll)\n",
    "        plt.show()"
   ]
  },
  {
   "cell_type": "code",
   "execution_count": null,
   "metadata": {
    "collapsed": true
   },
   "outputs": [],
   "source": []
  }
 ],
 "metadata": {
  "anaconda-cloud": {},
  "kernelspec": {
   "display_name": "PySpark",
   "language": "python3",
   "name": "pyspark"
  },
  "language_info": {
   "codemirror_mode": {
    "name": "ipython",
    "version": 3
   },
   "file_extension": ".py",
   "mimetype": "text/x-python",
   "name": "python",
   "nbconvert_exporter": "python",
   "pygments_lexer": "ipython3",
   "version": "3.6.4"
  }
 },
 "nbformat": 4,
 "nbformat_minor": 2
}
