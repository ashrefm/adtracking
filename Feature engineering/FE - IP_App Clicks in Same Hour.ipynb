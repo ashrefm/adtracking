{
 "cells": [
  {
   "cell_type": "markdown",
   "metadata": {},
   "source": [
    "# Loading Libraries"
   ]
  },
  {
   "cell_type": "code",
   "execution_count": 2,
   "metadata": {
    "collapsed": true
   },
   "outputs": [],
   "source": [
    "import numpy as np\n",
    "import pandas as pd\n",
    "import matplotlib.pyplot as plt\n",
    "% matplotlib inline\n",
    "\n",
    "import seaborn as sns\n",
    "sns.set(rc={'figure.figsize':(12, 5)},\n",
    "        font_scale=1.5,\n",
    "        style=\"whitegrid\")\n",
    "        \n",
    "from pyspark.sql import HiveContext\n",
    "from pyspark.sql import SQLContext\n",
    "\n",
    "# initialize session hive and sql environments\n",
    "hiveContext = HiveContext(sc)\n",
    "sqlContext = SQLContext(sc)"
   ]
  },
  {
   "cell_type": "markdown",
   "metadata": {},
   "source": [
    "# Data Reading"
   ]
  },
  {
   "cell_type": "code",
   "execution_count": 3,
   "metadata": {
    "collapsed": true
   },
   "outputs": [],
   "source": [
    "project_folder = \"../\"\n",
    "datapath = project_folder + \"data/\"\n",
    "plotpath = project_folder + \"graphs/\"\n",
    "mungepath = project_folder + \"munge/\"\n",
    "configpath = project_folder + \"config/\"\n",
    "diagnostic = project_folder + \"diagnostic/\"\n",
    "modelpath = project_folder + \"model/\"\n",
    "output = project_folder + \"output/\""
   ]
  },
  {
   "cell_type": "code",
   "execution_count": 4,
   "metadata": {
    "collapsed": false
   },
   "outputs": [
    {
     "name": "stdout",
     "output_type": "stream",
     "text": [
      "Found 184903890 observations in training set.\n"
     ]
    }
   ],
   "source": [
    "from pyspark.sql.functions import col\n",
    "\n",
    "train = spark.read.csv(os.path.join(datapath,\"train.csv\"), header=True)\n",
    "print('Found %d observations in training set.' %train.count())"
   ]
  },
  {
   "cell_type": "code",
   "execution_count": 5,
   "metadata": {
    "collapsed": false
   },
   "outputs": [
    {
     "name": "stdout",
     "output_type": "stream",
     "text": [
      "Found 57536872 observations in test_old set.\n"
     ]
    }
   ],
   "source": [
    "from pyspark.sql.functions import col\n",
    "\n",
    "test_old = (spark.read.csv(os.path.join(datapath,\"test_supplement.csv\"), header=True)\n",
    "            .filter(col('click_time') >= '2017-11-09 16:00:00'))\n",
    "\n",
    "print('Found %d observations in test_old set.' %test_old.count())"
   ]
  },
  {
   "cell_type": "code",
   "execution_count": 6,
   "metadata": {
    "collapsed": false
   },
   "outputs": [
    {
     "name": "stdout",
     "output_type": "stream",
     "text": [
      "+------+---+------+---+-------+-------------------+---------------+-------------+\n",
      "|    ip|app|device| os|channel|         click_time|attributed_time|is_attributed|\n",
      "+------+---+------+---+-------+-------------------+---------------+-------------+\n",
      "| 83230|  3|     1| 13|    379|2017-11-06 14:32:21|           null|            0|\n",
      "| 17357|  3|     1| 19|    379|2017-11-06 14:33:34|           null|            0|\n",
      "| 35810|  3|     1| 13|    379|2017-11-06 14:34:12|           null|            0|\n",
      "| 45745| 14|     1| 13|    478|2017-11-06 14:34:52|           null|            0|\n",
      "|161007|  3|     1| 13|    379|2017-11-06 14:35:08|           null|            0|\n",
      "| 18787|  3|     1| 16|    379|2017-11-06 14:36:26|           null|            0|\n",
      "|103022|  3|     1| 23|    379|2017-11-06 14:37:44|           null|            0|\n",
      "|114221|  3|     1| 19|    379|2017-11-06 14:37:59|           null|            0|\n",
      "|165970|  3|     1| 13|    379|2017-11-06 14:38:10|           null|            0|\n",
      "| 74544| 64|     1| 22|    459|2017-11-06 14:38:23|           null|            0|\n",
      "+------+---+------+---+-------+-------------------+---------------+-------------+\n",
      "only showing top 10 rows\n",
      "\n"
     ]
    }
   ],
   "source": [
    "train.show(10)"
   ]
  },
  {
   "cell_type": "code",
   "execution_count": 7,
   "metadata": {
    "collapsed": false,
    "scrolled": true
   },
   "outputs": [
    {
     "name": "stdout",
     "output_type": "stream",
     "text": [
      "root\n",
      " |-- ip: string (nullable = true)\n",
      " |-- app: string (nullable = true)\n",
      " |-- device: string (nullable = true)\n",
      " |-- os: string (nullable = true)\n",
      " |-- channel: string (nullable = true)\n",
      " |-- click_time: string (nullable = true)\n",
      " |-- attributed_time: string (nullable = true)\n",
      " |-- is_attributed: string (nullable = true)\n",
      "\n"
     ]
    }
   ],
   "source": [
    "train.printSchema()"
   ]
  },
  {
   "cell_type": "markdown",
   "metadata": {},
   "source": [
    "# Build the full dataset"
   ]
  },
  {
   "cell_type": "code",
   "execution_count": 8,
   "metadata": {
    "collapsed": false
   },
   "outputs": [
    {
     "name": "stdout",
     "output_type": "stream",
     "text": [
      "Total number of clicks in one week: 242440762\n"
     ]
    }
   ],
   "source": [
    "# train and test set concatenation\n",
    "from pyspark.sql.functions import col\n",
    "data = (train.select('ip', 'app', 'device', 'os', 'channel', 'click_time')\n",
    "        .unionAll(test_old.select('ip', 'app', 'device', 'os', 'channel', 'click_time')))\n",
    "        \n",
    "print('Total number of clicks in one week:', data.count())"
   ]
  },
  {
   "cell_type": "code",
   "execution_count": 9,
   "metadata": {
    "collapsed": false
   },
   "outputs": [
    {
     "name": "stdout",
     "output_type": "stream",
     "text": [
      "+------+---+------+---+-------+-------------------+\n",
      "|    ip|app|device| os|channel|         click_time|\n",
      "+------+---+------+---+-------+-------------------+\n",
      "| 83230|  3|     1| 13|    379|2017-11-06 14:32:21|\n",
      "| 17357|  3|     1| 19|    379|2017-11-06 14:33:34|\n",
      "| 35810|  3|     1| 13|    379|2017-11-06 14:34:12|\n",
      "| 45745| 14|     1| 13|    478|2017-11-06 14:34:52|\n",
      "|161007|  3|     1| 13|    379|2017-11-06 14:35:08|\n",
      "+------+---+------+---+-------+-------------------+\n",
      "only showing top 5 rows\n",
      "\n"
     ]
    }
   ],
   "source": [
    "data.show(5)"
   ]
  },
  {
   "cell_type": "markdown",
   "metadata": {},
   "source": [
    "# Datetime Features"
   ]
  },
  {
   "cell_type": "code",
   "execution_count": 10,
   "metadata": {
    "collapsed": true
   },
   "outputs": [],
   "source": [
    "# day function\n",
    "def get_day(date):\n",
    "    \"\"\"\n",
    "    Returns the hour based on a string date\n",
    "        \n",
    "    Args:\n",
    "        date (String): A String containing the click datetime\n",
    "\n",
    "    Returns:\n",
    "        day: A String containing the day of click (\"06\", \"07\", ..\"10\")\n",
    "    \"\"\"\n",
    "    \n",
    "    return date[8:10]\n",
    "\n",
    "# hour function\n",
    "def get_hour(date):\n",
    "    \"\"\"\n",
    "    Returns the hour based on a string date\n",
    "        \n",
    "    Args:\n",
    "        date (String): A String containing the click datetime\n",
    "\n",
    "    Returns:\n",
    "        hour: A String containing the hour interval (\"01\", \"02\", ..\"23\")\n",
    "    \"\"\"\n",
    "    \n",
    "    return date[11:13]\n",
    "\n",
    "# minute function\n",
    "def get_minute(date):\n",
    "    \"\"\"\n",
    "    Returns the minute based on a string date\n",
    "        \n",
    "    Args:\n",
    "        date (String): A String containing the click datetime\n",
    "\n",
    "    Returns:\n",
    "        hour: A String containing the minute interval (\"01\", \"02\", ..\"59\")\n",
    "    \"\"\"\n",
    "    \n",
    "    return date[14:16]"
   ]
  },
  {
   "cell_type": "code",
   "execution_count": 11,
   "metadata": {
    "collapsed": true
   },
   "outputs": [],
   "source": [
    "# Get datetime features\n",
    "from pyspark.sql.functions import udf\n",
    "from pyspark.sql.types import StringType\n",
    "\n",
    "day_udf = udf(get_day, StringType())\n",
    "hour_udf = udf(get_hour, StringType())\n",
    "minute_udf = udf(get_minute, StringType())\n",
    "\n",
    "data = data.withColumn('day', day_udf(data.click_time))\n",
    "data = data.withColumn('hour', hour_udf(data.click_time))\n",
    "data = data.withColumn('minute', minute_udf(data.click_time))"
   ]
  },
  {
   "cell_type": "code",
   "execution_count": 12,
   "metadata": {
    "collapsed": false
   },
   "outputs": [
    {
     "name": "stdout",
     "output_type": "stream",
     "text": [
      "+------+---+------+---+-------+-------------------+---+----+------+\n",
      "|    ip|app|device| os|channel|         click_time|day|hour|minute|\n",
      "+------+---+------+---+-------+-------------------+---+----+------+\n",
      "| 83230|  3|     1| 13|    379|2017-11-06 14:32:21| 06|  14|    32|\n",
      "| 17357|  3|     1| 19|    379|2017-11-06 14:33:34| 06|  14|    33|\n",
      "| 35810|  3|     1| 13|    379|2017-11-06 14:34:12| 06|  14|    34|\n",
      "| 45745| 14|     1| 13|    478|2017-11-06 14:34:52| 06|  14|    34|\n",
      "|161007|  3|     1| 13|    379|2017-11-06 14:35:08| 06|  14|    35|\n",
      "+------+---+------+---+-------+-------------------+---+----+------+\n",
      "only showing top 5 rows\n",
      "\n"
     ]
    }
   ],
   "source": [
    "data.show(5)"
   ]
  },
  {
   "cell_type": "markdown",
   "metadata": {},
   "source": [
    "# IP Number of Clicks for same App in same Hour"
   ]
  },
  {
   "cell_type": "code",
   "execution_count": 13,
   "metadata": {
    "collapsed": true
   },
   "outputs": [],
   "source": [
    "from pyspark.sql.functions import col, unix_timestamp, lit\n",
    "import pyspark.sql.functions as func"
   ]
  },
  {
   "cell_type": "code",
   "execution_count": 14,
   "metadata": {
    "collapsed": true
   },
   "outputs": [],
   "source": [
    "var = 'app'"
   ]
  },
  {
   "cell_type": "code",
   "execution_count": 16,
   "metadata": {
    "collapsed": false
   },
   "outputs": [
    {
     "name": "stdout",
     "output_type": "stream",
     "text": [
      "+------+---+---+----+------------------+----------------------+----------------------+\n",
      "|ip    |app|day|hour|ip_app_hour_clicks|ip_app_hour_std_minute|ip_app_hour_avg_minute|\n",
      "+------+---+---+----+------------------+----------------------+----------------------+\n",
      "|172522|3  |06 |15  |1                 |0.0                   |58.0                  |\n",
      "|157830|2  |06 |16  |8                 |0.0                   |0.0                   |\n",
      "|180554|9  |06 |16  |5                 |9.04                  |15.2                  |\n",
      "|49940 |9  |06 |16  |8                 |9.83                  |14.0                  |\n",
      "|176341|13 |06 |16  |2                 |14.85                 |10.5                  |\n",
      "|201465|12 |06 |16  |38                |10.39                 |22.63                 |\n",
      "|13746 |2  |06 |16  |10                |22.0                  |13.8                  |\n",
      "|201926|26 |06 |16  |9                 |16.08                 |21.56                 |\n",
      "|191341|15 |06 |16  |36                |18.12                 |31.67                 |\n",
      "|172209|2  |06 |16  |507               |13.65                 |22.12                 |\n",
      "|133840|26 |06 |16  |2                 |4.95                  |3.5                   |\n",
      "|123955|12 |06 |16  |36                |19.73                 |25.17                 |\n",
      "|99836 |22 |06 |16  |1                 |0.0                   |0.0                   |\n",
      "|1419  |28 |06 |16  |1                 |0.0                   |0.0                   |\n",
      "|172465|12 |06 |16  |132               |15.64                 |22.57                 |\n",
      "|57117 |18 |06 |16  |3                 |7.81                  |9.0                   |\n",
      "|163219|15 |06 |16  |32                |21.65                 |23.97                 |\n",
      "|116390|3  |06 |16  |8                 |24.81                 |22.25                 |\n",
      "|54039 |12 |06 |16  |6                 |22.0                  |19.67                 |\n",
      "|37485 |15 |06 |16  |2                 |29.7                  |21.0                  |\n",
      "|95145 |3  |06 |16  |72                |17.64                 |24.32                 |\n",
      "|182500|15 |06 |16  |26                |17.8                  |27.35                 |\n",
      "|189850|2  |06 |16  |25                |9.99                  |15.16                 |\n",
      "|16363 |64 |06 |16  |1                 |0.0                   |0.0                   |\n",
      "|130255|9  |06 |16  |1                 |0.0                   |0.0                   |\n",
      "|204036|15 |06 |16  |6                 |1.97                  |2.5                   |\n",
      "|100275|17 |06 |16  |19                |18.22                 |29.21                 |\n",
      "|115841|18 |06 |16  |42                |18.46                 |29.43                 |\n",
      "|146211|15 |06 |16  |4                 |0.0                   |0.0                   |\n",
      "|24067 |9  |06 |16  |12                |14.77                 |27.83                 |\n",
      "|109231|12 |06 |16  |24                |17.0                  |20.79                 |\n",
      "|29412 |18 |06 |16  |26                |15.78                 |26.31                 |\n",
      "|30587 |3  |06 |16  |82                |16.75                 |24.51                 |\n",
      "|98738 |2  |06 |16  |14                |16.91                 |24.36                 |\n",
      "|24985 |64 |06 |16  |3                 |25.74                 |16.33                 |\n",
      "|105649|12 |06 |16  |37                |17.63                 |22.54                 |\n",
      "|83025 |12 |06 |16  |4                 |25.53                 |19.0                  |\n",
      "|20215 |26 |06 |16  |5                 |21.38                 |23.4                  |\n",
      "|157360|3  |06 |16  |5                 |8.51                  |6.0                   |\n",
      "|180146|12 |06 |16  |1                 |0.0                   |0.0                   |\n",
      "|37506 |1  |06 |16  |19                |16.6                  |23.05                 |\n",
      "|148454|18 |06 |16  |1                 |0.0                   |0.0                   |\n",
      "|121296|3  |06 |16  |17                |21.71                 |29.12                 |\n",
      "|100869|3  |06 |16  |13                |16.28                 |7.38                  |\n",
      "|50275 |23 |06 |16  |4                 |20.4                  |20.25                 |\n",
      "|31732 |9  |06 |16  |17                |11.99                 |13.24                 |\n",
      "|28742 |12 |06 |16  |14                |19.08                 |19.5                  |\n",
      "|34450 |15 |06 |16  |26                |18.86                 |28.12                 |\n",
      "|64502 |3  |06 |16  |31                |17.19                 |31.58                 |\n",
      "|88688 |6  |06 |16  |1                 |0.0                   |0.0                   |\n",
      "|193753|9  |06 |16  |8                 |15.92                 |7.0                   |\n",
      "|111639|2  |06 |16  |130               |19.29                 |32.75                 |\n",
      "|71535 |9  |06 |16  |17                |16.99                 |25.41                 |\n",
      "|37233 |1  |06 |16  |17                |18.7                  |21.0                  |\n",
      "|170623|3  |06 |16  |8                 |4.7                   |4.13                  |\n",
      "|98554 |2  |06 |16  |11                |21.21                 |18.91                 |\n",
      "|118881|9  |06 |16  |10                |19.69                 |23.4                  |\n",
      "|211863|12 |06 |16  |30                |16.38                 |16.13                 |\n",
      "|25588 |3  |06 |16  |57                |17.56                 |32.89                 |\n",
      "|65954 |64 |06 |16  |3                 |5.86                  |6.67                  |\n",
      "|111267|2  |06 |16  |3                 |17.04                 |10.33                 |\n",
      "|102280|12 |06 |16  |107               |15.95                 |30.52                 |\n",
      "|104483|1  |06 |16  |5                 |19.62                 |21.0                  |\n",
      "|79909 |8  |06 |16  |114               |15.8                  |26.66                 |\n",
      "|57339 |8  |06 |16  |6                 |0.41                  |0.17                  |\n",
      "|64659 |1  |06 |16  |9                 |16.77                 |18.89                 |\n",
      "|67012 |12 |06 |16  |40                |10.63                 |13.98                 |\n",
      "|32523 |2  |06 |16  |49                |12.63                 |16.76                 |\n",
      "|71740 |14 |06 |16  |6                 |9.99                  |11.83                 |\n",
      "|184000|18 |06 |16  |1                 |0.0                   |0.0                   |\n",
      "|41287 |9  |06 |16  |33                |13.67                 |24.88                 |\n",
      "|48206 |9  |06 |16  |1                 |0.0                   |0.0                   |\n",
      "|70688 |1  |06 |16  |4                 |22.87                 |32.25                 |\n",
      "|84283 |6  |06 |16  |6                 |19.39                 |19.33                 |\n",
      "|137318|9  |06 |16  |1                 |0.0                   |0.0                   |\n",
      "|93395 |6  |06 |16  |9                 |4.24                  |3.22                  |\n",
      "|181804|28 |06 |16  |1                 |0.0                   |0.0                   |\n",
      "|26889 |15 |06 |16  |5                 |27.07                 |29.2                  |\n",
      "|127081|1  |06 |16  |4                 |9.54                  |8.75                  |\n",
      "|79673 |3  |06 |16  |25                |18.91                 |30.64                 |\n",
      "|81556 |15 |06 |16  |6                 |7.37                  |5.67                  |\n",
      "|117331|9  |06 |16  |13                |9.98                  |7.38                  |\n",
      "|42164 |3  |06 |16  |71                |12.75                 |16.28                 |\n",
      "|116301|12 |06 |16  |42                |14.43                 |26.71                 |\n",
      "|115573|1  |06 |16  |4                 |13.89                 |19.5                  |\n",
      "|32560 |14 |06 |16  |10                |21.57                 |24.4                  |\n",
      "|96974 |24 |06 |16  |1                 |0.0                   |0.0                   |\n",
      "|7528  |1  |06 |16  |2                 |41.72                 |29.5                  |\n",
      "|59625 |13 |06 |16  |3                 |23.64                 |27.0                  |\n",
      "|33903 |15 |06 |16  |3                 |12.7                  |7.33                  |\n",
      "|62140 |21 |06 |16  |4                 |22.47                 |29.5                  |\n",
      "|108858|8  |06 |16  |47                |14.37                 |15.15                 |\n",
      "|22808 |9  |06 |16  |10                |17.66                 |17.9                  |\n",
      "|94031 |1  |06 |16  |1                 |0.0                   |0.0                   |\n",
      "|94031 |12 |06 |16  |6                 |15.79                 |14.17                 |\n",
      "|149939|12 |06 |16  |2                 |19.8                  |14.0                  |\n",
      "|2469  |18 |06 |16  |2                 |0.0                   |0.0                   |\n",
      "|39736 |12 |06 |16  |20                |17.47                 |21.4                  |\n",
      "|29315 |15 |06 |16  |74                |15.1                  |21.34                 |\n",
      "|114577|9  |06 |16  |6                 |25.04                 |38.5                  |\n",
      "+------+---+---+----+------------------+----------------------+----------------------+\n",
      "only showing top 100 rows\n",
      "\n"
     ]
    }
   ],
   "source": [
    "ip_var_hour_clicks = (data\n",
    "                      .groupBy('ip', var, 'day', 'hour')\n",
    "                      .agg(func.count(func.lit(1)).alias('ip_'+var+'_hour_clicks'),\n",
    "                           func.round(func.stddev(col('minute')), 2).alias('ip_'+var+'_hour_std_minute'),\n",
    "                           func.round(func.mean(col('minute')), 2).alias('ip_'+var+'_hour_avg_minute'))\n",
    "                      .fillna({'ip_'+var+'_hour_std_minute':0,\n",
    "                               'ip_'+var+'_hour_avg_minute':0})\n",
    "                      .cache())\n",
    "\n",
    "ip_var_hour_clicks.show(100, truncate=False)"
   ]
  },
  {
   "cell_type": "code",
   "execution_count": 17,
   "metadata": {
    "collapsed": false
   },
   "outputs": [
    {
     "name": "stdout",
     "output_type": "stream",
     "text": [
      "+------+---+------+---+-------+-------------------+---+----+------+\n",
      "|ip    |app|device|os |channel|click_time         |day|hour|minute|\n",
      "+------+---+------+---+-------+-------------------+---+----+------+\n",
      "|149939|12 |1     |17 |145    |2017-11-06 16:00:37|06 |16  |00    |\n",
      "|149939|12 |1     |17 |145    |2017-11-06 16:28:09|06 |16  |28    |\n",
      "|149939|12 |1     |25 |140    |2017-11-06 18:46:24|06 |18  |46    |\n",
      "|149939|12 |1     |22 |245    |2017-11-06 23:23:49|06 |23  |23    |\n",
      "|149939|12 |1     |22 |245    |2017-11-06 23:24:34|06 |23  |24    |\n",
      "|149939|12 |1     |22 |245    |2017-11-06 23:26:06|06 |23  |26    |\n",
      "|149939|12 |1     |22 |245    |2017-11-06 23:27:39|06 |23  |27    |\n",
      "|149939|12 |1     |22 |245    |2017-11-06 23:29:01|06 |23  |29    |\n",
      "|149939|12 |1     |22 |245    |2017-11-06 23:30:32|06 |23  |30    |\n",
      "|149939|12 |1     |22 |245    |2017-11-06 23:31:38|06 |23  |31    |\n",
      "|149939|12 |1     |22 |245    |2017-11-06 23:33:07|06 |23  |33    |\n",
      "|149939|12 |1     |22 |245    |2017-11-06 23:34:46|06 |23  |34    |\n",
      "|149939|12 |1     |22 |245    |2017-11-06 23:35:57|06 |23  |35    |\n",
      "|149939|12 |1     |22 |245    |2017-11-06 23:37:14|06 |23  |37    |\n",
      "|149939|12 |1     |22 |245    |2017-11-06 23:38:39|06 |23  |38    |\n",
      "|149939|12 |1     |19 |145    |2017-11-06 23:52:15|06 |23  |52    |\n",
      "|149939|12 |1     |22 |245    |2017-11-06 23:53:41|06 |23  |53    |\n",
      "|149939|12 |1     |19 |145    |2017-11-07 00:04:46|07 |00  |04    |\n",
      "|149939|12 |1     |18 |145    |2017-11-07 00:34:22|07 |00  |34    |\n",
      "|149939|12 |1     |19 |145    |2017-11-07 01:32:29|07 |01  |32    |\n",
      "+------+---+------+---+-------+-------------------+---+----+------+\n",
      "only showing top 20 rows\n",
      "\n"
     ]
    }
   ],
   "source": [
    "data.filter((col('ip')==149939) & (col(var)==12)).show(truncate=False)"
   ]
  },
  {
   "cell_type": "markdown",
   "metadata": {},
   "source": [
    "## Export New Features"
   ]
  },
  {
   "cell_type": "code",
   "execution_count": 19,
   "metadata": {
    "collapsed": true
   },
   "outputs": [],
   "source": [
    "(ip_var_hour_clicks\n",
    " .coalesce(1)\n",
    " .write\n",
    " .format(\"com.databricks.spark.csv\")\n",
    " .option(\"header\", \"true\")\n",
    " .mode(\"overwrite\")\n",
    " .save(mungepath+\"f_ip_\"+var+\"_hour_clicks\", compression=\"None\"))"
   ]
  },
  {
   "cell_type": "code",
   "execution_count": 18,
   "metadata": {
    "collapsed": false
   },
   "outputs": [
    {
     "data": {
      "text/plain": [
       "46317015"
      ]
     },
     "execution_count": 18,
     "metadata": {},
     "output_type": "execute_result"
    }
   ],
   "source": [
    "ip_var_hour_clicks.count()"
   ]
  },
  {
   "cell_type": "markdown",
   "metadata": {},
   "source": [
    "## Check the impact of new features"
   ]
  },
  {
   "cell_type": "code",
   "execution_count": 21,
   "metadata": {
    "collapsed": false
   },
   "outputs": [
    {
     "name": "stdout",
     "output_type": "stream",
     "text": [
      "+--------------------+\n",
      "|  avg(is_attributed)|\n",
      "+--------------------+\n",
      "|0.002470721410998979|\n",
      "+--------------------+\n",
      "\n"
     ]
    }
   ],
   "source": [
    "import pyspark.sql.functions as func\n",
    "\n",
    "train.groupBy().agg(func.mean(col('is_attributed'))).show()"
   ]
  },
  {
   "cell_type": "code",
   "execution_count": 24,
   "metadata": {
    "collapsed": true
   },
   "outputs": [],
   "source": [
    "train_sample = (train.sample(fraction=0.05, withReplacement=False, seed=22)\n",
    "                .withColumn('day', day_udf(data.click_time))\n",
    "                .withColumn('hour', hour_udf(data.click_time))\n",
    "                .join(ip_var_hour_clicks, ['ip', var, 'day', 'hour'], 'left_outer')\n",
    "                .cache())"
   ]
  },
  {
   "cell_type": "code",
   "execution_count": 25,
   "metadata": {
    "collapsed": false
   },
   "outputs": [
    {
     "data": {
      "text/plain": [
       "9248009"
      ]
     },
     "execution_count": 25,
     "metadata": {},
     "output_type": "execute_result"
    }
   ],
   "source": [
    "train_sample.count()"
   ]
  },
  {
   "cell_type": "code",
   "execution_count": 26,
   "metadata": {
    "collapsed": false
   },
   "outputs": [
    {
     "data": {
      "text/plain": [
       "9248009"
      ]
     },
     "execution_count": 26,
     "metadata": {},
     "output_type": "execute_result"
    }
   ],
   "source": [
    "train.sample(fraction=0.05, withReplacement=False, seed=22).count()"
   ]
  },
  {
   "cell_type": "code",
   "execution_count": 27,
   "metadata": {
    "collapsed": false
   },
   "outputs": [
    {
     "name": "stdout",
     "output_type": "stream",
     "text": [
      "+------+---+---+----+------+---+-------+-------------------+---------------+-------------+------------------+----------------------+----------------------+\n",
      "|ip    |app|day|hour|device|os |channel|click_time         |attributed_time|is_attributed|ip_app_hour_clicks|ip_app_hour_std_minute|ip_app_hour_avg_minute|\n",
      "+------+---+---+----+------+---+-------+-------------------+---------------+-------------+------------------+----------------------+----------------------+\n",
      "|10    |12 |08 |11  |1     |13 |242    |2017-11-08 11:28:15|null           |0            |5                 |7.02                  |26.4                  |\n",
      "|10    |3  |08 |06  |1     |17 |280    |2017-11-08 06:32:16|null           |0            |28                |11.03                 |36.64                 |\n",
      "|10    |3  |08 |06  |1     |16 |480    |2017-11-08 06:38:24|null           |0            |28                |11.03                 |36.64                 |\n",
      "|100009|12 |09 |10  |1     |13 |259    |2017-11-09 10:42:07|null           |0            |17                |15.69                 |27.18                 |\n",
      "|100009|9  |08 |22  |1     |19 |134    |2017-11-08 22:37:59|null           |0            |15                |15.1                  |35.13                 |\n",
      "+------+---+---+----+------+---+-------+-------------------+---------------+-------------+------------------+----------------------+----------------------+\n",
      "only showing top 5 rows\n",
      "\n"
     ]
    }
   ],
   "source": [
    "train_sample.show(5, truncate=False)"
   ]
  },
  {
   "cell_type": "code",
   "execution_count": 28,
   "metadata": {
    "collapsed": true
   },
   "outputs": [],
   "source": [
    "features = ['ip_'+var+'_hour_clicks', 'ip_'+var+'_hour_std_minute', 'ip_'+var+'_hour_avg_minute']"
   ]
  },
  {
   "cell_type": "code",
   "execution_count": 29,
   "metadata": {
    "collapsed": false,
    "scrolled": false
   },
   "outputs": [
    {
     "data": {
      "image/png": "[encoded data removed]",
      "text/plain": [
       "<matplotlib.figure.Figure at 0x7f6bd6ce2cc0>"
      ]
     },
     "metadata": {},
     "output_type": "display_data"
    },
    {
     "data": {
      "image/png": "[encoded data removed]",
      "text/plain": [
       "<matplotlib.figure.Figure at 0x7f6b4bbae630>"
      ]
     },
     "metadata": {},
     "output_type": "display_data"
    },
    {
     "data": {
      "image/png": "[encoded data removed]",
      "text/plain": [
       "<matplotlib.figure.Figure at 0x7f6b4bd2bcf8>"
      ]
     },
     "metadata": {},
     "output_type": "display_data"
    },
    {
     "data": {
      "image/png": "[encoded data removed]",
      "text/plain": [
       "<matplotlib.figure.Figure at 0x7f6bbd880c50>"
      ]
     },
     "metadata": {},
     "output_type": "display_data"
    }
   ],
   "source": [
    "for f in features:\n",
    "    PDF = train_sample.select('is_attributed', f).toPandas()\n",
    "    PDF_sorted = PDF.sort_values(by=f)\n",
    "    PDF_sorted['roll'] = PDF_sorted.is_attributed.rolling(window=10000).mean()\n",
    "    plt.title('Impact of '+f)\n",
    "    plt.plot(PDF_sorted[f], PDF_sorted.roll)\n",
    "    plt.show()\n",
    "    \n",
    "    if np.max(PDF_sorted[f])>200:\n",
    "        PDF_filtered = PDF_sorted[PDF_sorted[f]<100]\n",
    "        plt.title('Impact of '+f)\n",
    "        plt.plot(PDF_filtered[f], PDF_filtered.roll)\n",
    "        plt.show()"
   ]
  },
  {
   "cell_type": "code",
   "execution_count": null,
   "metadata": {
    "collapsed": true
   },
   "outputs": [],
   "source": []
  }
 ],
 "metadata": {
  "anaconda-cloud": {},
  "kernelspec": {
   "display_name": "PySpark",
   "language": "python3",
   "name": "pyspark"
  },
  "language_info": {
   "codemirror_mode": {
    "name": "ipython",
    "version": 3
   },
   "file_extension": ".py",
   "mimetype": "text/x-python",
   "name": "python",
   "nbconvert_exporter": "python",
   "pygments_lexer": "ipython3",
   "version": "3.6.4"
  }
 },
 "nbformat": 4,
 "nbformat_minor": 2
}
