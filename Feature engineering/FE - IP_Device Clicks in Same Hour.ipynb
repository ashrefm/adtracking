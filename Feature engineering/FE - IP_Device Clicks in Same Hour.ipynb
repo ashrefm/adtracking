{
 "cells": [
  {
   "cell_type": "markdown",
   "metadata": {},
   "source": [
    "# Loading Libraries"
   ]
  },
  {
   "cell_type": "code",
   "execution_count": 2,
   "metadata": {
    "collapsed": true
   },
   "outputs": [],
   "source": [
    "import numpy as np\n",
    "import pandas as pd\n",
    "import matplotlib.pyplot as plt\n",
    "% matplotlib inline\n",
    "\n",
    "import seaborn as sns\n",
    "sns.set(rc={'figure.figsize':(12, 5)},\n",
    "        font_scale=1.5,\n",
    "        style=\"whitegrid\")\n",
    "        \n",
    "from pyspark.sql import HiveContext\n",
    "from pyspark.sql import SQLContext\n",
    "\n",
    "# initialize session hive and sql environments\n",
    "hiveContext = HiveContext(sc)\n",
    "sqlContext = SQLContext(sc)"
   ]
  },
  {
   "cell_type": "markdown",
   "metadata": {},
   "source": [
    "# Data Reading"
   ]
  },
  {
   "cell_type": "code",
   "execution_count": 3,
   "metadata": {
    "collapsed": true
   },
   "outputs": [],
   "source": [
    "project_folder = \"../\"\n",
    "datapath = project_folder + \"data/\"\n",
    "plotpath = project_folder + \"graphs/\"\n",
    "mungepath = project_folder + \"munge/\"\n",
    "configpath = project_folder + \"config/\"\n",
    "diagnostic = project_folder + \"diagnostic/\"\n",
    "modelpath = project_folder + \"model/\"\n",
    "output = project_folder + \"output/\""
   ]
  },
  {
   "cell_type": "code",
   "execution_count": 4,
   "metadata": {
    "collapsed": false
   },
   "outputs": [
    {
     "name": "stdout",
     "output_type": "stream",
     "text": [
      "Found 184903890 observations in training set.\n"
     ]
    }
   ],
   "source": [
    "from pyspark.sql.functions import col\n",
    "\n",
    "train = spark.read.csv(os.path.join(datapath,\"train.csv\"), header=True)\n",
    "print('Found %d observations in training set.' %train.count())"
   ]
  },
  {
   "cell_type": "code",
   "execution_count": 5,
   "metadata": {
    "collapsed": false
   },
   "outputs": [
    {
     "name": "stdout",
     "output_type": "stream",
     "text": [
      "Found 57536872 observations in test_old set.\n"
     ]
    }
   ],
   "source": [
    "from pyspark.sql.functions import col\n",
    "\n",
    "test_old = (spark.read.csv(os.path.join(datapath,\"test_supplement.csv\"), header=True)\n",
    "            .filter(col('click_time') >= '2017-11-09 16:00:00'))\n",
    "\n",
    "print('Found %d observations in test_old set.' %test_old.count())"
   ]
  },
  {
   "cell_type": "code",
   "execution_count": 6,
   "metadata": {
    "collapsed": false
   },
   "outputs": [
    {
     "name": "stdout",
     "output_type": "stream",
     "text": [
      "+------+---+------+---+-------+-------------------+---------------+-------------+\n",
      "|    ip|app|device| os|channel|         click_time|attributed_time|is_attributed|\n",
      "+------+---+------+---+-------+-------------------+---------------+-------------+\n",
      "| 83230|  3|     1| 13|    379|2017-11-06 14:32:21|           null|            0|\n",
      "| 17357|  3|     1| 19|    379|2017-11-06 14:33:34|           null|            0|\n",
      "| 35810|  3|     1| 13|    379|2017-11-06 14:34:12|           null|            0|\n",
      "| 45745| 14|     1| 13|    478|2017-11-06 14:34:52|           null|            0|\n",
      "|161007|  3|     1| 13|    379|2017-11-06 14:35:08|           null|            0|\n",
      "| 18787|  3|     1| 16|    379|2017-11-06 14:36:26|           null|            0|\n",
      "|103022|  3|     1| 23|    379|2017-11-06 14:37:44|           null|            0|\n",
      "|114221|  3|     1| 19|    379|2017-11-06 14:37:59|           null|            0|\n",
      "|165970|  3|     1| 13|    379|2017-11-06 14:38:10|           null|            0|\n",
      "| 74544| 64|     1| 22|    459|2017-11-06 14:38:23|           null|            0|\n",
      "+------+---+------+---+-------+-------------------+---------------+-------------+\n",
      "only showing top 10 rows\n",
      "\n"
     ]
    }
   ],
   "source": [
    "train.show(10)"
   ]
  },
  {
   "cell_type": "code",
   "execution_count": 7,
   "metadata": {
    "collapsed": false,
    "scrolled": true
   },
   "outputs": [
    {
     "name": "stdout",
     "output_type": "stream",
     "text": [
      "root\n",
      " |-- ip: string (nullable = true)\n",
      " |-- app: string (nullable = true)\n",
      " |-- device: string (nullable = true)\n",
      " |-- os: string (nullable = true)\n",
      " |-- channel: string (nullable = true)\n",
      " |-- click_time: string (nullable = true)\n",
      " |-- attributed_time: string (nullable = true)\n",
      " |-- is_attributed: string (nullable = true)\n",
      "\n"
     ]
    }
   ],
   "source": [
    "train.printSchema()"
   ]
  },
  {
   "cell_type": "markdown",
   "metadata": {},
   "source": [
    "# Build the full dataset"
   ]
  },
  {
   "cell_type": "code",
   "execution_count": 8,
   "metadata": {
    "collapsed": false
   },
   "outputs": [
    {
     "name": "stdout",
     "output_type": "stream",
     "text": [
      "Total number of clicks in one week: 242440762\n"
     ]
    }
   ],
   "source": [
    "# train and test set concatenation\n",
    "from pyspark.sql.functions import col\n",
    "data = (train.select('ip', 'app', 'device', 'os', 'channel', 'click_time')\n",
    "        .unionAll(test_old.select('ip', 'app', 'device', 'os', 'channel', 'click_time')))\n",
    "        \n",
    "print('Total number of clicks in one week:', data.count())"
   ]
  },
  {
   "cell_type": "code",
   "execution_count": 9,
   "metadata": {
    "collapsed": false
   },
   "outputs": [
    {
     "name": "stdout",
     "output_type": "stream",
     "text": [
      "+------+---+------+---+-------+-------------------+\n",
      "|    ip|app|device| os|channel|         click_time|\n",
      "+------+---+------+---+-------+-------------------+\n",
      "| 83230|  3|     1| 13|    379|2017-11-06 14:32:21|\n",
      "| 17357|  3|     1| 19|    379|2017-11-06 14:33:34|\n",
      "| 35810|  3|     1| 13|    379|2017-11-06 14:34:12|\n",
      "| 45745| 14|     1| 13|    478|2017-11-06 14:34:52|\n",
      "|161007|  3|     1| 13|    379|2017-11-06 14:35:08|\n",
      "+------+---+------+---+-------+-------------------+\n",
      "only showing top 5 rows\n",
      "\n"
     ]
    }
   ],
   "source": [
    "data.show(5)"
   ]
  },
  {
   "cell_type": "markdown",
   "metadata": {},
   "source": [
    "# Datetime Features"
   ]
  },
  {
   "cell_type": "code",
   "execution_count": 10,
   "metadata": {
    "collapsed": true
   },
   "outputs": [],
   "source": [
    "# day function\n",
    "def get_day(date):\n",
    "    \"\"\"\n",
    "    Returns the hour based on a string date\n",
    "        \n",
    "    Args:\n",
    "        date (String): A String containing the click datetime\n",
    "\n",
    "    Returns:\n",
    "        day: A String containing the day of click (\"06\", \"07\", ..\"10\")\n",
    "    \"\"\"\n",
    "    \n",
    "    return date[8:10]\n",
    "\n",
    "# hour function\n",
    "def get_hour(date):\n",
    "    \"\"\"\n",
    "    Returns the hour based on a string date\n",
    "        \n",
    "    Args:\n",
    "        date (String): A String containing the click datetime\n",
    "\n",
    "    Returns:\n",
    "        hour: A String containing the hour interval (\"01\", \"02\", ..\"23\")\n",
    "    \"\"\"\n",
    "    \n",
    "    return date[11:13]\n",
    "\n",
    "# minute function\n",
    "def get_minute(date):\n",
    "    \"\"\"\n",
    "    Returns the minute based on a string date\n",
    "        \n",
    "    Args:\n",
    "        date (String): A String containing the click datetime\n",
    "\n",
    "    Returns:\n",
    "        hour: A String containing the minute interval (\"01\", \"02\", ..\"59\")\n",
    "    \"\"\"\n",
    "    \n",
    "    return date[14:16]"
   ]
  },
  {
   "cell_type": "code",
   "execution_count": 11,
   "metadata": {
    "collapsed": true
   },
   "outputs": [],
   "source": [
    "# Get datetime features\n",
    "from pyspark.sql.functions import udf\n",
    "from pyspark.sql.types import StringType\n",
    "\n",
    "day_udf = udf(get_day, StringType())\n",
    "hour_udf = udf(get_hour, StringType())\n",
    "minute_udf = udf(get_minute, StringType())\n",
    "\n",
    "data = data.withColumn('day', day_udf(data.click_time))\n",
    "data = data.withColumn('hour', hour_udf(data.click_time))\n",
    "data = data.withColumn('minute', minute_udf(data.click_time))"
   ]
  },
  {
   "cell_type": "code",
   "execution_count": 12,
   "metadata": {
    "collapsed": false
   },
   "outputs": [
    {
     "name": "stdout",
     "output_type": "stream",
     "text": [
      "+------+---+------+---+-------+-------------------+---+----+------+\n",
      "|    ip|app|device| os|channel|         click_time|day|hour|minute|\n",
      "+------+---+------+---+-------+-------------------+---+----+------+\n",
      "| 83230|  3|     1| 13|    379|2017-11-06 14:32:21| 06|  14|    32|\n",
      "| 17357|  3|     1| 19|    379|2017-11-06 14:33:34| 06|  14|    33|\n",
      "| 35810|  3|     1| 13|    379|2017-11-06 14:34:12| 06|  14|    34|\n",
      "| 45745| 14|     1| 13|    478|2017-11-06 14:34:52| 06|  14|    34|\n",
      "|161007|  3|     1| 13|    379|2017-11-06 14:35:08| 06|  14|    35|\n",
      "+------+---+------+---+-------+-------------------+---+----+------+\n",
      "only showing top 5 rows\n",
      "\n"
     ]
    }
   ],
   "source": [
    "data.show(5)"
   ]
  },
  {
   "cell_type": "markdown",
   "metadata": {},
   "source": [
    "# IP Number of Clicks for same Device in same Hour"
   ]
  },
  {
   "cell_type": "code",
   "execution_count": 13,
   "metadata": {
    "collapsed": true
   },
   "outputs": [],
   "source": [
    "from pyspark.sql.functions import col, unix_timestamp, lit\n",
    "import pyspark.sql.functions as func"
   ]
  },
  {
   "cell_type": "code",
   "execution_count": 14,
   "metadata": {
    "collapsed": true
   },
   "outputs": [],
   "source": [
    "var = 'device'"
   ]
  },
  {
   "cell_type": "code",
   "execution_count": 15,
   "metadata": {
    "collapsed": false
   },
   "outputs": [
    {
     "name": "stdout",
     "output_type": "stream",
     "text": [
      "+------+------+---+----+---------------------+-------------------------+-------------------------+\n",
      "|ip    |device|day|hour|ip_device_hour_clicks|ip_device_hour_std_minute|ip_device_hour_avg_minute|\n",
      "+------+------+---+----+---------------------+-------------------------+-------------------------+\n",
      "|111189|1     |06 |17  |56                   |13.64                    |28.63                    |\n",
      "|77314 |1     |06 |17  |18                   |13.61                    |18.11                    |\n",
      "|22067 |1     |06 |17  |134                  |15.0                     |23.22                    |\n",
      "|72831 |1     |06 |17  |4                    |2.5                      |44.25                    |\n",
      "|188387|1     |06 |17  |1440                 |17.5                     |25.48                    |\n",
      "|89113 |1     |06 |17  |139                  |17.86                    |32.47                    |\n",
      "|187467|1     |06 |17  |17                   |10.24                    |43.41                    |\n",
      "|116651|1     |06 |17  |87                   |11.18                    |40.54                    |\n",
      "|70917 |1     |06 |17  |23                   |10.72                    |31.35                    |\n",
      "|60159 |1     |06 |17  |100                  |17.57                    |29.78                    |\n",
      "|58838 |1     |06 |17  |43                   |13.59                    |20.6                     |\n",
      "|49996 |1     |06 |17  |93                   |14.01                    |27.94                    |\n",
      "|138403|1     |06 |17  |28                   |10.36                    |37.14                    |\n",
      "|86466 |1     |06 |17  |51                   |15.7                     |34.71                    |\n",
      "|39020 |3032  |06 |17  |5                    |5.72                     |46.2                     |\n",
      "|9761  |2     |06 |17  |5                    |1.82                     |44.4                     |\n",
      "|119693|1     |06 |17  |27                   |12.78                    |16.15                    |\n",
      "|130787|1     |06 |17  |13                   |3.83                     |43.85                    |\n",
      "|67439 |1     |06 |17  |308                  |16.34                    |22.72                    |\n",
      "|53929 |1     |06 |17  |351                  |14.32                    |25.99                    |\n",
      "|10265 |1     |06 |17  |1                    |0.0                      |43.0                     |\n",
      "|53942 |1     |06 |17  |138                  |13.33                    |23.91                    |\n",
      "|7314  |1     |06 |17  |9                    |23.32                    |16.78                    |\n",
      "|84899 |1     |06 |17  |34                   |11.66                    |43.26                    |\n",
      "|80140 |1     |06 |17  |75                   |12.98                    |17.83                    |\n",
      "|92160 |1     |06 |17  |75                   |15.12                    |19.77                    |\n",
      "|210429|1     |06 |17  |39                   |7.16                     |33.87                    |\n",
      "|210879|1     |06 |17  |25                   |17.46                    |24.16                    |\n",
      "|177424|1     |06 |17  |6                    |0.55                     |43.5                     |\n",
      "|192198|2     |06 |17  |8                    |3.5                      |37.38                    |\n",
      "|134394|1     |06 |17  |68                   |17.6                     |21.54                    |\n",
      "|27035 |1     |06 |17  |55                   |15.85                    |19.0                     |\n",
      "|17892 |1     |06 |17  |12                   |10.26                    |37.67                    |\n",
      "|113062|1     |06 |17  |7                    |21.4                     |29.14                    |\n",
      "|47327 |1     |06 |17  |6                    |10.78                    |45.5                     |\n",
      "|119597|1     |06 |17  |3                    |18.04                    |25.33                    |\n",
      "|145487|1     |06 |17  |4                    |12.07                    |42.5                     |\n",
      "|179155|2     |06 |17  |2                    |0.0                      |44.0                     |\n",
      "|78827 |1     |06 |17  |70                   |19.67                    |31.36                    |\n",
      "|103783|1     |06 |17  |28                   |7.5                      |41.61                    |\n",
      "|110271|1     |06 |17  |13                   |15.89                    |28.85                    |\n",
      "|21104 |1     |06 |17  |12                   |4.0                      |41.25                    |\n",
      "|199791|1     |06 |17  |8                    |18.09                    |22.75                    |\n",
      "|122803|1     |06 |17  |18                   |18.52                    |21.67                    |\n",
      "|10716 |1     |06 |17  |27                   |13.57                    |36.59                    |\n",
      "|68506 |1     |06 |17  |26                   |18.28                    |18.62                    |\n",
      "|105957|1     |06 |17  |1                    |0.0                      |45.0                     |\n",
      "|68603 |1     |06 |17  |11                   |0.0                      |45.0                     |\n",
      "|99658 |1     |06 |17  |3                    |24.25                    |17.0                     |\n",
      "|36131 |1     |06 |17  |22                   |9.63                     |38.23                    |\n",
      "|20547 |2     |06 |17  |16                   |16.54                    |24.06                    |\n",
      "|16410 |1     |06 |17  |12                   |14.6                     |19.25                    |\n",
      "|127914|1     |06 |17  |1                    |0.0                      |45.0                     |\n",
      "|99728 |1     |06 |17  |2                    |28.99                    |24.5                     |\n",
      "|75588 |1     |06 |17  |67                   |21.24                    |21.49                    |\n",
      "|21130 |1     |06 |17  |8                    |14.86                    |28.63                    |\n",
      "|209913|1     |06 |17  |5                    |20.62                    |40.4                     |\n",
      "|88743 |1     |06 |17  |45                   |9.46                     |30.56                    |\n",
      "|16011 |1     |06 |17  |149                  |13.57                    |25.45                    |\n",
      "|103741|3032  |06 |17  |1                    |0.0                      |45.0                     |\n",
      "|109938|1     |06 |17  |77                   |13.98                    |25.95                    |\n",
      "|160520|1     |06 |17  |21                   |14.01                    |33.86                    |\n",
      "|121472|2     |06 |17  |11                   |21.17                    |30.18                    |\n",
      "|62765 |1     |06 |17  |22                   |17.23                    |33.86                    |\n",
      "|138602|1     |06 |17  |7                    |26.39                    |24.71                    |\n",
      "|196485|2     |06 |17  |7                    |20.53                    |30.43                    |\n",
      "|178190|1     |06 |17  |54                   |11.3                     |39.57                    |\n",
      "|17149 |0     |06 |17  |38                   |13.49                    |25.39                    |\n",
      "|50522 |1     |06 |17  |106                  |12.44                    |31.79                    |\n",
      "|205763|1     |06 |17  |35                   |11.28                    |32.54                    |\n",
      "|97014 |1     |06 |17  |46                   |12.12                    |28.35                    |\n",
      "|61900 |1     |06 |17  |35                   |15.15                    |29.89                    |\n",
      "|22310 |1     |06 |17  |5                    |18.81                    |25.4                     |\n",
      "|123866|1     |06 |17  |7                    |17.59                    |32.43                    |\n",
      "|195980|2     |06 |17  |3                    |20.6                     |25.33                    |\n",
      "|123659|1     |06 |17  |32                   |12.61                    |32.25                    |\n",
      "|18639 |1     |06 |17  |2                    |6.36                     |51.5                     |\n",
      "|60612 |2     |06 |17  |4                    |19.85                    |27.0                     |\n",
      "|30981 |1     |06 |17  |54                   |11.0                     |31.33                    |\n",
      "|8185  |1     |06 |17  |46                   |17.74                    |15.37                    |\n",
      "|149061|1     |06 |17  |20                   |14.55                    |15.3                     |\n",
      "|112498|1     |06 |17  |26                   |20.23                    |20.12                    |\n",
      "|82971 |1     |06 |17  |8                    |22.06                    |27.38                    |\n",
      "|64525 |1     |06 |17  |62                   |17.78                    |27.19                    |\n",
      "|167559|1     |06 |17  |3                    |4.04                     |43.33                    |\n",
      "|198906|1     |06 |17  |40                   |11.57                    |16.55                    |\n",
      "|146465|1     |06 |17  |22                   |16.86                    |35.05                    |\n",
      "|49851 |1     |06 |17  |41                   |15.49                    |16.68                    |\n",
      "|5322  |1     |06 |17  |9                    |12.1                     |26.67                    |\n",
      "|38983 |1     |06 |17  |10                   |13.29                    |24.3                     |\n",
      "|14058 |2     |06 |17  |47                   |10.14                    |16.09                    |\n",
      "|34331 |1     |06 |17  |11                   |14.28                    |6.27                     |\n",
      "|152499|1     |06 |17  |1                    |0.0                      |50.0                     |\n",
      "|74321 |1     |06 |17  |8                    |7.11                     |50.25                    |\n",
      "|90593 |1     |06 |17  |16                   |9.82                     |47.63                    |\n",
      "|54125 |2     |06 |17  |18                   |18.1                     |20.89                    |\n",
      "|94104 |1     |06 |17  |36                   |14.66                    |19.67                    |\n",
      "|154253|1     |06 |17  |9                    |0.0                      |52.0                     |\n",
      "|151886|1     |06 |17  |1                    |0.0                      |52.0                     |\n",
      "|124096|1     |06 |17  |35                   |10.42                    |13.86                    |\n",
      "+------+------+---+----+---------------------+-------------------------+-------------------------+\n",
      "only showing top 100 rows\n",
      "\n"
     ]
    }
   ],
   "source": [
    "ip_var_hour_clicks = (data\n",
    "                      .groupBy('ip', var, 'day', 'hour')\n",
    "                      .agg(func.count(func.lit(1)).alias('ip_'+var+'_hour_clicks'),\n",
    "                           func.round(func.stddev(col('minute')), 2).alias('ip_'+var+'_hour_std_minute'),\n",
    "                           func.round(func.mean(col('minute')), 2).alias('ip_'+var+'_hour_avg_minute'))\n",
    "                      .fillna({'ip_'+var+'_hour_std_minute':0,\n",
    "                               'ip_'+var+'_hour_avg_minute':0})\n",
    "                      .cache())\n",
    "\n",
    "ip_var_hour_clicks.show(100, truncate=False)"
   ]
  },
  {
   "cell_type": "code",
   "execution_count": 16,
   "metadata": {
    "collapsed": false
   },
   "outputs": [
    {
     "name": "stdout",
     "output_type": "stream",
     "text": [
      "+-----+---+------+---+-------+-------------------+---+----+------+\n",
      "|ip   |app|device|os |channel|click_time         |day|hour|minute|\n",
      "+-----+---+------+---+-------+-------------------+---+----+------+\n",
      "|39020|18 |3032  |607|107    |2017-11-06 17:40:49|06 |17  |40    |\n",
      "|39020|18 |3032  |607|107    |2017-11-06 17:43:20|06 |17  |43    |\n",
      "|39020|18 |3032  |607|107    |2017-11-06 17:45:36|06 |17  |45    |\n",
      "|39020|18 |3032  |607|107    |2017-11-06 17:48:08|06 |17  |48    |\n",
      "|39020|80 |3032  |607|347    |2017-11-06 17:55:10|06 |17  |55    |\n",
      "|39020|65 |3032  |607|469    |2017-11-06 23:23:59|06 |23  |23    |\n",
      "|39020|18 |3032  |607|107    |2017-11-06 23:35:19|06 |23  |35    |\n",
      "|39020|18 |3032  |607|107    |2017-11-07 01:35:40|07 |01  |35    |\n",
      "|39020|18 |3032  |607|107    |2017-11-07 03:17:36|07 |03  |17    |\n",
      "|39020|18 |3032  |607|107    |2017-11-07 03:42:49|07 |03  |42    |\n",
      "|39020|18 |3032  |607|107    |2017-11-07 03:44:19|07 |03  |44    |\n",
      "|39020|18 |3032  |607|107    |2017-11-07 03:44:48|07 |03  |44    |\n",
      "|39020|18 |3032  |607|107    |2017-11-07 05:18:56|07 |05  |18    |\n",
      "|39020|18 |3032  |607|107    |2017-11-07 05:53:27|07 |05  |53    |\n",
      "|39020|18 |3032  |607|107    |2017-11-07 05:54:26|07 |05  |54    |\n",
      "|39020|18 |3032  |607|107    |2017-11-07 05:55:42|07 |05  |55    |\n",
      "|39020|18 |3032  |607|107    |2017-11-07 05:56:10|07 |05  |56    |\n",
      "|39020|18 |3032  |607|107    |2017-11-07 05:57:39|07 |05  |57    |\n",
      "|39020|18 |3032  |607|107    |2017-11-07 05:58:17|07 |05  |58    |\n",
      "|39020|18 |3032  |607|107    |2017-11-07 05:59:42|07 |05  |59    |\n",
      "+-----+---+------+---+-------+-------------------+---+----+------+\n",
      "only showing top 20 rows\n",
      "\n"
     ]
    }
   ],
   "source": [
    "data.filter((col('ip')==39020) & (col(var)==3032)).show(truncate=False)"
   ]
  },
  {
   "cell_type": "markdown",
   "metadata": {},
   "source": [
    "## Export New Features"
   ]
  },
  {
   "cell_type": "code",
   "execution_count": 17,
   "metadata": {
    "collapsed": true
   },
   "outputs": [],
   "source": [
    "(ip_var_hour_clicks\n",
    " .coalesce(1)\n",
    " .write\n",
    " .format(\"com.databricks.spark.csv\")\n",
    " .option(\"header\", \"true\")\n",
    " .mode(\"overwrite\")\n",
    " .save(mungepath+\"f_ip_\"+var+\"_hour_clicks\", compression=\"None\"))"
   ]
  },
  {
   "cell_type": "code",
   "execution_count": 18,
   "metadata": {
    "collapsed": false
   },
   "outputs": [
    {
     "data": {
      "text/plain": [
       "6259633"
      ]
     },
     "execution_count": 18,
     "metadata": {},
     "output_type": "execute_result"
    }
   ],
   "source": [
    "ip_var_hour_clicks.count()"
   ]
  },
  {
   "cell_type": "markdown",
   "metadata": {},
   "source": [
    "## Check the impact of new features"
   ]
  },
  {
   "cell_type": "code",
   "execution_count": 19,
   "metadata": {
    "collapsed": false
   },
   "outputs": [
    {
     "name": "stdout",
     "output_type": "stream",
     "text": [
      "+--------------------+\n",
      "|  avg(is_attributed)|\n",
      "+--------------------+\n",
      "|0.002470721410998979|\n",
      "+--------------------+\n",
      "\n"
     ]
    }
   ],
   "source": [
    "import pyspark.sql.functions as func\n",
    "\n",
    "train.groupBy().agg(func.mean(col('is_attributed'))).show()"
   ]
  },
  {
   "cell_type": "code",
   "execution_count": 20,
   "metadata": {
    "collapsed": true
   },
   "outputs": [],
   "source": [
    "train_sample = (train.sample(fraction=0.05, withReplacement=False, seed=22)\n",
    "                .withColumn('day', day_udf(data.click_time))\n",
    "                .withColumn('hour', hour_udf(data.click_time))\n",
    "                .join(ip_var_hour_clicks, ['ip', var, 'day', 'hour'], 'left_outer')\n",
    "                .cache())"
   ]
  },
  {
   "cell_type": "code",
   "execution_count": 21,
   "metadata": {
    "collapsed": false
   },
   "outputs": [
    {
     "data": {
      "text/plain": [
       "9248009"
      ]
     },
     "execution_count": 21,
     "metadata": {},
     "output_type": "execute_result"
    }
   ],
   "source": [
    "train_sample.count()"
   ]
  },
  {
   "cell_type": "code",
   "execution_count": 22,
   "metadata": {
    "collapsed": false
   },
   "outputs": [
    {
     "data": {
      "text/plain": [
       "9248009"
      ]
     },
     "execution_count": 22,
     "metadata": {},
     "output_type": "execute_result"
    }
   ],
   "source": [
    "train.sample(fraction=0.05, withReplacement=False, seed=22).count()"
   ]
  },
  {
   "cell_type": "code",
   "execution_count": 23,
   "metadata": {
    "collapsed": false
   },
   "outputs": [
    {
     "name": "stdout",
     "output_type": "stream",
     "text": [
      "+------+------+---+----+---+---+-------+-------------------+---------------+-------------+---------------------+-------------------------+-------------------------+\n",
      "|ip    |device|day|hour|app|os |channel|click_time         |attributed_time|is_attributed|ip_device_hour_clicks|ip_device_hour_std_minute|ip_device_hour_avg_minute|\n",
      "+------+------+---+----+---+---+-------+-------------------+---------------+-------------+---------------------+-------------------------+-------------------------+\n",
      "|100009|1     |06 |21  |2  |25 |477    |2017-11-06 21:23:30|null           |0            |3                    |11.55                    |29.67                    |\n",
      "|100015|1     |08 |00  |12 |13 |178    |2017-11-08 00:36:23|null           |0            |28                   |16.21                    |21.96                    |\n",
      "|100015|1     |08 |00  |12 |6  |265    |2017-11-08 00:42:10|null           |0            |28                   |16.21                    |21.96                    |\n",
      "|100042|1     |07 |20  |12 |13 |259    |2017-11-07 20:00:13|null           |0            |116                  |20.82                    |30.11                    |\n",
      "|100042|1     |07 |20  |26 |40 |266    |2017-11-07 20:10:43|null           |0            |116                  |20.82                    |30.11                    |\n",
      "+------+------+---+----+---+---+-------+-------------------+---------------+-------------+---------------------+-------------------------+-------------------------+\n",
      "only showing top 5 rows\n",
      "\n"
     ]
    }
   ],
   "source": [
    "train_sample.show(5, truncate=False)"
   ]
  },
  {
   "cell_type": "code",
   "execution_count": 25,
   "metadata": {
    "collapsed": true
   },
   "outputs": [],
   "source": [
    "features = ['ip_'+var+'_hour_clicks', 'ip_'+var+'_hour_std_minute', 'ip_'+var+'_hour_avg_minute']"
   ]
  },
  {
   "cell_type": "code",
   "execution_count": 26,
   "metadata": {
    "collapsed": false,
    "scrolled": false
   },
   "outputs": [
    {
     "data": {
      "image/png": "[encoded data removed]",
      "text/plain": [
       "<matplotlib.figure.Figure at 0x7fc1916ffb00>"
      ]
     },
     "metadata": {},
     "output_type": "display_data"
    },
    {
     "data": {
      "image/png": "[encoded data removed]",
      "text/plain": [
       "<matplotlib.figure.Figure at 0x7fc11bdf0630>"
      ]
     },
     "metadata": {},
     "output_type": "display_data"
    },
    {
     "data": {
      "image/png": "[encoded data removed]",
      "text/plain": [
       "<matplotlib.figure.Figure at 0x7fc11bf6b7b8>"
      ]
     },
     "metadata": {},
     "output_type": "display_data"
    },
    {
     "data": {
      "image/png": "[encoded data removed]",
      "text/plain": [
       "<matplotlib.figure.Figure at 0x7fc1916ff9e8>"
      ]
     },
     "metadata": {},
     "output_type": "display_data"
    }
   ],
   "source": [
    "for f in features:\n",
    "    PDF = train_sample.select('is_attributed', f).toPandas()\n",
    "    PDF_sorted = PDF.sort_values(by=f)\n",
    "    PDF_sorted['roll'] = PDF_sorted.is_attributed.rolling(window=10000).mean()\n",
    "    plt.title('Impact of '+f)\n",
    "    plt.plot(PDF_sorted[f], PDF_sorted.roll)\n",
    "    plt.show()\n",
    "    \n",
    "    if np.max(PDF_sorted[f])>200:\n",
    "        PDF_filtered = PDF_sorted[PDF_sorted[f]<100]\n",
    "        plt.title('Impact of '+f)\n",
    "        plt.plot(PDF_filtered[f], PDF_filtered.roll)\n",
    "        plt.show()"
   ]
  },
  {
   "cell_type": "code",
   "execution_count": null,
   "metadata": {
    "collapsed": true
   },
   "outputs": [],
   "source": []
  }
 ],
 "metadata": {
  "anaconda-cloud": {},
  "kernelspec": {
   "display_name": "PySpark",
   "language": "python3",
   "name": "pyspark"
  },
  "language_info": {
   "codemirror_mode": {
    "name": "ipython",
    "version": 3
   },
   "file_extension": ".py",
   "mimetype": "text/x-python",
   "name": "python",
   "nbconvert_exporter": "python",
   "pygments_lexer": "ipython3",
   "version": "3.6.4"
  }
 },
 "nbformat": 4,
 "nbformat_minor": 2
}
