{
 "cells": [
  {
   "cell_type": "markdown",
   "metadata": {},
   "source": [
    "# Loading Libraries"
   ]
  },
  {
   "cell_type": "code",
   "execution_count": 2,
   "metadata": {
    "collapsed": true
   },
   "outputs": [],
   "source": [
    "import numpy as np\n",
    "import pandas as pd\n",
    "import matplotlib.pyplot as plt\n",
    "% matplotlib inline\n",
    "\n",
    "import seaborn as sns\n",
    "sns.set(rc={'figure.figsize':(12, 5)},\n",
    "        font_scale=1.5,\n",
    "        style=\"whitegrid\")\n",
    "        \n",
    "from pyspark.sql import HiveContext\n",
    "from pyspark.sql import SQLContext\n",
    "\n",
    "# initialize session hive and sql environments\n",
    "hiveContext = HiveContext(sc)\n",
    "sqlContext = SQLContext(sc)"
   ]
  },
  {
   "cell_type": "markdown",
   "metadata": {},
   "source": [
    "# Data Reading"
   ]
  },
  {
   "cell_type": "code",
   "execution_count": 3,
   "metadata": {
    "collapsed": true
   },
   "outputs": [],
   "source": [
    "project_folder = \"../\"\n",
    "datapath = project_folder + \"data/\"\n",
    "plotpath = project_folder + \"graphs/\"\n",
    "mungepath = project_folder + \"munge/\"\n",
    "configpath = project_folder + \"config/\"\n",
    "diagnostic = project_folder + \"diagnostic/\"\n",
    "modelpath = project_folder + \"model/\"\n",
    "output = project_folder + \"output/\""
   ]
  },
  {
   "cell_type": "code",
   "execution_count": 4,
   "metadata": {
    "collapsed": false
   },
   "outputs": [
    {
     "name": "stdout",
     "output_type": "stream",
     "text": [
      "Found 184903890 observations in training set.\n"
     ]
    }
   ],
   "source": [
    "from pyspark.sql.functions import col\n",
    "\n",
    "train = spark.read.csv(os.path.join(datapath,\"train.csv\"), header=True)\n",
    "print('Found %d observations in training set.' %train.count())"
   ]
  },
  {
   "cell_type": "code",
   "execution_count": 5,
   "metadata": {
    "collapsed": false
   },
   "outputs": [
    {
     "name": "stdout",
     "output_type": "stream",
     "text": [
      "Found 57536872 observations in test_old set.\n"
     ]
    }
   ],
   "source": [
    "from pyspark.sql.functions import col\n",
    "\n",
    "test_old = (spark.read.csv(os.path.join(datapath,\"test_supplement.csv\"), header=True)\n",
    "            .filter(col('click_time') >= '2017-11-09 16:00:00'))\n",
    "\n",
    "print('Found %d observations in test_old set.' %test_old.count())"
   ]
  },
  {
   "cell_type": "code",
   "execution_count": 6,
   "metadata": {
    "collapsed": false
   },
   "outputs": [
    {
     "name": "stdout",
     "output_type": "stream",
     "text": [
      "+------+---+------+---+-------+-------------------+---------------+-------------+\n",
      "|    ip|app|device| os|channel|         click_time|attributed_time|is_attributed|\n",
      "+------+---+------+---+-------+-------------------+---------------+-------------+\n",
      "| 83230|  3|     1| 13|    379|2017-11-06 14:32:21|           null|            0|\n",
      "| 17357|  3|     1| 19|    379|2017-11-06 14:33:34|           null|            0|\n",
      "| 35810|  3|     1| 13|    379|2017-11-06 14:34:12|           null|            0|\n",
      "| 45745| 14|     1| 13|    478|2017-11-06 14:34:52|           null|            0|\n",
      "|161007|  3|     1| 13|    379|2017-11-06 14:35:08|           null|            0|\n",
      "| 18787|  3|     1| 16|    379|2017-11-06 14:36:26|           null|            0|\n",
      "|103022|  3|     1| 23|    379|2017-11-06 14:37:44|           null|            0|\n",
      "|114221|  3|     1| 19|    379|2017-11-06 14:37:59|           null|            0|\n",
      "|165970|  3|     1| 13|    379|2017-11-06 14:38:10|           null|            0|\n",
      "| 74544| 64|     1| 22|    459|2017-11-06 14:38:23|           null|            0|\n",
      "+------+---+------+---+-------+-------------------+---------------+-------------+\n",
      "only showing top 10 rows\n",
      "\n"
     ]
    }
   ],
   "source": [
    "train.show(10)"
   ]
  },
  {
   "cell_type": "code",
   "execution_count": 7,
   "metadata": {
    "collapsed": false,
    "scrolled": true
   },
   "outputs": [
    {
     "name": "stdout",
     "output_type": "stream",
     "text": [
      "root\n",
      " |-- ip: string (nullable = true)\n",
      " |-- app: string (nullable = true)\n",
      " |-- device: string (nullable = true)\n",
      " |-- os: string (nullable = true)\n",
      " |-- channel: string (nullable = true)\n",
      " |-- click_time: string (nullable = true)\n",
      " |-- attributed_time: string (nullable = true)\n",
      " |-- is_attributed: string (nullable = true)\n",
      "\n"
     ]
    }
   ],
   "source": [
    "train.printSchema()"
   ]
  },
  {
   "cell_type": "markdown",
   "metadata": {},
   "source": [
    "# Build the full dataset"
   ]
  },
  {
   "cell_type": "code",
   "execution_count": 8,
   "metadata": {
    "collapsed": false
   },
   "outputs": [
    {
     "name": "stdout",
     "output_type": "stream",
     "text": [
      "Total number of clicks in one week: 242440762\n"
     ]
    }
   ],
   "source": [
    "# train and test set concatenation\n",
    "from pyspark.sql.functions import col\n",
    "data = (train.select('ip', 'app', 'device', 'os', 'channel', 'click_time')\n",
    "        .unionAll(test_old.select('ip', 'app', 'device', 'os', 'channel', 'click_time')))\n",
    "        \n",
    "print('Total number of clicks in one week:', data.count())"
   ]
  },
  {
   "cell_type": "code",
   "execution_count": 9,
   "metadata": {
    "collapsed": false
   },
   "outputs": [
    {
     "name": "stdout",
     "output_type": "stream",
     "text": [
      "+------+---+------+---+-------+-------------------+\n",
      "|    ip|app|device| os|channel|         click_time|\n",
      "+------+---+------+---+-------+-------------------+\n",
      "| 83230|  3|     1| 13|    379|2017-11-06 14:32:21|\n",
      "| 17357|  3|     1| 19|    379|2017-11-06 14:33:34|\n",
      "| 35810|  3|     1| 13|    379|2017-11-06 14:34:12|\n",
      "| 45745| 14|     1| 13|    478|2017-11-06 14:34:52|\n",
      "|161007|  3|     1| 13|    379|2017-11-06 14:35:08|\n",
      "+------+---+------+---+-------+-------------------+\n",
      "only showing top 5 rows\n",
      "\n"
     ]
    }
   ],
   "source": [
    "data.show(5)"
   ]
  },
  {
   "cell_type": "markdown",
   "metadata": {},
   "source": [
    "# Datetime Features"
   ]
  },
  {
   "cell_type": "code",
   "execution_count": 10,
   "metadata": {
    "collapsed": true
   },
   "outputs": [],
   "source": [
    "# day function\n",
    "def get_day(date):\n",
    "    \"\"\"\n",
    "    Returns the hour based on a string date\n",
    "        \n",
    "    Args:\n",
    "        date (String): A String containing the click datetime\n",
    "\n",
    "    Returns:\n",
    "        day: A String containing the day of click (\"06\", \"07\", ..\"10\")\n",
    "    \"\"\"\n",
    "    \n",
    "    return date[8:10]\n",
    "\n",
    "# hour function\n",
    "def get_hour(date):\n",
    "    \"\"\"\n",
    "    Returns the hour based on a string date\n",
    "        \n",
    "    Args:\n",
    "        date (String): A String containing the click datetime\n",
    "\n",
    "    Returns:\n",
    "        hour: A String containing the hour interval (\"01\", \"02\", ..\"23\")\n",
    "    \"\"\"\n",
    "    \n",
    "    return date[11:13]\n",
    "\n",
    "# minute function\n",
    "def get_minute(date):\n",
    "    \"\"\"\n",
    "    Returns the minute based on a string date\n",
    "        \n",
    "    Args:\n",
    "        date (String): A String containing the click datetime\n",
    "\n",
    "    Returns:\n",
    "        hour: A String containing the minute interval (\"01\", \"02\", ..\"59\")\n",
    "    \"\"\"\n",
    "    \n",
    "    return date[14:16]"
   ]
  },
  {
   "cell_type": "code",
   "execution_count": 11,
   "metadata": {
    "collapsed": true
   },
   "outputs": [],
   "source": [
    "# Get datetime features\n",
    "from pyspark.sql.functions import udf\n",
    "from pyspark.sql.types import StringType\n",
    "\n",
    "day_udf = udf(get_day, StringType())\n",
    "hour_udf = udf(get_hour, StringType())\n",
    "minute_udf = udf(get_minute, StringType())\n",
    "\n",
    "data = data.withColumn('day', day_udf(data.click_time))\n",
    "data = data.withColumn('hour', hour_udf(data.click_time))\n",
    "data = data.withColumn('minute', minute_udf(data.click_time))"
   ]
  },
  {
   "cell_type": "code",
   "execution_count": 12,
   "metadata": {
    "collapsed": false
   },
   "outputs": [
    {
     "name": "stdout",
     "output_type": "stream",
     "text": [
      "+------+---+------+---+-------+-------------------+---+----+------+\n",
      "|    ip|app|device| os|channel|         click_time|day|hour|minute|\n",
      "+------+---+------+---+-------+-------------------+---+----+------+\n",
      "| 83230|  3|     1| 13|    379|2017-11-06 14:32:21| 06|  14|    32|\n",
      "| 17357|  3|     1| 19|    379|2017-11-06 14:33:34| 06|  14|    33|\n",
      "| 35810|  3|     1| 13|    379|2017-11-06 14:34:12| 06|  14|    34|\n",
      "| 45745| 14|     1| 13|    478|2017-11-06 14:34:52| 06|  14|    34|\n",
      "|161007|  3|     1| 13|    379|2017-11-06 14:35:08| 06|  14|    35|\n",
      "+------+---+------+---+-------+-------------------+---+----+------+\n",
      "only showing top 5 rows\n",
      "\n"
     ]
    }
   ],
   "source": [
    "data.show(5)"
   ]
  },
  {
   "cell_type": "markdown",
   "metadata": {},
   "source": [
    "# IP Number of Clicks for same Device in same Hour"
   ]
  },
  {
   "cell_type": "code",
   "execution_count": 13,
   "metadata": {
    "collapsed": true
   },
   "outputs": [],
   "source": [
    "from pyspark.sql.functions import col, unix_timestamp, lit\n",
    "import pyspark.sql.functions as func"
   ]
  },
  {
   "cell_type": "code",
   "execution_count": 14,
   "metadata": {
    "collapsed": true
   },
   "outputs": [],
   "source": [
    "var = 'device'"
   ]
  },
  {
   "cell_type": "code",
   "execution_count": 15,
   "metadata": {
    "collapsed": false
   },
   "outputs": [
    {
     "name": "stdout",
     "output_type": "stream",
     "text": [
      "+------+---+----+------------------+----------------------+----------------------+\n",
      "|device|day|hour|device_hour_clicks|device_hour_std_minute|device_hour_avg_minute|\n",
      "+------+---+----+------------------+----------------------+----------------------+\n",
      "|128   |07 |00  |1                 |0.0                   |11.0                  |\n",
      "|220   |07 |00  |31                |16.1                  |32.06                 |\n",
      "|313   |07 |00  |4                 |15.73                 |41.75                 |\n",
      "|94    |07 |22  |1                 |0.0                   |25.0                  |\n",
      "|234   |07 |22  |12                |19.23                 |27.25                 |\n",
      "|45    |07 |22  |10                |14.52                 |32.3                  |\n",
      "|350   |07 |23  |9                 |18.53                 |24.44                 |\n",
      "|1269  |07 |23  |1                 |0.0                   |4.0                   |\n",
      "|847   |07 |23  |2                 |0.0                   |14.0                  |\n",
      "|3543  |08 |00  |33769             |17.31                 |29.58                 |\n",
      "|39    |08 |00  |1                 |0.0                   |0.0                   |\n",
      "|30    |08 |02  |72                |19.63                 |31.22                 |\n",
      "|150   |08 |05  |2                 |25.46                 |32.0                  |\n",
      "|45    |08 |05  |1                 |0.0                   |15.0                  |\n",
      "|254   |08 |11  |3                 |13.43                 |47.33                 |\n",
      "|944   |08 |12  |2                 |4.24                  |6.0                   |\n",
      "|134   |08 |12  |6                 |16.74                 |23.5                  |\n",
      "|1027  |08 |13  |2                 |1.41                  |14.0                  |\n",
      "|497   |08 |13  |4                 |23.85                 |35.0                  |\n",
      "|329   |08 |14  |14                |22.48                 |28.71                 |\n",
      "|49    |08 |14  |13                |19.47                 |24.85                 |\n",
      "|82    |08 |14  |43                |17.02                 |33.63                 |\n",
      "|209   |08 |14  |5                 |14.67                 |33.4                  |\n",
      "|75    |08 |14  |4                 |14.34                 |37.5                  |\n",
      "|1304  |08 |14  |1                 |0.0                   |32.0                  |\n",
      "|327   |08 |14  |1                 |0.0                   |37.0                  |\n",
      "|94    |09 |06  |13                |19.5                  |27.69                 |\n",
      "|1230  |09 |06  |1                 |0.0                   |58.0                  |\n",
      "|273   |09 |07  |2                 |14.85                 |10.5                  |\n",
      "|1834  |09 |07  |3                 |6.51                  |18.67                 |\n",
      "|1700  |09 |07  |2                 |0.71                  |16.5                  |\n",
      "|374   |09 |09  |3                 |8.0                   |19.0                  |\n",
      "|1757  |09 |09  |1                 |0.0                   |26.0                  |\n",
      "|717   |09 |09  |1                 |0.0                   |32.0                  |\n",
      "|853   |09 |09  |1                 |0.0                   |44.0                  |\n",
      "|718   |09 |09  |1                 |0.0                   |53.0                  |\n",
      "|423   |09 |12  |4                 |10.84                 |36.25                 |\n",
      "|2683  |09 |12  |1                 |0.0                   |32.0                  |\n",
      "|472   |09 |15  |6                 |26.26                 |20.83                 |\n",
      "|166   |09 |15  |7                 |21.04                 |34.29                 |\n",
      "|687   |09 |15  |3                 |1.0                   |25.0                  |\n",
      "|399   |09 |15  |2                 |2.83                  |44.0                  |\n",
      "|0     |09 |21  |8694              |17.38                 |30.79                 |\n",
      "|19    |09 |22  |8                 |18.46                 |24.75                 |\n",
      "|266   |09 |22  |6                 |20.27                 |26.83                 |\n",
      "|204   |09 |22  |2                 |28.28                 |38.0                  |\n",
      "|420   |09 |22  |2                 |0.0                   |44.0                  |\n",
      "|506   |09 |22  |1                 |0.0                   |46.0                  |\n",
      "|472   |09 |23  |1                 |0.0                   |15.0                  |\n",
      "|292   |09 |23  |2                 |0.0                   |31.0                  |\n",
      "|63    |09 |23  |1                 |0.0                   |39.0                  |\n",
      "|34    |10 |04  |9                 |16.46                 |34.33                 |\n",
      "|140   |10 |04  |17                |11.71                 |22.29                 |\n",
      "|462   |10 |05  |2                 |26.16                 |25.5                  |\n",
      "|921   |10 |05  |1                 |0.0                   |14.0                  |\n",
      "|445   |10 |05  |7                 |12.0                  |31.57                 |\n",
      "|625   |10 |05  |1                 |0.0                   |42.0                  |\n",
      "|39    |10 |06  |1                 |0.0                   |2.0                   |\n",
      "|235   |10 |06  |10                |16.13                 |28.0                  |\n",
      "|465   |10 |06  |1                 |0.0                   |24.0                  |\n",
      "|875   |10 |06  |1                 |0.0                   |28.0                  |\n",
      "|21    |10 |12  |160               |16.09                 |27.84                 |\n",
      "|1321  |10 |12  |1                 |0.0                   |27.0                  |\n",
      "|527   |10 |12  |7                 |18.69                 |41.86                 |\n",
      "|528   |10 |12  |8                 |16.64                 |15.88                 |\n",
      "|537   |10 |13  |10                |18.2                  |33.7                  |\n",
      "|380   |10 |13  |5                 |21.28                 |43.2                  |\n",
      "|597   |10 |13  |2                 |5.66                  |48.0                  |\n",
      "|2228  |10 |13  |2                 |1.41                  |46.0                  |\n",
      "|169   |10 |14  |9                 |14.64                 |23.22                 |\n",
      "|583   |10 |14  |1                 |0.0                   |11.0                  |\n",
      "|1089  |06 |16  |1                 |0.0                   |5.0                   |\n",
      "|84    |06 |16  |1                 |0.0                   |6.0                   |\n",
      "|1237  |06 |16  |1                 |0.0                   |19.0                  |\n",
      "|298   |06 |16  |1                 |0.0                   |24.0                  |\n",
      "|124   |06 |16  |1                 |0.0                   |46.0                  |\n",
      "|505   |06 |16  |1                 |0.0                   |54.0                  |\n",
      "|56    |06 |17  |12                |17.73                 |12.83                 |\n",
      "|109   |06 |17  |15                |14.46                 |35.2                  |\n",
      "|537   |06 |17  |1                 |0.0                   |18.0                  |\n",
      "|494   |06 |22  |1                 |0.0                   |54.0                  |\n",
      "|620   |06 |22  |3                 |1.15                  |56.67                 |\n",
      "|59    |06 |23  |186               |16.54                 |27.69                 |\n",
      "|171   |06 |23  |1                 |0.0                   |38.0                  |\n",
      "|937   |06 |23  |1                 |0.0                   |43.0                  |\n",
      "|260   |07 |00  |2                 |0.71                  |6.5                   |\n",
      "|224   |06 |20  |1                 |0.0                   |45.0                  |\n",
      "|76    |06 |22  |2                 |0.0                   |34.0                  |\n",
      "|643   |07 |01  |2                 |0.0                   |25.0                  |\n",
      "|33    |07 |02  |83                |17.89                 |29.11                 |\n",
      "|188   |07 |02  |12                |22.35                 |20.08                 |\n",
      "|108   |07 |02  |5                 |14.24                 |17.4                  |\n",
      "|1030  |07 |02  |1                 |0.0                   |26.0                  |\n",
      "|183   |07 |03  |13                |9.2                   |23.46                 |\n",
      "|247   |07 |20  |3                 |0.0                   |19.0                  |\n",
      "|2165  |07 |22  |1                 |0.0                   |11.0                  |\n",
      "|795   |07 |07  |6                 |20.35                 |18.17                 |\n",
      "|3476  |07 |07  |2                 |0.71                  |40.5                  |\n",
      "|512   |08 |02  |2                 |0.0                   |58.0                  |\n",
      "|1193  |08 |03  |5                 |2.51                  |2.6                   |\n",
      "+------+---+----+------------------+----------------------+----------------------+\n",
      "only showing top 100 rows\n",
      "\n"
     ]
    }
   ],
   "source": [
    "var_hour_clicks = (data\n",
    "                   .groupBy(var, 'day', 'hour')\n",
    "                   .agg(func.count(func.lit(1)).alias(var+'_hour_clicks'),\n",
    "                        func.round(func.stddev(col('minute')), 2).alias(var+'_hour_std_minute'),\n",
    "                        func.round(func.mean(col('minute')), 2).alias(var+'_hour_avg_minute'))\n",
    "                      .fillna({var+'_hour_std_minute':0,\n",
    "                               var+'_hour_avg_minute':0})\n",
    "                      .cache())\n",
    "\n",
    "var_hour_clicks.show(100, truncate=False)"
   ]
  },
  {
   "cell_type": "code",
   "execution_count": 16,
   "metadata": {
    "collapsed": false
   },
   "outputs": [
    {
     "name": "stdout",
     "output_type": "stream",
     "text": [
      "+------+---+------+---+-------+-------------------+---+----+------+\n",
      "|ip    |app|device|os |channel|click_time         |day|hour|minute|\n",
      "+------+---+------+---+-------+-------------------+---+----+------+\n",
      "|60972 |19 |313   |24 |213    |2017-11-07 00:24:02|07 |00  |24    |\n",
      "|153588|19 |313   |24 |333    |2017-11-07 00:33:18|07 |00  |33    |\n",
      "|64188 |206|313   |24 |320    |2017-11-07 00:55:21|07 |00  |55    |\n",
      "|64188 |206|313   |24 |320    |2017-11-07 00:55:25|07 |00  |55    |\n",
      "+------+---+------+---+-------+-------------------+---+----+------+\n",
      "\n"
     ]
    }
   ],
   "source": [
    "data.filter((col('hour')==0) & (col(var)==313)).show(truncate=False)"
   ]
  },
  {
   "cell_type": "markdown",
   "metadata": {},
   "source": [
    "## Export New Features"
   ]
  },
  {
   "cell_type": "code",
   "execution_count": 17,
   "metadata": {
    "collapsed": true
   },
   "outputs": [],
   "source": [
    "(var_hour_clicks\n",
    " .coalesce(1)\n",
    " .write\n",
    " .format(\"com.databricks.spark.csv\")\n",
    " .option(\"header\", \"true\")\n",
    " .mode(\"overwrite\")\n",
    " .save(mungepath+\"f_\"+var+\"_hour_clicks\", compression=\"None\"))"
   ]
  },
  {
   "cell_type": "code",
   "execution_count": 18,
   "metadata": {
    "collapsed": false
   },
   "outputs": [
    {
     "data": {
      "text/plain": [
       "53535"
      ]
     },
     "execution_count": 18,
     "metadata": {},
     "output_type": "execute_result"
    }
   ],
   "source": [
    "var_hour_clicks.count()"
   ]
  },
  {
   "cell_type": "markdown",
   "metadata": {},
   "source": [
    "## Check the impact of new features"
   ]
  },
  {
   "cell_type": "code",
   "execution_count": 19,
   "metadata": {
    "collapsed": false
   },
   "outputs": [
    {
     "name": "stdout",
     "output_type": "stream",
     "text": [
      "+--------------------+\n",
      "|  avg(is_attributed)|\n",
      "+--------------------+\n",
      "|0.002470721410998979|\n",
      "+--------------------+\n",
      "\n"
     ]
    }
   ],
   "source": [
    "import pyspark.sql.functions as func\n",
    "\n",
    "train.groupBy().agg(func.mean(col('is_attributed'))).show()"
   ]
  },
  {
   "cell_type": "code",
   "execution_count": 20,
   "metadata": {
    "collapsed": true
   },
   "outputs": [],
   "source": [
    "train_sample = (train.sample(fraction=0.05, withReplacement=False, seed=22)\n",
    "                .withColumn('day', day_udf(data.click_time))\n",
    "                .withColumn('hour', hour_udf(data.click_time))\n",
    "                .join(var_hour_clicks, [var, 'day', 'hour'], 'left_outer')\n",
    "                .cache())"
   ]
  },
  {
   "cell_type": "code",
   "execution_count": 21,
   "metadata": {
    "collapsed": false
   },
   "outputs": [
    {
     "data": {
      "text/plain": [
       "9248009"
      ]
     },
     "execution_count": 21,
     "metadata": {},
     "output_type": "execute_result"
    }
   ],
   "source": [
    "train_sample.count()"
   ]
  },
  {
   "cell_type": "code",
   "execution_count": 22,
   "metadata": {
    "collapsed": false
   },
   "outputs": [
    {
     "data": {
      "text/plain": [
       "9248009"
      ]
     },
     "execution_count": 22,
     "metadata": {},
     "output_type": "execute_result"
    }
   ],
   "source": [
    "train.sample(fraction=0.05, withReplacement=False, seed=22).count()"
   ]
  },
  {
   "cell_type": "code",
   "execution_count": 23,
   "metadata": {
    "collapsed": false
   },
   "outputs": [
    {
     "name": "stdout",
     "output_type": "stream",
     "text": [
      "+------+---+----+------+---+---+-------+-------------------+---------------+-------------+------------------+----------------------+----------------------+\n",
      "|device|day|hour|ip    |app|os |channel|click_time         |attributed_time|is_attributed|device_hour_clicks|device_hour_std_minute|device_hour_avg_minute|\n",
      "+------+---+----+------+---+---+-------+-------------------+---------------+-------------+------------------+----------------------+----------------------+\n",
      "|1     |06 |14  |38816 |3  |18 |379    |2017-11-06 14:40:39|null           |0            |48                |7.86                  |45.83                 |\n",
      "|1     |06 |14  |134575|3  |13 |379    |2017-11-06 14:43:10|null           |0            |48                |7.86                  |45.83                 |\n",
      "|1     |06 |14  |30986 |3  |19 |379    |2017-11-06 14:52:13|null           |0            |48                |7.86                  |45.83                 |\n",
      "|1     |06 |15  |199564|3  |13 |379    |2017-11-06 15:09:44|null           |0            |435               |11.6                  |46.34                 |\n",
      "|1     |06 |15  |191894|3  |18 |379    |2017-11-06 15:29:16|null           |0            |435               |11.6                  |46.34                 |\n",
      "+------+---+----+------+---+---+-------+-------------------+---------------+-------------+------------------+----------------------+----------------------+\n",
      "only showing top 5 rows\n",
      "\n"
     ]
    }
   ],
   "source": [
    "train_sample.show(5, truncate=False)"
   ]
  },
  {
   "cell_type": "code",
   "execution_count": 24,
   "metadata": {
    "collapsed": true
   },
   "outputs": [],
   "source": [
    "features = [var+'_hour_clicks', var+'_hour_std_minute', var+'_hour_avg_minute']"
   ]
  },
  {
   "cell_type": "code",
   "execution_count": 25,
   "metadata": {
    "collapsed": false,
    "scrolled": false
   },
   "outputs": [
    {
     "data": {
      "image/png": "[encoded data removed]",
      "text/plain": [
       "<matplotlib.figure.Figure at 0x7fe5d2320c50>"
      ]
     },
     "metadata": {},
     "output_type": "display_data"
    },
    {
     "data": {
      "image/png": "[encoded data removed]",
      "text/plain": [
       "<matplotlib.figure.Figure at 0x7fe5365d85f8>"
      ]
     },
     "metadata": {},
     "output_type": "display_data"
    },
    {
     "data": {
      "image/png": "[encoded data removed]",
      "text/plain": [
       "<matplotlib.figure.Figure at 0x7fe5e8647cc0>"
      ]
     },
     "metadata": {},
     "output_type": "display_data"
    },
    {
     "data": {
      "image/png": "[encoded data removed]",
      "text/plain": [
       "<matplotlib.figure.Figure at 0x7fe5b8ebb3c8>"
      ]
     },
     "metadata": {},
     "output_type": "display_data"
    }
   ],
   "source": [
    "for f in features:\n",
    "    PDF = train_sample.select('is_attributed', f).toPandas()\n",
    "    PDF_sorted = PDF.sort_values(by=f)\n",
    "    PDF_sorted['roll'] = PDF_sorted.is_attributed.rolling(window=10000).mean()\n",
    "    plt.title('Impact of '+f)\n",
    "    plt.plot(PDF_sorted[f], PDF_sorted.roll)\n",
    "    plt.show()\n",
    "    \n",
    "    if np.max(PDF_sorted[f])>200:\n",
    "        PDF_filtered = PDF_sorted[PDF_sorted[f]<100]\n",
    "        plt.title('Impact of '+f)\n",
    "        plt.plot(PDF_filtered[f], PDF_filtered.roll)\n",
    "        plt.show()"
   ]
  },
  {
   "cell_type": "code",
   "execution_count": null,
   "metadata": {
    "collapsed": true
   },
   "outputs": [],
   "source": []
  }
 ],
 "metadata": {
  "anaconda-cloud": {},
  "kernelspec": {
   "display_name": "PySpark",
   "language": "python3",
   "name": "pyspark"
  },
  "language_info": {
   "codemirror_mode": {
    "name": "ipython",
    "version": 3
   },
   "file_extension": ".py",
   "mimetype": "text/x-python",
   "name": "python",
   "nbconvert_exporter": "python",
   "pygments_lexer": "ipython3",
   "version": "3.6.4"
  }
 },
 "nbformat": 4,
 "nbformat_minor": 2
}
