{
 "cells": [
  {
   "cell_type": "markdown",
   "metadata": {},
   "source": [
    "# Loading Libraries"
   ]
  },
  {
   "cell_type": "code",
   "execution_count": 2,
   "metadata": {
    "collapsed": true
   },
   "outputs": [],
   "source": [
    "import numpy as np\n",
    "import pandas as pd\n",
    "import matplotlib.pyplot as plt\n",
    "% matplotlib inline\n",
    "\n",
    "import seaborn as sns\n",
    "sns.set(rc={'figure.figsize':(12, 5)},\n",
    "        font_scale=1.5,\n",
    "        style=\"whitegrid\")\n",
    "        \n",
    "from pyspark.sql import HiveContext\n",
    "from pyspark.sql import SQLContext\n",
    "\n",
    "# initialize session hive and sql environments\n",
    "hiveContext = HiveContext(sc)\n",
    "sqlContext = SQLContext(sc)"
   ]
  },
  {
   "cell_type": "markdown",
   "metadata": {},
   "source": [
    "# Data Reading"
   ]
  },
  {
   "cell_type": "code",
   "execution_count": 3,
   "metadata": {
    "collapsed": true
   },
   "outputs": [],
   "source": [
    "project_folder = \"../\"\n",
    "datapath = project_folder + \"data/\"\n",
    "plotpath = project_folder + \"graphs/\"\n",
    "mungepath = project_folder + \"munge/\"\n",
    "configpath = project_folder + \"config/\"\n",
    "diagnostic = project_folder + \"diagnostic/\"\n",
    "modelpath = project_folder + \"model/\"\n",
    "output = project_folder + \"output/\""
   ]
  },
  {
   "cell_type": "code",
   "execution_count": 4,
   "metadata": {
    "collapsed": false
   },
   "outputs": [
    {
     "name": "stdout",
     "output_type": "stream",
     "text": [
      "Found 184903890 observations in training set.\n"
     ]
    }
   ],
   "source": [
    "from pyspark.sql.functions import col\n",
    "\n",
    "train = spark.read.csv(os.path.join(datapath,\"train.csv\"), header=True)\n",
    "print('Found %d observations in training set.' %train.count())"
   ]
  },
  {
   "cell_type": "code",
   "execution_count": 5,
   "metadata": {
    "collapsed": false
   },
   "outputs": [
    {
     "name": "stdout",
     "output_type": "stream",
     "text": [
      "Found 57536872 observations in test_old set.\n"
     ]
    }
   ],
   "source": [
    "from pyspark.sql.functions import col\n",
    "\n",
    "test_old = (spark.read.csv(os.path.join(datapath,\"test_supplement.csv\"), header=True)\n",
    "            .filter(col('click_time') >= '2017-11-09 16:00:00'))\n",
    "\n",
    "print('Found %d observations in test_old set.' %test_old.count())"
   ]
  },
  {
   "cell_type": "code",
   "execution_count": 6,
   "metadata": {
    "collapsed": false
   },
   "outputs": [
    {
     "name": "stdout",
     "output_type": "stream",
     "text": [
      "+------+---+------+---+-------+-------------------+---------------+-------------+\n",
      "|    ip|app|device| os|channel|         click_time|attributed_time|is_attributed|\n",
      "+------+---+------+---+-------+-------------------+---------------+-------------+\n",
      "| 83230|  3|     1| 13|    379|2017-11-06 14:32:21|           null|            0|\n",
      "| 17357|  3|     1| 19|    379|2017-11-06 14:33:34|           null|            0|\n",
      "| 35810|  3|     1| 13|    379|2017-11-06 14:34:12|           null|            0|\n",
      "| 45745| 14|     1| 13|    478|2017-11-06 14:34:52|           null|            0|\n",
      "|161007|  3|     1| 13|    379|2017-11-06 14:35:08|           null|            0|\n",
      "| 18787|  3|     1| 16|    379|2017-11-06 14:36:26|           null|            0|\n",
      "|103022|  3|     1| 23|    379|2017-11-06 14:37:44|           null|            0|\n",
      "|114221|  3|     1| 19|    379|2017-11-06 14:37:59|           null|            0|\n",
      "|165970|  3|     1| 13|    379|2017-11-06 14:38:10|           null|            0|\n",
      "| 74544| 64|     1| 22|    459|2017-11-06 14:38:23|           null|            0|\n",
      "+------+---+------+---+-------+-------------------+---------------+-------------+\n",
      "only showing top 10 rows\n",
      "\n"
     ]
    }
   ],
   "source": [
    "train.show(10)"
   ]
  },
  {
   "cell_type": "code",
   "execution_count": 7,
   "metadata": {
    "collapsed": false,
    "scrolled": true
   },
   "outputs": [
    {
     "name": "stdout",
     "output_type": "stream",
     "text": [
      "root\n",
      " |-- ip: string (nullable = true)\n",
      " |-- app: string (nullable = true)\n",
      " |-- device: string (nullable = true)\n",
      " |-- os: string (nullable = true)\n",
      " |-- channel: string (nullable = true)\n",
      " |-- click_time: string (nullable = true)\n",
      " |-- attributed_time: string (nullable = true)\n",
      " |-- is_attributed: string (nullable = true)\n",
      "\n"
     ]
    }
   ],
   "source": [
    "train.printSchema()"
   ]
  },
  {
   "cell_type": "markdown",
   "metadata": {},
   "source": [
    "# Build the full dataset"
   ]
  },
  {
   "cell_type": "code",
   "execution_count": 8,
   "metadata": {
    "collapsed": false
   },
   "outputs": [
    {
     "name": "stdout",
     "output_type": "stream",
     "text": [
      "Total number of clicks in one week: 242440762\n"
     ]
    }
   ],
   "source": [
    "# train and test set concatenation\n",
    "from pyspark.sql.functions import col\n",
    "data = (train.select('ip', 'app', 'device', 'os', 'channel', 'click_time')\n",
    "        .unionAll(test_old.select('ip', 'app', 'device', 'os', 'channel', 'click_time')))\n",
    "        \n",
    "print('Total number of clicks in one week:', data.count())"
   ]
  },
  {
   "cell_type": "code",
   "execution_count": 9,
   "metadata": {
    "collapsed": false
   },
   "outputs": [
    {
     "name": "stdout",
     "output_type": "stream",
     "text": [
      "+------+---+------+---+-------+-------------------+\n",
      "|    ip|app|device| os|channel|         click_time|\n",
      "+------+---+------+---+-------+-------------------+\n",
      "| 83230|  3|     1| 13|    379|2017-11-06 14:32:21|\n",
      "| 17357|  3|     1| 19|    379|2017-11-06 14:33:34|\n",
      "| 35810|  3|     1| 13|    379|2017-11-06 14:34:12|\n",
      "| 45745| 14|     1| 13|    478|2017-11-06 14:34:52|\n",
      "|161007|  3|     1| 13|    379|2017-11-06 14:35:08|\n",
      "+------+---+------+---+-------+-------------------+\n",
      "only showing top 5 rows\n",
      "\n"
     ]
    }
   ],
   "source": [
    "data.show(5)"
   ]
  },
  {
   "cell_type": "markdown",
   "metadata": {},
   "source": [
    "# Datetime Features"
   ]
  },
  {
   "cell_type": "code",
   "execution_count": 10,
   "metadata": {
    "collapsed": true
   },
   "outputs": [],
   "source": [
    "# day function\n",
    "def get_day(date):\n",
    "    \"\"\"\n",
    "    Returns the hour based on a string date\n",
    "        \n",
    "    Args:\n",
    "        date (String): A String containing the click datetime\n",
    "\n",
    "    Returns:\n",
    "        day: A String containing the day of click (\"06\", \"07\", ..\"10\")\n",
    "    \"\"\"\n",
    "    \n",
    "    return date[8:10]\n",
    "\n",
    "# hour function\n",
    "def get_hour(date):\n",
    "    \"\"\"\n",
    "    Returns the hour based on a string date\n",
    "        \n",
    "    Args:\n",
    "        date (String): A String containing the click datetime\n",
    "\n",
    "    Returns:\n",
    "        hour: A String containing the hour interval (\"01\", \"02\", ..\"23\")\n",
    "    \"\"\"\n",
    "    \n",
    "    return date[11:13]\n",
    "\n",
    "# minute function\n",
    "def get_minute(date):\n",
    "    \"\"\"\n",
    "    Returns the minute based on a string date\n",
    "        \n",
    "    Args:\n",
    "        date (String): A String containing the click datetime\n",
    "\n",
    "    Returns:\n",
    "        hour: A String containing the minute interval (\"01\", \"02\", ..\"59\")\n",
    "    \"\"\"\n",
    "    \n",
    "    return date[14:16]\n",
    "\n",
    "# second function\n",
    "def get_second(date):\n",
    "    \"\"\"\n",
    "    Returns the second based on a string date\n",
    "        \n",
    "    Args:\n",
    "        date (String): A String containing the click datetime\n",
    "\n",
    "    Returns:\n",
    "        hour: A String containing the minute interval (\"01\", \"02\", ..\"59\")\n",
    "    \"\"\"\n",
    "    \n",
    "    return date[17:19]"
   ]
  },
  {
   "cell_type": "code",
   "execution_count": 12,
   "metadata": {
    "collapsed": true
   },
   "outputs": [],
   "source": [
    "# Get datetime features\n",
    "from pyspark.sql.functions import udf\n",
    "from pyspark.sql.types import StringType\n",
    "\n",
    "day_udf = udf(get_day, StringType())\n",
    "hour_udf = udf(get_hour, StringType())\n",
    "minute_udf = udf(get_minute, StringType())\n",
    "second_udf = udf(get_second, StringType())\n",
    "\n",
    "data = data.withColumn('day', day_udf(data.click_time))\n",
    "data = data.withColumn('hour', hour_udf(data.click_time))\n",
    "data = data.withColumn('minute', minute_udf(data.click_time))\n",
    "data = data.withColumn('second', second_udf(data.click_time))"
   ]
  },
  {
   "cell_type": "code",
   "execution_count": 13,
   "metadata": {
    "collapsed": false
   },
   "outputs": [
    {
     "name": "stdout",
     "output_type": "stream",
     "text": [
      "+------+---+------+---+-------+-------------------+---+----+------+------+\n",
      "|    ip|app|device| os|channel|         click_time|day|hour|minute|second|\n",
      "+------+---+------+---+-------+-------------------+---+----+------+------+\n",
      "| 83230|  3|     1| 13|    379|2017-11-06 14:32:21| 06|  14|    32|    21|\n",
      "| 17357|  3|     1| 19|    379|2017-11-06 14:33:34| 06|  14|    33|    34|\n",
      "| 35810|  3|     1| 13|    379|2017-11-06 14:34:12| 06|  14|    34|    12|\n",
      "| 45745| 14|     1| 13|    478|2017-11-06 14:34:52| 06|  14|    34|    52|\n",
      "|161007|  3|     1| 13|    379|2017-11-06 14:35:08| 06|  14|    35|    08|\n",
      "+------+---+------+---+-------+-------------------+---+----+------+------+\n",
      "only showing top 5 rows\n",
      "\n"
     ]
    }
   ],
   "source": [
    "data.show(5)"
   ]
  },
  {
   "cell_type": "markdown",
   "metadata": {},
   "source": [
    "# IP Number of Clicks for same App in same Minute"
   ]
  },
  {
   "cell_type": "code",
   "execution_count": 14,
   "metadata": {
    "collapsed": true
   },
   "outputs": [],
   "source": [
    "from pyspark.sql.functions import col, unix_timestamp, lit\n",
    "import pyspark.sql.functions as func"
   ]
  },
  {
   "cell_type": "code",
   "execution_count": 15,
   "metadata": {
    "collapsed": true
   },
   "outputs": [],
   "source": [
    "var = 'app'"
   ]
  },
  {
   "cell_type": "code",
   "execution_count": 17,
   "metadata": {
    "collapsed": false
   },
   "outputs": [
    {
     "name": "stdout",
     "output_type": "stream",
     "text": [
      "+------+---+---+----+------+--------------------+------------------------+------------------------+\n",
      "|ip    |app|day|hour|minute|ip_app_minute_clicks|ip_app_minute_std_second|ip_app_minute_avg_second|\n",
      "+------+---+---+----+------+--------------------+------------------------+------------------------+\n",
      "|29045 |64 |06 |14  |54    |1                   |0.0                     |59.0                    |\n",
      "|139355|3  |06 |15  |43    |1                   |0.0                     |51.0                    |\n",
      "|14290 |14 |06 |16  |00    |1                   |0.0                     |0.0                     |\n",
      "|15540 |3  |06 |16  |00    |3                   |21.73                   |20.67                   |\n",
      "|129372|9  |06 |16  |00    |1                   |0.0                     |1.0                     |\n",
      "|39306 |15 |06 |16  |00    |1                   |0.0                     |1.0                     |\n",
      "|120818|15 |06 |16  |00    |1                   |0.0                     |1.0                     |\n",
      "|100275|29 |06 |16  |00    |1                   |0.0                     |2.0                     |\n",
      "|71421 |2  |06 |16  |00    |1                   |0.0                     |2.0                     |\n",
      "|103221|18 |06 |16  |00    |1                   |0.0                     |3.0                     |\n",
      "|104430|15 |06 |16  |00    |1                   |0.0                     |3.0                     |\n",
      "|156045|20 |06 |16  |00    |2                   |21.21                   |18.0                    |\n",
      "|29267 |12 |06 |16  |00    |1                   |0.0                     |4.0                     |\n",
      "|75899 |2  |06 |16  |00    |1                   |0.0                     |4.0                     |\n",
      "|136691|13 |06 |16  |00    |1                   |0.0                     |4.0                     |\n",
      "|5348  |13 |06 |16  |00    |4                   |13.98                   |15.0                    |\n",
      "|198043|27 |06 |16  |00    |1                   |0.0                     |4.0                     |\n",
      "|87879 |12 |06 |16  |00    |3                   |1.0                     |5.0                     |\n",
      "|117373|8  |06 |16  |00    |3                   |2.08                    |7.67                    |\n",
      "|37290 |2  |06 |16  |00    |3                   |8.08                    |10.67                   |\n",
      "|118123|3  |06 |16  |00    |2                   |14.14                   |16.0                    |\n",
      "|88856 |15 |06 |16  |00    |2                   |0.71                    |7.5                     |\n",
      "|120583|3  |06 |16  |00    |3                   |5.29                    |11.0                    |\n",
      "|168996|15 |06 |16  |00    |1                   |0.0                     |7.0                     |\n",
      "|52798 |15 |06 |16  |00    |1                   |0.0                     |7.0                     |\n",
      "|119262|3  |06 |16  |00    |1                   |0.0                     |7.0                     |\n",
      "|22300 |9  |06 |16  |00    |1                   |0.0                     |7.0                     |\n",
      "|79808 |12 |06 |16  |00    |2                   |10.61                   |15.5                    |\n",
      "|38773 |3  |06 |16  |00    |1                   |0.0                     |8.0                     |\n",
      "|119297|13 |06 |16  |00    |1                   |0.0                     |8.0                     |\n",
      "|176726|8  |06 |16  |00    |2                   |30.41                   |29.5                    |\n",
      "|117428|28 |06 |16  |00    |1                   |0.0                     |8.0                     |\n",
      "|59290 |15 |06 |16  |00    |1                   |0.0                     |10.0                    |\n",
      "|83206 |64 |06 |16  |00    |1                   |0.0                     |11.0                    |\n",
      "|140441|2  |06 |16  |00    |1                   |0.0                     |11.0                    |\n",
      "|4403  |1  |06 |16  |00    |1                   |0.0                     |13.0                    |\n",
      "|91574 |9  |06 |16  |00    |1                   |0.0                     |13.0                    |\n",
      "|125033|28 |06 |16  |00    |1                   |0.0                     |13.0                    |\n",
      "|106200|15 |06 |16  |00    |1                   |0.0                     |14.0                    |\n",
      "|188387|13 |06 |16  |00    |3                   |8.74                    |21.33                   |\n",
      "|200502|12 |06 |16  |00    |1                   |0.0                     |15.0                    |\n",
      "|126630|6  |06 |16  |00    |1                   |0.0                     |15.0                    |\n",
      "|97514 |14 |06 |16  |00    |1                   |0.0                     |16.0                    |\n",
      "|70494 |15 |06 |16  |00    |2                   |0.71                    |17.5                    |\n",
      "|173155|15 |06 |16  |00    |1                   |0.0                     |17.0                    |\n",
      "|27948 |12 |06 |16  |00    |2                   |15.56                   |28.0                    |\n",
      "|64320 |14 |06 |16  |00    |1                   |0.0                     |17.0                    |\n",
      "|81082 |15 |06 |16  |00    |1                   |0.0                     |18.0                    |\n",
      "|44392 |32 |06 |16  |00    |1                   |0.0                     |19.0                    |\n",
      "|42161 |3  |06 |16  |00    |2                   |0.71                    |19.5                    |\n",
      "|174103|20 |06 |16  |00    |1                   |0.0                     |19.0                    |\n",
      "|7291  |12 |06 |16  |00    |1                   |0.0                     |19.0                    |\n",
      "|183032|9  |06 |16  |00    |1                   |0.0                     |20.0                    |\n",
      "|151944|6  |06 |16  |00    |1                   |0.0                     |20.0                    |\n",
      "|110116|2  |06 |16  |00    |2                   |21.21                   |36.0                    |\n",
      "|166192|3  |06 |16  |00    |2                   |10.61                   |28.5                    |\n",
      "|199047|15 |06 |16  |00    |2                   |23.33                   |38.5                    |\n",
      "|119377|8  |06 |16  |00    |6                   |8.23                    |29.83                   |\n",
      "|6330  |12 |06 |16  |00    |3                   |16.74                   |32.67                   |\n",
      "|119040|6  |06 |16  |00    |2                   |21.92                   |39.5                    |\n",
      "|11042 |15 |06 |16  |00    |1                   |0.0                     |24.0                    |\n",
      "|5348  |28 |06 |16  |00    |2                   |2.83                    |27.0                    |\n",
      "|109566|18 |06 |16  |00    |1                   |0.0                     |25.0                    |\n",
      "|39839 |9  |06 |16  |00    |2                   |11.31                   |36.0                    |\n",
      "|160185|15 |06 |16  |00    |1                   |0.0                     |28.0                    |\n",
      "|60698 |18 |06 |16  |00    |1                   |0.0                     |28.0                    |\n",
      "|37049 |14 |06 |16  |00    |1                   |0.0                     |28.0                    |\n",
      "|150974|11 |06 |16  |00    |1                   |0.0                     |29.0                    |\n",
      "|124314|9  |06 |16  |00    |1                   |0.0                     |30.0                    |\n",
      "|137414|9  |06 |16  |00    |2                   |0.0                     |31.0                    |\n",
      "|14116 |1  |06 |16  |00    |2                   |4.24                    |34.0                    |\n",
      "|134688|14 |06 |16  |00    |1                   |0.0                     |31.0                    |\n",
      "|107229|1  |06 |16  |00    |2                   |10.61                   |38.5                    |\n",
      "|130753|13 |06 |16  |00    |1                   |0.0                     |33.0                    |\n",
      "|150680|20 |06 |16  |00    |1                   |0.0                     |33.0                    |\n",
      "|167543|2  |06 |16  |00    |1                   |0.0                     |33.0                    |\n",
      "|80248 |12 |06 |16  |00    |1                   |0.0                     |33.0                    |\n",
      "|6173  |64 |06 |16  |00    |2                   |2.12                    |35.5                    |\n",
      "|185603|18 |06 |16  |00    |1                   |0.0                     |34.0                    |\n",
      "|193591|64 |06 |16  |00    |1                   |0.0                     |34.0                    |\n",
      "|34840 |1  |06 |16  |00    |1                   |0.0                     |34.0                    |\n",
      "|4093  |10 |06 |16  |00    |1                   |0.0                     |35.0                    |\n",
      "|105090|2  |06 |16  |00    |1                   |0.0                     |35.0                    |\n",
      "|110760|18 |06 |16  |00    |2                   |1.41                    |36.0                    |\n",
      "|26589 |2  |06 |16  |00    |1                   |0.0                     |36.0                    |\n",
      "|129426|24 |06 |16  |00    |2                   |5.66                    |40.0                    |\n",
      "|103021|14 |06 |16  |00    |1                   |0.0                     |36.0                    |\n",
      "|49600 |64 |06 |16  |00    |1                   |0.0                     |36.0                    |\n",
      "|51274 |15 |06 |16  |00    |1                   |0.0                     |36.0                    |\n",
      "|166861|6  |06 |16  |00    |1                   |0.0                     |36.0                    |\n",
      "|129929|2  |06 |16  |00    |1                   |0.0                     |36.0                    |\n",
      "|12948 |15 |06 |16  |00    |3                   |1.0                     |38.0                    |\n",
      "|170651|26 |06 |16  |00    |1                   |0.0                     |37.0                    |\n",
      "|124470|1  |06 |16  |00    |1                   |0.0                     |37.0                    |\n",
      "|169571|2  |06 |16  |00    |1                   |0.0                     |37.0                    |\n",
      "|161781|9  |06 |16  |00    |1                   |0.0                     |38.0                    |\n",
      "|134688|18 |06 |16  |00    |1                   |0.0                     |38.0                    |\n",
      "|62140 |9  |06 |16  |00    |3                   |8.66                    |44.0                    |\n",
      "|100960|3  |06 |16  |00    |1                   |0.0                     |39.0                    |\n",
      "|156794|18 |06 |16  |00    |1                   |0.0                     |39.0                    |\n",
      "+------+---+---+----+------+--------------------+------------------------+------------------------+\n",
      "only showing top 100 rows\n",
      "\n"
     ]
    }
   ],
   "source": [
    "ip_var_minute_clicks = (data\n",
    "                        .groupBy('ip', var, 'day', 'hour', 'minute')\n",
    "                        .agg(func.count(func.lit(1)).alias('ip_'+var+'_minute_clicks'),\n",
    "                             func.round(func.stddev(col('second')), 2).alias('ip_'+var+'_minute_std_second'),\n",
    "                             func.round(func.mean(col('second')), 2).alias('ip_'+var+'_minute_avg_second'))\n",
    "                        .fillna({'ip_'+var+'_minute_std_second':0,\n",
    "                               'ip_'+var+'_minute_avg_second':0})\n",
    "                      .cache())\n",
    "\n",
    "ip_var_minute_clicks.show(100, truncate=False)"
   ]
  },
  {
   "cell_type": "code",
   "execution_count": 18,
   "metadata": {
    "collapsed": false
   },
   "outputs": [
    {
     "name": "stdout",
     "output_type": "stream",
     "text": [
      "+------+---+------+---+-------+-------------------+---+----+------+------+\n",
      "|ip    |app|device|os |channel|click_time         |day|hour|minute|second|\n",
      "+------+---+------+---+-------+-------------------+---+----+------+------+\n",
      "|156045|20 |1     |19 |259    |2017-11-06 16:00:03|06 |16  |00    |03    |\n",
      "|156045|20 |1     |19 |259    |2017-11-06 16:00:33|06 |16  |00    |33    |\n",
      "|156045|20 |1     |19 |259    |2017-11-06 16:04:25|06 |16  |04    |25    |\n",
      "|156045|20 |1     |62 |259    |2017-11-06 16:24:08|06 |16  |24    |08    |\n",
      "|156045|20 |1     |14 |259    |2017-11-06 17:02:16|06 |17  |02    |16    |\n",
      "|156045|20 |1     |22 |259    |2017-11-06 17:23:58|06 |17  |23    |58    |\n",
      "|156045|20 |1     |22 |259    |2017-11-06 17:24:15|06 |17  |24    |15    |\n",
      "|156045|20 |1     |22 |259    |2017-11-06 17:25:08|06 |17  |25    |08    |\n",
      "|156045|20 |1     |22 |259    |2017-11-06 17:26:42|06 |17  |26    |42    |\n",
      "|156045|20 |1     |13 |259    |2017-11-06 17:37:04|06 |17  |37    |04    |\n",
      "|156045|20 |1     |6  |259    |2017-11-06 17:45:56|06 |17  |45    |56    |\n",
      "|156045|20 |1     |6  |259    |2017-11-06 17:46:03|06 |17  |46    |03    |\n",
      "|156045|20 |1     |6  |259    |2017-11-06 17:46:09|06 |17  |46    |09    |\n",
      "|156045|20 |1     |15 |259    |2017-11-06 18:20:48|06 |18  |20    |48    |\n",
      "|156045|20 |1     |15 |259    |2017-11-06 18:21:14|06 |18  |21    |14    |\n",
      "|156045|20 |1     |13 |259    |2017-11-06 19:36:09|06 |19  |36    |09    |\n",
      "|156045|20 |1     |19 |259    |2017-11-06 19:52:52|06 |19  |52    |52    |\n",
      "|156045|20 |1     |22 |259    |2017-11-06 19:59:02|06 |19  |59    |02    |\n",
      "|156045|20 |1     |22 |259    |2017-11-06 19:59:07|06 |19  |59    |07    |\n",
      "|156045|20 |1     |22 |259    |2017-11-06 19:59:13|06 |19  |59    |13    |\n",
      "+------+---+------+---+-------+-------------------+---+----+------+------+\n",
      "only showing top 20 rows\n",
      "\n"
     ]
    }
   ],
   "source": [
    "data.filter((col('ip')==156045) & (col(var)==20)).show(truncate=False)"
   ]
  },
  {
   "cell_type": "markdown",
   "metadata": {},
   "source": [
    "## Export New Features"
   ]
  },
  {
   "cell_type": "code",
   "execution_count": 19,
   "metadata": {
    "collapsed": true
   },
   "outputs": [],
   "source": [
    "(ip_var_minute_clicks\n",
    " .coalesce(1)\n",
    " .write\n",
    " .format(\"com.databricks.spark.csv\")\n",
    " .option(\"header\", \"true\")\n",
    " .mode(\"overwrite\")\n",
    " .save(mungepath+\"f_ip_\"+var+\"_minute_clicks\", compression=\"None\"))"
   ]
  },
  {
   "cell_type": "code",
   "execution_count": 20,
   "metadata": {
    "collapsed": false
   },
   "outputs": [
    {
     "data": {
      "text/plain": [
       "175594102"
      ]
     },
     "execution_count": 20,
     "metadata": {},
     "output_type": "execute_result"
    }
   ],
   "source": [
    "ip_var_minute_clicks.count()"
   ]
  },
  {
   "cell_type": "markdown",
   "metadata": {},
   "source": [
    "## Check the impact of new features"
   ]
  },
  {
   "cell_type": "code",
   "execution_count": 21,
   "metadata": {
    "collapsed": false
   },
   "outputs": [
    {
     "name": "stdout",
     "output_type": "stream",
     "text": [
      "+--------------------+\n",
      "|  avg(is_attributed)|\n",
      "+--------------------+\n",
      "|0.002470721410998979|\n",
      "+--------------------+\n",
      "\n"
     ]
    }
   ],
   "source": [
    "import pyspark.sql.functions as func\n",
    "\n",
    "train.groupBy().agg(func.mean(col('is_attributed'))).show()"
   ]
  },
  {
   "cell_type": "code",
   "execution_count": 22,
   "metadata": {
    "collapsed": true
   },
   "outputs": [],
   "source": [
    "train_sample = (train.sample(fraction=0.05, withReplacement=False, seed=22)\n",
    "                .withColumn('day', day_udf(data.click_time))\n",
    "                .withColumn('hour', hour_udf(data.click_time))\n",
    "                .withColumn('minute', minute_udf(data.click_time))\n",
    "                .join(ip_var_minute_clicks, ['ip', var, 'day', 'hour', 'minute'], 'left_outer')\n",
    "                .cache())"
   ]
  },
  {
   "cell_type": "code",
   "execution_count": 23,
   "metadata": {
    "collapsed": false
   },
   "outputs": [
    {
     "data": {
      "text/plain": [
       "9248009"
      ]
     },
     "execution_count": 23,
     "metadata": {},
     "output_type": "execute_result"
    }
   ],
   "source": [
    "train_sample.count()"
   ]
  },
  {
   "cell_type": "code",
   "execution_count": 24,
   "metadata": {
    "collapsed": false
   },
   "outputs": [
    {
     "data": {
      "text/plain": [
       "9248009"
      ]
     },
     "execution_count": 24,
     "metadata": {},
     "output_type": "execute_result"
    }
   ],
   "source": [
    "train.sample(fraction=0.05, withReplacement=False, seed=22).count()"
   ]
  },
  {
   "cell_type": "code",
   "execution_count": 25,
   "metadata": {
    "collapsed": false
   },
   "outputs": [
    {
     "name": "stdout",
     "output_type": "stream",
     "text": [
      "+------+---+---+----+------+------+---+-------+-------------------+---------------+-------------+--------------------+------------------------+------------------------+\n",
      "|ip    |app|day|hour|minute|device|os |channel|click_time         |attributed_time|is_attributed|ip_app_minute_clicks|ip_app_minute_std_second|ip_app_minute_avg_second|\n",
      "+------+---+---+----+------+------+---+-------+-------------------+---------------+-------------+--------------------+------------------------+------------------------+\n",
      "|1000  |18 |08 |02  |12    |1     |13 |107    |2017-11-08 02:12:02|null           |0            |1                   |0.0                     |2.0                     |\n",
      "|100002|12 |07 |13  |00    |1     |14 |178    |2017-11-07 13:00:53|null           |0            |1                   |0.0                     |53.0                    |\n",
      "|100002|12 |07 |23  |22    |1     |19 |265    |2017-11-07 23:22:52|null           |0            |1                   |0.0                     |52.0                    |\n",
      "|100005|18 |08 |23  |35    |1     |41 |376    |2017-11-08 23:35:42|null           |0            |1                   |0.0                     |42.0                    |\n",
      "|100009|3  |09 |02  |22    |1     |19 |280    |2017-11-09 02:22:25|null           |0            |1                   |0.0                     |25.0                    |\n",
      "+------+---+---+----+------+------+---+-------+-------------------+---------------+-------------+--------------------+------------------------+------------------------+\n",
      "only showing top 5 rows\n",
      "\n"
     ]
    }
   ],
   "source": [
    "train_sample.show(5, truncate=False)"
   ]
  },
  {
   "cell_type": "code",
   "execution_count": 26,
   "metadata": {
    "collapsed": true
   },
   "outputs": [],
   "source": [
    "features = ['ip_'+var+'_minute_clicks', 'ip_'+var+'_minute_std_second', 'ip_'+var+'_minute_avg_second']"
   ]
  },
  {
   "cell_type": "code",
   "execution_count": 27,
   "metadata": {
    "collapsed": false,
    "scrolled": false
   },
   "outputs": [
    {
     "data": {
      "image/png": "[encoded data removed]",
      "text/plain": [
       "<matplotlib.figure.Figure at 0x7f892da13e10>"
      ]
     },
     "metadata": {},
     "output_type": "display_data"
    },
    {
     "data": {
      "image/png": "[encoded data removed]",
      "text/plain": [
       "<matplotlib.figure.Figure at 0x7f892d4996a0>"
      ]
     },
     "metadata": {},
     "output_type": "display_data"
    },
    {
     "data": {
      "image/png": "[encoded data removed]",
      "text/plain": [
       "<matplotlib.figure.Figure at 0x7f88bd7f8cf8>"
      ]
     },
     "metadata": {},
     "output_type": "display_data"
    },
    {
     "data": {
      "image/png": "[encoded data removed]",
      "text/plain": [
       "<matplotlib.figure.Figure at 0x7f892d4bb240>"
      ]
     },
     "metadata": {},
     "output_type": "display_data"
    }
   ],
   "source": [
    "for f in features:\n",
    "    PDF = train_sample.select('is_attributed', f).toPandas()\n",
    "    PDF_sorted = PDF.sort_values(by=f)\n",
    "    PDF_sorted['roll'] = PDF_sorted.is_attributed.rolling(window=10000).mean()\n",
    "    plt.title('Impact of '+f)\n",
    "    plt.plot(PDF_sorted[f], PDF_sorted.roll)\n",
    "    plt.show()\n",
    "    \n",
    "    if np.max(PDF_sorted[f])>200:\n",
    "        PDF_filtered = PDF_sorted[PDF_sorted[f]<100]\n",
    "        plt.title('Impact of '+f)\n",
    "        plt.plot(PDF_filtered[f], PDF_filtered.roll)\n",
    "        plt.show()"
   ]
  },
  {
   "cell_type": "code",
   "execution_count": null,
   "metadata": {
    "collapsed": true
   },
   "outputs": [],
   "source": []
  }
 ],
 "metadata": {
  "anaconda-cloud": {},
  "kernelspec": {
   "display_name": "PySpark",
   "language": "python3",
   "name": "pyspark"
  },
  "language_info": {
   "codemirror_mode": {
    "name": "ipython",
    "version": 3
   },
   "file_extension": ".py",
   "mimetype": "text/x-python",
   "name": "python",
   "nbconvert_exporter": "python",
   "pygments_lexer": "ipython3",
   "version": "3.6.4"
  }
 },
 "nbformat": 4,
 "nbformat_minor": 2
}
