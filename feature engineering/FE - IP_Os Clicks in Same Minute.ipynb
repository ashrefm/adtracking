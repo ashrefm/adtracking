{
 "cells": [
  {
   "cell_type": "markdown",
   "metadata": {},
   "source": [
    "# Loading Libraries"
   ]
  },
  {
   "cell_type": "code",
   "execution_count": 2,
   "metadata": {
    "collapsed": true
   },
   "outputs": [],
   "source": [
    "import numpy as np\n",
    "import pandas as pd\n",
    "import matplotlib.pyplot as plt\n",
    "% matplotlib inline\n",
    "\n",
    "import seaborn as sns\n",
    "sns.set(rc={'figure.figsize':(12, 5)},\n",
    "        font_scale=1.5,\n",
    "        style=\"whitegrid\")\n",
    "        \n",
    "from pyspark.sql import HiveContext\n",
    "from pyspark.sql import SQLContext\n",
    "\n",
    "# initialize session hive and sql environments\n",
    "hiveContext = HiveContext(sc)\n",
    "sqlContext = SQLContext(sc)"
   ]
  },
  {
   "cell_type": "markdown",
   "metadata": {},
   "source": [
    "# Data Reading"
   ]
  },
  {
   "cell_type": "code",
   "execution_count": 3,
   "metadata": {
    "collapsed": true
   },
   "outputs": [],
   "source": [
    "project_folder = \"../\"\n",
    "datapath = project_folder + \"data/\"\n",
    "plotpath = project_folder + \"graphs/\"\n",
    "mungepath = project_folder + \"munge/\"\n",
    "configpath = project_folder + \"config/\"\n",
    "diagnostic = project_folder + \"diagnostic/\"\n",
    "modelpath = project_folder + \"model/\"\n",
    "output = project_folder + \"output/\""
   ]
  },
  {
   "cell_type": "code",
   "execution_count": 4,
   "metadata": {
    "collapsed": false
   },
   "outputs": [
    {
     "name": "stdout",
     "output_type": "stream",
     "text": [
      "Found 184903890 observations in training set.\n"
     ]
    }
   ],
   "source": [
    "from pyspark.sql.functions import col\n",
    "\n",
    "train = spark.read.csv(os.path.join(datapath,\"train.csv\"), header=True)\n",
    "print('Found %d observations in training set.' %train.count())"
   ]
  },
  {
   "cell_type": "code",
   "execution_count": 5,
   "metadata": {
    "collapsed": false
   },
   "outputs": [
    {
     "name": "stdout",
     "output_type": "stream",
     "text": [
      "Found 57536872 observations in test_old set.\n"
     ]
    }
   ],
   "source": [
    "from pyspark.sql.functions import col\n",
    "\n",
    "test_old = (spark.read.csv(os.path.join(datapath,\"test_supplement.csv\"), header=True)\n",
    "            .filter(col('click_time') >= '2017-11-09 16:00:00'))\n",
    "\n",
    "print('Found %d observations in test_old set.' %test_old.count())"
   ]
  },
  {
   "cell_type": "code",
   "execution_count": 6,
   "metadata": {
    "collapsed": false
   },
   "outputs": [
    {
     "name": "stdout",
     "output_type": "stream",
     "text": [
      "+------+---+------+---+-------+-------------------+---------------+-------------+\n",
      "|    ip|app|device| os|channel|         click_time|attributed_time|is_attributed|\n",
      "+------+---+------+---+-------+-------------------+---------------+-------------+\n",
      "| 83230|  3|     1| 13|    379|2017-11-06 14:32:21|           null|            0|\n",
      "| 17357|  3|     1| 19|    379|2017-11-06 14:33:34|           null|            0|\n",
      "| 35810|  3|     1| 13|    379|2017-11-06 14:34:12|           null|            0|\n",
      "| 45745| 14|     1| 13|    478|2017-11-06 14:34:52|           null|            0|\n",
      "|161007|  3|     1| 13|    379|2017-11-06 14:35:08|           null|            0|\n",
      "| 18787|  3|     1| 16|    379|2017-11-06 14:36:26|           null|            0|\n",
      "|103022|  3|     1| 23|    379|2017-11-06 14:37:44|           null|            0|\n",
      "|114221|  3|     1| 19|    379|2017-11-06 14:37:59|           null|            0|\n",
      "|165970|  3|     1| 13|    379|2017-11-06 14:38:10|           null|            0|\n",
      "| 74544| 64|     1| 22|    459|2017-11-06 14:38:23|           null|            0|\n",
      "+------+---+------+---+-------+-------------------+---------------+-------------+\n",
      "only showing top 10 rows\n",
      "\n"
     ]
    }
   ],
   "source": [
    "train.show(10)"
   ]
  },
  {
   "cell_type": "code",
   "execution_count": 7,
   "metadata": {
    "collapsed": false,
    "scrolled": true
   },
   "outputs": [
    {
     "name": "stdout",
     "output_type": "stream",
     "text": [
      "root\n",
      " |-- ip: string (nullable = true)\n",
      " |-- app: string (nullable = true)\n",
      " |-- device: string (nullable = true)\n",
      " |-- os: string (nullable = true)\n",
      " |-- channel: string (nullable = true)\n",
      " |-- click_time: string (nullable = true)\n",
      " |-- attributed_time: string (nullable = true)\n",
      " |-- is_attributed: string (nullable = true)\n",
      "\n"
     ]
    }
   ],
   "source": [
    "train.printSchema()"
   ]
  },
  {
   "cell_type": "markdown",
   "metadata": {},
   "source": [
    "# Build the full dataset"
   ]
  },
  {
   "cell_type": "code",
   "execution_count": 8,
   "metadata": {
    "collapsed": false
   },
   "outputs": [
    {
     "name": "stdout",
     "output_type": "stream",
     "text": [
      "Total number of clicks in one week: 242440762\n"
     ]
    }
   ],
   "source": [
    "# train and test set concatenation\n",
    "from pyspark.sql.functions import col\n",
    "data = (train.select('ip', 'app', 'device', 'os', 'channel', 'click_time')\n",
    "        .unionAll(test_old.select('ip', 'app', 'device', 'os', 'channel', 'click_time')))\n",
    "        \n",
    "print('Total number of clicks in one week:', data.count())"
   ]
  },
  {
   "cell_type": "code",
   "execution_count": 9,
   "metadata": {
    "collapsed": false
   },
   "outputs": [
    {
     "name": "stdout",
     "output_type": "stream",
     "text": [
      "+------+---+------+---+-------+-------------------+\n",
      "|    ip|app|device| os|channel|         click_time|\n",
      "+------+---+------+---+-------+-------------------+\n",
      "| 83230|  3|     1| 13|    379|2017-11-06 14:32:21|\n",
      "| 17357|  3|     1| 19|    379|2017-11-06 14:33:34|\n",
      "| 35810|  3|     1| 13|    379|2017-11-06 14:34:12|\n",
      "| 45745| 14|     1| 13|    478|2017-11-06 14:34:52|\n",
      "|161007|  3|     1| 13|    379|2017-11-06 14:35:08|\n",
      "+------+---+------+---+-------+-------------------+\n",
      "only showing top 5 rows\n",
      "\n"
     ]
    }
   ],
   "source": [
    "data.show(5)"
   ]
  },
  {
   "cell_type": "markdown",
   "metadata": {},
   "source": [
    "# Datetime Features"
   ]
  },
  {
   "cell_type": "code",
   "execution_count": 10,
   "metadata": {
    "collapsed": true
   },
   "outputs": [],
   "source": [
    "# day function\n",
    "def get_day(date):\n",
    "    \"\"\"\n",
    "    Returns the hour based on a string date\n",
    "        \n",
    "    Args:\n",
    "        date (String): A String containing the click datetime\n",
    "\n",
    "    Returns:\n",
    "        day: A String containing the day of click (\"06\", \"07\", ..\"10\")\n",
    "    \"\"\"\n",
    "    \n",
    "    return date[8:10]\n",
    "\n",
    "# hour function\n",
    "def get_hour(date):\n",
    "    \"\"\"\n",
    "    Returns the hour based on a string date\n",
    "        \n",
    "    Args:\n",
    "        date (String): A String containing the click datetime\n",
    "\n",
    "    Returns:\n",
    "        hour: A String containing the hour interval (\"01\", \"02\", ..\"23\")\n",
    "    \"\"\"\n",
    "    \n",
    "    return date[11:13]\n",
    "\n",
    "# minute function\n",
    "def get_minute(date):\n",
    "    \"\"\"\n",
    "    Returns the minute based on a string date\n",
    "        \n",
    "    Args:\n",
    "        date (String): A String containing the click datetime\n",
    "\n",
    "    Returns:\n",
    "        hour: A String containing the minute interval (\"01\", \"02\", ..\"59\")\n",
    "    \"\"\"\n",
    "    \n",
    "    return date[14:16]\n",
    "\n",
    "# second function\n",
    "def get_second(date):\n",
    "    \"\"\"\n",
    "    Returns the second based on a string date\n",
    "        \n",
    "    Args:\n",
    "        date (String): A String containing the click datetime\n",
    "\n",
    "    Returns:\n",
    "        hour: A String containing the minute interval (\"01\", \"02\", ..\"59\")\n",
    "    \"\"\"\n",
    "    \n",
    "    return date[17:19]"
   ]
  },
  {
   "cell_type": "code",
   "execution_count": 11,
   "metadata": {
    "collapsed": true
   },
   "outputs": [],
   "source": [
    "# Get datetime features\n",
    "from pyspark.sql.functions import udf\n",
    "from pyspark.sql.types import StringType\n",
    "\n",
    "day_udf = udf(get_day, StringType())\n",
    "hour_udf = udf(get_hour, StringType())\n",
    "minute_udf = udf(get_minute, StringType())\n",
    "second_udf = udf(get_second, StringType())\n",
    "\n",
    "data = data.withColumn('day', day_udf(data.click_time))\n",
    "data = data.withColumn('hour', hour_udf(data.click_time))\n",
    "data = data.withColumn('minute', minute_udf(data.click_time))\n",
    "data = data.withColumn('second', second_udf(data.click_time))"
   ]
  },
  {
   "cell_type": "code",
   "execution_count": 12,
   "metadata": {
    "collapsed": false
   },
   "outputs": [
    {
     "name": "stdout",
     "output_type": "stream",
     "text": [
      "+------+---+------+---+-------+-------------------+---+----+------+------+\n",
      "|    ip|app|device| os|channel|         click_time|day|hour|minute|second|\n",
      "+------+---+------+---+-------+-------------------+---+----+------+------+\n",
      "| 83230|  3|     1| 13|    379|2017-11-06 14:32:21| 06|  14|    32|    21|\n",
      "| 17357|  3|     1| 19|    379|2017-11-06 14:33:34| 06|  14|    33|    34|\n",
      "| 35810|  3|     1| 13|    379|2017-11-06 14:34:12| 06|  14|    34|    12|\n",
      "| 45745| 14|     1| 13|    478|2017-11-06 14:34:52| 06|  14|    34|    52|\n",
      "|161007|  3|     1| 13|    379|2017-11-06 14:35:08| 06|  14|    35|    08|\n",
      "+------+---+------+---+-------+-------------------+---+----+------+------+\n",
      "only showing top 5 rows\n",
      "\n"
     ]
    }
   ],
   "source": [
    "data.show(5)"
   ]
  },
  {
   "cell_type": "markdown",
   "metadata": {},
   "source": [
    "# IP Number of Clicks for same Os in same Minute"
   ]
  },
  {
   "cell_type": "code",
   "execution_count": 13,
   "metadata": {
    "collapsed": true
   },
   "outputs": [],
   "source": [
    "from pyspark.sql.functions import col, unix_timestamp, lit\n",
    "import pyspark.sql.functions as func"
   ]
  },
  {
   "cell_type": "code",
   "execution_count": 14,
   "metadata": {
    "collapsed": true
   },
   "outputs": [],
   "source": [
    "var = 'os'"
   ]
  },
  {
   "cell_type": "code",
   "execution_count": 15,
   "metadata": {
    "collapsed": false
   },
   "outputs": [
    {
     "name": "stdout",
     "output_type": "stream",
     "text": [
      "+------+---+---+----+------+-------------------+-----------------------+-----------------------+\n",
      "|ip    |os |day|hour|minute|ip_os_minute_clicks|ip_os_minute_std_second|ip_os_minute_avg_second|\n",
      "+------+---+---+----+------+-------------------+-----------------------+-----------------------+\n",
      "|5348  |9  |06 |22  |46    |11                 |14.08                  |33.18                  |\n",
      "|37302 |27 |06 |22  |46    |5                  |23.78                  |18.8                   |\n",
      "|24787 |13 |06 |22  |46    |1                  |0.0                    |40.0                   |\n",
      "|31267 |58 |06 |22  |46    |7                  |15.69                  |32.43                  |\n",
      "|81550 |19 |06 |22  |46    |6                  |10.26                  |49.0                   |\n",
      "|175021|0  |06 |22  |46    |1                  |0.0                    |45.0                   |\n",
      "|192569|15 |06 |22  |46    |4                  |0.96                   |47.25                  |\n",
      "|162620|25 |06 |22  |46    |4                  |4.65                   |50.5                   |\n",
      "|48282 |25 |06 |22  |46    |3                  |21.66                  |21.0                   |\n",
      "|80195 |10 |06 |22  |46    |10                 |11.17                  |26.9                   |\n",
      "|193448|19 |06 |22  |46    |10                 |22.91                  |26.7                   |\n",
      "|86092 |19 |06 |22  |46    |7                  |13.56                  |17.29                  |\n",
      "|132637|17 |06 |22  |46    |1                  |0.0                    |49.0                   |\n",
      "|47455 |31 |06 |22  |46    |2                  |0.0                    |49.0                   |\n",
      "|108341|23 |06 |22  |46    |1                  |0.0                    |49.0                   |\n",
      "|111074|4  |06 |22  |46    |2                  |4.95                   |54.5                   |\n",
      "|50747 |19 |06 |22  |46    |3                  |23.18                  |39.67                  |\n",
      "|100654|23 |06 |22  |46    |1                  |0.0                    |52.0                   |\n",
      "|67122 |18 |06 |22  |46    |2                  |0.0                    |53.0                   |\n",
      "|21734 |6  |06 |22  |46    |2                  |0.0                    |56.0                   |\n",
      "|137052|19 |06 |22  |46    |14                 |19.21                  |23.5                   |\n",
      "|116925|28 |06 |22  |46    |5                  |16.35                  |31.8                   |\n",
      "|77233 |22 |06 |22  |46    |2                  |0.0                    |58.0                   |\n",
      "|80455 |13 |06 |22  |46    |1                  |0.0                    |59.0                   |\n",
      "|15819 |13 |06 |22  |46    |3                  |0.0                    |59.0                   |\n",
      "|108881|10 |06 |22  |47    |6                  |12.88                  |14.17                  |\n",
      "|67606 |19 |06 |22  |47    |19                 |14.48                  |22.32                  |\n",
      "|144604|13 |06 |22  |47    |17                 |16.49                  |32.06                  |\n",
      "|68233 |25 |06 |22  |47    |1                  |0.0                    |3.0                    |\n",
      "|37919 |19 |06 |22  |47    |2                  |0.0                    |4.0                    |\n",
      "|106171|18 |06 |22  |47    |1                  |0.0                    |5.0                    |\n",
      "|58472 |9  |06 |22  |47    |10                 |12.05                  |22.2                   |\n",
      "|180506|17 |06 |22  |47    |15                 |13.11                  |26.0                   |\n",
      "|118625|9  |06 |22  |47    |2                  |0.0                    |11.0                   |\n",
      "|26749 |13 |06 |22  |47    |5                  |12.43                  |33.0                   |\n",
      "|192622|10 |06 |22  |47    |2                  |0.71                   |16.5                   |\n",
      "|56823 |22 |06 |22  |47    |3                  |2.31                   |19.67                  |\n",
      "|39156 |12 |06 |22  |47    |2                  |0.0                    |19.0                   |\n",
      "|64009 |19 |06 |22  |47    |3                  |3.21                   |22.33                  |\n",
      "|100519|13 |06 |22  |47    |1                  |0.0                    |21.0                   |\n",
      "|34489 |16 |06 |22  |47    |2                  |0.0                    |22.0                   |\n",
      "|39756 |41 |06 |22  |47    |1                  |0.0                    |25.0                   |\n",
      "|93054 |16 |06 |22  |47    |5                  |10.18                  |35.2                   |\n",
      "|105335|22 |06 |22  |47    |6                  |10.7                   |43.17                  |\n",
      "|186129|13 |06 |22  |47    |7                  |0.38                   |26.86                  |\n",
      "|121076|11 |06 |22  |47    |4                  |0.58                   |28.5                   |\n",
      "|81107 |20 |06 |22  |47    |4                  |14.01                  |45.75                  |\n",
      "|9101  |19 |06 |22  |47    |1                  |0.0                    |33.0                   |\n",
      "|198659|31 |06 |22  |47    |1                  |0.0                    |34.0                   |\n",
      "|90485 |19 |06 |22  |47    |6                  |5.13                   |42.33                  |\n",
      "|155625|13 |06 |22  |47    |1                  |0.0                    |39.0                   |\n",
      "|17346 |19 |06 |22  |47    |1                  |0.0                    |40.0                   |\n",
      "|46803 |13 |06 |22  |47    |3                  |0.58                   |44.33                  |\n",
      "|5011  |48 |06 |22  |47    |4                  |0.82                   |58.0                   |\n",
      "|21323 |19 |06 |22  |48    |10                 |7.93                   |10.5                   |\n",
      "|27646 |607|06 |22  |48    |2                  |0.71                   |0.5                    |\n",
      "|1393  |19 |06 |22  |48    |3                  |8.74                   |8.33                   |\n",
      "|102118|35 |06 |22  |48    |4                  |0.96                   |3.75                   |\n",
      "|136541|18 |06 |22  |48    |1                  |0.0                    |7.0                    |\n",
      "|109144|13 |06 |22  |48    |1                  |0.0                    |8.0                    |\n",
      "|96101 |16 |06 |22  |48    |4                  |6.0                    |18.0                   |\n",
      "|37813 |42 |06 |22  |48    |2                  |0.0                    |10.0                   |\n",
      "|77399 |13 |06 |22  |48    |3                  |23.03                  |29.67                  |\n",
      "|71742 |22 |06 |22  |48    |1                  |0.0                    |10.0                   |\n",
      "|152186|25 |06 |22  |48    |3                  |0.58                   |10.33                  |\n",
      "|114795|44 |06 |22  |48    |4                  |0.5                    |10.75                  |\n",
      "|123729|47 |06 |22  |48    |6                  |0.41                   |10.83                  |\n",
      "|29412 |17 |06 |22  |48    |6                  |16.5                   |23.0                   |\n",
      "|114276|35 |06 |22  |48    |1                  |0.0                    |12.0                   |\n",
      "|110064|41 |06 |22  |48    |8                  |14.29                  |47.0                   |\n",
      "|46415 |11 |06 |22  |48    |3                  |0.58                   |14.67                  |\n",
      "|109340|24 |06 |22  |48    |1                  |0.0                    |15.0                   |\n",
      "|35182 |13 |06 |22  |48    |1                  |0.0                    |16.0                   |\n",
      "|19757 |27 |06 |22  |48    |1                  |0.0                    |16.0                   |\n",
      "|138516|35 |06 |22  |48    |3                  |2.52                   |19.67                  |\n",
      "|109734|12 |06 |22  |48    |1                  |0.0                    |17.0                   |\n",
      "|182626|18 |06 |22  |48    |5                  |13.33                  |32.2                   |\n",
      "|123924|19 |06 |22  |48    |4                  |3.11                   |30.5                   |\n",
      "|99927 |13 |06 |22  |48    |2                  |7.78                   |34.5                   |\n",
      "|83061 |10 |06 |22  |48    |1                  |0.0                    |31.0                   |\n",
      "|9268  |10 |06 |22  |48    |2                  |0.71                   |34.5                   |\n",
      "|32600 |14 |06 |22  |48    |1                  |0.0                    |37.0                   |\n",
      "|43827 |15 |06 |22  |48    |7                  |6.88                   |47.43                  |\n",
      "|91574 |13 |06 |22  |48    |1                  |0.0                    |39.0                   |\n",
      "|871   |13 |06 |22  |48    |6                  |6.41                   |47.5                   |\n",
      "|37150 |19 |06 |22  |48    |3                  |0.58                   |43.67                  |\n",
      "|22612 |15 |06 |22  |48    |2                  |0.0                    |43.0                   |\n",
      "|123654|8  |06 |22  |48    |10                 |7.03                   |49.6                   |\n",
      "|76811 |25 |06 |22  |48    |7                  |4.88                   |47.14                  |\n",
      "|106770|22 |06 |22  |48    |1                  |0.0                    |46.0                   |\n",
      "|110797|13 |06 |22  |48    |2                  |0.0                    |48.0                   |\n",
      "|153221|53 |06 |22  |48    |5                  |4.44                   |52.2                   |\n",
      "|70280 |10 |06 |22  |48    |1                  |0.0                    |53.0                   |\n",
      "|37813 |23 |06 |22  |48    |2                  |0.71                   |54.5                   |\n",
      "|37168 |13 |06 |22  |48    |1                  |0.0                    |55.0                   |\n",
      "|7872  |19 |06 |22  |48    |3                  |0.58                   |57.67                  |\n",
      "|100393|23 |06 |22  |48    |2                  |0.0                    |59.0                   |\n",
      "|23182 |22 |06 |22  |48    |1                  |0.0                    |59.0                   |\n",
      "|99989 |19 |06 |22  |48    |1                  |0.0                    |59.0                   |\n",
      "|47696 |12 |06 |22  |49    |8                  |25.54                  |14.63                  |\n",
      "+------+---+---+----+------+-------------------+-----------------------+-----------------------+\n",
      "only showing top 100 rows\n",
      "\n"
     ]
    }
   ],
   "source": [
    "ip_var_minute_clicks = (data\n",
    "                        .groupBy('ip', var, 'day', 'hour', 'minute')\n",
    "                        .agg(func.count(func.lit(1)).alias('ip_'+var+'_minute_clicks'),\n",
    "                             func.round(func.stddev(col('second')), 2).alias('ip_'+var+'_minute_std_second'),\n",
    "                             func.round(func.mean(col('second')), 2).alias('ip_'+var+'_minute_avg_second'))\n",
    "                        .fillna({'ip_'+var+'_minute_std_second':0,\n",
    "                               'ip_'+var+'_minute_avg_second':0})\n",
    "                      .cache())\n",
    "\n",
    "ip_var_minute_clicks.show(100, truncate=False)"
   ]
  },
  {
   "cell_type": "code",
   "execution_count": 17,
   "metadata": {
    "collapsed": false
   },
   "outputs": [
    {
     "name": "stdout",
     "output_type": "stream",
     "text": [
      "+-----+---+------+---+-------+-------------------+---+----+------+------+\n",
      "|ip   |app|device|os |channel|click_time         |day|hour|minute|second|\n",
      "+-----+---+------+---+-------+-------------------+---+----+------+------+\n",
      "|37302|3  |1     |27 |205    |2017-11-06 22:45:54|06 |22  |45    |54    |\n",
      "|37302|15 |1     |27 |386    |2017-11-06 22:46:01|06 |22  |46    |01    |\n",
      "|37302|2  |1     |27 |122    |2017-11-06 22:46:02|06 |22  |46    |02    |\n",
      "|37302|14 |1     |27 |463    |2017-11-06 22:46:02|06 |22  |46    |02    |\n",
      "|37302|12 |1     |27 |481    |2017-11-06 22:46:39|06 |22  |46    |39    |\n",
      "|37302|3  |1     |27 |115    |2017-11-06 22:46:50|06 |22  |46    |50    |\n",
      "|37302|18 |1     |27 |107    |2017-11-09 09:44:07|09 |09  |44    |07    |\n",
      "+-----+---+------+---+-------+-------------------+---+----+------+------+\n",
      "\n"
     ]
    }
   ],
   "source": [
    "data.filter((col('ip')==37302) & (col(var)==27)).show(truncate=False)"
   ]
  },
  {
   "cell_type": "markdown",
   "metadata": {},
   "source": [
    "## Export New Features"
   ]
  },
  {
   "cell_type": "code",
   "execution_count": 18,
   "metadata": {
    "collapsed": true
   },
   "outputs": [],
   "source": [
    "(ip_var_minute_clicks\n",
    " .coalesce(1)\n",
    " .write\n",
    " .format(\"com.databricks.spark.csv\")\n",
    " .option(\"header\", \"true\")\n",
    " .mode(\"overwrite\")\n",
    " .save(mungepath+\"f_ip_\"+var+\"_minute_clicks\", compression=\"None\"))"
   ]
  },
  {
   "cell_type": "code",
   "execution_count": 19,
   "metadata": {
    "collapsed": false
   },
   "outputs": [
    {
     "data": {
      "text/plain": [
       "85228220"
      ]
     },
     "execution_count": 19,
     "metadata": {},
     "output_type": "execute_result"
    }
   ],
   "source": [
    "ip_var_minute_clicks.count()"
   ]
  },
  {
   "cell_type": "markdown",
   "metadata": {},
   "source": [
    "## Check the impact of new features"
   ]
  },
  {
   "cell_type": "code",
   "execution_count": 20,
   "metadata": {
    "collapsed": false
   },
   "outputs": [
    {
     "name": "stdout",
     "output_type": "stream",
     "text": [
      "+--------------------+\n",
      "|  avg(is_attributed)|\n",
      "+--------------------+\n",
      "|0.002470721410998979|\n",
      "+--------------------+\n",
      "\n"
     ]
    }
   ],
   "source": [
    "import pyspark.sql.functions as func\n",
    "\n",
    "train.groupBy().agg(func.mean(col('is_attributed'))).show()"
   ]
  },
  {
   "cell_type": "code",
   "execution_count": 21,
   "metadata": {
    "collapsed": true
   },
   "outputs": [],
   "source": [
    "train_sample = (train.sample(fraction=0.05, withReplacement=False, seed=22)\n",
    "                .withColumn('day', day_udf(data.click_time))\n",
    "                .withColumn('hour', hour_udf(data.click_time))\n",
    "                .withColumn('minute', minute_udf(data.click_time))\n",
    "                .join(ip_var_minute_clicks, ['ip', var, 'day', 'hour', 'minute'], 'left_outer')\n",
    "                .cache())"
   ]
  },
  {
   "cell_type": "code",
   "execution_count": 22,
   "metadata": {
    "collapsed": false
   },
   "outputs": [
    {
     "data": {
      "text/plain": [
       "9248009"
      ]
     },
     "execution_count": 22,
     "metadata": {},
     "output_type": "execute_result"
    }
   ],
   "source": [
    "train_sample.count()"
   ]
  },
  {
   "cell_type": "code",
   "execution_count": 23,
   "metadata": {
    "collapsed": false
   },
   "outputs": [
    {
     "data": {
      "text/plain": [
       "9248009"
      ]
     },
     "execution_count": 23,
     "metadata": {},
     "output_type": "execute_result"
    }
   ],
   "source": [
    "train.sample(fraction=0.05, withReplacement=False, seed=22).count()"
   ]
  },
  {
   "cell_type": "code",
   "execution_count": 24,
   "metadata": {
    "collapsed": false
   },
   "outputs": [
    {
     "name": "stdout",
     "output_type": "stream",
     "text": [
      "+------+---+---+----+------+---+------+-------+-------------------+---------------+-------------+-------------------+-----------------------+-----------------------+\n",
      "|ip    |os |day|hour|minute|app|device|channel|click_time         |attributed_time|is_attributed|ip_os_minute_clicks|ip_os_minute_std_second|ip_os_minute_avg_second|\n",
      "+------+---+---+----+------+---+------+-------+-------------------+---------------+-------------+-------------------+-----------------------+-----------------------+\n",
      "|1000  |13 |08 |07  |41    |1  |1     |115    |2017-11-08 07:41:37|null           |0            |8                  |15.52                  |27.25                  |\n",
      "|100002|19 |08 |09  |25    |3  |1     |135    |2017-11-08 09:25:42|null           |0            |8                  |1.07                   |41.5                   |\n",
      "|100009|19 |08 |22  |43    |12 |1     |265    |2017-11-08 22:43:15|null           |0            |7                  |20.37                  |16.14                  |\n",
      "|100013|19 |09 |00  |50    |8  |1     |145    |2017-11-09 00:50:05|null           |0            |9                  |13.35                  |10.0                   |\n",
      "|100013|8  |08 |05  |42    |9  |1     |334    |2017-11-08 05:42:51|null           |0            |1                  |0.0                    |51.0                   |\n",
      "+------+---+---+----+------+---+------+-------+-------------------+---------------+-------------+-------------------+-----------------------+-----------------------+\n",
      "only showing top 5 rows\n",
      "\n"
     ]
    }
   ],
   "source": [
    "train_sample.show(5, truncate=False)"
   ]
  },
  {
   "cell_type": "code",
   "execution_count": 25,
   "metadata": {
    "collapsed": true
   },
   "outputs": [],
   "source": [
    "features = ['ip_'+var+'_minute_clicks', 'ip_'+var+'_minute_std_second', 'ip_'+var+'_minute_avg_second']"
   ]
  },
  {
   "cell_type": "code",
   "execution_count": 26,
   "metadata": {
    "collapsed": false,
    "scrolled": false
   },
   "outputs": [
    {
     "data": {
      "image/png": "[encoded data removed]",
      "text/plain": [
       "<matplotlib.figure.Figure at 0x7f8b813692b0>"
      ]
     },
     "metadata": {},
     "output_type": "display_data"
    },
    {
     "data": {
      "image/png": "[encoded data removed]",
      "text/plain": [
       "<matplotlib.figure.Figure at 0x7f8b10ba1780>"
      ]
     },
     "metadata": {},
     "output_type": "display_data"
    },
    {
     "data": {
      "image/png": "[encoded data removed]",
      "text/plain": [
       "<matplotlib.figure.Figure at 0x7f8bb0ae1dd8>"
      ]
     },
     "metadata": {},
     "output_type": "display_data"
    },
    {
     "data": {
      "image/png": "[encoded data removed]",
      "text/plain": [
       "<matplotlib.figure.Figure at 0x7f8b9a8346a0>"
      ]
     },
     "metadata": {},
     "output_type": "display_data"
    }
   ],
   "source": [
    "for f in features:\n",
    "    PDF = train_sample.select('is_attributed', f).toPandas()\n",
    "    PDF_sorted = PDF.sort_values(by=f)\n",
    "    PDF_sorted['roll'] = PDF_sorted.is_attributed.rolling(window=10000).mean()\n",
    "    plt.title('Impact of '+f)\n",
    "    plt.plot(PDF_sorted[f], PDF_sorted.roll)\n",
    "    plt.show()\n",
    "    \n",
    "    if np.max(PDF_sorted[f])>200:\n",
    "        PDF_filtered = PDF_sorted[PDF_sorted[f]<100]\n",
    "        plt.title('Impact of '+f)\n",
    "        plt.plot(PDF_filtered[f], PDF_filtered.roll)\n",
    "        plt.show()"
   ]
  },
  {
   "cell_type": "code",
   "execution_count": null,
   "metadata": {
    "collapsed": true
   },
   "outputs": [],
   "source": []
  }
 ],
 "metadata": {
  "anaconda-cloud": {},
  "kernelspec": {
   "display_name": "PySpark",
   "language": "python3",
   "name": "pyspark"
  },
  "language_info": {
   "codemirror_mode": {
    "name": "ipython",
    "version": 3
   },
   "file_extension": ".py",
   "mimetype": "text/x-python",
   "name": "python",
   "nbconvert_exporter": "python",
   "pygments_lexer": "ipython3",
   "version": "3.6.4"
  }
 },
 "nbformat": 4,
 "nbformat_minor": 2
}
