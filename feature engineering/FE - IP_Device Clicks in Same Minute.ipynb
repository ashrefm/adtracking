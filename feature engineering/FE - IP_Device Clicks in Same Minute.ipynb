{
 "cells": [
  {
   "cell_type": "markdown",
   "metadata": {},
   "source": [
    "# Loading Libraries"
   ]
  },
  {
   "cell_type": "code",
   "execution_count": 2,
   "metadata": {
    "collapsed": true
   },
   "outputs": [],
   "source": [
    "import numpy as np\n",
    "import pandas as pd\n",
    "import matplotlib.pyplot as plt\n",
    "% matplotlib inline\n",
    "\n",
    "import seaborn as sns\n",
    "sns.set(rc={'figure.figsize':(12, 5)},\n",
    "        font_scale=1.5,\n",
    "        style=\"whitegrid\")\n",
    "        \n",
    "from pyspark.sql import HiveContext\n",
    "from pyspark.sql import SQLContext\n",
    "\n",
    "# initialize session hive and sql environments\n",
    "hiveContext = HiveContext(sc)\n",
    "sqlContext = SQLContext(sc)"
   ]
  },
  {
   "cell_type": "markdown",
   "metadata": {},
   "source": [
    "# Data Reading"
   ]
  },
  {
   "cell_type": "code",
   "execution_count": 3,
   "metadata": {
    "collapsed": true
   },
   "outputs": [],
   "source": [
    "project_folder = \"../\"\n",
    "datapath = project_folder + \"data/\"\n",
    "plotpath = project_folder + \"graphs/\"\n",
    "mungepath = project_folder + \"munge/\"\n",
    "configpath = project_folder + \"config/\"\n",
    "diagnostic = project_folder + \"diagnostic/\"\n",
    "modelpath = project_folder + \"model/\"\n",
    "output = project_folder + \"output/\""
   ]
  },
  {
   "cell_type": "code",
   "execution_count": 4,
   "metadata": {
    "collapsed": false
   },
   "outputs": [
    {
     "name": "stdout",
     "output_type": "stream",
     "text": [
      "Found 184903890 observations in training set.\n"
     ]
    }
   ],
   "source": [
    "from pyspark.sql.functions import col\n",
    "\n",
    "train = spark.read.csv(os.path.join(datapath,\"train.csv\"), header=True)\n",
    "print('Found %d observations in training set.' %train.count())"
   ]
  },
  {
   "cell_type": "code",
   "execution_count": 5,
   "metadata": {
    "collapsed": false
   },
   "outputs": [
    {
     "name": "stdout",
     "output_type": "stream",
     "text": [
      "Found 57536872 observations in test_old set.\n"
     ]
    }
   ],
   "source": [
    "from pyspark.sql.functions import col\n",
    "\n",
    "test_old = (spark.read.csv(os.path.join(datapath,\"test_supplement.csv\"), header=True)\n",
    "            .filter(col('click_time') >= '2017-11-09 16:00:00'))\n",
    "\n",
    "print('Found %d observations in test_old set.' %test_old.count())"
   ]
  },
  {
   "cell_type": "code",
   "execution_count": 6,
   "metadata": {
    "collapsed": false
   },
   "outputs": [
    {
     "name": "stdout",
     "output_type": "stream",
     "text": [
      "+------+---+------+---+-------+-------------------+---------------+-------------+\n",
      "|    ip|app|device| os|channel|         click_time|attributed_time|is_attributed|\n",
      "+------+---+------+---+-------+-------------------+---------------+-------------+\n",
      "| 83230|  3|     1| 13|    379|2017-11-06 14:32:21|           null|            0|\n",
      "| 17357|  3|     1| 19|    379|2017-11-06 14:33:34|           null|            0|\n",
      "| 35810|  3|     1| 13|    379|2017-11-06 14:34:12|           null|            0|\n",
      "| 45745| 14|     1| 13|    478|2017-11-06 14:34:52|           null|            0|\n",
      "|161007|  3|     1| 13|    379|2017-11-06 14:35:08|           null|            0|\n",
      "| 18787|  3|     1| 16|    379|2017-11-06 14:36:26|           null|            0|\n",
      "|103022|  3|     1| 23|    379|2017-11-06 14:37:44|           null|            0|\n",
      "|114221|  3|     1| 19|    379|2017-11-06 14:37:59|           null|            0|\n",
      "|165970|  3|     1| 13|    379|2017-11-06 14:38:10|           null|            0|\n",
      "| 74544| 64|     1| 22|    459|2017-11-06 14:38:23|           null|            0|\n",
      "+------+---+------+---+-------+-------------------+---------------+-------------+\n",
      "only showing top 10 rows\n",
      "\n"
     ]
    }
   ],
   "source": [
    "train.show(10)"
   ]
  },
  {
   "cell_type": "code",
   "execution_count": 7,
   "metadata": {
    "collapsed": false,
    "scrolled": true
   },
   "outputs": [
    {
     "name": "stdout",
     "output_type": "stream",
     "text": [
      "root\n",
      " |-- ip: string (nullable = true)\n",
      " |-- app: string (nullable = true)\n",
      " |-- device: string (nullable = true)\n",
      " |-- os: string (nullable = true)\n",
      " |-- channel: string (nullable = true)\n",
      " |-- click_time: string (nullable = true)\n",
      " |-- attributed_time: string (nullable = true)\n",
      " |-- is_attributed: string (nullable = true)\n",
      "\n"
     ]
    }
   ],
   "source": [
    "train.printSchema()"
   ]
  },
  {
   "cell_type": "markdown",
   "metadata": {},
   "source": [
    "# Build the full dataset"
   ]
  },
  {
   "cell_type": "code",
   "execution_count": 8,
   "metadata": {
    "collapsed": false
   },
   "outputs": [
    {
     "name": "stdout",
     "output_type": "stream",
     "text": [
      "Total number of clicks in one week: 242440762\n"
     ]
    }
   ],
   "source": [
    "# train and test set concatenation\n",
    "from pyspark.sql.functions import col\n",
    "data = (train.select('ip', 'app', 'device', 'os', 'channel', 'click_time')\n",
    "        .unionAll(test_old.select('ip', 'app', 'device', 'os', 'channel', 'click_time')))\n",
    "        \n",
    "print('Total number of clicks in one week:', data.count())"
   ]
  },
  {
   "cell_type": "code",
   "execution_count": 9,
   "metadata": {
    "collapsed": false
   },
   "outputs": [
    {
     "name": "stdout",
     "output_type": "stream",
     "text": [
      "+------+---+------+---+-------+-------------------+\n",
      "|    ip|app|device| os|channel|         click_time|\n",
      "+------+---+------+---+-------+-------------------+\n",
      "| 83230|  3|     1| 13|    379|2017-11-06 14:32:21|\n",
      "| 17357|  3|     1| 19|    379|2017-11-06 14:33:34|\n",
      "| 35810|  3|     1| 13|    379|2017-11-06 14:34:12|\n",
      "| 45745| 14|     1| 13|    478|2017-11-06 14:34:52|\n",
      "|161007|  3|     1| 13|    379|2017-11-06 14:35:08|\n",
      "+------+---+------+---+-------+-------------------+\n",
      "only showing top 5 rows\n",
      "\n"
     ]
    }
   ],
   "source": [
    "data.show(5)"
   ]
  },
  {
   "cell_type": "markdown",
   "metadata": {},
   "source": [
    "# Datetime Features"
   ]
  },
  {
   "cell_type": "code",
   "execution_count": 10,
   "metadata": {
    "collapsed": true
   },
   "outputs": [],
   "source": [
    "# day function\n",
    "def get_day(date):\n",
    "    \"\"\"\n",
    "    Returns the hour based on a string date\n",
    "        \n",
    "    Args:\n",
    "        date (String): A String containing the click datetime\n",
    "\n",
    "    Returns:\n",
    "        day: A String containing the day of click (\"06\", \"07\", ..\"10\")\n",
    "    \"\"\"\n",
    "    \n",
    "    return date[8:10]\n",
    "\n",
    "# hour function\n",
    "def get_hour(date):\n",
    "    \"\"\"\n",
    "    Returns the hour based on a string date\n",
    "        \n",
    "    Args:\n",
    "        date (String): A String containing the click datetime\n",
    "\n",
    "    Returns:\n",
    "        hour: A String containing the hour interval (\"01\", \"02\", ..\"23\")\n",
    "    \"\"\"\n",
    "    \n",
    "    return date[11:13]\n",
    "\n",
    "# minute function\n",
    "def get_minute(date):\n",
    "    \"\"\"\n",
    "    Returns the minute based on a string date\n",
    "        \n",
    "    Args:\n",
    "        date (String): A String containing the click datetime\n",
    "\n",
    "    Returns:\n",
    "        hour: A String containing the minute interval (\"01\", \"02\", ..\"59\")\n",
    "    \"\"\"\n",
    "    \n",
    "    return date[14:16]\n",
    "\n",
    "# second function\n",
    "def get_second(date):\n",
    "    \"\"\"\n",
    "    Returns the second based on a string date\n",
    "        \n",
    "    Args:\n",
    "        date (String): A String containing the click datetime\n",
    "\n",
    "    Returns:\n",
    "        hour: A String containing the minute interval (\"01\", \"02\", ..\"59\")\n",
    "    \"\"\"\n",
    "    \n",
    "    return date[17:19]"
   ]
  },
  {
   "cell_type": "code",
   "execution_count": 11,
   "metadata": {
    "collapsed": true
   },
   "outputs": [],
   "source": [
    "# Get datetime features\n",
    "from pyspark.sql.functions import udf\n",
    "from pyspark.sql.types import StringType\n",
    "\n",
    "day_udf = udf(get_day, StringType())\n",
    "hour_udf = udf(get_hour, StringType())\n",
    "minute_udf = udf(get_minute, StringType())\n",
    "second_udf = udf(get_second, StringType())\n",
    "\n",
    "data = data.withColumn('day', day_udf(data.click_time))\n",
    "data = data.withColumn('hour', hour_udf(data.click_time))\n",
    "data = data.withColumn('minute', minute_udf(data.click_time))\n",
    "data = data.withColumn('second', second_udf(data.click_time))"
   ]
  },
  {
   "cell_type": "code",
   "execution_count": 12,
   "metadata": {
    "collapsed": false
   },
   "outputs": [
    {
     "name": "stdout",
     "output_type": "stream",
     "text": [
      "+------+---+------+---+-------+-------------------+---+----+------+------+\n",
      "|    ip|app|device| os|channel|         click_time|day|hour|minute|second|\n",
      "+------+---+------+---+-------+-------------------+---+----+------+------+\n",
      "| 83230|  3|     1| 13|    379|2017-11-06 14:32:21| 06|  14|    32|    21|\n",
      "| 17357|  3|     1| 19|    379|2017-11-06 14:33:34| 06|  14|    33|    34|\n",
      "| 35810|  3|     1| 13|    379|2017-11-06 14:34:12| 06|  14|    34|    12|\n",
      "| 45745| 14|     1| 13|    478|2017-11-06 14:34:52| 06|  14|    34|    52|\n",
      "|161007|  3|     1| 13|    379|2017-11-06 14:35:08| 06|  14|    35|    08|\n",
      "+------+---+------+---+-------+-------------------+---+----+------+------+\n",
      "only showing top 5 rows\n",
      "\n"
     ]
    }
   ],
   "source": [
    "data.show(5)"
   ]
  },
  {
   "cell_type": "markdown",
   "metadata": {},
   "source": [
    "# IP Number of Clicks for same Device in same Minute"
   ]
  },
  {
   "cell_type": "code",
   "execution_count": 13,
   "metadata": {
    "collapsed": true
   },
   "outputs": [],
   "source": [
    "from pyspark.sql.functions import col, unix_timestamp, lit\n",
    "import pyspark.sql.functions as func"
   ]
  },
  {
   "cell_type": "code",
   "execution_count": 14,
   "metadata": {
    "collapsed": true
   },
   "outputs": [],
   "source": [
    "var = 'device'"
   ]
  },
  {
   "cell_type": "code",
   "execution_count": 15,
   "metadata": {
    "collapsed": false
   },
   "outputs": [
    {
     "name": "stdout",
     "output_type": "stream",
     "text": [
      "+------+------+---+----+------+-----------------------+---------------------------+---------------------------+\n",
      "|ip    |device|day|hour|minute|ip_device_minute_clicks|ip_device_minute_std_second|ip_device_minute_avg_second|\n",
      "+------+------+---+----+------+-----------------------+---------------------------+---------------------------+\n",
      "|80447 |1     |06 |14  |40    |1                      |0.0                        |51.0                       |\n",
      "|107922|1     |06 |15  |57    |1                      |0.0                        |30.0                       |\n",
      "|42041 |1     |06 |16  |00    |10                     |11.0                       |9.8                        |\n",
      "|178873|1     |06 |16  |00    |26                     |14.35                      |30.15                      |\n",
      "|209129|1     |06 |16  |00    |3                      |15.95                      |10.67                      |\n",
      "|4403  |1     |06 |16  |00    |9                      |17.57                      |19.56                      |\n",
      "|74803 |1     |06 |16  |00    |24                     |13.85                      |34.25                      |\n",
      "|2180  |1     |06 |16  |00    |7                      |20.06                      |42.43                      |\n",
      "|89450 |1     |06 |16  |00    |2                      |2.12                       |5.5                        |\n",
      "|25588 |1     |06 |16  |00    |6                      |5.54                       |13.67                      |\n",
      "|105695|1     |06 |16  |00    |10                     |18.11                      |35.4                       |\n",
      "|113839|1     |06 |16  |00    |1                      |0.0                        |7.0                        |\n",
      "|68417 |1     |06 |16  |00    |2                      |0.71                       |8.5                        |\n",
      "|110242|1     |06 |16  |00    |5                      |2.0                        |12.0                       |\n",
      "|17289 |1     |06 |16  |00    |13                     |11.17                      |31.31                      |\n",
      "|26589 |2     |06 |16  |00    |1                      |0.0                        |10.0                       |\n",
      "|141511|1     |06 |16  |00    |3                      |17.52                      |30.0                       |\n",
      "|3093  |1     |06 |16  |00    |29                     |7.37                       |48.31                      |\n",
      "|31498 |1     |06 |16  |00    |1                      |0.0                        |15.0                       |\n",
      "|152212|1     |06 |16  |00    |1                      |0.0                        |15.0                       |\n",
      "|161685|1     |06 |16  |00    |7                      |17.14                      |36.71                      |\n",
      "|8528  |1     |06 |16  |00    |3                      |0.0                        |18.0                       |\n",
      "|81895 |1     |06 |16  |00    |3                      |0.0                        |18.0                       |\n",
      "|34840 |1     |06 |16  |00    |9                      |9.8                        |31.11                      |\n",
      "|44725 |2     |06 |16  |00    |6                      |6.69                       |33.5                       |\n",
      "|122178|0     |06 |16  |00    |1                      |0.0                        |25.0                       |\n",
      "|161552|1     |06 |16  |00    |4                      |1.73                       |27.5                       |\n",
      "|29929 |1     |06 |16  |00    |1                      |0.0                        |26.0                       |\n",
      "|80447 |1     |06 |16  |00    |1                      |0.0                        |27.0                       |\n",
      "|106186|1     |06 |16  |00    |2                      |0.71                       |28.5                       |\n",
      "|132698|1     |06 |16  |00    |6                      |11.31                      |42.67                      |\n",
      "|107229|1     |06 |16  |00    |12                     |8.07                       |37.67                      |\n",
      "|40440 |1     |06 |16  |00    |3                      |8.54                       |36.0                       |\n",
      "|18544 |1     |06 |16  |00    |6                      |7.94                       |43.67                      |\n",
      "|14116 |1     |06 |16  |00    |10                     |3.41                       |33.1                       |\n",
      "|35958 |1     |06 |16  |00    |1                      |0.0                        |31.0                       |\n",
      "|56225 |1     |06 |16  |00    |1                      |0.0                        |31.0                       |\n",
      "|142456|1     |06 |16  |00    |3                      |0.58                       |31.67                      |\n",
      "|26218 |2     |06 |16  |00    |3                      |0.0                        |32.0                       |\n",
      "|22545 |1     |06 |16  |00    |2                      |0.0                        |33.0                       |\n",
      "|197969|1     |06 |16  |00    |1                      |0.0                        |36.0                       |\n",
      "|124470|1     |06 |16  |00    |7                      |0.0                        |37.0                       |\n",
      "|53382 |1     |06 |16  |00    |2                      |7.78                       |42.5                       |\n",
      "|51239 |1     |06 |16  |00    |1                      |0.0                        |38.0                       |\n",
      "|1049  |1     |06 |16  |00    |2                      |10.61                      |45.5                       |\n",
      "|95245 |1     |06 |16  |00    |3                      |4.73                       |42.67                      |\n",
      "|103463|2     |06 |16  |00    |7                      |6.78                       |51.43                      |\n",
      "|17220 |1     |06 |16  |00    |13                     |2.54                       |43.15                      |\n",
      "|150932|1     |06 |16  |00    |4                      |0.0                        |42.0                       |\n",
      "|48855 |1     |06 |16  |00    |1                      |0.0                        |43.0                       |\n",
      "|121312|1     |06 |16  |00    |2                      |9.19                       |50.5                       |\n",
      "|26934 |1     |06 |16  |00    |6                      |6.44                       |51.5                       |\n",
      "|111865|1     |06 |16  |00    |1                      |0.0                        |45.0                       |\n",
      "|68331 |1     |06 |16  |00    |9                      |1.74                       |47.44                      |\n",
      "|119423|1     |06 |16  |00    |2                      |0.71                       |46.5                       |\n",
      "|143899|1     |06 |16  |00    |1                      |0.0                        |47.0                       |\n",
      "|192578|1     |06 |16  |00    |1                      |0.0                        |47.0                       |\n",
      "|38257 |1     |06 |16  |00    |2                      |2.12                       |51.5                       |\n",
      "|128876|1     |06 |16  |00    |3                      |2.65                       |56.0                       |\n",
      "|69710 |1     |06 |16  |00    |2                      |0.71                       |57.5                       |\n",
      "|2359  |1     |06 |16  |00    |1                      |0.0                        |58.0                       |\n",
      "|166065|1     |06 |16  |00    |1                      |0.0                        |59.0                       |\n",
      "|73100 |1     |06 |16  |01    |11                     |12.41                      |27.09                      |\n",
      "|17572 |1     |06 |16  |01    |9                      |17.98                      |20.11                      |\n",
      "|98286 |1     |06 |16  |01    |9                      |15.4                       |15.56                      |\n",
      "|40654 |1     |06 |16  |01    |22                     |14.28                      |18.36                      |\n",
      "|176619|1     |06 |16  |01    |7                      |17.79                      |14.71                      |\n",
      "|108913|1     |06 |16  |01    |32                     |18.6                       |29.34                      |\n",
      "|73201 |1     |06 |16  |01    |5                      |19.24                      |12.2                       |\n",
      "|4461  |1     |06 |16  |01    |7                      |0.0                        |1.0                        |\n",
      "|45275 |1     |06 |16  |01    |8                      |12.16                      |9.25                       |\n",
      "|99703 |1     |06 |16  |01    |4                      |0.0                        |4.0                        |\n",
      "|57546 |1     |06 |16  |01    |6                      |19.72                      |23.0                       |\n",
      "|3964  |2     |06 |16  |01    |1                      |0.0                        |6.0                        |\n",
      "|201204|1     |06 |16  |01    |2                      |7.78                       |11.5                       |\n",
      "|95029 |2     |06 |16  |01    |5                      |22.41                      |35.4                       |\n",
      "|58542 |1     |06 |16  |01    |3                      |11.72                      |17.67                      |\n",
      "|161606|1     |06 |16  |01    |2                      |0.0                        |9.0                        |\n",
      "|191958|1     |06 |16  |01    |6                      |10.95                      |20.0                       |\n",
      "|126461|1     |06 |16  |01    |2                      |19.09                      |23.5                       |\n",
      "|48981 |1     |06 |16  |01    |6                      |13.08                      |18.33                      |\n",
      "|85541 |1     |06 |16  |01    |4                      |0.0                        |12.0                       |\n",
      "|12188 |1     |06 |16  |01    |3                      |21.83                      |35.67                      |\n",
      "|119517|1     |06 |16  |01    |2                      |0.0                        |12.0                       |\n",
      "|48893 |1     |06 |16  |01    |15                     |13.16                      |38.53                      |\n",
      "|22898 |1     |06 |16  |01    |3                      |6.35                       |23.33                      |\n",
      "|173796|1     |06 |16  |01    |2                      |2.83                       |19.0                       |\n",
      "|88441 |1     |06 |16  |01    |7                      |3.63                       |19.86                      |\n",
      "|147194|1     |06 |16  |01    |1                      |0.0                        |20.0                       |\n",
      "|67239 |1     |06 |16  |01    |2                      |0.0                        |22.0                       |\n",
      "|19386 |1     |06 |16  |01    |1                      |0.0                        |24.0                       |\n",
      "|109147|1     |06 |16  |01    |3                      |9.71                       |32.33                      |\n",
      "|127401|2     |06 |16  |01    |8                      |13.92                      |34.0                       |\n",
      "|150572|1     |06 |16  |01    |4                      |0.58                       |26.5                       |\n",
      "|26647 |2     |06 |16  |01    |3                      |0.58                       |30.67                      |\n",
      "|31421 |1     |06 |16  |01    |5                      |9.59                       |41.0                       |\n",
      "|173807|1     |06 |16  |01    |2                      |0.0                        |31.0                       |\n",
      "|28272 |1     |06 |16  |01    |3                      |1.73                       |33.0                       |\n",
      "|23402 |1     |06 |16  |01    |4                      |9.5                        |46.25                      |\n",
      "|42139 |1     |06 |16  |01    |10                     |9.99                       |46.4                       |\n",
      "+------+------+---+----+------+-----------------------+---------------------------+---------------------------+\n",
      "only showing top 100 rows\n",
      "\n"
     ]
    }
   ],
   "source": [
    "ip_var_minute_clicks = (data\n",
    "                        .groupBy('ip', var, 'day', 'hour', 'minute')\n",
    "                        .agg(func.count(func.lit(1)).alias('ip_'+var+'_minute_clicks'),\n",
    "                             func.round(func.stddev(col('second')), 2).alias('ip_'+var+'_minute_std_second'),\n",
    "                             func.round(func.mean(col('second')), 2).alias('ip_'+var+'_minute_avg_second'))\n",
    "                        .fillna({'ip_'+var+'_minute_std_second':0,\n",
    "                               'ip_'+var+'_minute_avg_second':0})\n",
    "                      .cache())\n",
    "\n",
    "ip_var_minute_clicks.show(100, truncate=False)"
   ]
  },
  {
   "cell_type": "code",
   "execution_count": 16,
   "metadata": {
    "collapsed": false
   },
   "outputs": [
    {
     "name": "stdout",
     "output_type": "stream",
     "text": [
      "+------+---+------+---+-------+-------------------+---+----+------+------+\n",
      "|ip    |app|device|os |channel|click_time         |day|hour|minute|second|\n",
      "+------+---+------+---+-------+-------------------+---+----+------+------+\n",
      "|209129|3  |1     |13 |452    |2017-11-06 16:00:00|06 |16  |00    |00    |\n",
      "|209129|27 |1     |13 |153    |2017-11-06 16:00:03|06 |16  |00    |03    |\n",
      "|209129|23 |1     |13 |153    |2017-11-06 16:00:29|06 |16  |00    |29    |\n",
      "|209129|9  |1     |19 |244    |2017-11-06 16:10:42|06 |16  |10    |42    |\n",
      "|209129|14 |1     |23 |401    |2017-11-06 16:13:29|06 |16  |13    |29    |\n",
      "|209129|2  |1     |23 |219    |2017-11-06 16:13:30|06 |16  |13    |30    |\n",
      "|209129|13 |1     |22 |469    |2017-11-06 16:31:10|06 |16  |31    |10    |\n",
      "|209129|64 |1     |22 |459    |2017-11-06 16:31:10|06 |16  |31    |10    |\n",
      "|209129|6  |1     |22 |459    |2017-11-06 16:31:14|06 |16  |31    |14    |\n",
      "|209129|2  |1     |37 |122    |2017-11-06 16:45:04|06 |16  |45    |04    |\n",
      "|209129|18 |1     |10 |107    |2017-11-06 17:08:56|06 |17  |08    |56    |\n",
      "|209129|3  |1     |10 |489    |2017-11-06 17:09:02|06 |17  |09    |02    |\n",
      "|209129|28 |1     |10 |135    |2017-11-06 17:09:04|06 |17  |09    |04    |\n",
      "|209129|26 |1     |10 |121    |2017-11-06 17:09:05|06 |17  |09    |05    |\n",
      "|209129|12 |1     |10 |205    |2017-11-06 17:09:14|06 |17  |09    |14    |\n",
      "|209129|3  |1     |19 |452    |2017-11-06 17:16:54|06 |17  |16    |54    |\n",
      "|209129|15 |1     |19 |245    |2017-11-06 17:16:54|06 |17  |16    |54    |\n",
      "|209129|3  |1     |10 |409    |2017-11-06 20:13:33|06 |20  |13    |33    |\n",
      "|209129|3  |1     |10 |205    |2017-11-06 20:14:18|06 |20  |14    |18    |\n",
      "|209129|15 |1     |10 |315    |2017-11-06 20:14:19|06 |20  |14    |19    |\n",
      "+------+---+------+---+-------+-------------------+---+----+------+------+\n",
      "only showing top 20 rows\n",
      "\n"
     ]
    }
   ],
   "source": [
    "data.filter((col('ip')==209129) & (col(var)==1)).show(truncate=False)"
   ]
  },
  {
   "cell_type": "markdown",
   "metadata": {},
   "source": [
    "## Export New Features"
   ]
  },
  {
   "cell_type": "code",
   "execution_count": 17,
   "metadata": {
    "collapsed": true
   },
   "outputs": [],
   "source": [
    "(ip_var_minute_clicks\n",
    " .coalesce(1)\n",
    " .write\n",
    " .format(\"com.databricks.spark.csv\")\n",
    " .option(\"header\", \"true\")\n",
    " .mode(\"overwrite\")\n",
    " .save(mungepath+\"f_ip_\"+var+\"_minute_clicks\", compression=\"None\"))"
   ]
  },
  {
   "cell_type": "code",
   "execution_count": 18,
   "metadata": {
    "collapsed": false
   },
   "outputs": [
    {
     "data": {
      "text/plain": [
       "60890812"
      ]
     },
     "execution_count": 18,
     "metadata": {},
     "output_type": "execute_result"
    }
   ],
   "source": [
    "ip_var_minute_clicks.count()"
   ]
  },
  {
   "cell_type": "markdown",
   "metadata": {},
   "source": [
    "## Check the impact of new features"
   ]
  },
  {
   "cell_type": "code",
   "execution_count": 19,
   "metadata": {
    "collapsed": false
   },
   "outputs": [
    {
     "name": "stdout",
     "output_type": "stream",
     "text": [
      "+--------------------+\n",
      "|  avg(is_attributed)|\n",
      "+--------------------+\n",
      "|0.002470721410998979|\n",
      "+--------------------+\n",
      "\n"
     ]
    }
   ],
   "source": [
    "import pyspark.sql.functions as func\n",
    "\n",
    "train.groupBy().agg(func.mean(col('is_attributed'))).show()"
   ]
  },
  {
   "cell_type": "code",
   "execution_count": 20,
   "metadata": {
    "collapsed": true
   },
   "outputs": [],
   "source": [
    "train_sample = (train.sample(fraction=0.05, withReplacement=False, seed=22)\n",
    "                .withColumn('day', day_udf(data.click_time))\n",
    "                .withColumn('hour', hour_udf(data.click_time))\n",
    "                .withColumn('minute', minute_udf(data.click_time))\n",
    "                .join(ip_var_minute_clicks, ['ip', var, 'day', 'hour', 'minute'], 'left_outer')\n",
    "                .cache())"
   ]
  },
  {
   "cell_type": "code",
   "execution_count": 21,
   "metadata": {
    "collapsed": false
   },
   "outputs": [
    {
     "data": {
      "text/plain": [
       "9248009"
      ]
     },
     "execution_count": 21,
     "metadata": {},
     "output_type": "execute_result"
    }
   ],
   "source": [
    "train_sample.count()"
   ]
  },
  {
   "cell_type": "code",
   "execution_count": 22,
   "metadata": {
    "collapsed": false
   },
   "outputs": [
    {
     "data": {
      "text/plain": [
       "9248009"
      ]
     },
     "execution_count": 22,
     "metadata": {},
     "output_type": "execute_result"
    }
   ],
   "source": [
    "train.sample(fraction=0.05, withReplacement=False, seed=22).count()"
   ]
  },
  {
   "cell_type": "code",
   "execution_count": 23,
   "metadata": {
    "collapsed": false
   },
   "outputs": [
    {
     "name": "stdout",
     "output_type": "stream",
     "text": [
      "+------+------+---+----+------+---+---+-------+-------------------+---------------+-------------+-----------------------+---------------------------+---------------------------+\n",
      "|ip    |device|day|hour|minute|app|os |channel|click_time         |attributed_time|is_attributed|ip_device_minute_clicks|ip_device_minute_std_second|ip_device_minute_avg_second|\n",
      "+------+------+---+----+------+---+---+-------+-------------------+---------------+-------------+-----------------------+---------------------------+---------------------------+\n",
      "|1     |1     |09 |10  |34    |7  |52 |101    |2017-11-09 10:34:25|null           |0            |5                      |0.45                       |25.2                       |\n",
      "|1000  |1     |07 |11  |11    |18 |17 |107    |2017-11-07 11:11:47|null           |0            |5                      |2.49                       |51.2                       |\n",
      "|100009|1     |07 |16  |15    |18 |13 |107    |2017-11-07 16:15:04|null           |0            |1                      |0.0                        |4.0                        |\n",
      "|100009|1     |08 |06  |16    |26 |17 |266    |2017-11-08 06:16:04|null           |0            |5                      |19.07                      |26.8                       |\n",
      "|100009|1     |08 |15  |48    |14 |18 |379    |2017-11-08 15:48:42|null           |0            |8                      |7.63                       |48.63                      |\n",
      "+------+------+---+----+------+---+---+-------+-------------------+---------------+-------------+-----------------------+---------------------------+---------------------------+\n",
      "only showing top 5 rows\n",
      "\n"
     ]
    }
   ],
   "source": [
    "train_sample.show(5, truncate=False)"
   ]
  },
  {
   "cell_type": "code",
   "execution_count": 24,
   "metadata": {
    "collapsed": true
   },
   "outputs": [],
   "source": [
    "features = ['ip_'+var+'_minute_clicks', 'ip_'+var+'_minute_std_second', 'ip_'+var+'_minute_avg_second']"
   ]
  },
  {
   "cell_type": "code",
   "execution_count": 25,
   "metadata": {
    "collapsed": false,
    "scrolled": false
   },
   "outputs": [
    {
     "data": {
      "image/png": "[encoded data removed]",
      "text/plain": [
       "<matplotlib.figure.Figure at 0x7f7d8baa3128>"
      ]
     },
     "metadata": {},
     "output_type": "display_data"
    },
    {
     "data": {
      "image/png": "[encoded data removed]",
      "text/plain": [
       "<matplotlib.figure.Figure at 0x7f7d1aa99b38>"
      ]
     },
     "metadata": {},
     "output_type": "display_data"
    },
    {
     "data": {
      "image/png": "[encoded data removed]",
      "text/plain": [
       "<matplotlib.figure.Figure at 0x7f7d1abc6c50>"
      ]
     },
     "metadata": {},
     "output_type": "display_data"
    },
    {
     "data": {
      "image/png": "[encoded data removed]",
      "text/plain": [
       "<matplotlib.figure.Figure at 0x7f7d8b84b7f0>"
      ]
     },
     "metadata": {},
     "output_type": "display_data"
    }
   ],
   "source": [
    "for f in features:\n",
    "    PDF = train_sample.select('is_attributed', f).toPandas()\n",
    "    PDF_sorted = PDF.sort_values(by=f)\n",
    "    PDF_sorted['roll'] = PDF_sorted.is_attributed.rolling(window=10000).mean()\n",
    "    plt.title('Impact of '+f)\n",
    "    plt.plot(PDF_sorted[f], PDF_sorted.roll)\n",
    "    plt.show()\n",
    "    \n",
    "    if np.max(PDF_sorted[f])>200:\n",
    "        PDF_filtered = PDF_sorted[PDF_sorted[f]<100]\n",
    "        plt.title('Impact of '+f)\n",
    "        plt.plot(PDF_filtered[f], PDF_filtered.roll)\n",
    "        plt.show()"
   ]
  },
  {
   "cell_type": "code",
   "execution_count": null,
   "metadata": {
    "collapsed": true
   },
   "outputs": [],
   "source": []
  }
 ],
 "metadata": {
  "anaconda-cloud": {},
  "kernelspec": {
   "display_name": "PySpark",
   "language": "python3",
   "name": "pyspark"
  },
  "language_info": {
   "codemirror_mode": {
    "name": "ipython",
    "version": 3
   },
   "file_extension": ".py",
   "mimetype": "text/x-python",
   "name": "python",
   "nbconvert_exporter": "python",
   "pygments_lexer": "ipython3",
   "version": "3.6.4"
  }
 },
 "nbformat": 4,
 "nbformat_minor": 2
}
