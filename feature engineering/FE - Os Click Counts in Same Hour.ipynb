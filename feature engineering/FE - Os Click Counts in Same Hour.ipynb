{
 "cells": [
  {
   "cell_type": "markdown",
   "metadata": {},
   "source": [
    "# Loading Libraries"
   ]
  },
  {
   "cell_type": "code",
   "execution_count": 2,
   "metadata": {
    "collapsed": true
   },
   "outputs": [],
   "source": [
    "import numpy as np\n",
    "import pandas as pd\n",
    "import matplotlib.pyplot as plt\n",
    "% matplotlib inline\n",
    "\n",
    "import seaborn as sns\n",
    "sns.set(rc={'figure.figsize':(12, 5)},\n",
    "        font_scale=1.5,\n",
    "        style=\"whitegrid\")\n",
    "        \n",
    "from pyspark.sql import HiveContext\n",
    "from pyspark.sql import SQLContext\n",
    "\n",
    "# initialize session hive and sql environments\n",
    "hiveContext = HiveContext(sc)\n",
    "sqlContext = SQLContext(sc)"
   ]
  },
  {
   "cell_type": "markdown",
   "metadata": {},
   "source": [
    "# Data Reading"
   ]
  },
  {
   "cell_type": "code",
   "execution_count": 3,
   "metadata": {
    "collapsed": true
   },
   "outputs": [],
   "source": [
    "project_folder = \"../\"\n",
    "datapath = project_folder + \"data/\"\n",
    "plotpath = project_folder + \"graphs/\"\n",
    "mungepath = project_folder + \"munge/\"\n",
    "configpath = project_folder + \"config/\"\n",
    "diagnostic = project_folder + \"diagnostic/\"\n",
    "modelpath = project_folder + \"model/\"\n",
    "output = project_folder + \"output/\""
   ]
  },
  {
   "cell_type": "code",
   "execution_count": 4,
   "metadata": {
    "collapsed": false
   },
   "outputs": [
    {
     "name": "stdout",
     "output_type": "stream",
     "text": [
      "Found 184903890 observations in training set.\n"
     ]
    }
   ],
   "source": [
    "from pyspark.sql.functions import col\n",
    "\n",
    "train = spark.read.csv(os.path.join(datapath,\"train.csv\"), header=True)\n",
    "print('Found %d observations in training set.' %train.count())"
   ]
  },
  {
   "cell_type": "code",
   "execution_count": 5,
   "metadata": {
    "collapsed": false
   },
   "outputs": [
    {
     "name": "stdout",
     "output_type": "stream",
     "text": [
      "Found 57536872 observations in test_old set.\n"
     ]
    }
   ],
   "source": [
    "from pyspark.sql.functions import col\n",
    "\n",
    "test_old = (spark.read.csv(os.path.join(datapath,\"test_supplement.csv\"), header=True)\n",
    "            .filter(col('click_time') >= '2017-11-09 16:00:00'))\n",
    "\n",
    "print('Found %d observations in test_old set.' %test_old.count())"
   ]
  },
  {
   "cell_type": "code",
   "execution_count": 6,
   "metadata": {
    "collapsed": false
   },
   "outputs": [
    {
     "name": "stdout",
     "output_type": "stream",
     "text": [
      "+------+---+------+---+-------+-------------------+---------------+-------------+\n",
      "|    ip|app|device| os|channel|         click_time|attributed_time|is_attributed|\n",
      "+------+---+------+---+-------+-------------------+---------------+-------------+\n",
      "| 83230|  3|     1| 13|    379|2017-11-06 14:32:21|           null|            0|\n",
      "| 17357|  3|     1| 19|    379|2017-11-06 14:33:34|           null|            0|\n",
      "| 35810|  3|     1| 13|    379|2017-11-06 14:34:12|           null|            0|\n",
      "| 45745| 14|     1| 13|    478|2017-11-06 14:34:52|           null|            0|\n",
      "|161007|  3|     1| 13|    379|2017-11-06 14:35:08|           null|            0|\n",
      "| 18787|  3|     1| 16|    379|2017-11-06 14:36:26|           null|            0|\n",
      "|103022|  3|     1| 23|    379|2017-11-06 14:37:44|           null|            0|\n",
      "|114221|  3|     1| 19|    379|2017-11-06 14:37:59|           null|            0|\n",
      "|165970|  3|     1| 13|    379|2017-11-06 14:38:10|           null|            0|\n",
      "| 74544| 64|     1| 22|    459|2017-11-06 14:38:23|           null|            0|\n",
      "+------+---+------+---+-------+-------------------+---------------+-------------+\n",
      "only showing top 10 rows\n",
      "\n"
     ]
    }
   ],
   "source": [
    "train.show(10)"
   ]
  },
  {
   "cell_type": "code",
   "execution_count": 7,
   "metadata": {
    "collapsed": false,
    "scrolled": true
   },
   "outputs": [
    {
     "name": "stdout",
     "output_type": "stream",
     "text": [
      "root\n",
      " |-- ip: string (nullable = true)\n",
      " |-- app: string (nullable = true)\n",
      " |-- device: string (nullable = true)\n",
      " |-- os: string (nullable = true)\n",
      " |-- channel: string (nullable = true)\n",
      " |-- click_time: string (nullable = true)\n",
      " |-- attributed_time: string (nullable = true)\n",
      " |-- is_attributed: string (nullable = true)\n",
      "\n"
     ]
    }
   ],
   "source": [
    "train.printSchema()"
   ]
  },
  {
   "cell_type": "markdown",
   "metadata": {},
   "source": [
    "# Build the full dataset"
   ]
  },
  {
   "cell_type": "code",
   "execution_count": 8,
   "metadata": {
    "collapsed": false
   },
   "outputs": [
    {
     "name": "stdout",
     "output_type": "stream",
     "text": [
      "Total number of clicks in one week: 242440762\n"
     ]
    }
   ],
   "source": [
    "# train and test set concatenation\n",
    "from pyspark.sql.functions import col\n",
    "data = (train.select('ip', 'app', 'device', 'os', 'channel', 'click_time')\n",
    "        .unionAll(test_old.select('ip', 'app', 'device', 'os', 'channel', 'click_time')))\n",
    "        \n",
    "print('Total number of clicks in one week:', data.count())"
   ]
  },
  {
   "cell_type": "code",
   "execution_count": 9,
   "metadata": {
    "collapsed": false
   },
   "outputs": [
    {
     "name": "stdout",
     "output_type": "stream",
     "text": [
      "+------+---+------+---+-------+-------------------+\n",
      "|    ip|app|device| os|channel|         click_time|\n",
      "+------+---+------+---+-------+-------------------+\n",
      "| 83230|  3|     1| 13|    379|2017-11-06 14:32:21|\n",
      "| 17357|  3|     1| 19|    379|2017-11-06 14:33:34|\n",
      "| 35810|  3|     1| 13|    379|2017-11-06 14:34:12|\n",
      "| 45745| 14|     1| 13|    478|2017-11-06 14:34:52|\n",
      "|161007|  3|     1| 13|    379|2017-11-06 14:35:08|\n",
      "+------+---+------+---+-------+-------------------+\n",
      "only showing top 5 rows\n",
      "\n"
     ]
    }
   ],
   "source": [
    "data.show(5)"
   ]
  },
  {
   "cell_type": "markdown",
   "metadata": {},
   "source": [
    "# Datetime Features"
   ]
  },
  {
   "cell_type": "code",
   "execution_count": 10,
   "metadata": {
    "collapsed": true
   },
   "outputs": [],
   "source": [
    "# day function\n",
    "def get_day(date):\n",
    "    \"\"\"\n",
    "    Returns the hour based on a string date\n",
    "        \n",
    "    Args:\n",
    "        date (String): A String containing the click datetime\n",
    "\n",
    "    Returns:\n",
    "        day: A String containing the day of click (\"06\", \"07\", ..\"10\")\n",
    "    \"\"\"\n",
    "    \n",
    "    return date[8:10]\n",
    "\n",
    "# hour function\n",
    "def get_hour(date):\n",
    "    \"\"\"\n",
    "    Returns the hour based on a string date\n",
    "        \n",
    "    Args:\n",
    "        date (String): A String containing the click datetime\n",
    "\n",
    "    Returns:\n",
    "        hour: A String containing the hour interval (\"01\", \"02\", ..\"23\")\n",
    "    \"\"\"\n",
    "    \n",
    "    return date[11:13]\n",
    "\n",
    "# minute function\n",
    "def get_minute(date):\n",
    "    \"\"\"\n",
    "    Returns the minute based on a string date\n",
    "        \n",
    "    Args:\n",
    "        date (String): A String containing the click datetime\n",
    "\n",
    "    Returns:\n",
    "        hour: A String containing the minute interval (\"01\", \"02\", ..\"59\")\n",
    "    \"\"\"\n",
    "    \n",
    "    return date[14:16]"
   ]
  },
  {
   "cell_type": "code",
   "execution_count": 11,
   "metadata": {
    "collapsed": true
   },
   "outputs": [],
   "source": [
    "# Get datetime features\n",
    "from pyspark.sql.functions import udf\n",
    "from pyspark.sql.types import StringType\n",
    "\n",
    "day_udf = udf(get_day, StringType())\n",
    "hour_udf = udf(get_hour, StringType())\n",
    "minute_udf = udf(get_minute, StringType())\n",
    "\n",
    "data = data.withColumn('day', day_udf(data.click_time))\n",
    "data = data.withColumn('hour', hour_udf(data.click_time))\n",
    "data = data.withColumn('minute', minute_udf(data.click_time))"
   ]
  },
  {
   "cell_type": "code",
   "execution_count": 12,
   "metadata": {
    "collapsed": false
   },
   "outputs": [
    {
     "name": "stdout",
     "output_type": "stream",
     "text": [
      "+------+---+------+---+-------+-------------------+---+----+------+\n",
      "|    ip|app|device| os|channel|         click_time|day|hour|minute|\n",
      "+------+---+------+---+-------+-------------------+---+----+------+\n",
      "| 83230|  3|     1| 13|    379|2017-11-06 14:32:21| 06|  14|    32|\n",
      "| 17357|  3|     1| 19|    379|2017-11-06 14:33:34| 06|  14|    33|\n",
      "| 35810|  3|     1| 13|    379|2017-11-06 14:34:12| 06|  14|    34|\n",
      "| 45745| 14|     1| 13|    478|2017-11-06 14:34:52| 06|  14|    34|\n",
      "|161007|  3|     1| 13|    379|2017-11-06 14:35:08| 06|  14|    35|\n",
      "+------+---+------+---+-------+-------------------+---+----+------+\n",
      "only showing top 5 rows\n",
      "\n"
     ]
    }
   ],
   "source": [
    "data.show(5)"
   ]
  },
  {
   "cell_type": "markdown",
   "metadata": {},
   "source": [
    "# IP Number of Clicks for same Os in same Hour"
   ]
  },
  {
   "cell_type": "code",
   "execution_count": 13,
   "metadata": {
    "collapsed": true
   },
   "outputs": [],
   "source": [
    "from pyspark.sql.functions import col, unix_timestamp, lit\n",
    "import pyspark.sql.functions as func"
   ]
  },
  {
   "cell_type": "code",
   "execution_count": 14,
   "metadata": {
    "collapsed": true
   },
   "outputs": [],
   "source": [
    "var = 'os'"
   ]
  },
  {
   "cell_type": "code",
   "execution_count": 15,
   "metadata": {
    "collapsed": false
   },
   "outputs": [
    {
     "name": "stdout",
     "output_type": "stream",
     "text": [
      "+---+---+----+--------------+------------------+------------------+\n",
      "|os |day|hour|os_hour_clicks|os_hour_std_minute|os_hour_avg_minute|\n",
      "+---+---+----+--------------+------------------+------------------+\n",
      "|174|07 |10  |19            |18.98             |22.42             |\n",
      "|193|07 |10  |3             |6.81              |17.33             |\n",
      "|115|07 |10  |5             |8.83              |27.0              |\n",
      "|209|07 |14  |3             |15.31             |18.33             |\n",
      "|85 |08 |04  |160           |18.88             |31.22             |\n",
      "|44 |08 |07  |3186          |16.93             |29.57             |\n",
      "|49 |08 |14  |14353         |17.43             |29.67             |\n",
      "|75 |08 |14  |1             |0.0               |9.0               |\n",
      "|209|08 |14  |1             |0.0               |44.0              |\n",
      "|63 |09 |00  |362           |16.19             |26.1              |\n",
      "|177|09 |01  |2             |0.0               |25.0              |\n",
      "|83 |09 |04  |299           |14.74             |28.52             |\n",
      "|183|07 |03  |10            |0.32              |28.1              |\n",
      "|140|09 |13  |50            |16.82             |19.16             |\n",
      "|634|07 |15  |1             |0.0               |21.0              |\n",
      "|728|07 |15  |1             |0.0               |45.0              |\n",
      "|21 |10 |12  |5091          |18.38             |38.27             |\n",
      "|41 |08 |00  |42580         |17.17             |29.41             |\n",
      "|39 |08 |00  |1064          |17.0              |28.0              |\n",
      "|228|08 |01  |7             |5.68              |9.43              |\n",
      "|30 |08 |02  |21723         |16.96             |31.16             |\n",
      "|140|08 |03  |4             |13.94             |40.25             |\n",
      "|134|08 |12  |26            |16.76             |30.35             |\n",
      "|3  |08 |13  |57840         |17.24             |29.71             |\n",
      "|164|08 |23  |4             |11.0              |40.5              |\n",
      "|123|09 |18  |11            |14.46             |32.82             |\n",
      "|13 |09 |19  |110846        |17.55             |27.74             |\n",
      "|0  |09 |21  |2759          |17.92             |31.68             |\n",
      "|63 |09 |23  |431           |14.69             |27.12             |\n",
      "|19 |10 |00  |756090        |17.31             |29.01             |\n",
      "|148|10 |00  |14            |7.17              |48.0              |\n",
      "|62 |10 |09  |655           |15.47             |30.59             |\n",
      "|84 |06 |16  |62            |11.12             |20.69             |\n",
      "|124|06 |16  |7             |17.91             |27.14             |\n",
      "|56 |06 |17  |1014          |18.1              |24.95             |\n",
      "|109|06 |17  |112           |19.1              |29.75             |\n",
      "|76 |06 |22  |321           |13.29             |32.4              |\n",
      "|59 |06 |23  |132           |17.22             |35.52             |\n",
      "|171|06 |23  |12            |2.87              |46.42             |\n",
      "|128|07 |00  |13            |18.37             |21.62             |\n",
      "|260|07 |00  |4             |12.79             |22.5              |\n",
      "|168|07 |05  |11            |10.61             |25.09             |\n",
      "|32 |07 |06  |25829         |17.33             |28.73             |\n",
      "|27 |07 |17  |11508         |17.27             |26.78             |\n",
      "|175|07 |18  |2             |0.0               |14.0              |\n",
      "|77 |07 |20  |219           |15.66             |32.79             |\n",
      "|351|07 |20  |1             |0.0               |6.0               |\n",
      "|143|07 |21  |65            |8.13              |29.52             |\n",
      "|6  |08 |15  |83586         |17.13             |27.01             |\n",
      "|11 |08 |15  |23632         |17.25             |28.03             |\n",
      "|6  |08 |16  |60466         |17.47             |26.87             |\n",
      "|11 |08 |16  |15553         |18.04             |27.56             |\n",
      "|231|08 |16  |1             |0.0               |7.0               |\n",
      "|281|08 |16  |1             |0.0               |22.0              |\n",
      "|305|08 |16  |10            |3.44              |35.6              |\n",
      "|512|08 |02  |1             |0.0               |9.0               |\n",
      "|49 |08 |20  |1653          |18.01             |27.48             |\n",
      "|41 |08 |09  |41122         |17.77             |29.79             |\n",
      "|161|09 |13  |3             |2.08              |4.67              |\n",
      "|179|09 |13  |2             |0.0               |44.0              |\n",
      "|30 |10 |01  |17523         |17.44             |29.64             |\n",
      "|34 |10 |04  |4799          |17.6              |28.33             |\n",
      "|140|10 |04  |3             |1.15              |39.33             |\n",
      "|215|08 |10  |2             |1.41              |41.0              |\n",
      "|254|08 |11  |4             |10.0              |23.0              |\n",
      "|39 |10 |06  |2547          |18.63             |29.13             |\n",
      "|43 |10 |06  |4363          |17.31             |29.39             |\n",
      "|5  |06 |20  |486           |20.08             |30.43             |\n",
      "|205|09 |14  |2             |6.36              |52.5              |\n",
      "|188|07 |02  |27            |10.28             |18.37             |\n",
      "|19 |09 |22  |315154        |17.04             |33.47             |\n",
      "|567|07 |10  |1             |0.0               |39.0              |\n",
      "|615|07 |10  |2             |0.0               |52.0              |\n",
      "|622|07 |11  |1             |0.0               |24.0              |\n",
      "|119|07 |16  |13            |14.95             |27.08             |\n",
      "|801|07 |16  |1             |0.0               |0.0               |\n",
      "|176|07 |16  |2             |0.71              |22.5              |\n",
      "|864|07 |16  |1             |0.0               |27.0              |\n",
      "|286|07 |16  |1             |0.0               |46.0              |\n",
      "|133|08 |22  |23            |13.8              |23.17             |\n",
      "|107|08 |23  |37            |13.39             |20.38             |\n",
      "|866|09 |02  |7417          |17.48             |29.17             |\n",
      "|72 |09 |02  |78            |16.99             |27.55             |\n",
      "|111|09 |02  |13            |15.92             |28.54             |\n",
      "|163|09 |02  |7             |13.55             |31.29             |\n",
      "|49 |10 |11  |11852         |17.2              |29.79             |\n",
      "|605|10 |11  |1             |0.0               |19.0              |\n",
      "|145|10 |14  |38            |13.66             |21.97             |\n",
      "|169|10 |14  |5             |4.47              |30.0              |\n",
      "|27 |06 |18  |7260          |17.14             |27.29             |\n",
      "|36 |06 |21  |1949          |16.92             |32.6              |\n",
      "|214|06 |21  |2             |0.0               |30.0              |\n",
      "|74 |07 |02  |80            |16.92             |35.2              |\n",
      "|117|07 |03  |106           |15.66             |18.17             |\n",
      "|17 |07 |11  |164015        |17.5              |28.93             |\n",
      "|119|07 |15  |10            |14.55             |28.3              |\n",
      "|16 |07 |17  |23079         |17.69             |26.08             |\n",
      "|106|07 |17  |18            |15.16             |34.83             |\n",
      "|53 |08 |00  |25850         |17.08             |28.69             |\n",
      "|42 |08 |00  |5297          |17.37             |27.86             |\n",
      "+---+---+----+--------------+------------------+------------------+\n",
      "only showing top 100 rows\n",
      "\n"
     ]
    }
   ],
   "source": [
    "var_hour_clicks = (data\n",
    "                   .groupBy(var, 'day', 'hour')\n",
    "                   .agg(func.count(func.lit(1)).alias(var+'_hour_clicks'),\n",
    "                        func.round(func.stddev(col('minute')), 2).alias(var+'_hour_std_minute'),\n",
    "                        func.round(func.mean(col('minute')), 2).alias(var+'_hour_avg_minute'))\n",
    "                      .fillna({var+'_hour_std_minute':0,\n",
    "                               var+'_hour_avg_minute':0})\n",
    "                      .cache())\n",
    "\n",
    "var_hour_clicks.show(100, truncate=False)"
   ]
  },
  {
   "cell_type": "code",
   "execution_count": 26,
   "metadata": {
    "collapsed": false
   },
   "outputs": [
    {
     "name": "stdout",
     "output_type": "stream",
     "text": [
      "+-----+---+------+---+-------+-------------------+---+----+------+\n",
      "|ip   |app|device|os |channel|click_time         |day|hour|minute|\n",
      "+-----+---+------+---+-------+-------------------+---+----+------+\n",
      "|47773|18 |1     |193|107    |2017-11-07 10:12:42|07 |10  |12    |\n",
      "|47773|18 |1     |193|107    |2017-11-07 10:15:43|07 |10  |15    |\n",
      "|17714|60 |1     |193|21     |2017-11-07 10:25:44|07 |10  |25    |\n",
      "|1082 |3  |2     |193|402    |2017-11-08 10:03:55|08 |10  |03    |\n",
      "|98421|37 |1     |193|21     |2017-11-08 10:12:08|08 |10  |12    |\n",
      "|50251|37 |1     |193|21     |2017-11-09 10:00:42|09 |10  |00    |\n",
      "|36183|3  |2     |193|402    |2017-11-09 10:17:24|09 |10  |17    |\n",
      "|63762|15 |1     |193|3      |2017-11-10 10:05:02|10 |10  |05    |\n",
      "|70280|1  |1     |193|18     |2017-11-10 10:18:01|10 |10  |18    |\n",
      "|70280|15 |1     |193|3      |2017-11-10 10:18:06|10 |10  |18    |\n",
      "|63566|18 |1     |193|379    |2017-11-10 10:55:35|10 |10  |55    |\n",
      "+-----+---+------+---+-------+-------------------+---+----+------+\n",
      "\n"
     ]
    }
   ],
   "source": [
    "data.filter((col('hour')==10) & (col(var)==193)).show(truncate=False)"
   ]
  },
  {
   "cell_type": "markdown",
   "metadata": {},
   "source": [
    "## Export New Features"
   ]
  },
  {
   "cell_type": "code",
   "execution_count": 27,
   "metadata": {
    "collapsed": true
   },
   "outputs": [],
   "source": [
    "(var_hour_clicks\n",
    " .coalesce(1)\n",
    " .write\n",
    " .format(\"com.databricks.spark.csv\")\n",
    " .option(\"header\", \"true\")\n",
    " .mode(\"overwrite\")\n",
    " .save(mungepath+\"f_\"+var+\"_hour_clicks\", compression=\"None\"))"
   ]
  },
  {
   "cell_type": "code",
   "execution_count": 28,
   "metadata": {
    "collapsed": false
   },
   "outputs": [
    {
     "data": {
      "text/plain": [
       "19600"
      ]
     },
     "execution_count": 28,
     "metadata": {},
     "output_type": "execute_result"
    }
   ],
   "source": [
    "var_hour_clicks.count()"
   ]
  },
  {
   "cell_type": "markdown",
   "metadata": {},
   "source": [
    "## Check the impact of new features"
   ]
  },
  {
   "cell_type": "code",
   "execution_count": 19,
   "metadata": {
    "collapsed": false
   },
   "outputs": [
    {
     "name": "stdout",
     "output_type": "stream",
     "text": [
      "+--------------------+\n",
      "|  avg(is_attributed)|\n",
      "+--------------------+\n",
      "|0.002470721410998979|\n",
      "+--------------------+\n",
      "\n"
     ]
    }
   ],
   "source": [
    "import pyspark.sql.functions as func\n",
    "\n",
    "train.groupBy().agg(func.mean(col('is_attributed'))).show()"
   ]
  },
  {
   "cell_type": "code",
   "execution_count": 20,
   "metadata": {
    "collapsed": true
   },
   "outputs": [],
   "source": [
    "train_sample = (train.sample(fraction=0.05, withReplacement=False, seed=22)\n",
    "                .withColumn('day', day_udf(data.click_time))\n",
    "                .withColumn('hour', hour_udf(data.click_time))\n",
    "                .join(var_hour_clicks, [var, 'day', 'hour'], 'left_outer')\n",
    "                .cache())"
   ]
  },
  {
   "cell_type": "code",
   "execution_count": 21,
   "metadata": {
    "collapsed": false
   },
   "outputs": [
    {
     "data": {
      "text/plain": [
       "9248009"
      ]
     },
     "execution_count": 21,
     "metadata": {},
     "output_type": "execute_result"
    }
   ],
   "source": [
    "train_sample.count()"
   ]
  },
  {
   "cell_type": "code",
   "execution_count": 22,
   "metadata": {
    "collapsed": false
   },
   "outputs": [
    {
     "data": {
      "text/plain": [
       "9248009"
      ]
     },
     "execution_count": 22,
     "metadata": {},
     "output_type": "execute_result"
    }
   ],
   "source": [
    "train.sample(fraction=0.05, withReplacement=False, seed=22).count()"
   ]
  },
  {
   "cell_type": "code",
   "execution_count": 23,
   "metadata": {
    "collapsed": false
   },
   "outputs": [
    {
     "name": "stdout",
     "output_type": "stream",
     "text": [
      "+---+---+----+------+---+------+-------+-------------------+---------------+-------------+--------------+------------------+------------------+\n",
      "|os |day|hour|ip    |app|device|channel|click_time         |attributed_time|is_attributed|os_hour_clicks|os_hour_std_minute|os_hour_avg_minute|\n",
      "+---+---+----+------+---+------+-------+-------------------+---------------+-------------+--------------+------------------+------------------+\n",
      "|18 |06 |14  |38816 |3  |1     |379    |2017-11-06 14:40:39|null           |0            |6             |6.47              |45.67             |\n",
      "|13 |06 |14  |134575|3  |1     |379    |2017-11-06 14:43:10|null           |0            |16            |8.73              |44.5              |\n",
      "|19 |06 |14  |30986 |3  |1     |379    |2017-11-06 14:52:13|null           |0            |14            |8.21              |47.36             |\n",
      "|13 |06 |15  |199564|3  |1     |379    |2017-11-06 15:09:44|null           |0            |150           |12.13             |45.83             |\n",
      "|18 |06 |15  |191894|3  |1     |379    |2017-11-06 15:29:16|null           |0            |26            |12.09             |44.04             |\n",
      "+---+---+----+------+---+------+-------+-------------------+---------------+-------------+--------------+------------------+------------------+\n",
      "only showing top 5 rows\n",
      "\n"
     ]
    }
   ],
   "source": [
    "train_sample.show(5, truncate=False)"
   ]
  },
  {
   "cell_type": "code",
   "execution_count": 24,
   "metadata": {
    "collapsed": true
   },
   "outputs": [],
   "source": [
    "features = [var+'_hour_clicks', var+'_hour_std_minute', var+'_hour_avg_minute']"
   ]
  },
  {
   "cell_type": "code",
   "execution_count": 25,
   "metadata": {
    "collapsed": false,
    "scrolled": false
   },
   "outputs": [
    {
     "data": {
      "image/png": "[encoded data removed]",
      "text/plain": [
       "<matplotlib.figure.Figure at 0x7fbc2a2deda0>"
      ]
     },
     "metadata": {},
     "output_type": "display_data"
    },
    {
     "data": {
      "image/png": "[encoded data removed]",
      "text/plain": [
       "<matplotlib.figure.Figure at 0x7fbb8e8f8d68>"
      ]
     },
     "metadata": {},
     "output_type": "display_data"
    },
    {
     "data": {
      "image/png": "[encoded data removed]",
      "text/plain": [
       "<matplotlib.figure.Figure at 0x7fbc4e43fc50>"
      ]
     },
     "metadata": {},
     "output_type": "display_data"
    },
    {
     "data": {
      "image/png": "[encoded data removed]",
      "text/plain": [
       "<matplotlib.figure.Figure at 0x7fbb8f726208>"
      ]
     },
     "metadata": {},
     "output_type": "display_data"
    }
   ],
   "source": [
    "for f in features:\n",
    "    PDF = train_sample.select('is_attributed', f).toPandas()\n",
    "    PDF_sorted = PDF.sort_values(by=f)\n",
    "    PDF_sorted['roll'] = PDF_sorted.is_attributed.rolling(window=10000).mean()\n",
    "    plt.title('Impact of '+f)\n",
    "    plt.plot(PDF_sorted[f], PDF_sorted.roll)\n",
    "    plt.show()\n",
    "    \n",
    "    if np.max(PDF_sorted[f])>200:\n",
    "        PDF_filtered = PDF_sorted[PDF_sorted[f]<100]\n",
    "        plt.title('Impact of '+f)\n",
    "        plt.plot(PDF_filtered[f], PDF_filtered.roll)\n",
    "        plt.show()"
   ]
  },
  {
   "cell_type": "code",
   "execution_count": null,
   "metadata": {
    "collapsed": true
   },
   "outputs": [],
   "source": []
  }
 ],
 "metadata": {
  "anaconda-cloud": {},
  "kernelspec": {
   "display_name": "PySpark",
   "language": "python3",
   "name": "pyspark"
  },
  "language_info": {
   "codemirror_mode": {
    "name": "ipython",
    "version": 3
   },
   "file_extension": ".py",
   "mimetype": "text/x-python",
   "name": "python",
   "nbconvert_exporter": "python",
   "pygments_lexer": "ipython3",
   "version": "3.6.4"
  }
 },
 "nbformat": 4,
 "nbformat_minor": 2
}
