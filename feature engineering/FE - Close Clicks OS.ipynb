{
 "cells": [
  {
   "cell_type": "markdown",
   "metadata": {},
   "source": [
    "# Loading Libraries"
   ]
  },
  {
   "cell_type": "code",
   "execution_count": 20,
   "metadata": {
    "collapsed": true
   },
   "outputs": [],
   "source": [
    "import numpy as np\n",
    "import pandas as pd\n",
    "import matplotlib.pyplot as plt\n",
    "% matplotlib inline\n",
    "\n",
    "import seaborn as sns\n",
    "sns.set(rc={'figure.figsize':(12, 5)},\n",
    "        font_scale=1.5,\n",
    "        style=\"whitegrid\")\n",
    "        \n",
    "from pyspark.sql import HiveContext\n",
    "from pyspark.sql import SQLContext\n",
    "\n",
    "# initialize session hive and sql environments\n",
    "hiveContext = HiveContext(sc)\n",
    "sqlContext = SQLContext(sc)"
   ]
  },
  {
   "cell_type": "markdown",
   "metadata": {},
   "source": [
    "# Data Reading"
   ]
  },
  {
   "cell_type": "code",
   "execution_count": 21,
   "metadata": {
    "collapsed": true
   },
   "outputs": [],
   "source": [
    "project_folder = \"../\"\n",
    "datapath = project_folder + \"data/\"\n",
    "plotpath = project_folder + \"graphs/\"\n",
    "mungepath = project_folder + \"munge/\"\n",
    "configpath = project_folder + \"config/\"\n",
    "diagnostic = project_folder + \"diagnostic/\"\n",
    "modelpath = project_folder + \"model/\"\n",
    "output = project_folder + \"output/\""
   ]
  },
  {
   "cell_type": "code",
   "execution_count": 22,
   "metadata": {
    "collapsed": false
   },
   "outputs": [
    {
     "name": "stdout",
     "output_type": "stream",
     "text": [
      "Found 184903890 observations in training set.\n"
     ]
    }
   ],
   "source": [
    "from pyspark.sql.functions import col\n",
    "\n",
    "train = spark.read.csv(os.path.join(datapath,\"train.csv\"), header=True)\n",
    "print('Found %d observations in training set.' %train.count())"
   ]
  },
  {
   "cell_type": "code",
   "execution_count": 23,
   "metadata": {
    "collapsed": false
   },
   "outputs": [
    {
     "name": "stdout",
     "output_type": "stream",
     "text": [
      "Found 57536872 observations in test_old set.\n"
     ]
    }
   ],
   "source": [
    "from pyspark.sql.functions import col\n",
    "\n",
    "test_old = (spark.read.csv(os.path.join(datapath,\"test_supplement.csv\"), header=True)\n",
    "            .filter(col('click_time') >= '2017-11-09 16:00:00'))\n",
    "\n",
    "print('Found %d observations in test_old set.' %test_old.count())"
   ]
  },
  {
   "cell_type": "code",
   "execution_count": 24,
   "metadata": {
    "collapsed": false
   },
   "outputs": [
    {
     "name": "stdout",
     "output_type": "stream",
     "text": [
      "Found 18790469 observations in test_new set.\n"
     ]
    }
   ],
   "source": [
    "# test new is the reduced size test set sampled by kaggle during competition\n",
    "\n",
    "test_new = spark.read.csv(os.path.join(datapath,\"test.csv\"), header=True)\n",
    "\n",
    "print('Found %d observations in test_new set.' %test_new.count())"
   ]
  },
  {
   "cell_type": "code",
   "execution_count": 25,
   "metadata": {
    "collapsed": false
   },
   "outputs": [
    {
     "name": "stdout",
     "output_type": "stream",
     "text": [
      "+------+---+------+---+-------+-------------------+---------------+-------------+\n",
      "|    ip|app|device| os|channel|         click_time|attributed_time|is_attributed|\n",
      "+------+---+------+---+-------+-------------------+---------------+-------------+\n",
      "| 83230|  3|     1| 13|    379|2017-11-06 14:32:21|           null|            0|\n",
      "| 17357|  3|     1| 19|    379|2017-11-06 14:33:34|           null|            0|\n",
      "| 35810|  3|     1| 13|    379|2017-11-06 14:34:12|           null|            0|\n",
      "| 45745| 14|     1| 13|    478|2017-11-06 14:34:52|           null|            0|\n",
      "|161007|  3|     1| 13|    379|2017-11-06 14:35:08|           null|            0|\n",
      "| 18787|  3|     1| 16|    379|2017-11-06 14:36:26|           null|            0|\n",
      "|103022|  3|     1| 23|    379|2017-11-06 14:37:44|           null|            0|\n",
      "|114221|  3|     1| 19|    379|2017-11-06 14:37:59|           null|            0|\n",
      "|165970|  3|     1| 13|    379|2017-11-06 14:38:10|           null|            0|\n",
      "| 74544| 64|     1| 22|    459|2017-11-06 14:38:23|           null|            0|\n",
      "+------+---+------+---+-------+-------------------+---------------+-------------+\n",
      "only showing top 10 rows\n",
      "\n"
     ]
    }
   ],
   "source": [
    "train.show(10)"
   ]
  },
  {
   "cell_type": "code",
   "execution_count": 26,
   "metadata": {
    "collapsed": false
   },
   "outputs": [
    {
     "name": "stdout",
     "output_type": "stream",
     "text": [
      "root\n",
      " |-- ip: string (nullable = true)\n",
      " |-- app: string (nullable = true)\n",
      " |-- device: string (nullable = true)\n",
      " |-- os: string (nullable = true)\n",
      " |-- channel: string (nullable = true)\n",
      " |-- click_time: string (nullable = true)\n",
      " |-- attributed_time: string (nullable = true)\n",
      " |-- is_attributed: string (nullable = true)\n",
      "\n"
     ]
    }
   ],
   "source": [
    "train.printSchema()"
   ]
  },
  {
   "cell_type": "code",
   "execution_count": 27,
   "metadata": {
    "collapsed": false
   },
   "outputs": [
    {
     "name": "stdout",
     "output_type": "stream",
     "text": [
      "+-------------------+\n",
      "|    max(click_time)|\n",
      "+-------------------+\n",
      "|2017-11-10 16:00:00|\n",
      "+-------------------+\n",
      "\n"
     ]
    }
   ],
   "source": [
    "test_old.select(func.max(col('click_time'))).show()"
   ]
  },
  {
   "cell_type": "code",
   "execution_count": 28,
   "metadata": {
    "collapsed": false,
    "scrolled": true
   },
   "outputs": [
    {
     "name": "stdout",
     "output_type": "stream",
     "text": [
      "+-------------------+\n",
      "|    max(click_time)|\n",
      "+-------------------+\n",
      "|2017-11-10 15:00:00|\n",
      "+-------------------+\n",
      "\n"
     ]
    }
   ],
   "source": [
    "test_new.select(func.max(col('click_time'))).show()"
   ]
  },
  {
   "cell_type": "markdown",
   "metadata": {},
   "source": [
    "# Simulate Training Set Features"
   ]
  },
  {
   "cell_type": "code",
   "execution_count": 9,
   "metadata": {
    "collapsed": false
   },
   "outputs": [
    {
     "name": "stdout",
     "output_type": "stream",
     "text": [
      "+------+---+------+---+-------+-------------------+---------------+-------------+---+\n",
      "|    ip|app|device| os|channel|         click_time|attributed_time|is_attributed| id|\n",
      "+------+---+------+---+-------+-------------------+---------------+-------------+---+\n",
      "| 83230|  3|     1| 13|    379|2017-11-06 14:32:21|           null|            0|  0|\n",
      "| 17357|  3|     1| 19|    379|2017-11-06 14:33:34|           null|            0|  1|\n",
      "| 35810|  3|     1| 13|    379|2017-11-06 14:34:12|           null|            0|  2|\n",
      "| 45745| 14|     1| 13|    478|2017-11-06 14:34:52|           null|            0|  3|\n",
      "|161007|  3|     1| 13|    379|2017-11-06 14:35:08|           null|            0|  4|\n",
      "+------+---+------+---+-------+-------------------+---------------+-------------+---+\n",
      "only showing top 5 rows\n",
      "\n"
     ]
    }
   ],
   "source": [
    "from pyspark.sql.functions import monotonically_increasing_id\n",
    "\n",
    "# Add unique id for each row to training set\n",
    "train = (train\n",
    "         .withColumn('id', monotonically_increasing_id()))\n",
    "         \n",
    "train.show(5)"
   ]
  },
  {
   "cell_type": "markdown",
   "metadata": {},
   "source": [
    "For the training set, we will not consider all clicks that appear in the test set.  \n",
    "This is because the test set is the last day of the whole data we have and we cannot get the clicks coming after.  \n",
    "So we do not want to advantage the training set as regarding the test set. (feature avaialability should be be fair between the training and test set when thinking especially about lase_next_click)."
   ]
  },
  {
   "cell_type": "code",
   "execution_count": 60,
   "metadata": {
    "collapsed": true
   },
   "outputs": [],
   "source": [
    "from pyspark.sql.window import Window\n",
    "import pyspark.sql.functions as func\n",
    "\n",
    "# Defines partitioning specification and ordering specification.\n",
    "windowSpec = \\\n",
    "  Window \\\n",
    "    .partitionBy(col('ip'), col('os')) \\\n",
    "    .orderBy(col('click_time').cast('timestamp'))"
   ]
  },
  {
   "cell_type": "markdown",
   "metadata": {},
   "source": [
    "The following code will compute two features:  \n",
    "* **lapse_prev_click**  \n",
    "We will check if there is a previous click within the last 2 days. If yes, we will compute the time difference to that click otherwise we will give a maximum value that is (2\\*24\\*3600) if there are 2 days avaialble otherwise it will take 999999 indicating unsufficient information. That 999999 will be converted to -1 when aggregating to get one unique value for each observation in case of many similar clicks at exact same time.\n",
    "\n",
    "* **lapse_next_click**  \n",
    "We will check whether we can find similar click during the next hour. If not we will assign the lapse time to 3600.\n",
    "Normally, we shoudn't care much about avaialability of next hour data as the reduced new test set end at 2017-11-10 15:00:00 when the full old test set end at 2017-11-10 16:00:00"
   ]
  },
  {
   "cell_type": "code",
   "execution_count": 61,
   "metadata": {
    "collapsed": true
   },
   "outputs": [],
   "source": [
    "from pyspark.sql.functions import unix_timestamp, col, udf, lit, when\n",
    "from pyspark.sql.types import LongType\n",
    "\n",
    "def click_last2days(time_lapse, avail_2days):\n",
    "    \"\"\"\n",
    "    Checks if the time difference since last click is greater than 2 days\n",
    "    if not, the value is kept otherwise it is converted to 2*24*3600\n",
    "    In case the 2 days history are not full we will assign 999999\n",
    "    \n",
    "    Args:\n",
    "        avail_2days -- boolean whether or not at least 2 days of history are avaialble\n",
    "        time_lapse -- time since last click\n",
    "    \"\"\"\n",
    "    if (avail_2days == True) and (time_lapse == None):\n",
    "        return 2*24*3600\n",
    "    elif (avail_2days == True) and (time_lapse > (2*24*3600)):\n",
    "        return 2*24*3600\n",
    "    elif (avail_2days == False) and (time_lapse == None):\n",
    "        return 999999\n",
    "    else:\n",
    "        return time_lapse\n",
    "    \n",
    "\n",
    "def click_next1hour(time_lapse):\n",
    "    \"\"\"\n",
    "    Checks if the time difference to next click is greater than 1 hour\n",
    "    if not, the value is kept otherwise it is converted to 3600\n",
    "    \n",
    "    Args:\n",
    "        time_lapse -- time since last click\n",
    "    \"\"\"\n",
    "    if time_lapse == None:\n",
    "        return 3600\n",
    "    elif time_lapse > 3600:\n",
    "        return 3600\n",
    "    else:\n",
    "        return time_lapse\n",
    "    \n",
    "    \n",
    "click_last2days_udf = udf(click_last2days, LongType())\n",
    "click_next1hour_udf = udf(click_next1hour, LongType())\n",
    "\n",
    "f_close_clicks = (train.sample(fraction=0.1, withReplacement=False, seed=22)\n",
    "                  .select('ip', 'app', 'device', 'os', 'channel', 'click_time', 'is_attributed')\n",
    "                  .withColumn('lapse_prev_click_os',\n",
    "                              unix_timestamp(col('click_time')) - unix_timestamp(func.lag(train['click_time']).over(windowSpec)))\n",
    "                  .withColumn('avail2days',\n",
    "                              unix_timestamp(col('click_time')) - unix_timestamp(lit('2017-11-06 14:32:21')) >= (2*24*3600))\n",
    "                  .withColumn('lapse_prev_click_os', click_last2days_udf(col('lapse_prev_click_os'), col('avail2days')))\n",
    "                  .withColumn('lapse_next_click_os',\n",
    "                                 unix_timestamp(func.lag(train['click_time'],-1).over(windowSpec)) - unix_timestamp(col('click_time')))\n",
    "                  .withColumn('lapse_next_click_os', click_next1hour_udf(col('lapse_next_click_os')))\n",
    "                  .groupBy('ip', 'app', 'device', 'os', 'channel', 'click_time', 'is_attributed')\n",
    "                  .agg(func.min(col('lapse_prev_click_os')).alias('lapse_prev_click_os'),\n",
    "                       func.min(col('lapse_next_click_os')).alias('lapse_next_click_os'))\n",
    "                  .withColumn('lapse_prev_click_os', (when(col('lapse_prev_click_os')==999999, -1)\n",
    "                                                      .otherwise(col('lapse_prev_click_os'))))\n",
    "                  .cache())"
   ]
  },
  {
   "cell_type": "markdown",
   "metadata": {},
   "source": [
    "# Check the impact of lapse_prev_click feature"
   ]
  },
  {
   "cell_type": "code",
   "execution_count": 16,
   "metadata": {
    "collapsed": false
   },
   "outputs": [
    {
     "name": "stdout",
     "output_type": "stream",
     "text": [
      "+--------------------+\n",
      "|  avg(is_attributed)|\n",
      "+--------------------+\n",
      "|0.002484407307574...|\n",
      "+--------------------+\n",
      "\n"
     ]
    }
   ],
   "source": [
    "f_close_clicks.groupBy().agg(func.mean(col('is_attributed'))).show()"
   ]
  },
  {
   "cell_type": "code",
   "execution_count": 62,
   "metadata": {
    "collapsed": true
   },
   "outputs": [],
   "source": [
    "import pandas as pd\n",
    "import matplotlib.pyplot as plt\n",
    "\n",
    "%matplotlib inline"
   ]
  },
  {
   "cell_type": "code",
   "execution_count": 63,
   "metadata": {
    "collapsed": true
   },
   "outputs": [],
   "source": [
    "PDF = f_close_clicks.select('is_attributed', 'lapse_prev_click_os').toPandas()"
   ]
  },
  {
   "cell_type": "code",
   "execution_count": 64,
   "metadata": {
    "collapsed": false
   },
   "outputs": [
    {
     "data": {
      "text/html": [
       "<div>\n",
       "<style scoped>\n",
       "    .dataframe tbody tr th:only-of-type {\n",
       "        vertical-align: middle;\n",
       "    }\n",
       "\n",
       "    .dataframe tbody tr th {\n",
       "        vertical-align: top;\n",
       "    }\n",
       "\n",
       "    .dataframe thead th {\n",
       "        text-align: right;\n",
       "    }\n",
       "</style>\n",
       "<table border=\"1\" class=\"dataframe\">\n",
       "  <thead>\n",
       "    <tr style=\"text-align: right;\">\n",
       "      <th></th>\n",
       "      <th>is_attributed</th>\n",
       "      <th>lapse_prev_click_os</th>\n",
       "    </tr>\n",
       "  </thead>\n",
       "  <tbody>\n",
       "    <tr>\n",
       "      <th>0</th>\n",
       "      <td>0</td>\n",
       "      <td>80</td>\n",
       "    </tr>\n",
       "    <tr>\n",
       "      <th>1</th>\n",
       "      <td>0</td>\n",
       "      <td>36</td>\n",
       "    </tr>\n",
       "    <tr>\n",
       "      <th>2</th>\n",
       "      <td>0</td>\n",
       "      <td>2753</td>\n",
       "    </tr>\n",
       "    <tr>\n",
       "      <th>3</th>\n",
       "      <td>0</td>\n",
       "      <td>975</td>\n",
       "    </tr>\n",
       "    <tr>\n",
       "      <th>4</th>\n",
       "      <td>0</td>\n",
       "      <td>34458</td>\n",
       "    </tr>\n",
       "  </tbody>\n",
       "</table>\n",
       "</div>"
      ],
      "text/plain": [
       "  is_attributed  lapse_prev_click_os\n",
       "0             0                   80\n",
       "1             0                   36\n",
       "2             0                 2753\n",
       "3             0                  975\n",
       "4             0                34458"
      ]
     },
     "execution_count": 64,
     "metadata": {},
     "output_type": "execute_result"
    }
   ],
   "source": [
    "PDF.head()"
   ]
  },
  {
   "cell_type": "code",
   "execution_count": 65,
   "metadata": {
    "collapsed": true
   },
   "outputs": [],
   "source": [
    "PDF_sorted = PDF.sort_values(by='lapse_prev_click_os')"
   ]
  },
  {
   "cell_type": "code",
   "execution_count": 66,
   "metadata": {
    "collapsed": true
   },
   "outputs": [],
   "source": [
    "PDF_sorted['roll'] = PDF_sorted.is_attributed.rolling(window=10000).mean()"
   ]
  },
  {
   "cell_type": "code",
   "execution_count": 67,
   "metadata": {
    "collapsed": false
   },
   "outputs": [
    {
     "data": {
      "text/html": [
       "<div>\n",
       "<style scoped>\n",
       "    .dataframe tbody tr th:only-of-type {\n",
       "        vertical-align: middle;\n",
       "    }\n",
       "\n",
       "    .dataframe tbody tr th {\n",
       "        vertical-align: top;\n",
       "    }\n",
       "\n",
       "    .dataframe thead th {\n",
       "        text-align: right;\n",
       "    }\n",
       "</style>\n",
       "<table border=\"1\" class=\"dataframe\">\n",
       "  <thead>\n",
       "    <tr style=\"text-align: right;\">\n",
       "      <th></th>\n",
       "      <th>is_attributed</th>\n",
       "      <th>lapse_prev_click_os</th>\n",
       "      <th>roll</th>\n",
       "    </tr>\n",
       "  </thead>\n",
       "  <tbody>\n",
       "    <tr>\n",
       "      <th>9229162</th>\n",
       "      <td>0</td>\n",
       "      <td>-1</td>\n",
       "      <td>NaN</td>\n",
       "    </tr>\n",
       "    <tr>\n",
       "      <th>3619013</th>\n",
       "      <td>0</td>\n",
       "      <td>-1</td>\n",
       "      <td>NaN</td>\n",
       "    </tr>\n",
       "    <tr>\n",
       "      <th>11992631</th>\n",
       "      <td>0</td>\n",
       "      <td>-1</td>\n",
       "      <td>NaN</td>\n",
       "    </tr>\n",
       "    <tr>\n",
       "      <th>11992628</th>\n",
       "      <td>0</td>\n",
       "      <td>-1</td>\n",
       "      <td>NaN</td>\n",
       "    </tr>\n",
       "    <tr>\n",
       "      <th>16517952</th>\n",
       "      <td>0</td>\n",
       "      <td>-1</td>\n",
       "      <td>NaN</td>\n",
       "    </tr>\n",
       "  </tbody>\n",
       "</table>\n",
       "</div>"
      ],
      "text/plain": [
       "         is_attributed  lapse_prev_click_os  roll\n",
       "9229162              0                   -1   NaN\n",
       "3619013              0                   -1   NaN\n",
       "11992631             0                   -1   NaN\n",
       "11992628             0                   -1   NaN\n",
       "16517952             0                   -1   NaN"
      ]
     },
     "execution_count": 67,
     "metadata": {},
     "output_type": "execute_result"
    }
   ],
   "source": [
    "PDF_sorted.head()"
   ]
  },
  {
   "cell_type": "markdown",
   "metadata": {},
   "source": [
    "Let's visualize the impact of of last click lapse time variable on the download rate"
   ]
  },
  {
   "cell_type": "code",
   "execution_count": 68,
   "metadata": {
    "collapsed": false
   },
   "outputs": [
    {
     "data": {
      "text/plain": [
       "[<matplotlib.lines.Line2D at 0x7fbd27df6b38>]"
      ]
     },
     "execution_count": 68,
     "metadata": {},
     "output_type": "execute_result"
    },
    {
     "data": {
      "image/png": "[encoded data removed]",
      "text/plain": [
       "<matplotlib.figure.Figure at 0x7fbd27df6d68>"
      ]
     },
     "metadata": {},
     "output_type": "display_data"
    }
   ],
   "source": [
    "plt.plot(PDF_sorted.lapse_prev_click_os, PDF_sorted.roll)"
   ]
  },
  {
   "cell_type": "markdown",
   "metadata": {},
   "source": [
    "Download rate when we don't have complete info during the last two days"
   ]
  },
  {
   "cell_type": "code",
   "execution_count": 69,
   "metadata": {
    "collapsed": false
   },
   "outputs": [
    {
     "data": {
      "text/plain": [
       "0.013200582405653806"
      ]
     },
     "execution_count": 69,
     "metadata": {},
     "output_type": "execute_result"
    }
   ],
   "source": [
    "PDF[PDF['lapse_prev_click_os']==-1]['is_attributed'].astype(float).mean()"
   ]
  },
  {
   "cell_type": "markdown",
   "metadata": {},
   "source": [
    "Download rate when the click is unknown in the last two days"
   ]
  },
  {
   "cell_type": "code",
   "execution_count": 70,
   "metadata": {
    "collapsed": false
   },
   "outputs": [
    {
     "data": {
      "text/plain": [
       "0.023818965756763653"
      ]
     },
     "execution_count": 70,
     "metadata": {},
     "output_type": "execute_result"
    }
   ],
   "source": [
    "PDF[PDF['lapse_prev_click_os']==(2*24*3600)]['is_attributed'].astype(float).mean()"
   ]
  },
  {
   "cell_type": "markdown",
   "metadata": {},
   "source": [
    "This corresponds to 10 times more chance to download !"
   ]
  },
  {
   "cell_type": "code",
   "execution_count": 71,
   "metadata": {
    "collapsed": false
   },
   "outputs": [
    {
     "data": {
      "text/plain": [
       "395903"
      ]
     },
     "execution_count": 71,
     "metadata": {},
     "output_type": "execute_result"
    }
   ],
   "source": [
    "len(PDF[PDF['lapse_prev_click_os']==(2*24*3600)]['is_attributed'])"
   ]
  },
  {
   "cell_type": "markdown",
   "metadata": {},
   "source": [
    "# Check the impact of lapse_next_click feature"
   ]
  },
  {
   "cell_type": "code",
   "execution_count": 25,
   "metadata": {
    "collapsed": false
   },
   "outputs": [
    {
     "name": "stdout",
     "output_type": "stream",
     "text": [
      "+--------------------+\n",
      "|  avg(is_attributed)|\n",
      "+--------------------+\n",
      "|0.002484407307574...|\n",
      "+--------------------+\n",
      "\n"
     ]
    }
   ],
   "source": [
    "f_close_clicks.groupBy().agg(func.mean(col('is_attributed'))).show()"
   ]
  },
  {
   "cell_type": "code",
   "execution_count": 72,
   "metadata": {
    "collapsed": true
   },
   "outputs": [],
   "source": [
    "PDF = f_close_clicks.select('is_attributed', 'lapse_next_click_os').toPandas()"
   ]
  },
  {
   "cell_type": "code",
   "execution_count": 73,
   "metadata": {
    "collapsed": false
   },
   "outputs": [
    {
     "data": {
      "text/html": [
       "<div>\n",
       "<style scoped>\n",
       "    .dataframe tbody tr th:only-of-type {\n",
       "        vertical-align: middle;\n",
       "    }\n",
       "\n",
       "    .dataframe tbody tr th {\n",
       "        vertical-align: top;\n",
       "    }\n",
       "\n",
       "    .dataframe thead th {\n",
       "        text-align: right;\n",
       "    }\n",
       "</style>\n",
       "<table border=\"1\" class=\"dataframe\">\n",
       "  <thead>\n",
       "    <tr style=\"text-align: right;\">\n",
       "      <th></th>\n",
       "      <th>is_attributed</th>\n",
       "      <th>lapse_next_click_os</th>\n",
       "    </tr>\n",
       "  </thead>\n",
       "  <tbody>\n",
       "    <tr>\n",
       "      <th>0</th>\n",
       "      <td>0</td>\n",
       "      <td>1212</td>\n",
       "    </tr>\n",
       "    <tr>\n",
       "      <th>1</th>\n",
       "      <td>0</td>\n",
       "      <td>3600</td>\n",
       "    </tr>\n",
       "    <tr>\n",
       "      <th>2</th>\n",
       "      <td>0</td>\n",
       "      <td>3600</td>\n",
       "    </tr>\n",
       "    <tr>\n",
       "      <th>3</th>\n",
       "      <td>0</td>\n",
       "      <td>71</td>\n",
       "    </tr>\n",
       "    <tr>\n",
       "      <th>4</th>\n",
       "      <td>0</td>\n",
       "      <td>800</td>\n",
       "    </tr>\n",
       "  </tbody>\n",
       "</table>\n",
       "</div>"
      ],
      "text/plain": [
       "  is_attributed  lapse_next_click_os\n",
       "0             0                 1212\n",
       "1             0                 3600\n",
       "2             0                 3600\n",
       "3             0                   71\n",
       "4             0                  800"
      ]
     },
     "execution_count": 73,
     "metadata": {},
     "output_type": "execute_result"
    }
   ],
   "source": [
    "PDF.head()"
   ]
  },
  {
   "cell_type": "code",
   "execution_count": 74,
   "metadata": {
    "collapsed": true
   },
   "outputs": [],
   "source": [
    "PDF_sorted = PDF.sort_values(by='lapse_next_click_os')"
   ]
  },
  {
   "cell_type": "code",
   "execution_count": 75,
   "metadata": {
    "collapsed": true
   },
   "outputs": [],
   "source": [
    "PDF_sorted['roll'] = PDF_sorted.is_attributed.rolling(window=10000).mean()"
   ]
  },
  {
   "cell_type": "code",
   "execution_count": 76,
   "metadata": {
    "collapsed": false
   },
   "outputs": [
    {
     "data": {
      "text/html": [
       "<div>\n",
       "<style scoped>\n",
       "    .dataframe tbody tr th:only-of-type {\n",
       "        vertical-align: middle;\n",
       "    }\n",
       "\n",
       "    .dataframe tbody tr th {\n",
       "        vertical-align: top;\n",
       "    }\n",
       "\n",
       "    .dataframe thead th {\n",
       "        text-align: right;\n",
       "    }\n",
       "</style>\n",
       "<table border=\"1\" class=\"dataframe\">\n",
       "  <thead>\n",
       "    <tr style=\"text-align: right;\">\n",
       "      <th></th>\n",
       "      <th>is_attributed</th>\n",
       "      <th>lapse_next_click_os</th>\n",
       "      <th>roll</th>\n",
       "    </tr>\n",
       "  </thead>\n",
       "  <tbody>\n",
       "    <tr>\n",
       "      <th>8366937</th>\n",
       "      <td>0</td>\n",
       "      <td>0</td>\n",
       "      <td>NaN</td>\n",
       "    </tr>\n",
       "    <tr>\n",
       "      <th>1617595</th>\n",
       "      <td>0</td>\n",
       "      <td>0</td>\n",
       "      <td>NaN</td>\n",
       "    </tr>\n",
       "    <tr>\n",
       "      <th>8354058</th>\n",
       "      <td>0</td>\n",
       "      <td>0</td>\n",
       "      <td>NaN</td>\n",
       "    </tr>\n",
       "    <tr>\n",
       "      <th>8990668</th>\n",
       "      <td>0</td>\n",
       "      <td>0</td>\n",
       "      <td>NaN</td>\n",
       "    </tr>\n",
       "    <tr>\n",
       "      <th>4298424</th>\n",
       "      <td>0</td>\n",
       "      <td>0</td>\n",
       "      <td>NaN</td>\n",
       "    </tr>\n",
       "  </tbody>\n",
       "</table>\n",
       "</div>"
      ],
      "text/plain": [
       "        is_attributed  lapse_next_click_os  roll\n",
       "8366937             0                    0   NaN\n",
       "1617595             0                    0   NaN\n",
       "8354058             0                    0   NaN\n",
       "8990668             0                    0   NaN\n",
       "4298424             0                    0   NaN"
      ]
     },
     "execution_count": 76,
     "metadata": {},
     "output_type": "execute_result"
    }
   ],
   "source": [
    "PDF_sorted.head()"
   ]
  },
  {
   "cell_type": "markdown",
   "metadata": {},
   "source": [
    "Let's visualize the impact of of last click lapse time variable on the download rate"
   ]
  },
  {
   "cell_type": "code",
   "execution_count": 77,
   "metadata": {
    "collapsed": false
   },
   "outputs": [
    {
     "data": {
      "text/plain": [
       "[<matplotlib.lines.Line2D at 0x7fbc51eed5f8>]"
      ]
     },
     "execution_count": 77,
     "metadata": {},
     "output_type": "execute_result"
    },
    {
     "data": {
      "image/png": "[encoded data removed]",
      "text/plain": [
       "<matplotlib.figure.Figure at 0x7fbe0c934438>"
      ]
     },
     "metadata": {},
     "output_type": "display_data"
    }
   ],
   "source": [
    "plt.plot(PDF_sorted.lapse_next_click_os, PDF_sorted.roll)"
   ]
  },
  {
   "cell_type": "markdown",
   "metadata": {},
   "source": [
    "Download rate when we the next click is within 10 seconds"
   ]
  },
  {
   "cell_type": "code",
   "execution_count": 34,
   "metadata": {
    "collapsed": false
   },
   "outputs": [
    {
     "data": {
      "text/plain": [
       "0.0004822988159972795"
      ]
     },
     "execution_count": 34,
     "metadata": {},
     "output_type": "execute_result"
    }
   ],
   "source": [
    "PDF[PDF['lapse_next_click_os']==0]['is_attributed'].astype(float).mean()"
   ]
  },
  {
   "cell_type": "markdown",
   "metadata": {},
   "source": [
    "This variable does not seem very powerfull"
   ]
  },
  {
   "cell_type": "code",
   "execution_count": 35,
   "metadata": {
    "collapsed": false
   },
   "outputs": [
    {
     "data": {
      "text/plain": [
       "611654"
      ]
     },
     "execution_count": 35,
     "metadata": {},
     "output_type": "execute_result"
    }
   ],
   "source": [
    "len(PDF[PDF['lapse_next_click_os']==0]['is_attributed'])"
   ]
  },
  {
   "cell_type": "markdown",
   "metadata": {},
   "source": [
    "Download rate when there is no click in the next one hour"
   ]
  },
  {
   "cell_type": "code",
   "execution_count": 36,
   "metadata": {
    "collapsed": false
   },
   "outputs": [
    {
     "data": {
      "text/plain": [
       "0.005842872574011234"
      ]
     },
     "execution_count": 36,
     "metadata": {},
     "output_type": "execute_result"
    }
   ],
   "source": [
    "PDF[PDF['lapse_next_click_os']==3600]['is_attributed'].astype(float).mean()"
   ]
  },
  {
   "cell_type": "markdown",
   "metadata": {},
   "source": [
    "This corresponds to 10 times more chance to download !"
   ]
  },
  {
   "cell_type": "code",
   "execution_count": 37,
   "metadata": {
    "collapsed": false
   },
   "outputs": [
    {
     "data": {
      "text/plain": [
       "5941598"
      ]
     },
     "execution_count": 37,
     "metadata": {},
     "output_type": "execute_result"
    }
   ],
   "source": [
    "len(PDF[PDF['lapse_next_click_os']==3600]['is_attributed'])"
   ]
  },
  {
   "cell_type": "markdown",
   "metadata": {},
   "source": [
    "# Extract Training Set Features"
   ]
  },
  {
   "cell_type": "code",
   "execution_count": 29,
   "metadata": {
    "collapsed": false
   },
   "outputs": [
    {
     "name": "stdout",
     "output_type": "stream",
     "text": [
      "+------+---+------+---+-------+-------------------+---------------+-------------+---+\n",
      "|    ip|app|device| os|channel|         click_time|attributed_time|is_attributed| id|\n",
      "+------+---+------+---+-------+-------------------+---------------+-------------+---+\n",
      "| 83230|  3|     1| 13|    379|2017-11-06 14:32:21|           null|            0|  0|\n",
      "| 17357|  3|     1| 19|    379|2017-11-06 14:33:34|           null|            0|  1|\n",
      "| 35810|  3|     1| 13|    379|2017-11-06 14:34:12|           null|            0|  2|\n",
      "| 45745| 14|     1| 13|    478|2017-11-06 14:34:52|           null|            0|  3|\n",
      "|161007|  3|     1| 13|    379|2017-11-06 14:35:08|           null|            0|  4|\n",
      "+------+---+------+---+-------+-------------------+---------------+-------------+---+\n",
      "only showing top 5 rows\n",
      "\n"
     ]
    }
   ],
   "source": [
    "from pyspark.sql.functions import monotonically_increasing_id\n",
    "\n",
    "# Add unique id for each row to training set\n",
    "train = (train\n",
    "         .withColumn('id', monotonically_increasing_id()))\n",
    "         \n",
    "train.show(5)"
   ]
  },
  {
   "cell_type": "markdown",
   "metadata": {},
   "source": [
    "For the training set, we will not consider all clicks that appear in the test set.  \n",
    "This is because the test set is the last day of the whole data we have and we cannot get the clicks coming after.  \n",
    "So we do not want to advantage the training set as regarding the test set. (feature avaialability should be be fair between the training and test set when thinking especially about lase_next_click)."
   ]
  },
  {
   "cell_type": "code",
   "execution_count": 31,
   "metadata": {
    "collapsed": true
   },
   "outputs": [],
   "source": [
    "from pyspark.sql.window import Window\n",
    "import pyspark.sql.functions as func\n",
    "\n",
    "# Defines partitioning specification and ordering specification.\n",
    "windowSpec = \\\n",
    "  Window \\\n",
    "    .partitionBy(col('ip'), col('os')) \\\n",
    "    .orderBy(col('click_time').cast('timestamp'))"
   ]
  },
  {
   "cell_type": "markdown",
   "metadata": {},
   "source": [
    "The following code will compute two features:  \n",
    "* **lapse_prev_click**  \n",
    "We will check if there is a previous click within the last 2 days. If yes, we will compute the time difference to that click otherwise we will give a maximum value that is (2\\*24\\*3600) if there are 2 days avaialble otherwise it will take 999999 indicating unsufficient information. That 999999 will be converted to -1 when aggregating to get one unique value for each observation in case of many similar clicks at exact same time.\n",
    "\n",
    "* **lapse_next_click**  \n",
    "We will check whether we can find similar click during the next hour. If not we will assign the lapse time to 3600.\n",
    "Normally, we shoudn't care much about avaialability of next hour data as the reduced new test set end at 2017-11-10 15:00:00 when the full old test set end at 2017-11-10 16:00:00"
   ]
  },
  {
   "cell_type": "code",
   "execution_count": 32,
   "metadata": {
    "collapsed": true
   },
   "outputs": [],
   "source": [
    "from pyspark.sql.functions import unix_timestamp, col, udf, lit, when\n",
    "from pyspark.sql.types import LongType\n",
    "\n",
    "def click_last2days(time_lapse, avail_2days):\n",
    "    \"\"\"\n",
    "    Checks if the time difference since last click is greater than 2 days\n",
    "    if not, the value is kept otherwise it is converted to 2*24*3600\n",
    "    In case the 2 days history are not full we will assign 999999\n",
    "    \n",
    "    Args:\n",
    "        avail_2days -- boolean whether or not at least 2 days of history are avaialble\n",
    "        time_lapse -- time since last click\n",
    "    \"\"\"\n",
    "    if (avail_2days == True) and (time_lapse == None):\n",
    "        return 2*24*3600\n",
    "    elif (avail_2days == True) and (time_lapse > (2*24*3600)):\n",
    "        return 2*24*3600\n",
    "    elif (avail_2days == False) and (time_lapse == None):\n",
    "        return 999999\n",
    "    else:\n",
    "        return time_lapse\n",
    "    \n",
    "\n",
    "def click_next1hour(time_lapse):\n",
    "    \"\"\"\n",
    "    Checks if the time difference to next click is greater than 1 hour\n",
    "    if not, the value is kept otherwise it is converted to 3600\n",
    "    \n",
    "    Args:\n",
    "        time_lapse -- time since last click\n",
    "    \"\"\"\n",
    "    if time_lapse == None:\n",
    "        return 3600\n",
    "    elif time_lapse > 3600:\n",
    "        return 3600\n",
    "    else:\n",
    "        return time_lapse\n",
    "    \n",
    "    \n",
    "click_last2days_udf = udf(click_last2days, LongType())\n",
    "click_next1hour_udf = udf(click_next1hour, LongType())"
   ]
  },
  {
   "cell_type": "code",
   "execution_count": 10,
   "metadata": {
    "collapsed": true
   },
   "outputs": [],
   "source": [
    "f_close_clicks = (train\n",
    "                  .select('ip', 'app', 'device', 'os', 'channel', 'click_time')\n",
    "                  .withColumn('lapse_prev_click_os',\n",
    "                              unix_timestamp(col('click_time')) - unix_timestamp(func.lag(train['click_time']).over(windowSpec)))\n",
    "                  .withColumn('avail2days',\n",
    "                              unix_timestamp(col('click_time')) - unix_timestamp(lit('2017-11-06 14:32:21')) >= (2*24*3600))\n",
    "                  .withColumn('lapse_prev_click_os', click_last2days_udf(col('lapse_prev_click_os'), col('avail2days')))\n",
    "                  .withColumn('lapse_next_click_os',\n",
    "                                 unix_timestamp(func.lag(train['click_time'],-1).over(windowSpec)) - unix_timestamp(col('click_time')))\n",
    "                  .withColumn('lapse_next_click_os', click_next1hour_udf(col('lapse_next_click_os')))\n",
    "                  .groupBy('ip', 'app', 'device', 'os', 'channel', 'click_time')\n",
    "                  .agg(func.min(col('lapse_prev_click_os')).alias('lapse_prev_click_os'),\n",
    "                       func.min(col('lapse_next_click_os')).alias('lapse_next_click_os'))\n",
    "                  .withColumn('lapse_prev_click_os', (when(col('lapse_prev_click_os')==999999, -1)\n",
    "                                                      .otherwise(col('lapse_prev_click_os')))))"
   ]
  },
  {
   "cell_type": "code",
   "execution_count": 18,
   "metadata": {
    "collapsed": true
   },
   "outputs": [],
   "source": [
    "f_close_clicks_train = (train\n",
    "                        .join(f_close_clicks, ['ip', 'app', 'device', 'os', 'channel', 'click_time'], 'left_outer')\n",
    "                        .orderBy(col('id')))"
   ]
  },
  {
   "cell_type": "code",
   "execution_count": 19,
   "metadata": {
    "collapsed": false
   },
   "outputs": [
    {
     "name": "stdout",
     "output_type": "stream",
     "text": [
      "+-----+---+------+---+-------+-------------------+---------------+-------------+-----+-------------------+-------------------+\n",
      "|ip   |app|device|os |channel|click_time         |attributed_time|is_attributed|id   |lapse_prev_click_os|lapse_next_click_os|\n",
      "+-----+---+------+---+-------+-------------------+---------------+-------------+-----+-------------------+-------------------+\n",
      "|83230|3  |1     |13 |379    |2017-11-06 14:32:21|null           |0            |0    |-1                 |3600               |\n",
      "|83230|2  |1     |3  |477    |2017-11-06 16:00:31|null           |0            |24831|-1                 |335                |\n",
      "|83230|12 |1     |13 |178    |2017-11-06 16:00:48|null           |0            |43179|5307               |2                  |\n",
      "|83230|9  |1     |13 |134    |2017-11-06 16:00:50|null           |0            |44757|2                  |7                  |\n",
      "|83230|2  |1     |19 |237    |2017-11-06 16:00:56|null           |0            |51216|-1                 |69                 |\n",
      "+-----+---+------+---+-------+-------------------+---------------+-------------+-----+-------------------+-------------------+\n",
      "only showing top 5 rows\n",
      "\n"
     ]
    }
   ],
   "source": [
    "f_close_clicks_train.filter(col('ip')==83230).show(5, truncate=False)"
   ]
  },
  {
   "cell_type": "code",
   "execution_count": 20,
   "metadata": {
    "collapsed": true
   },
   "outputs": [],
   "source": [
    "(f_close_clicks_train\n",
    " .select(\"id\", \"lapse_prev_click_os\", \"lapse_next_click_os\")\n",
    " .coalesce(1)\n",
    " .write\n",
    " .format(\"com.databricks.spark.csv\")\n",
    " .option(\"header\", \"true\")\n",
    " .mode(\"overwrite\")\n",
    " .save(mungepath+\"f_close_clicks_os_train\", compression=\"None\"))"
   ]
  },
  {
   "cell_type": "markdown",
   "metadata": {},
   "source": [
    "# Extract Test Set Features"
   ]
  },
  {
   "cell_type": "code",
   "execution_count": 33,
   "metadata": {
    "collapsed": true
   },
   "outputs": [],
   "source": [
    "from pyspark.sql.functions import monotonically_increasing_id\n",
    "\n",
    "# Add a unique id for each row in the test set\n",
    "test_new = (test_new\n",
    "            .withColumn('id', monotonically_increasing_id()))"
   ]
  },
  {
   "cell_type": "code",
   "execution_count": 34,
   "metadata": {
    "collapsed": false
   },
   "outputs": [
    {
     "name": "stdout",
     "output_type": "stream",
     "text": [
      "+--------+------+---+------+---+-------+-------------------+---+\n",
      "|click_id|    ip|app|device| os|channel|         click_time| id|\n",
      "+--------+------+---+------+---+-------+-------------------+---+\n",
      "|       0|  5744|  9|     1|  3|    107|2017-11-10 04:00:00|  0|\n",
      "|       1|119901|  9|     1|  3|    466|2017-11-10 04:00:00|  1|\n",
      "|       2| 72287| 21|     1| 19|    128|2017-11-10 04:00:00|  2|\n",
      "|       3| 78477| 15|     1| 13|    111|2017-11-10 04:00:00|  3|\n",
      "|       4|123080| 12|     1| 13|    328|2017-11-10 04:00:00|  4|\n",
      "|       5|110769| 18|     1| 13|    107|2017-11-10 04:00:00|  5|\n",
      "|       6| 12540|  3|     1|  1|    137|2017-11-10 04:00:00|  6|\n",
      "|       7| 88637| 27|     1| 19|    153|2017-11-10 04:00:00|  7|\n",
      "|       9| 14932| 18|     1| 10|    107|2017-11-10 04:00:00|  8|\n",
      "|       8|123701| 12|     1| 53|    424|2017-11-10 04:00:00|  9|\n",
      "+--------+------+---+------+---+-------+-------------------+---+\n",
      "only showing top 10 rows\n",
      "\n"
     ]
    }
   ],
   "source": [
    "test_new.show(10)"
   ]
  },
  {
   "cell_type": "code",
   "execution_count": 35,
   "metadata": {
    "collapsed": false
   },
   "outputs": [
    {
     "name": "stdout",
     "output_type": "stream",
     "text": [
      "Total number of clicks in one week: 242440762\n"
     ]
    }
   ],
   "source": [
    "# train and test set concatenation\n",
    "from pyspark.sql.functions import col\n",
    "data = (train.select('ip', 'app', 'device', 'os', 'channel', 'click_time')\n",
    "        .unionAll(test_old.select('ip', 'app', 'device', 'os', 'channel', 'click_time')))\n",
    "        \n",
    "print('Total number of clicks in one week:', data.count())"
   ]
  },
  {
   "cell_type": "code",
   "execution_count": 36,
   "metadata": {
    "collapsed": false
   },
   "outputs": [
    {
     "name": "stdout",
     "output_type": "stream",
     "text": [
      "+-----+---+------+---+-------+-------------------+\n",
      "|   ip|app|device| os|channel|         click_time|\n",
      "+-----+---+------+---+-------+-------------------+\n",
      "|83230|  3|     1| 13|    379|2017-11-06 14:32:21|\n",
      "|17357|  3|     1| 19|    379|2017-11-06 14:33:34|\n",
      "|35810|  3|     1| 13|    379|2017-11-06 14:34:12|\n",
      "+-----+---+------+---+-------+-------------------+\n",
      "only showing top 3 rows\n",
      "\n"
     ]
    }
   ],
   "source": [
    "data.show(3)"
   ]
  },
  {
   "cell_type": "code",
   "execution_count": 38,
   "metadata": {
    "collapsed": true
   },
   "outputs": [],
   "source": [
    "from pyspark.sql.functions import unix_timestamp, col\n",
    "\n",
    "f_close_clicks = (data\n",
    "                  .select('ip', 'app', 'device', 'os', 'channel', 'click_time')\n",
    "                  .withColumn('lapse_prev_click_os',\n",
    "                              unix_timestamp(col('click_time')) - unix_timestamp(func.lag(train['click_time']).over(windowSpec)))\n",
    "                  .withColumn('avail2days',\n",
    "                              unix_timestamp(col('click_time')) - unix_timestamp(lit('2017-11-06 14:32:21')) >= (2*24*3600))\n",
    "                  .withColumn('lapse_prev_click_os', click_last2days_udf(col('lapse_prev_click_os'), col('avail2days')))\n",
    "                  .withColumn('lapse_next_click_os',\n",
    "                                 unix_timestamp(func.lag(train['click_time'],-1).over(windowSpec)) - unix_timestamp(col('click_time')))\n",
    "                  .withColumn('lapse_next_click_os', click_next1hour_udf(col('lapse_next_click_os')))\n",
    "                  .groupBy('ip', 'app', 'device', 'os', 'channel', 'click_time')\n",
    "                  .agg(func.min(col('lapse_prev_click_os')).alias('lapse_prev_click_os'),\n",
    "                       func.min(col('lapse_next_click_os')).alias('lapse_next_click_os'))\n",
    "                  .withColumn('lapse_prev_click_os', (when(col('lapse_prev_click_os')==999999, -1)\n",
    "                                                      .otherwise(col('lapse_prev_click_os'))))\n",
    "                  .cache())"
   ]
  },
  {
   "cell_type": "code",
   "execution_count": 39,
   "metadata": {
    "collapsed": true
   },
   "outputs": [],
   "source": [
    "f_close_clicks_test = (test_new\n",
    "                       .join(f_close_clicks, ['ip', 'app', 'device', 'os', 'channel', 'click_time'], 'left_outer')\n",
    "                       .orderBy(col('id')))"
   ]
  },
  {
   "cell_type": "code",
   "execution_count": 42,
   "metadata": {
    "collapsed": true
   },
   "outputs": [],
   "source": [
    "(f_close_clicks_test\n",
    " .select(\"id\", \"lapse_prev_click_os\", \"lapse_next_click_os\")\n",
    " .coalesce(1)\n",
    " .write\n",
    " .format(\"com.databricks.spark.csv\")\n",
    " .option(\"header\", \"true\")\n",
    " .mode(\"overwrite\")\n",
    " .save(mungepath+\"f_close_clicks_os_test\", compression=\"None\"))"
   ]
  },
  {
   "cell_type": "code",
   "execution_count": 43,
   "metadata": {
    "collapsed": true
   },
   "outputs": [],
   "source": [
    "# do the same thing for the full test set\n",
    "\n",
    "test_old = (test_old\n",
    "            .withColumn('id', monotonically_increasing_id()))\n",
    "\n",
    "f_close_clicks_test_old = (test_old\n",
    "                           .join(f_close_clicks, ['ip', 'app', 'device', 'os', 'channel', 'click_time'], 'left_outer')\n",
    "                           .orderBy(col('id')))\n",
    "                            \n",
    "(f_close_clicks_test_old\n",
    " .select(\"id\", \"lapse_prev_click_os\", \"lapse_next_click_os\")\n",
    " .coalesce(1)\n",
    " .write\n",
    " .format(\"com.databricks.spark.csv\")\n",
    " .option(\"header\", \"true\")\n",
    " .mode(\"overwrite\")\n",
    " .save(mungepath+\"f_close_clicks_os_test_old\", compression=\"None\"))"
   ]
  },
  {
   "cell_type": "code",
   "execution_count": null,
   "metadata": {
    "collapsed": true
   },
   "outputs": [],
   "source": []
  }
 ],
 "metadata": {
  "anaconda-cloud": {},
  "kernelspec": {
   "display_name": "PySpark",
   "language": "python3",
   "name": "pyspark"
  },
  "language_info": {
   "codemirror_mode": {
    "name": "ipython",
    "version": 3
   },
   "file_extension": ".py",
   "mimetype": "text/x-python",
   "name": "python",
   "nbconvert_exporter": "python",
   "pygments_lexer": "ipython3",
   "version": "3.6.4"
  }
 },
 "nbformat": 4,
 "nbformat_minor": 2
}
