{
 "cells": [
  {
   "cell_type": "markdown",
   "metadata": {},
   "source": [
    "# Loading Libraries"
   ]
  },
  {
   "cell_type": "code",
   "execution_count": 2,
   "metadata": {
    "collapsed": true
   },
   "outputs": [],
   "source": [
    "import numpy as np\n",
    "import pandas as pd\n",
    "import matplotlib.pyplot as plt\n",
    "% matplotlib inline\n",
    "\n",
    "import seaborn as sns\n",
    "sns.set(rc={'figure.figsize':(12, 5)},\n",
    "        font_scale=1.5,\n",
    "        style=\"whitegrid\")\n",
    "        \n",
    "from pyspark.sql import HiveContext\n",
    "from pyspark.sql import SQLContext\n",
    "\n",
    "# initialize session hive and sql environments\n",
    "hiveContext = HiveContext(sc)\n",
    "sqlContext = SQLContext(sc)"
   ]
  },
  {
   "cell_type": "markdown",
   "metadata": {},
   "source": [
    "# Data Reading"
   ]
  },
  {
   "cell_type": "code",
   "execution_count": 3,
   "metadata": {
    "collapsed": true
   },
   "outputs": [],
   "source": [
    "project_folder = \"../\"\n",
    "datapath = project_folder + \"data/\"\n",
    "plotpath = project_folder + \"graphs/\"\n",
    "mungepath = project_folder + \"munge/\"\n",
    "configpath = project_folder + \"config/\"\n",
    "diagnostic = project_folder + \"diagnostic/\"\n",
    "modelpath = project_folder + \"model/\"\n",
    "output = project_folder + \"output/\""
   ]
  },
  {
   "cell_type": "code",
   "execution_count": 4,
   "metadata": {
    "collapsed": false
   },
   "outputs": [
    {
     "name": "stdout",
     "output_type": "stream",
     "text": [
      "Found 184903890 observations in training set.\n"
     ]
    }
   ],
   "source": [
    "from pyspark.sql.functions import col\n",
    "\n",
    "train = spark.read.csv(os.path.join(datapath,\"train.csv\"), header=True)\n",
    "print('Found %d observations in training set.' %train.count())"
   ]
  },
  {
   "cell_type": "code",
   "execution_count": 5,
   "metadata": {
    "collapsed": false
   },
   "outputs": [
    {
     "name": "stdout",
     "output_type": "stream",
     "text": [
      "Found 57536872 observations in test_old set.\n"
     ]
    }
   ],
   "source": [
    "from pyspark.sql.functions import col\n",
    "\n",
    "test_old = (spark.read.csv(os.path.join(datapath,\"test_supplement.csv\"), header=True)\n",
    "            .filter(col('click_time') >= '2017-11-09 16:00:00'))\n",
    "\n",
    "print('Found %d observations in test_old set.' %test_old.count())"
   ]
  },
  {
   "cell_type": "code",
   "execution_count": 6,
   "metadata": {
    "collapsed": false
   },
   "outputs": [
    {
     "name": "stdout",
     "output_type": "stream",
     "text": [
      "+------+---+------+---+-------+-------------------+---------------+-------------+\n",
      "|    ip|app|device| os|channel|         click_time|attributed_time|is_attributed|\n",
      "+------+---+------+---+-------+-------------------+---------------+-------------+\n",
      "| 83230|  3|     1| 13|    379|2017-11-06 14:32:21|           null|            0|\n",
      "| 17357|  3|     1| 19|    379|2017-11-06 14:33:34|           null|            0|\n",
      "| 35810|  3|     1| 13|    379|2017-11-06 14:34:12|           null|            0|\n",
      "| 45745| 14|     1| 13|    478|2017-11-06 14:34:52|           null|            0|\n",
      "|161007|  3|     1| 13|    379|2017-11-06 14:35:08|           null|            0|\n",
      "| 18787|  3|     1| 16|    379|2017-11-06 14:36:26|           null|            0|\n",
      "|103022|  3|     1| 23|    379|2017-11-06 14:37:44|           null|            0|\n",
      "|114221|  3|     1| 19|    379|2017-11-06 14:37:59|           null|            0|\n",
      "|165970|  3|     1| 13|    379|2017-11-06 14:38:10|           null|            0|\n",
      "| 74544| 64|     1| 22|    459|2017-11-06 14:38:23|           null|            0|\n",
      "+------+---+------+---+-------+-------------------+---------------+-------------+\n",
      "only showing top 10 rows\n",
      "\n"
     ]
    }
   ],
   "source": [
    "train.show(10)"
   ]
  },
  {
   "cell_type": "code",
   "execution_count": 7,
   "metadata": {
    "collapsed": false,
    "scrolled": true
   },
   "outputs": [
    {
     "name": "stdout",
     "output_type": "stream",
     "text": [
      "root\n",
      " |-- ip: string (nullable = true)\n",
      " |-- app: string (nullable = true)\n",
      " |-- device: string (nullable = true)\n",
      " |-- os: string (nullable = true)\n",
      " |-- channel: string (nullable = true)\n",
      " |-- click_time: string (nullable = true)\n",
      " |-- attributed_time: string (nullable = true)\n",
      " |-- is_attributed: string (nullable = true)\n",
      "\n"
     ]
    }
   ],
   "source": [
    "train.printSchema()"
   ]
  },
  {
   "cell_type": "markdown",
   "metadata": {},
   "source": [
    "# Build the full dataset"
   ]
  },
  {
   "cell_type": "code",
   "execution_count": 8,
   "metadata": {
    "collapsed": false
   },
   "outputs": [
    {
     "name": "stdout",
     "output_type": "stream",
     "text": [
      "Total number of clicks in one week: 242440762\n"
     ]
    }
   ],
   "source": [
    "# train and test set concatenation\n",
    "from pyspark.sql.functions import col\n",
    "data = (train.select('ip', 'app', 'device', 'os', 'channel', 'click_time')\n",
    "        .unionAll(test_old.select('ip', 'app', 'device', 'os', 'channel', 'click_time')))\n",
    "        \n",
    "print('Total number of clicks in one week:', data.count())"
   ]
  },
  {
   "cell_type": "code",
   "execution_count": 9,
   "metadata": {
    "collapsed": false
   },
   "outputs": [
    {
     "name": "stdout",
     "output_type": "stream",
     "text": [
      "+------+---+------+---+-------+-------------------+\n",
      "|    ip|app|device| os|channel|         click_time|\n",
      "+------+---+------+---+-------+-------------------+\n",
      "| 83230|  3|     1| 13|    379|2017-11-06 14:32:21|\n",
      "| 17357|  3|     1| 19|    379|2017-11-06 14:33:34|\n",
      "| 35810|  3|     1| 13|    379|2017-11-06 14:34:12|\n",
      "| 45745| 14|     1| 13|    478|2017-11-06 14:34:52|\n",
      "|161007|  3|     1| 13|    379|2017-11-06 14:35:08|\n",
      "+------+---+------+---+-------+-------------------+\n",
      "only showing top 5 rows\n",
      "\n"
     ]
    }
   ],
   "source": [
    "data.show(5)"
   ]
  },
  {
   "cell_type": "markdown",
   "metadata": {},
   "source": [
    "# Datetime Features"
   ]
  },
  {
   "cell_type": "code",
   "execution_count": 10,
   "metadata": {
    "collapsed": true
   },
   "outputs": [],
   "source": [
    "# day function\n",
    "def get_day(date):\n",
    "    \"\"\"\n",
    "    Returns the hour based on a string date\n",
    "        \n",
    "    Args:\n",
    "        date (String): A String containing the click datetime\n",
    "\n",
    "    Returns:\n",
    "        day: A String containing the day of click (\"06\", \"07\", ..\"10\")\n",
    "    \"\"\"\n",
    "    \n",
    "    return date[8:10]\n",
    "\n",
    "# hour function\n",
    "def get_hour(date):\n",
    "    \"\"\"\n",
    "    Returns the hour based on a string date\n",
    "        \n",
    "    Args:\n",
    "        date (String): A String containing the click datetime\n",
    "\n",
    "    Returns:\n",
    "        hour: A String containing the hour interval (\"01\", \"02\", ..\"23\")\n",
    "    \"\"\"\n",
    "    \n",
    "    return date[11:13]\n",
    "\n",
    "# minute function\n",
    "def get_minute(date):\n",
    "    \"\"\"\n",
    "    Returns the minute based on a string date\n",
    "        \n",
    "    Args:\n",
    "        date (String): A String containing the click datetime\n",
    "\n",
    "    Returns:\n",
    "        hour: A String containing the minute interval (\"01\", \"02\", ..\"59\")\n",
    "    \"\"\"\n",
    "    \n",
    "    return date[14:16]"
   ]
  },
  {
   "cell_type": "code",
   "execution_count": 11,
   "metadata": {
    "collapsed": true
   },
   "outputs": [],
   "source": [
    "# Get datetime features\n",
    "from pyspark.sql.functions import udf\n",
    "from pyspark.sql.types import StringType\n",
    "\n",
    "day_udf = udf(get_day, StringType())\n",
    "hour_udf = udf(get_hour, StringType())\n",
    "minute_udf = udf(get_minute, StringType())\n",
    "\n",
    "data = data.withColumn('day', day_udf(data.click_time))\n",
    "data = data.withColumn('hour', hour_udf(data.click_time))\n",
    "data = data.withColumn('minute', minute_udf(data.click_time))"
   ]
  },
  {
   "cell_type": "code",
   "execution_count": 12,
   "metadata": {
    "collapsed": false
   },
   "outputs": [
    {
     "name": "stdout",
     "output_type": "stream",
     "text": [
      "+------+---+------+---+-------+-------------------+---+----+------+\n",
      "|    ip|app|device| os|channel|         click_time|day|hour|minute|\n",
      "+------+---+------+---+-------+-------------------+---+----+------+\n",
      "| 83230|  3|     1| 13|    379|2017-11-06 14:32:21| 06|  14|    32|\n",
      "| 17357|  3|     1| 19|    379|2017-11-06 14:33:34| 06|  14|    33|\n",
      "| 35810|  3|     1| 13|    379|2017-11-06 14:34:12| 06|  14|    34|\n",
      "| 45745| 14|     1| 13|    478|2017-11-06 14:34:52| 06|  14|    34|\n",
      "|161007|  3|     1| 13|    379|2017-11-06 14:35:08| 06|  14|    35|\n",
      "+------+---+------+---+-------+-------------------+---+----+------+\n",
      "only showing top 5 rows\n",
      "\n"
     ]
    }
   ],
   "source": [
    "data.show(5)"
   ]
  },
  {
   "cell_type": "markdown",
   "metadata": {},
   "source": [
    "# IP Number of Clicks for same Channel in same Hour"
   ]
  },
  {
   "cell_type": "code",
   "execution_count": 15,
   "metadata": {
    "collapsed": true
   },
   "outputs": [],
   "source": [
    "from pyspark.sql.functions import col, unix_timestamp, lit\n",
    "import pyspark.sql.functions as func"
   ]
  },
  {
   "cell_type": "code",
   "execution_count": 16,
   "metadata": {
    "collapsed": true
   },
   "outputs": [],
   "source": [
    "var = 'channel'"
   ]
  },
  {
   "cell_type": "code",
   "execution_count": 17,
   "metadata": {
    "collapsed": false
   },
   "outputs": [
    {
     "name": "stdout",
     "output_type": "stream",
     "text": [
      "+-------+---+----+-------------------+-----------------------+-----------------------+\n",
      "|channel|day|hour|channel_hour_clicks|channel_hour_std_minute|channel_hour_avg_minute|\n",
      "+-------+---+----+-------------------+-----------------------+-----------------------+\n",
      "|278    |06 |23  |10066              |17.14                  |31.61                  |\n",
      "|171    |06 |23  |305                |16.66                  |28.35                  |\n",
      "|128    |07 |00  |70448              |17.33                  |28.89                  |\n",
      "|124    |06 |16  |4048               |17.16                  |27.27                  |\n",
      "|224    |06 |20  |96                 |16.92                  |30.2                   |\n",
      "|419    |06 |20  |12                 |12.77                  |21.42                  |\n",
      "|379    |07 |15  |49428              |17.26                  |27.9                   |\n",
      "|497    |07 |04  |10443              |17.22                  |29.9                   |\n",
      "|259    |07 |05  |101278             |17.75                  |29.21                  |\n",
      "|237    |08 |02  |76271              |17.25                  |30.67                  |\n",
      "|30     |08 |02  |34708              |14.2                   |34.0                   |\n",
      "|243    |07 |06  |3033               |17.09                  |31.14                  |\n",
      "|402    |07 |06  |2909               |17.55                  |28.72                  |\n",
      "|140    |08 |03  |37253              |18.21                  |28.71                  |\n",
      "|150    |08 |05  |4089               |17.43                  |29.03                  |\n",
      "|215    |08 |10  |23724              |17.75                  |27.58                  |\n",
      "|450    |08 |21  |2                  |10.61                  |42.5                   |\n",
      "|446    |09 |12  |6944               |17.92                  |28.33                  |\n",
      "|107    |08 |23  |104880             |17.21                  |31.19                  |\n",
      "|445    |10 |05  |15096              |17.36                  |28.3                   |\n",
      "|219    |10 |06  |39695              |17.27                  |29.33                  |\n",
      "|430    |10 |06  |9712               |17.3                   |29.08                  |\n",
      "|465    |10 |06  |148                |17.46                  |29.22                  |\n",
      "|150    |09 |06  |3760               |17.44                  |29.42                  |\n",
      "|451    |09 |06  |32                 |18.39                  |28.03                  |\n",
      "|391    |10 |11  |138                |16.62                  |31.19                  |\n",
      "|140    |09 |13  |48088              |18.31                  |25.75                  |\n",
      "|145    |10 |14  |61802              |17.04                  |28.62                  |\n",
      "|19     |10 |00  |23100              |17.23                  |29.38                  |\n",
      "|416    |10 |00  |28                 |15.59                  |37.11                  |\n",
      "|487    |10 |01  |6812               |17.36                  |29.37                  |\n",
      "|30     |10 |01  |450                |17.2                   |29.8                   |\n",
      "|456    |10 |01  |112                |17.4                   |27.46                  |\n",
      "|421    |07 |01  |727                |16.5                   |30.87                  |\n",
      "|496    |07 |02  |14025              |17.31                  |29.36                  |\n",
      "|108    |07 |02  |120                |16.55                  |27.72                  |\n",
      "|115    |07 |10  |28490              |17.24                  |30.87                  |\n",
      "|150    |07 |10  |4185               |17.5                   |29.63                  |\n",
      "|333    |07 |11  |757                |17.54                  |30.29                  |\n",
      "|408    |07 |13  |11                 |17.95                  |35.18                  |\n",
      "|496    |07 |13  |2                  |24.04                  |24.0                   |\n",
      "|467    |07 |18  |1170               |17.73                  |28.02                  |\n",
      "|450    |07 |20  |3                  |17.62                  |44.67                  |\n",
      "|234    |07 |22  |5349               |17.55                  |31.8                   |\n",
      "|450    |08 |09  |1                  |0.0                    |3.0                    |\n",
      "|435    |09 |02  |35232              |17.31                  |29.62                  |\n",
      "|111    |09 |02  |9125               |17.42                  |29.61                  |\n",
      "|466    |09 |03  |65006              |17.82                  |29.32                  |\n",
      "|401    |10 |04  |26221              |17.23                  |29.34                  |\n",
      "|140    |10 |04  |26700              |17.26                  |26.85                  |\n",
      "|219    |10 |09  |40229              |17.5                   |29.76                  |\n",
      "|236    |10 |09  |25424              |17.26                  |29.36                  |\n",
      "|21     |10 |12  |2740               |17.34                  |29.51                  |\n",
      "|353    |10 |12  |72                 |17.09                  |31.65                  |\n",
      "|333    |08 |07  |710                |16.83                  |30.86                  |\n",
      "|479    |08 |07  |27                 |18.52                  |29.37                  |\n",
      "|134    |08 |12  |79613              |17.38                  |29.38                  |\n",
      "|3      |08 |13  |19715              |17.38                  |30.42                  |\n",
      "|497    |08 |13  |8795               |17.27                  |30.06                  |\n",
      "|205    |09 |14  |97961              |17.17                  |29.68                  |\n",
      "|409    |09 |14  |36556              |17.27                  |28.83                  |\n",
      "|451    |09 |14  |71                 |18.44                  |29.2                   |\n",
      "|456    |09 |15  |104                |16.4                   |23.12                  |\n",
      "|379    |09 |18  |18650              |17.23                  |27.67                  |\n",
      "|130    |09 |18  |6547               |17.23                  |27.25                  |\n",
      "|108    |09 |18  |36                 |18.56                  |25.67                  |\n",
      "|123    |09 |18  |5                  |9.97                   |43.0                   |\n",
      "|13     |09 |19  |165                |17.08                  |27.36                  |\n",
      "|0      |09 |21  |1                  |0.0                    |47.0                   |\n",
      "|266    |09 |22  |7563               |16.58                  |34.63                  |\n",
      "|19     |09 |22  |9576               |16.7                   |34.65                  |\n",
      "|420    |09 |22  |1                  |0.0                    |11.0                   |\n",
      "|371    |09 |05  |652                |17.28                  |28.79                  |\n",
      "|203    |09 |05  |153                |17.24                  |30.54                  |\n",
      "|487    |07 |03  |6386               |17.32                  |30.2                   |\n",
      "|347    |07 |04  |13086              |17.51                  |29.66                  |\n",
      "|373    |07 |04  |462                |18.07                  |30.71                  |\n",
      "|456    |07 |04  |113                |17.49                  |30.12                  |\n",
      "|498    |07 |09  |95                 |17.82                  |29.08                  |\n",
      "|449    |07 |09  |415                |17.17                  |33.06                  |\n",
      "|17     |07 |11  |4058               |17.37                  |28.93                  |\n",
      "|174    |07 |23  |28                 |11.61                  |40.93                  |\n",
      "|326    |08 |00  |6828               |17.11                  |28.62                  |\n",
      "|445    |09 |04  |20306              |16.99                  |29.51                  |\n",
      "|265    |09 |05  |104853             |17.34                  |29.36                  |\n",
      "|19     |09 |05  |22690              |17.48                  |28.63                  |\n",
      "|110    |09 |05  |1424               |17.22                  |28.69                  |\n",
      "|130    |09 |06  |23726              |17.29                  |29.18                  |\n",
      "|244    |09 |06  |29480              |17.37                  |29.71                  |\n",
      "|118    |09 |06  |1708               |13.29                  |43.17                  |\n",
      "|328    |09 |07  |29909              |17.29                  |29.21                  |\n",
      "|498    |09 |07  |19                 |14.47                  |29.58                  |\n",
      "|311    |10 |01  |18                 |19.46                  |30.0                   |\n",
      "|171    |10 |07  |343                |17.29                  |30.42                  |\n",
      "|391    |10 |07  |25                 |22.1                   |27.8                   |\n",
      "|401    |10 |13  |21661              |17.35                  |30.01                  |\n",
      "|135    |10 |15  |37654              |17.28                  |28.36                  |\n",
      "|18     |07 |13  |222                |17.67                  |29.12                  |\n",
      "|105    |08 |05  |9557               |17.32                  |30.25                  |\n",
      "|150    |08 |06  |3787               |17.14                  |28.94                  |\n",
      "+-------+---+----+-------------------+-----------------------+-----------------------+\n",
      "only showing top 100 rows\n",
      "\n"
     ]
    }
   ],
   "source": [
    "var_hour_clicks = (data\n",
    "                   .groupBy(var, 'day', 'hour')\n",
    "                   .agg(func.count(func.lit(1)).alias(var+'_hour_clicks'),\n",
    "                        func.round(func.stddev(col('minute')), 2).alias(var+'_hour_std_minute'),\n",
    "                        func.round(func.mean(col('minute')), 2).alias(var+'_hour_avg_minute'))\n",
    "                      .fillna({var+'_hour_std_minute':0,\n",
    "                               var+'_hour_avg_minute':0})\n",
    "                      .cache())\n",
    "\n",
    "var_hour_clicks.show(100, truncate=False)"
   ]
  },
  {
   "cell_type": "code",
   "execution_count": 29,
   "metadata": {
    "collapsed": false
   },
   "outputs": [
    {
     "name": "stdout",
     "output_type": "stream",
     "text": [
      "+------+---+------+---+-------+-------------------+---+----+------+\n",
      "|ip    |app|device|os |channel|click_time         |day|hour|minute|\n",
      "+------+---+------+---+-------+-------------------+---+----+------+\n",
      "|131801|45 |1     |55 |419    |2017-11-06 20:03:14|06 |20  |03    |\n",
      "|105534|45 |1     |17 |419    |2017-11-06 20:04:04|06 |20  |04    |\n",
      "|157660|45 |1     |31 |419    |2017-11-06 20:09:31|06 |20  |09    |\n",
      "|163098|45 |1     |9  |419    |2017-11-06 20:10:02|06 |20  |10    |\n",
      "|190511|45 |1     |11 |419    |2017-11-06 20:15:39|06 |20  |15    |\n",
      "|172130|45 |1     |7  |419    |2017-11-06 20:22:30|06 |20  |22    |\n",
      "|190511|45 |1     |3  |419    |2017-11-06 20:27:35|06 |20  |27    |\n",
      "|105475|45 |1     |53 |419    |2017-11-06 20:28:56|06 |20  |28    |\n",
      "|190511|45 |1     |17 |419    |2017-11-06 20:30:11|06 |20  |30    |\n",
      "|111025|45 |1     |16 |419    |2017-11-06 20:34:10|06 |20  |34    |\n",
      "|211259|45 |1     |20 |419    |2017-11-06 20:37:04|06 |20  |37    |\n",
      "|118229|45 |1     |8  |419    |2017-11-06 20:38:20|06 |20  |38    |\n",
      "|184610|45 |1     |7  |419    |2017-11-07 20:05:49|07 |20  |05    |\n",
      "|20547 |45 |1     |18 |419    |2017-11-07 20:07:08|07 |20  |07    |\n",
      "|258134|45 |1     |7  |419    |2017-11-07 20:11:23|07 |20  |11    |\n",
      "|49602 |45 |1     |37 |419    |2017-11-07 20:22:57|07 |20  |22    |\n",
      "|105475|45 |1     |17 |419    |2017-11-07 20:27:46|07 |20  |27    |\n",
      "|41753 |45 |1     |7  |419    |2017-11-07 20:35:14|07 |20  |35    |\n",
      "|17572 |45 |1     |7  |419    |2017-11-07 20:46:38|07 |20  |46    |\n",
      "|5314  |45 |1     |3  |419    |2017-11-07 20:48:46|07 |20  |48    |\n",
      "+------+---+------+---+-------+-------------------+---+----+------+\n",
      "only showing top 20 rows\n",
      "\n"
     ]
    }
   ],
   "source": [
    "data.filter((col('hour')==20) & (col(var)==419)).show(truncate=False)"
   ]
  },
  {
   "cell_type": "markdown",
   "metadata": {},
   "source": [
    "## Export New Features"
   ]
  },
  {
   "cell_type": "code",
   "execution_count": 19,
   "metadata": {
    "collapsed": true
   },
   "outputs": [],
   "source": [
    "(var_hour_clicks\n",
    " .coalesce(1)\n",
    " .write\n",
    " .format(\"com.databricks.spark.csv\")\n",
    " .option(\"header\", \"true\")\n",
    " .mode(\"overwrite\")\n",
    " .save(mungepath+\"f_\"+var+\"_hour_clicks\", compression=\"None\"))"
   ]
  },
  {
   "cell_type": "code",
   "execution_count": 28,
   "metadata": {
    "collapsed": false
   },
   "outputs": [
    {
     "data": {
      "text/plain": [
       "15659"
      ]
     },
     "execution_count": 28,
     "metadata": {},
     "output_type": "execute_result"
    }
   ],
   "source": [
    "var_hour_clicks.count()"
   ]
  },
  {
   "cell_type": "markdown",
   "metadata": {},
   "source": [
    "## Check the impact of new features"
   ]
  },
  {
   "cell_type": "code",
   "execution_count": 21,
   "metadata": {
    "collapsed": false
   },
   "outputs": [
    {
     "name": "stdout",
     "output_type": "stream",
     "text": [
      "+--------------------+\n",
      "|  avg(is_attributed)|\n",
      "+--------------------+\n",
      "|0.002470721410998979|\n",
      "+--------------------+\n",
      "\n"
     ]
    }
   ],
   "source": [
    "import pyspark.sql.functions as func\n",
    "\n",
    "train.groupBy().agg(func.mean(col('is_attributed'))).show()"
   ]
  },
  {
   "cell_type": "code",
   "execution_count": 22,
   "metadata": {
    "collapsed": true
   },
   "outputs": [],
   "source": [
    "train_sample = (train.sample(fraction=0.05, withReplacement=False, seed=22)\n",
    "                .withColumn('day', day_udf(data.click_time))\n",
    "                .withColumn('hour', hour_udf(data.click_time))\n",
    "                .join(var_hour_clicks, [var, 'day', 'hour'], 'left_outer')\n",
    "                .cache())"
   ]
  },
  {
   "cell_type": "code",
   "execution_count": 23,
   "metadata": {
    "collapsed": false
   },
   "outputs": [
    {
     "data": {
      "text/plain": [
       "9248009"
      ]
     },
     "execution_count": 23,
     "metadata": {},
     "output_type": "execute_result"
    }
   ],
   "source": [
    "train_sample.count()"
   ]
  },
  {
   "cell_type": "code",
   "execution_count": 24,
   "metadata": {
    "collapsed": false
   },
   "outputs": [
    {
     "data": {
      "text/plain": [
       "9248009"
      ]
     },
     "execution_count": 24,
     "metadata": {},
     "output_type": "execute_result"
    }
   ],
   "source": [
    "train.sample(fraction=0.05, withReplacement=False, seed=22).count()"
   ]
  },
  {
   "cell_type": "code",
   "execution_count": 25,
   "metadata": {
    "collapsed": false
   },
   "outputs": [
    {
     "name": "stdout",
     "output_type": "stream",
     "text": [
      "+-------+---+----+------+---+------+---+-------------------+---------------+-------------+-------------------+-----------------------+-----------------------+\n",
      "|channel|day|hour|ip    |app|device|os |click_time         |attributed_time|is_attributed|channel_hour_clicks|channel_hour_std_minute|channel_hour_avg_minute|\n",
      "+-------+---+----+------+---+------+---+-------------------+---------------+-------------+-------------------+-----------------------+-----------------------+\n",
      "|379    |06 |14  |38816 |3  |1     |18 |2017-11-06 14:40:39|null           |0            |43                 |7.84                   |45.98                  |\n",
      "|379    |06 |14  |134575|3  |1     |13 |2017-11-06 14:43:10|null           |0            |43                 |7.84                   |45.98                  |\n",
      "|379    |06 |14  |30986 |3  |1     |19 |2017-11-06 14:52:13|null           |0            |43                 |7.84                   |45.98                  |\n",
      "|379    |06 |15  |199564|3  |1     |13 |2017-11-06 15:09:44|null           |0            |353                |11.86                  |46.08                  |\n",
      "|379    |06 |15  |191894|3  |1     |18 |2017-11-06 15:29:16|null           |0            |353                |11.86                  |46.08                  |\n",
      "+-------+---+----+------+---+------+---+-------------------+---------------+-------------+-------------------+-----------------------+-----------------------+\n",
      "only showing top 5 rows\n",
      "\n"
     ]
    }
   ],
   "source": [
    "train_sample.show(5, truncate=False)"
   ]
  },
  {
   "cell_type": "code",
   "execution_count": 26,
   "metadata": {
    "collapsed": true
   },
   "outputs": [],
   "source": [
    "features = [var+'_hour_clicks', var+'_hour_std_minute', var+'_hour_avg_minute']"
   ]
  },
  {
   "cell_type": "code",
   "execution_count": 27,
   "metadata": {
    "collapsed": false,
    "scrolled": false
   },
   "outputs": [
    {
     "data": {
      "image/png": "[encoded data removed]",
      "text/plain": [
       "<matplotlib.figure.Figure at 0x7f3d416f70f0>"
      ]
     },
     "metadata": {},
     "output_type": "display_data"
    },
    {
     "data": {
      "image/png": "[encoded data removed]",
      "text/plain": [
       "<matplotlib.figure.Figure at 0x7f3cbee3fe48>"
      ]
     },
     "metadata": {},
     "output_type": "display_data"
    },
    {
     "data": {
      "image/png": "[encoded data removed]",
      "text/plain": [
       "<matplotlib.figure.Figure at 0x7f3d1140dbe0>"
      ]
     },
     "metadata": {},
     "output_type": "display_data"
    },
    {
     "data": {
      "image/png": "[encoded data removed]",
      "text/plain": [
       "<matplotlib.figure.Figure at 0x7f3d7aaeee10>"
      ]
     },
     "metadata": {},
     "output_type": "display_data"
    }
   ],
   "source": [
    "for f in features:\n",
    "    PDF = train_sample.select('is_attributed', f).toPandas()\n",
    "    PDF_sorted = PDF.sort_values(by=f)\n",
    "    PDF_sorted['roll'] = PDF_sorted.is_attributed.rolling(window=10000).mean()\n",
    "    plt.title('Impact of '+f)\n",
    "    plt.plot(PDF_sorted[f], PDF_sorted.roll)\n",
    "    plt.show()\n",
    "    \n",
    "    if np.max(PDF_sorted[f])>200:\n",
    "        PDF_filtered = PDF_sorted[PDF_sorted[f]<100]\n",
    "        plt.title('Impact of '+f)\n",
    "        plt.plot(PDF_filtered[f], PDF_filtered.roll)\n",
    "        plt.show()"
   ]
  },
  {
   "cell_type": "code",
   "execution_count": null,
   "metadata": {
    "collapsed": true
   },
   "outputs": [],
   "source": []
  }
 ],
 "metadata": {
  "anaconda-cloud": {},
  "kernelspec": {
   "display_name": "PySpark",
   "language": "python3",
   "name": "pyspark"
  },
  "language_info": {
   "codemirror_mode": {
    "name": "ipython",
    "version": 3
   },
   "file_extension": ".py",
   "mimetype": "text/x-python",
   "name": "python",
   "nbconvert_exporter": "python",
   "pygments_lexer": "ipython3",
   "version": "3.6.4"
  }
 },
 "nbformat": 4,
 "nbformat_minor": 2
}
