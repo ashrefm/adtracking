{
 "cells": [
  {
   "cell_type": "markdown",
   "metadata": {},
   "source": [
    "# Loading Libraries"
   ]
  },
  {
   "cell_type": "code",
   "execution_count": 2,
   "metadata": {
    "collapsed": true
   },
   "outputs": [],
   "source": [
    "import numpy as np\n",
    "import pandas as pd\n",
    "import matplotlib.pyplot as plt\n",
    "% matplotlib inline\n",
    "\n",
    "import seaborn as sns\n",
    "sns.set(rc={'figure.figsize':(12, 5)},\n",
    "        font_scale=1.5,\n",
    "        style=\"whitegrid\")\n",
    "        \n",
    "from pyspark.sql import HiveContext\n",
    "from pyspark.sql import SQLContext\n",
    "\n",
    "# initialize session hive and sql environments\n",
    "hiveContext = HiveContext(sc)\n",
    "sqlContext = SQLContext(sc)"
   ]
  },
  {
   "cell_type": "markdown",
   "metadata": {},
   "source": [
    "# Data Reading"
   ]
  },
  {
   "cell_type": "code",
   "execution_count": 3,
   "metadata": {
    "collapsed": true
   },
   "outputs": [],
   "source": [
    "project_folder = \"../\"\n",
    "datapath = project_folder + \"data/\"\n",
    "plotpath = project_folder + \"graphs/\"\n",
    "mungepath = project_folder + \"munge/\"\n",
    "configpath = project_folder + \"config/\"\n",
    "diagnostic = project_folder + \"diagnostic/\"\n",
    "modelpath = project_folder + \"model/\"\n",
    "output = project_folder + \"output/\""
   ]
  },
  {
   "cell_type": "code",
   "execution_count": 4,
   "metadata": {
    "collapsed": false
   },
   "outputs": [
    {
     "name": "stdout",
     "output_type": "stream",
     "text": [
      "Found 184903890 observations in training set.\n"
     ]
    }
   ],
   "source": [
    "from pyspark.sql.functions import col\n",
    "\n",
    "train = spark.read.csv(os.path.join(datapath,\"train.csv\"), header=True)\n",
    "print('Found %d observations in training set.' %train.count())"
   ]
  },
  {
   "cell_type": "code",
   "execution_count": 5,
   "metadata": {
    "collapsed": false
   },
   "outputs": [
    {
     "name": "stdout",
     "output_type": "stream",
     "text": [
      "Found 57536872 observations in test_old set.\n"
     ]
    }
   ],
   "source": [
    "from pyspark.sql.functions import col\n",
    "\n",
    "test_old = (spark.read.csv(os.path.join(datapath,\"test_supplement.csv\"), header=True)\n",
    "            .filter(col('click_time') >= '2017-11-09 16:00:00'))\n",
    "\n",
    "print('Found %d observations in test_old set.' %test_old.count())"
   ]
  },
  {
   "cell_type": "code",
   "execution_count": 6,
   "metadata": {
    "collapsed": false
   },
   "outputs": [
    {
     "name": "stdout",
     "output_type": "stream",
     "text": [
      "+------+---+------+---+-------+-------------------+---------------+-------------+\n",
      "|    ip|app|device| os|channel|         click_time|attributed_time|is_attributed|\n",
      "+------+---+------+---+-------+-------------------+---------------+-------------+\n",
      "| 83230|  3|     1| 13|    379|2017-11-06 14:32:21|           null|            0|\n",
      "| 17357|  3|     1| 19|    379|2017-11-06 14:33:34|           null|            0|\n",
      "| 35810|  3|     1| 13|    379|2017-11-06 14:34:12|           null|            0|\n",
      "| 45745| 14|     1| 13|    478|2017-11-06 14:34:52|           null|            0|\n",
      "|161007|  3|     1| 13|    379|2017-11-06 14:35:08|           null|            0|\n",
      "| 18787|  3|     1| 16|    379|2017-11-06 14:36:26|           null|            0|\n",
      "|103022|  3|     1| 23|    379|2017-11-06 14:37:44|           null|            0|\n",
      "|114221|  3|     1| 19|    379|2017-11-06 14:37:59|           null|            0|\n",
      "|165970|  3|     1| 13|    379|2017-11-06 14:38:10|           null|            0|\n",
      "| 74544| 64|     1| 22|    459|2017-11-06 14:38:23|           null|            0|\n",
      "+------+---+------+---+-------+-------------------+---------------+-------------+\n",
      "only showing top 10 rows\n",
      "\n"
     ]
    }
   ],
   "source": [
    "train.show(10)"
   ]
  },
  {
   "cell_type": "code",
   "execution_count": 7,
   "metadata": {
    "collapsed": false,
    "scrolled": true
   },
   "outputs": [
    {
     "name": "stdout",
     "output_type": "stream",
     "text": [
      "root\n",
      " |-- ip: string (nullable = true)\n",
      " |-- app: string (nullable = true)\n",
      " |-- device: string (nullable = true)\n",
      " |-- os: string (nullable = true)\n",
      " |-- channel: string (nullable = true)\n",
      " |-- click_time: string (nullable = true)\n",
      " |-- attributed_time: string (nullable = true)\n",
      " |-- is_attributed: string (nullable = true)\n",
      "\n"
     ]
    }
   ],
   "source": [
    "train.printSchema()"
   ]
  },
  {
   "cell_type": "markdown",
   "metadata": {},
   "source": [
    "# Build the full dataset"
   ]
  },
  {
   "cell_type": "code",
   "execution_count": 8,
   "metadata": {
    "collapsed": false
   },
   "outputs": [
    {
     "name": "stdout",
     "output_type": "stream",
     "text": [
      "Total number of clicks in one week: 242440762\n"
     ]
    }
   ],
   "source": [
    "# train and test set concatenation\n",
    "from pyspark.sql.functions import col\n",
    "data = (train.select('ip', 'app', 'device', 'os', 'channel', 'click_time')\n",
    "        .unionAll(test_old.select('ip', 'app', 'device', 'os', 'channel', 'click_time')))\n",
    "        \n",
    "print('Total number of clicks in one week:', data.count())"
   ]
  },
  {
   "cell_type": "code",
   "execution_count": 9,
   "metadata": {
    "collapsed": false
   },
   "outputs": [
    {
     "name": "stdout",
     "output_type": "stream",
     "text": [
      "+------+---+------+---+-------+-------------------+\n",
      "|    ip|app|device| os|channel|         click_time|\n",
      "+------+---+------+---+-------+-------------------+\n",
      "| 83230|  3|     1| 13|    379|2017-11-06 14:32:21|\n",
      "| 17357|  3|     1| 19|    379|2017-11-06 14:33:34|\n",
      "| 35810|  3|     1| 13|    379|2017-11-06 14:34:12|\n",
      "| 45745| 14|     1| 13|    478|2017-11-06 14:34:52|\n",
      "|161007|  3|     1| 13|    379|2017-11-06 14:35:08|\n",
      "+------+---+------+---+-------+-------------------+\n",
      "only showing top 5 rows\n",
      "\n"
     ]
    }
   ],
   "source": [
    "data.show(5)"
   ]
  },
  {
   "cell_type": "markdown",
   "metadata": {},
   "source": [
    "# Datetime Features"
   ]
  },
  {
   "cell_type": "code",
   "execution_count": 10,
   "metadata": {
    "collapsed": true
   },
   "outputs": [],
   "source": [
    "# day function\n",
    "def get_day(date):\n",
    "    \"\"\"\n",
    "    Returns the hour based on a string date\n",
    "        \n",
    "    Args:\n",
    "        date (String): A String containing the click datetime\n",
    "\n",
    "    Returns:\n",
    "        day: A String containing the day of click (\"06\", \"07\", ..\"10\")\n",
    "    \"\"\"\n",
    "    \n",
    "    return date[8:10]\n",
    "\n",
    "# hour function\n",
    "def get_hour(date):\n",
    "    \"\"\"\n",
    "    Returns the hour based on a string date\n",
    "        \n",
    "    Args:\n",
    "        date (String): A String containing the click datetime\n",
    "\n",
    "    Returns:\n",
    "        hour: A String containing the hour interval (\"01\", \"02\", ..\"23\")\n",
    "    \"\"\"\n",
    "    \n",
    "    return date[11:13]\n",
    "\n",
    "# minute function\n",
    "def get_minute(date):\n",
    "    \"\"\"\n",
    "    Returns the minute based on a string date\n",
    "        \n",
    "    Args:\n",
    "        date (String): A String containing the click datetime\n",
    "\n",
    "    Returns:\n",
    "        hour: A String containing the minute interval (\"01\", \"02\", ..\"59\")\n",
    "    \"\"\"\n",
    "    \n",
    "    return date[14:16]"
   ]
  },
  {
   "cell_type": "code",
   "execution_count": 11,
   "metadata": {
    "collapsed": true
   },
   "outputs": [],
   "source": [
    "# Get datetime features\n",
    "from pyspark.sql.functions import udf\n",
    "from pyspark.sql.types import StringType\n",
    "\n",
    "day_udf = udf(get_day, StringType())\n",
    "hour_udf = udf(get_hour, StringType())\n",
    "minute_udf = udf(get_minute, StringType())\n",
    "\n",
    "data = data.withColumn('day', day_udf(data.click_time))\n",
    "data = data.withColumn('hour', hour_udf(data.click_time))\n",
    "data = data.withColumn('minute', minute_udf(data.click_time))"
   ]
  },
  {
   "cell_type": "code",
   "execution_count": 12,
   "metadata": {
    "collapsed": false
   },
   "outputs": [
    {
     "name": "stdout",
     "output_type": "stream",
     "text": [
      "+------+---+------+---+-------+-------------------+---+----+------+\n",
      "|    ip|app|device| os|channel|         click_time|day|hour|minute|\n",
      "+------+---+------+---+-------+-------------------+---+----+------+\n",
      "| 83230|  3|     1| 13|    379|2017-11-06 14:32:21| 06|  14|    32|\n",
      "| 17357|  3|     1| 19|    379|2017-11-06 14:33:34| 06|  14|    33|\n",
      "| 35810|  3|     1| 13|    379|2017-11-06 14:34:12| 06|  14|    34|\n",
      "| 45745| 14|     1| 13|    478|2017-11-06 14:34:52| 06|  14|    34|\n",
      "|161007|  3|     1| 13|    379|2017-11-06 14:35:08| 06|  14|    35|\n",
      "+------+---+------+---+-------+-------------------+---+----+------+\n",
      "only showing top 5 rows\n",
      "\n"
     ]
    }
   ],
   "source": [
    "data.show(5)"
   ]
  },
  {
   "cell_type": "markdown",
   "metadata": {},
   "source": [
    "# IP Number of Clicks for same App"
   ]
  },
  {
   "cell_type": "code",
   "execution_count": 15,
   "metadata": {
    "collapsed": true
   },
   "outputs": [],
   "source": [
    "from pyspark.sql.functions import col, unix_timestamp, lit\n",
    "import pyspark.sql.functions as func"
   ]
  },
  {
   "cell_type": "code",
   "execution_count": 13,
   "metadata": {
    "collapsed": true
   },
   "outputs": [],
   "source": [
    "var = 'app'"
   ]
  },
  {
   "cell_type": "code",
   "execution_count": 16,
   "metadata": {
    "collapsed": false
   },
   "outputs": [
    {
     "name": "stdout",
     "output_type": "stream",
     "text": [
      "+-------------------+\n",
      "|    min(click_time)|\n",
      "+-------------------+\n",
      "|2017-11-06 14:32:21|\n",
      "+-------------------+\n",
      "\n"
     ]
    }
   ],
   "source": [
    "train.groupBy().agg(func.min('click_time')).show()"
   ]
  },
  {
   "cell_type": "code",
   "execution_count": 17,
   "metadata": {
    "collapsed": false
   },
   "outputs": [
    {
     "name": "stdout",
     "output_type": "stream",
     "text": [
      "+------+---+-------------+---------------------+---------------+-----------------+---------------+-----------------+\n",
      "|ip    |app|ip_app_clicks|ip_app_std_click_time|ip_app_std_hour|ip_app_std_minute|ip_app_avg_hour|ip_app_avg_minute|\n",
      "+------+---+-------------+---------------------+---------------+-----------------+---------------+-----------------+\n",
      "|105388|64 |45           |60882.0              |6.34           |17.09            |9.29           |32.44            |\n",
      "|4779  |15 |426          |97481.0              |6.45           |16.04            |11.01          |27.77            |\n",
      "|124317|14 |544          |102105.0             |6.75           |17.29            |8.59           |28.58            |\n",
      "|25648 |2  |34617        |96440.0              |6.12           |17.29            |11.39          |29.85            |\n",
      "|105560|2  |29658        |81014.0              |6.36           |17.39            |10.92          |29.5             |\n",
      "|56593 |2  |481          |96667.0              |5.5            |16.58            |6.89           |32.09            |\n",
      "|44312 |3  |860          |94204.0              |6.16           |17.11            |7.71           |28.5             |\n",
      "|123623|15 |3196         |92890.0              |6.62           |17.26            |10.8           |29.7             |\n",
      "|48212 |15 |12643        |90591.0              |6.11           |17.17            |11.39          |29.38            |\n",
      "|190196|3  |347          |80261.0              |6.9            |17.09            |8.8            |28.26            |\n",
      "|7021  |2  |680          |93394.0              |5.63           |16.0             |10.97          |27.91            |\n",
      "|74614 |14 |135          |96295.0              |6.15           |16.92            |7.64           |27.15            |\n",
      "|33508 |26 |67           |89735.0              |5.4            |15.86            |10.79          |23.39            |\n",
      "|204985|3  |246          |49961.0              |5.88           |17.18            |8.07           |29.88            |\n",
      "|38865 |9  |666          |97389.0              |6.52           |16.42            |9.01           |28.09            |\n",
      "|160143|26 |3            |23412.0              |8.62           |19.92            |12.67          |35.0             |\n",
      "|69893 |5  |16           |88873.0              |7.19           |17.85            |8.25           |33.63            |\n",
      "|12505 |2  |25159        |99775.0              |6.12           |17.34            |11.27          |29.46            |\n",
      "|198879|6  |32           |76447.0              |7.19           |16.87            |9.5            |32.84            |\n",
      "|105861|3  |2063         |107314.0             |7.15           |17.22            |8.69           |28.95            |\n",
      "|58994 |14 |961          |101956.0             |6.4            |16.97            |8.78           |28.59            |\n",
      "|89866 |14 |165          |95207.0              |6.79           |17.53            |6.75           |28.52            |\n",
      "|76637 |15 |338          |97292.0              |5.91           |17.15            |9.17           |28.93            |\n",
      "|99538 |12 |208          |128895.0             |5.7            |17.47            |11.42          |26.95            |\n",
      "|113165|2  |142          |108263.0             |5.65           |17.74            |12.23          |26.68            |\n",
      "|47455 |12 |687          |99233.0              |5.79           |17.87            |8.35           |29.35            |\n",
      "|69869 |22 |25           |103324.0             |5.71           |18.33            |10.24          |33.24            |\n",
      "|103659|15 |249          |93206.0              |5.99           |17.96            |10.96          |26.73            |\n",
      "|68338 |14 |449          |98548.0              |7.44           |16.79            |12.69          |31.45            |\n",
      "|151123|9  |60           |94203.0              |7.86           |19.06            |10.07          |32.17            |\n",
      "|113236|9  |1052         |95038.0              |6.05           |18.02            |9.05           |28.17            |\n",
      "|139796|18 |144          |71516.0              |5.5            |16.44            |9.69           |29.77            |\n",
      "|38922 |18 |523          |100055.0             |6.23           |17.24            |7.96           |29.41            |\n",
      "|106959|2  |742          |96263.0              |6.45           |17.47            |8.64           |29.12            |\n",
      "|164625|17 |782          |13285.0              |7.32           |16.1             |15.26          |28.01            |\n",
      "|49694 |18 |548          |92779.0              |6.75           |17.89            |8.48           |29.75            |\n",
      "|99762 |14 |340          |97652.0              |6.03           |17.62            |8.56           |29.06            |\n",
      "|90920 |12 |2666         |96023.0              |6.25           |17.6             |9.48           |28.03            |\n",
      "|137161|15 |77           |28134.0              |5.84           |17.52            |12.21          |26.26            |\n",
      "|127583|12 |645          |72340.0              |6.18           |17.87            |10.74          |28.23            |\n",
      "|114235|12 |21074        |97400.0              |5.98           |17.42            |11.0           |29.18            |\n",
      "|131408|3  |180          |6776.0               |1.84           |15.6             |18.17          |30.49            |\n",
      "|113571|2  |262          |127149.0             |5.81           |17.17            |7.57           |29.45            |\n",
      "|108649|14 |366          |96794.0              |6.54           |18.12            |8.3            |28.85            |\n",
      "|109735|12 |7917         |98328.0              |6.08           |17.53            |10.79          |28.78            |\n",
      "|55844 |14 |385          |96665.0              |6.55           |17.71            |7.98           |29.83            |\n",
      "|82287 |3  |3873         |90071.0              |6.02           |17.09            |8.23           |29.11            |\n",
      "|75469 |17 |85           |79345.0              |6.56           |17.82            |9.28           |32.04            |\n",
      "|47795 |12 |545          |91611.0              |6.64           |17.48            |9.7            |27.98            |\n",
      "|82816 |3  |7968         |85994.0              |5.81           |17.61            |9.44           |29.13            |\n",
      "|50275 |21 |400          |111467.0             |7.42           |17.68            |12.18          |30.92            |\n",
      "|5348  |26 |33824        |96009.0              |5.77           |17.27            |11.02          |29.55            |\n",
      "|145896|15 |2611         |49049.0              |6.48           |17.37            |11.22          |30.0             |\n",
      "|129252|2  |71           |25928.0              |6.65           |18.79            |11.44          |29.8             |\n",
      "|76343 |9  |496          |95307.0              |6.27           |17.81            |8.53           |28.96            |\n",
      "|179504|1  |4            |28265.0              |4.08           |21.53            |16.0           |30.25            |\n",
      "|11911 |18 |892          |97490.0              |6.22           |17.19            |10.3           |29.46            |\n",
      "|73636 |3  |868          |92402.0              |6.04           |17.54            |7.85           |28.6             |\n",
      "|82813 |12 |760          |107662.0             |6.44           |17.0             |10.01          |29.64            |\n",
      "|33104 |8  |87           |94272.0              |5.84           |13.92            |7.85           |29.25            |\n",
      "|28013 |12 |1673         |91834.0              |6.1            |17.77            |9.03           |30.03            |\n",
      "|137509|3  |1142         |70773.0              |5.48           |16.53            |7.18           |28.85            |\n",
      "|130534|3  |280          |53475.0              |5.84           |16.82            |11.26          |29.88            |\n",
      "|44277 |2  |783          |94288.0              |5.68           |17.7             |7.38           |29.08            |\n",
      "|21097 |12 |2386         |96557.0              |6.1            |16.96            |9.25           |29.19            |\n",
      "|8599  |2  |1191         |91495.0              |6.11           |17.89            |8.44           |29.64            |\n",
      "|18049 |26 |287          |92724.0              |6.55           |16.92            |9.89           |28.96            |\n",
      "|64142 |12 |1924         |92119.0              |6.14           |17.08            |8.69           |28.53            |\n",
      "|11751 |14 |266          |98435.0              |5.99           |17.28            |7.85           |29.63            |\n",
      "|92274 |15 |1106         |85897.0              |6.45           |17.37            |9.65           |27.42            |\n",
      "|28923 |13 |105          |100340.0             |5.95           |17.74            |8.72           |28.86            |\n",
      "|49174 |2  |169          |131759.0             |6.89           |15.95            |11.14          |30.07            |\n",
      "|87350 |2  |153          |131544.0             |6.01           |18.12            |12.15          |29.72            |\n",
      "|28013 |27 |58           |95614.0              |5.82           |18.16            |6.79           |29.17            |\n",
      "|39551 |12 |1540         |86968.0              |5.65           |17.81            |8.79           |29.44            |\n",
      "|162529|15 |264          |72991.0              |6.67           |17.49            |9.59           |26.66            |\n",
      "|126760|8  |4            |34673.0              |9.36           |20.4             |13.25          |26.5             |\n",
      "|86926 |9  |2358         |95565.0              |6.22           |17.3             |10.04          |29.77            |\n",
      "|49312 |18 |1094         |97280.0              |6.34           |16.96            |9.18           |29.34            |\n",
      "|202265|25 |84           |65136.0              |5.22           |16.18            |14.7           |31.6             |\n",
      "|116354|18 |286          |103751.0             |5.97           |17.17            |8.43           |29.35            |\n",
      "|208793|18 |415          |83277.0              |6.55           |17.15            |9.09           |30.94            |\n",
      "|44392 |18 |1741         |105432.0             |6.01           |16.96            |9.49           |30.45            |\n",
      "|28176 |14 |583          |95540.0              |6.98           |17.43            |9.02           |29.12            |\n",
      "|19803 |2  |668          |86324.0              |6.1            |17.67            |8.18           |28.57            |\n",
      "|23505 |12 |1029         |97170.0              |6.34           |16.96            |8.42           |29.38            |\n",
      "|194022|5  |2            |123428.0             |0.71           |21.92            |22.5           |31.5             |\n",
      "|174277|12 |52           |18827.0              |7.89           |17.73            |9.27           |25.69            |\n",
      "|112078|9  |468          |100535.0             |6.24           |18.14            |9.43           |27.37            |\n",
      "|43667 |2  |1051         |90260.0              |5.92           |17.35            |9.32           |30.36            |\n",
      "|124778|1  |197          |105832.0             |5.98           |16.81            |8.05           |28.77            |\n",
      "|100132|14 |435          |97282.0              |6.62           |17.11            |8.03           |28.54            |\n",
      "|25679 |13 |476          |98218.0              |5.41           |17.97            |11.0           |26.85            |\n",
      "|165711|9  |271          |76166.0              |5.4            |18.85            |10.33          |30.24            |\n",
      "|90588 |18 |1847         |98731.0              |6.12           |17.34            |9.15           |28.59            |\n",
      "|72137 |20 |23           |87913.0              |4.85           |15.9             |9.65           |36.61            |\n",
      "|152582|9  |3            |6396.0               |11.85          |18.33            |15.67          |31.0             |\n",
      "|68891 |9  |3253         |95771.0              |6.64           |17.74            |9.24           |29.59            |\n",
      "|1831  |18 |612          |111930.0             |6.71           |17.19            |11.68          |29.6             |\n",
      "|46466 |2  |537          |98295.0              |5.69           |17.75            |8.75           |29.08            |\n",
      "+------+---+-------------+---------------------+---------------+-----------------+---------------+-----------------+\n",
      "only showing top 100 rows\n",
      "\n"
     ]
    }
   ],
   "source": [
    "ip_var_clicks = (data\n",
    "                 .withColumn('click_time_seconds',\n",
    "                             (unix_timestamp(col('click_time')) - unix_timestamp(lit('2017-11-06 14:32:21'))))\n",
    "                 .groupBy('ip', var)\n",
    "                 .agg(func.count(func.lit(1)).alias('ip_'+var+'_clicks'),\n",
    "                      func.round(func.stddev(col('click_time_seconds'))).alias('ip_'+var+'_std_click_time'),\n",
    "                      func.round(func.stddev(col('hour')), 2).alias('ip_'+var+'_std_hour'),\n",
    "                      func.round(func.stddev(col('minute')), 2).alias('ip_'+var+'_std_minute'),\n",
    "                      func.round(func.mean(col('hour')), 2).alias('ip_'+var+'_avg_hour'),\n",
    "                      func.round(func.mean(col('minute')), 2).alias('ip_'+var+'_avg_minute'))\n",
    "                 .fillna({'ip_'+var+'_std_click_time':0,\n",
    "                          'ip_'+var+'_std_hour':0,\n",
    "                          'ip_'+var+'_std_minute':0,\n",
    "                          'ip_'+var+'_avg_hour':0,\n",
    "                          'ip_'+var+'_avg_minute':0})\n",
    "                 .cache())\n",
    "\n",
    "ip_var_clicks.show(100, truncate=False)"
   ]
  },
  {
   "cell_type": "code",
   "execution_count": 18,
   "metadata": {
    "collapsed": false
   },
   "outputs": [
    {
     "name": "stdout",
     "output_type": "stream",
     "text": [
      "+------+---+------+---+-------+-------------------+---+----+------+\n",
      "|ip    |app|device|os |channel|click_time         |day|hour|minute|\n",
      "+------+---+------+---+-------+-------------------+---+----+------+\n",
      "|160143|26 |1     |6  |266    |2017-11-06 22:46:44|06 |22  |46    |\n",
      "|160143|26 |1     |27 |121    |2017-11-07 05:12:36|07 |05  |12    |\n",
      "|160143|26 |1     |13 |266    |2017-11-07 11:47:07|07 |11  |47    |\n",
      "+------+---+------+---+-------+-------------------+---+----+------+\n",
      "\n"
     ]
    }
   ],
   "source": [
    "data.filter((col('ip')==160143) & (col(var)==26)).show(truncate=False)"
   ]
  },
  {
   "cell_type": "markdown",
   "metadata": {},
   "source": [
    "## Export New Features"
   ]
  },
  {
   "cell_type": "code",
   "execution_count": 19,
   "metadata": {
    "collapsed": true
   },
   "outputs": [],
   "source": [
    "(ip_var_clicks\n",
    " .coalesce(1)\n",
    " .write\n",
    " .format(\"com.databricks.spark.csv\")\n",
    " .option(\"header\", \"true\")\n",
    " .mode(\"overwrite\")\n",
    " .save(mungepath+\"f_ip_\"+var+\"_clicks\", compression=\"None\"))"
   ]
  },
  {
   "cell_type": "code",
   "execution_count": 20,
   "metadata": {
    "collapsed": false
   },
   "outputs": [
    {
     "data": {
      "text/plain": [
       "4533337"
      ]
     },
     "execution_count": 20,
     "metadata": {},
     "output_type": "execute_result"
    }
   ],
   "source": [
    "ip_var_clicks.count()"
   ]
  },
  {
   "cell_type": "markdown",
   "metadata": {},
   "source": [
    "## Check the impact of new features"
   ]
  },
  {
   "cell_type": "code",
   "execution_count": 21,
   "metadata": {
    "collapsed": false
   },
   "outputs": [
    {
     "name": "stdout",
     "output_type": "stream",
     "text": [
      "+--------------------+\n",
      "|  avg(is_attributed)|\n",
      "+--------------------+\n",
      "|0.002470721410998979|\n",
      "+--------------------+\n",
      "\n"
     ]
    }
   ],
   "source": [
    "import pyspark.sql.functions as func\n",
    "\n",
    "train.groupBy().agg(func.mean(col('is_attributed'))).show()"
   ]
  },
  {
   "cell_type": "code",
   "execution_count": 23,
   "metadata": {
    "collapsed": true
   },
   "outputs": [],
   "source": [
    "train_sample = (train.sample(fraction=0.05, withReplacement=False, seed=22)\n",
    "                .join(ip_var_clicks, ['ip', var], 'left_outer')\n",
    "                .cache())"
   ]
  },
  {
   "cell_type": "code",
   "execution_count": 24,
   "metadata": {
    "collapsed": false
   },
   "outputs": [
    {
     "data": {
      "text/plain": [
       "9248009"
      ]
     },
     "execution_count": 24,
     "metadata": {},
     "output_type": "execute_result"
    }
   ],
   "source": [
    "train_sample.count()"
   ]
  },
  {
   "cell_type": "code",
   "execution_count": 25,
   "metadata": {
    "collapsed": false
   },
   "outputs": [
    {
     "data": {
      "text/plain": [
       "9248009"
      ]
     },
     "execution_count": 25,
     "metadata": {},
     "output_type": "execute_result"
    }
   ],
   "source": [
    "train.sample(fraction=0.05, withReplacement=False, seed=22).count()"
   ]
  },
  {
   "cell_type": "code",
   "execution_count": 26,
   "metadata": {
    "collapsed": false
   },
   "outputs": [
    {
     "name": "stdout",
     "output_type": "stream",
     "text": [
      "+------+---+------+---+-------+-------------------+---------------+-------------+-------------+---------------------+---------------+-----------------+---------------+-----------------+\n",
      "|ip    |app|device|os |channel|click_time         |attributed_time|is_attributed|ip_app_clicks|ip_app_std_click_time|ip_app_std_hour|ip_app_std_minute|ip_app_avg_hour|ip_app_avg_minute|\n",
      "+------+---+------+---+-------+-------------------+---------------+-------------+-------------+---------------------+---------------+-----------------+---------------+-----------------+\n",
      "|100032|13 |1     |36 |477    |2017-11-08 11:08:54|null           |0            |51           |117880.0             |5.97           |18.11            |9.92           |26.65            |\n",
      "|100054|22 |1     |22 |116    |2017-11-08 23:57:38|null           |0            |34           |118525.0             |5.51           |17.97            |9.56           |28.74            |\n",
      "|100054|22 |1     |6  |116    |2017-11-07 05:54:18|null           |0            |34           |118525.0             |5.51           |17.97            |9.56           |28.74            |\n",
      "|100075|18 |1     |19 |134    |2017-11-07 06:55:47|null           |0            |1129         |102606.0             |6.61           |17.31            |9.21           |29.12            |\n",
      "|100075|18 |1     |17 |107    |2017-11-07 13:49:22|null           |0            |1129         |102606.0             |6.61           |17.31            |9.21           |29.12            |\n",
      "+------+---+------+---+-------+-------------------+---------------+-------------+-------------+---------------------+---------------+-----------------+---------------+-----------------+\n",
      "only showing top 5 rows\n",
      "\n"
     ]
    }
   ],
   "source": [
    "train_sample.show(5, truncate=False)"
   ]
  },
  {
   "cell_type": "markdown",
   "metadata": {},
   "source": [
    "### ip_app_clicks"
   ]
  },
  {
   "cell_type": "code",
   "execution_count": 30,
   "metadata": {
    "collapsed": true
   },
   "outputs": [],
   "source": [
    "feature = 'ip_app_clicks'"
   ]
  },
  {
   "cell_type": "code",
   "execution_count": 31,
   "metadata": {
    "collapsed": true
   },
   "outputs": [],
   "source": [
    "PDF = train_sample.select('is_attributed', feature).toPandas()"
   ]
  },
  {
   "cell_type": "code",
   "execution_count": 32,
   "metadata": {
    "collapsed": false
   },
   "outputs": [
    {
     "data": {
      "text/html": [
       "<div>\n",
       "<style scoped>\n",
       "    .dataframe tbody tr th:only-of-type {\n",
       "        vertical-align: middle;\n",
       "    }\n",
       "\n",
       "    .dataframe tbody tr th {\n",
       "        vertical-align: top;\n",
       "    }\n",
       "\n",
       "    .dataframe thead th {\n",
       "        text-align: right;\n",
       "    }\n",
       "</style>\n",
       "<table border=\"1\" class=\"dataframe\">\n",
       "  <thead>\n",
       "    <tr style=\"text-align: right;\">\n",
       "      <th></th>\n",
       "      <th>is_attributed</th>\n",
       "      <th>ip_app_clicks</th>\n",
       "    </tr>\n",
       "  </thead>\n",
       "  <tbody>\n",
       "    <tr>\n",
       "      <th>0</th>\n",
       "      <td>0</td>\n",
       "      <td>51</td>\n",
       "    </tr>\n",
       "    <tr>\n",
       "      <th>1</th>\n",
       "      <td>0</td>\n",
       "      <td>34</td>\n",
       "    </tr>\n",
       "    <tr>\n",
       "      <th>2</th>\n",
       "      <td>0</td>\n",
       "      <td>34</td>\n",
       "    </tr>\n",
       "    <tr>\n",
       "      <th>3</th>\n",
       "      <td>0</td>\n",
       "      <td>1129</td>\n",
       "    </tr>\n",
       "    <tr>\n",
       "      <th>4</th>\n",
       "      <td>0</td>\n",
       "      <td>1129</td>\n",
       "    </tr>\n",
       "  </tbody>\n",
       "</table>\n",
       "</div>"
      ],
      "text/plain": [
       "  is_attributed  ip_app_clicks\n",
       "0             0             51\n",
       "1             0             34\n",
       "2             0             34\n",
       "3             0           1129\n",
       "4             0           1129"
      ]
     },
     "execution_count": 32,
     "metadata": {},
     "output_type": "execute_result"
    }
   ],
   "source": [
    "PDF.head()"
   ]
  },
  {
   "cell_type": "code",
   "execution_count": 33,
   "metadata": {
    "collapsed": true
   },
   "outputs": [],
   "source": [
    "PDF_sorted = PDF.sort_values(by=feature)"
   ]
  },
  {
   "cell_type": "code",
   "execution_count": 34,
   "metadata": {
    "collapsed": true
   },
   "outputs": [],
   "source": [
    "PDF_sorted['roll'] = PDF_sorted.is_attributed.rolling(window=10000).mean()"
   ]
  },
  {
   "cell_type": "code",
   "execution_count": 35,
   "metadata": {
    "collapsed": false
   },
   "outputs": [
    {
     "data": {
      "text/html": [
       "<div>\n",
       "<style scoped>\n",
       "    .dataframe tbody tr th:only-of-type {\n",
       "        vertical-align: middle;\n",
       "    }\n",
       "\n",
       "    .dataframe tbody tr th {\n",
       "        vertical-align: top;\n",
       "    }\n",
       "\n",
       "    .dataframe thead th {\n",
       "        text-align: right;\n",
       "    }\n",
       "</style>\n",
       "<table border=\"1\" class=\"dataframe\">\n",
       "  <thead>\n",
       "    <tr style=\"text-align: right;\">\n",
       "      <th></th>\n",
       "      <th>is_attributed</th>\n",
       "      <th>ip_app_clicks</th>\n",
       "      <th>roll</th>\n",
       "    </tr>\n",
       "  </thead>\n",
       "  <tbody>\n",
       "    <tr>\n",
       "      <th>9248008</th>\n",
       "      <td>0</td>\n",
       "      <td>1</td>\n",
       "      <td>NaN</td>\n",
       "    </tr>\n",
       "    <tr>\n",
       "      <th>8256194</th>\n",
       "      <td>0</td>\n",
       "      <td>1</td>\n",
       "      <td>NaN</td>\n",
       "    </tr>\n",
       "    <tr>\n",
       "      <th>2678102</th>\n",
       "      <td>0</td>\n",
       "      <td>1</td>\n",
       "      <td>NaN</td>\n",
       "    </tr>\n",
       "    <tr>\n",
       "      <th>2678111</th>\n",
       "      <td>0</td>\n",
       "      <td>1</td>\n",
       "      <td>NaN</td>\n",
       "    </tr>\n",
       "    <tr>\n",
       "      <th>806203</th>\n",
       "      <td>1</td>\n",
       "      <td>1</td>\n",
       "      <td>NaN</td>\n",
       "    </tr>\n",
       "  </tbody>\n",
       "</table>\n",
       "</div>"
      ],
      "text/plain": [
       "        is_attributed  ip_app_clicks  roll\n",
       "9248008             0              1   NaN\n",
       "8256194             0              1   NaN\n",
       "2678102             0              1   NaN\n",
       "2678111             0              1   NaN\n",
       "806203              1              1   NaN"
      ]
     },
     "execution_count": 35,
     "metadata": {},
     "output_type": "execute_result"
    }
   ],
   "source": [
    "PDF_sorted.head()"
   ]
  },
  {
   "cell_type": "code",
   "execution_count": 36,
   "metadata": {
    "collapsed": false
   },
   "outputs": [
    {
     "data": {
      "text/plain": [
       "[<matplotlib.lines.Line2D at 0x7fe2d6d00a58>]"
      ]
     },
     "execution_count": 36,
     "metadata": {},
     "output_type": "execute_result"
    },
    {
     "data": {
      "image/png": "[encoded data removed]",
      "text/plain": [
       "<matplotlib.figure.Figure at 0x7fe352df5d68>"
      ]
     },
     "metadata": {},
     "output_type": "display_data"
    }
   ],
   "source": [
    "plt.plot(PDF_sorted[feature], PDF_sorted.roll)"
   ]
  },
  {
   "cell_type": "code",
   "execution_count": 37,
   "metadata": {
    "collapsed": false,
    "scrolled": true
   },
   "outputs": [
    {
     "data": {
      "text/plain": [
       "[<matplotlib.lines.Line2D at 0x7fe2d5f5e7b8>]"
      ]
     },
     "execution_count": 37,
     "metadata": {},
     "output_type": "execute_result"
    },
    {
     "data": {
      "image/png": "[encoded data removed]",
      "text/plain": [
       "<matplotlib.figure.Figure at 0x7fe2d5d8f400>"
      ]
     },
     "metadata": {},
     "output_type": "display_data"
    }
   ],
   "source": [
    "PDF_filtered = PDF_sorted[PDF_sorted[feature]<100]\n",
    "\n",
    "plt.plot(PDF_filtered[feature], PDF_filtered.roll)"
   ]
  },
  {
   "cell_type": "markdown",
   "metadata": {},
   "source": [
    "Very strong feature !"
   ]
  },
  {
   "cell_type": "markdown",
   "metadata": {},
   "source": [
    "### ip_app_std_click_time"
   ]
  },
  {
   "cell_type": "code",
   "execution_count": 38,
   "metadata": {
    "collapsed": true
   },
   "outputs": [],
   "source": [
    "feature = 'ip_app_std_click_time'"
   ]
  },
  {
   "cell_type": "code",
   "execution_count": 39,
   "metadata": {
    "collapsed": true
   },
   "outputs": [],
   "source": [
    "PDF = train_sample.select('is_attributed', feature).toPandas()"
   ]
  },
  {
   "cell_type": "code",
   "execution_count": 40,
   "metadata": {
    "collapsed": false
   },
   "outputs": [
    {
     "data": {
      "text/html": [
       "<div>\n",
       "<style scoped>\n",
       "    .dataframe tbody tr th:only-of-type {\n",
       "        vertical-align: middle;\n",
       "    }\n",
       "\n",
       "    .dataframe tbody tr th {\n",
       "        vertical-align: top;\n",
       "    }\n",
       "\n",
       "    .dataframe thead th {\n",
       "        text-align: right;\n",
       "    }\n",
       "</style>\n",
       "<table border=\"1\" class=\"dataframe\">\n",
       "  <thead>\n",
       "    <tr style=\"text-align: right;\">\n",
       "      <th></th>\n",
       "      <th>is_attributed</th>\n",
       "      <th>ip_app_std_click_time</th>\n",
       "    </tr>\n",
       "  </thead>\n",
       "  <tbody>\n",
       "    <tr>\n",
       "      <th>0</th>\n",
       "      <td>0</td>\n",
       "      <td>117880.0</td>\n",
       "    </tr>\n",
       "    <tr>\n",
       "      <th>1</th>\n",
       "      <td>0</td>\n",
       "      <td>118525.0</td>\n",
       "    </tr>\n",
       "    <tr>\n",
       "      <th>2</th>\n",
       "      <td>0</td>\n",
       "      <td>118525.0</td>\n",
       "    </tr>\n",
       "    <tr>\n",
       "      <th>3</th>\n",
       "      <td>0</td>\n",
       "      <td>102606.0</td>\n",
       "    </tr>\n",
       "    <tr>\n",
       "      <th>4</th>\n",
       "      <td>0</td>\n",
       "      <td>102606.0</td>\n",
       "    </tr>\n",
       "  </tbody>\n",
       "</table>\n",
       "</div>"
      ],
      "text/plain": [
       "  is_attributed  ip_app_std_click_time\n",
       "0             0               117880.0\n",
       "1             0               118525.0\n",
       "2             0               118525.0\n",
       "3             0               102606.0\n",
       "4             0               102606.0"
      ]
     },
     "execution_count": 40,
     "metadata": {},
     "output_type": "execute_result"
    }
   ],
   "source": [
    "PDF.head()"
   ]
  },
  {
   "cell_type": "code",
   "execution_count": 41,
   "metadata": {
    "collapsed": true
   },
   "outputs": [],
   "source": [
    "PDF_sorted = PDF.sort_values(by=feature)"
   ]
  },
  {
   "cell_type": "code",
   "execution_count": 42,
   "metadata": {
    "collapsed": true
   },
   "outputs": [],
   "source": [
    "PDF_sorted['roll'] = PDF_sorted.is_attributed.rolling(window=10000).mean()"
   ]
  },
  {
   "cell_type": "code",
   "execution_count": 43,
   "metadata": {
    "collapsed": false
   },
   "outputs": [
    {
     "data": {
      "text/html": [
       "<div>\n",
       "<style scoped>\n",
       "    .dataframe tbody tr th:only-of-type {\n",
       "        vertical-align: middle;\n",
       "    }\n",
       "\n",
       "    .dataframe tbody tr th {\n",
       "        vertical-align: top;\n",
       "    }\n",
       "\n",
       "    .dataframe thead th {\n",
       "        text-align: right;\n",
       "    }\n",
       "</style>\n",
       "<table border=\"1\" class=\"dataframe\">\n",
       "  <thead>\n",
       "    <tr style=\"text-align: right;\">\n",
       "      <th></th>\n",
       "      <th>is_attributed</th>\n",
       "      <th>ip_app_std_click_time</th>\n",
       "      <th>roll</th>\n",
       "    </tr>\n",
       "  </thead>\n",
       "  <tbody>\n",
       "    <tr>\n",
       "      <th>9248008</th>\n",
       "      <td>0</td>\n",
       "      <td>0.0</td>\n",
       "      <td>NaN</td>\n",
       "    </tr>\n",
       "    <tr>\n",
       "      <th>398175</th>\n",
       "      <td>0</td>\n",
       "      <td>0.0</td>\n",
       "      <td>NaN</td>\n",
       "    </tr>\n",
       "    <tr>\n",
       "      <th>398165</th>\n",
       "      <td>1</td>\n",
       "      <td>0.0</td>\n",
       "      <td>NaN</td>\n",
       "    </tr>\n",
       "    <tr>\n",
       "      <th>4922956</th>\n",
       "      <td>1</td>\n",
       "      <td>0.0</td>\n",
       "      <td>NaN</td>\n",
       "    </tr>\n",
       "    <tr>\n",
       "      <th>398038</th>\n",
       "      <td>0</td>\n",
       "      <td>0.0</td>\n",
       "      <td>NaN</td>\n",
       "    </tr>\n",
       "  </tbody>\n",
       "</table>\n",
       "</div>"
      ],
      "text/plain": [
       "        is_attributed  ip_app_std_click_time  roll\n",
       "9248008             0                    0.0   NaN\n",
       "398175              0                    0.0   NaN\n",
       "398165              1                    0.0   NaN\n",
       "4922956             1                    0.0   NaN\n",
       "398038              0                    0.0   NaN"
      ]
     },
     "execution_count": 43,
     "metadata": {},
     "output_type": "execute_result"
    }
   ],
   "source": [
    "PDF_sorted.head()"
   ]
  },
  {
   "cell_type": "code",
   "execution_count": 44,
   "metadata": {
    "collapsed": false
   },
   "outputs": [
    {
     "data": {
      "text/plain": [
       "[<matplotlib.lines.Line2D at 0x7fe291915cf8>]"
      ]
     },
     "execution_count": 44,
     "metadata": {},
     "output_type": "execute_result"
    },
    {
     "data": {
      "image/png": "[encoded data removed]",
      "text/plain": [
       "<matplotlib.figure.Figure at 0x7fe3229b59e8>"
      ]
     },
     "metadata": {},
     "output_type": "display_data"
    }
   ],
   "source": [
    "plt.plot(PDF_sorted[feature], PDF_sorted.roll)"
   ]
  },
  {
   "cell_type": "code",
   "execution_count": 45,
   "metadata": {
    "collapsed": false,
    "scrolled": true
   },
   "outputs": [
    {
     "data": {
      "text/plain": [
       "[<matplotlib.lines.Line2D at 0x7fe291a78748>]"
      ]
     },
     "execution_count": 45,
     "metadata": {},
     "output_type": "execute_result"
    },
    {
     "data": {
      "image/png": "[encoded data removed]",
      "text/plain": [
       "<matplotlib.figure.Figure at 0x7fe32298edd8>"
      ]
     },
     "metadata": {},
     "output_type": "display_data"
    }
   ],
   "source": [
    "PDF_filtered = PDF_sorted[PDF_sorted[feature]<1000]\n",
    "\n",
    "plt.plot(PDF_filtered[feature], PDF_filtered.roll)"
   ]
  },
  {
   "cell_type": "markdown",
   "metadata": {},
   "source": [
    "Very strong feature !"
   ]
  },
  {
   "cell_type": "markdown",
   "metadata": {},
   "source": [
    "### ip_app_std_hour"
   ]
  },
  {
   "cell_type": "code",
   "execution_count": 46,
   "metadata": {
    "collapsed": true
   },
   "outputs": [],
   "source": [
    "feature = 'ip_app_std_hour'"
   ]
  },
  {
   "cell_type": "code",
   "execution_count": 47,
   "metadata": {
    "collapsed": true
   },
   "outputs": [],
   "source": [
    "PDF = train_sample.select('is_attributed', feature).toPandas()"
   ]
  },
  {
   "cell_type": "code",
   "execution_count": 48,
   "metadata": {
    "collapsed": false
   },
   "outputs": [
    {
     "data": {
      "text/html": [
       "<div>\n",
       "<style scoped>\n",
       "    .dataframe tbody tr th:only-of-type {\n",
       "        vertical-align: middle;\n",
       "    }\n",
       "\n",
       "    .dataframe tbody tr th {\n",
       "        vertical-align: top;\n",
       "    }\n",
       "\n",
       "    .dataframe thead th {\n",
       "        text-align: right;\n",
       "    }\n",
       "</style>\n",
       "<table border=\"1\" class=\"dataframe\">\n",
       "  <thead>\n",
       "    <tr style=\"text-align: right;\">\n",
       "      <th></th>\n",
       "      <th>is_attributed</th>\n",
       "      <th>ip_app_std_hour</th>\n",
       "    </tr>\n",
       "  </thead>\n",
       "  <tbody>\n",
       "    <tr>\n",
       "      <th>0</th>\n",
       "      <td>0</td>\n",
       "      <td>5.97</td>\n",
       "    </tr>\n",
       "    <tr>\n",
       "      <th>1</th>\n",
       "      <td>0</td>\n",
       "      <td>5.51</td>\n",
       "    </tr>\n",
       "    <tr>\n",
       "      <th>2</th>\n",
       "      <td>0</td>\n",
       "      <td>5.51</td>\n",
       "    </tr>\n",
       "    <tr>\n",
       "      <th>3</th>\n",
       "      <td>0</td>\n",
       "      <td>6.61</td>\n",
       "    </tr>\n",
       "    <tr>\n",
       "      <th>4</th>\n",
       "      <td>0</td>\n",
       "      <td>6.61</td>\n",
       "    </tr>\n",
       "  </tbody>\n",
       "</table>\n",
       "</div>"
      ],
      "text/plain": [
       "  is_attributed  ip_app_std_hour\n",
       "0             0             5.97\n",
       "1             0             5.51\n",
       "2             0             5.51\n",
       "3             0             6.61\n",
       "4             0             6.61"
      ]
     },
     "execution_count": 48,
     "metadata": {},
     "output_type": "execute_result"
    }
   ],
   "source": [
    "PDF.head()"
   ]
  },
  {
   "cell_type": "code",
   "execution_count": 49,
   "metadata": {
    "collapsed": true
   },
   "outputs": [],
   "source": [
    "PDF_sorted = PDF.sort_values(by=feature)"
   ]
  },
  {
   "cell_type": "code",
   "execution_count": 50,
   "metadata": {
    "collapsed": true
   },
   "outputs": [],
   "source": [
    "PDF_sorted['roll'] = PDF_sorted.is_attributed.rolling(window=10000).mean()"
   ]
  },
  {
   "cell_type": "code",
   "execution_count": 51,
   "metadata": {
    "collapsed": false
   },
   "outputs": [
    {
     "data": {
      "text/html": [
       "<div>\n",
       "<style scoped>\n",
       "    .dataframe tbody tr th:only-of-type {\n",
       "        vertical-align: middle;\n",
       "    }\n",
       "\n",
       "    .dataframe tbody tr th {\n",
       "        vertical-align: top;\n",
       "    }\n",
       "\n",
       "    .dataframe thead th {\n",
       "        text-align: right;\n",
       "    }\n",
       "</style>\n",
       "<table border=\"1\" class=\"dataframe\">\n",
       "  <thead>\n",
       "    <tr style=\"text-align: right;\">\n",
       "      <th></th>\n",
       "      <th>is_attributed</th>\n",
       "      <th>ip_app_std_hour</th>\n",
       "      <th>roll</th>\n",
       "    </tr>\n",
       "  </thead>\n",
       "  <tbody>\n",
       "    <tr>\n",
       "      <th>9248008</th>\n",
       "      <td>0</td>\n",
       "      <td>0.0</td>\n",
       "      <td>NaN</td>\n",
       "    </tr>\n",
       "    <tr>\n",
       "      <th>6092758</th>\n",
       "      <td>0</td>\n",
       "      <td>0.0</td>\n",
       "      <td>NaN</td>\n",
       "    </tr>\n",
       "    <tr>\n",
       "      <th>386162</th>\n",
       "      <td>0</td>\n",
       "      <td>0.0</td>\n",
       "      <td>NaN</td>\n",
       "    </tr>\n",
       "    <tr>\n",
       "      <th>6092865</th>\n",
       "      <td>0</td>\n",
       "      <td>0.0</td>\n",
       "      <td>NaN</td>\n",
       "    </tr>\n",
       "    <tr>\n",
       "      <th>6092893</th>\n",
       "      <td>0</td>\n",
       "      <td>0.0</td>\n",
       "      <td>NaN</td>\n",
       "    </tr>\n",
       "  </tbody>\n",
       "</table>\n",
       "</div>"
      ],
      "text/plain": [
       "        is_attributed  ip_app_std_hour  roll\n",
       "9248008             0              0.0   NaN\n",
       "6092758             0              0.0   NaN\n",
       "386162              0              0.0   NaN\n",
       "6092865             0              0.0   NaN\n",
       "6092893             0              0.0   NaN"
      ]
     },
     "execution_count": 51,
     "metadata": {},
     "output_type": "execute_result"
    }
   ],
   "source": [
    "PDF_sorted.head()"
   ]
  },
  {
   "cell_type": "code",
   "execution_count": 52,
   "metadata": {
    "collapsed": false
   },
   "outputs": [
    {
     "data": {
      "text/plain": [
       "[<matplotlib.lines.Line2D at 0x7fe253ad7080>]"
      ]
     },
     "execution_count": 52,
     "metadata": {},
     "output_type": "execute_result"
    },
    {
     "data": {
      "image/png": "[encoded data removed]",
      "text/plain": [
       "<matplotlib.figure.Figure at 0x7fe3322c47b8>"
      ]
     },
     "metadata": {},
     "output_type": "display_data"
    }
   ],
   "source": [
    "plt.plot(PDF_sorted[feature], PDF_sorted.roll)"
   ]
  },
  {
   "cell_type": "markdown",
   "metadata": {},
   "source": [
    "Very strong feature !"
   ]
  },
  {
   "cell_type": "markdown",
   "metadata": {},
   "source": [
    "### ip_app_std_minute"
   ]
  },
  {
   "cell_type": "code",
   "execution_count": 53,
   "metadata": {
    "collapsed": true
   },
   "outputs": [],
   "source": [
    "feature = 'ip_app_std_minute'"
   ]
  },
  {
   "cell_type": "code",
   "execution_count": 54,
   "metadata": {
    "collapsed": true
   },
   "outputs": [],
   "source": [
    "PDF = train_sample.select('is_attributed', feature).toPandas()"
   ]
  },
  {
   "cell_type": "code",
   "execution_count": 55,
   "metadata": {
    "collapsed": false
   },
   "outputs": [
    {
     "data": {
      "text/html": [
       "<div>\n",
       "<style scoped>\n",
       "    .dataframe tbody tr th:only-of-type {\n",
       "        vertical-align: middle;\n",
       "    }\n",
       "\n",
       "    .dataframe tbody tr th {\n",
       "        vertical-align: top;\n",
       "    }\n",
       "\n",
       "    .dataframe thead th {\n",
       "        text-align: right;\n",
       "    }\n",
       "</style>\n",
       "<table border=\"1\" class=\"dataframe\">\n",
       "  <thead>\n",
       "    <tr style=\"text-align: right;\">\n",
       "      <th></th>\n",
       "      <th>is_attributed</th>\n",
       "      <th>ip_app_std_minute</th>\n",
       "    </tr>\n",
       "  </thead>\n",
       "  <tbody>\n",
       "    <tr>\n",
       "      <th>0</th>\n",
       "      <td>0</td>\n",
       "      <td>18.11</td>\n",
       "    </tr>\n",
       "    <tr>\n",
       "      <th>1</th>\n",
       "      <td>0</td>\n",
       "      <td>17.97</td>\n",
       "    </tr>\n",
       "    <tr>\n",
       "      <th>2</th>\n",
       "      <td>0</td>\n",
       "      <td>17.97</td>\n",
       "    </tr>\n",
       "    <tr>\n",
       "      <th>3</th>\n",
       "      <td>0</td>\n",
       "      <td>17.31</td>\n",
       "    </tr>\n",
       "    <tr>\n",
       "      <th>4</th>\n",
       "      <td>0</td>\n",
       "      <td>17.31</td>\n",
       "    </tr>\n",
       "  </tbody>\n",
       "</table>\n",
       "</div>"
      ],
      "text/plain": [
       "  is_attributed  ip_app_std_minute\n",
       "0             0              18.11\n",
       "1             0              17.97\n",
       "2             0              17.97\n",
       "3             0              17.31\n",
       "4             0              17.31"
      ]
     },
     "execution_count": 55,
     "metadata": {},
     "output_type": "execute_result"
    }
   ],
   "source": [
    "PDF.head()"
   ]
  },
  {
   "cell_type": "code",
   "execution_count": 56,
   "metadata": {
    "collapsed": true
   },
   "outputs": [],
   "source": [
    "PDF_sorted = PDF.sort_values(by=feature)"
   ]
  },
  {
   "cell_type": "code",
   "execution_count": 57,
   "metadata": {
    "collapsed": true
   },
   "outputs": [],
   "source": [
    "PDF_sorted['roll'] = PDF_sorted.is_attributed.rolling(window=10000).mean()"
   ]
  },
  {
   "cell_type": "code",
   "execution_count": 58,
   "metadata": {
    "collapsed": false
   },
   "outputs": [
    {
     "data": {
      "text/html": [
       "<div>\n",
       "<style scoped>\n",
       "    .dataframe tbody tr th:only-of-type {\n",
       "        vertical-align: middle;\n",
       "    }\n",
       "\n",
       "    .dataframe tbody tr th {\n",
       "        vertical-align: top;\n",
       "    }\n",
       "\n",
       "    .dataframe thead th {\n",
       "        text-align: right;\n",
       "    }\n",
       "</style>\n",
       "<table border=\"1\" class=\"dataframe\">\n",
       "  <thead>\n",
       "    <tr style=\"text-align: right;\">\n",
       "      <th></th>\n",
       "      <th>is_attributed</th>\n",
       "      <th>ip_app_std_minute</th>\n",
       "      <th>roll</th>\n",
       "    </tr>\n",
       "  </thead>\n",
       "  <tbody>\n",
       "    <tr>\n",
       "      <th>9248008</th>\n",
       "      <td>0</td>\n",
       "      <td>0.0</td>\n",
       "      <td>NaN</td>\n",
       "    </tr>\n",
       "    <tr>\n",
       "      <th>2150206</th>\n",
       "      <td>0</td>\n",
       "      <td>0.0</td>\n",
       "      <td>NaN</td>\n",
       "    </tr>\n",
       "    <tr>\n",
       "      <th>5782567</th>\n",
       "      <td>0</td>\n",
       "      <td>0.0</td>\n",
       "      <td>NaN</td>\n",
       "    </tr>\n",
       "    <tr>\n",
       "      <th>5782482</th>\n",
       "      <td>0</td>\n",
       "      <td>0.0</td>\n",
       "      <td>NaN</td>\n",
       "    </tr>\n",
       "    <tr>\n",
       "      <th>3271876</th>\n",
       "      <td>0</td>\n",
       "      <td>0.0</td>\n",
       "      <td>NaN</td>\n",
       "    </tr>\n",
       "  </tbody>\n",
       "</table>\n",
       "</div>"
      ],
      "text/plain": [
       "        is_attributed  ip_app_std_minute  roll\n",
       "9248008             0                0.0   NaN\n",
       "2150206             0                0.0   NaN\n",
       "5782567             0                0.0   NaN\n",
       "5782482             0                0.0   NaN\n",
       "3271876             0                0.0   NaN"
      ]
     },
     "execution_count": 58,
     "metadata": {},
     "output_type": "execute_result"
    }
   ],
   "source": [
    "PDF_sorted.head()"
   ]
  },
  {
   "cell_type": "code",
   "execution_count": 60,
   "metadata": {
    "collapsed": false
   },
   "outputs": [
    {
     "data": {
      "text/plain": [
       "[<matplotlib.lines.Line2D at 0x7fe2279d6eb8>]"
      ]
     },
     "execution_count": 60,
     "metadata": {},
     "output_type": "execute_result"
    },
    {
     "data": {
      "image/png": "[encoded data removed]",
      "text/plain": [
       "<matplotlib.figure.Figure at 0x7fe2b645ec18>"
      ]
     },
     "metadata": {},
     "output_type": "display_data"
    }
   ],
   "source": [
    "plt.plot(PDF_sorted[feature], PDF_sorted.roll)"
   ]
  },
  {
   "cell_type": "markdown",
   "metadata": {},
   "source": [
    "Very strong feature !"
   ]
  },
  {
   "cell_type": "markdown",
   "metadata": {},
   "source": [
    "### ip_app_avg_hour"
   ]
  },
  {
   "cell_type": "code",
   "execution_count": 61,
   "metadata": {
    "collapsed": true
   },
   "outputs": [],
   "source": [
    "feature = 'ip_app_avg_hour'"
   ]
  },
  {
   "cell_type": "code",
   "execution_count": 62,
   "metadata": {
    "collapsed": true
   },
   "outputs": [],
   "source": [
    "PDF = train_sample.select('is_attributed', feature).toPandas()"
   ]
  },
  {
   "cell_type": "code",
   "execution_count": 63,
   "metadata": {
    "collapsed": false
   },
   "outputs": [
    {
     "data": {
      "text/html": [
       "<div>\n",
       "<style scoped>\n",
       "    .dataframe tbody tr th:only-of-type {\n",
       "        vertical-align: middle;\n",
       "    }\n",
       "\n",
       "    .dataframe tbody tr th {\n",
       "        vertical-align: top;\n",
       "    }\n",
       "\n",
       "    .dataframe thead th {\n",
       "        text-align: right;\n",
       "    }\n",
       "</style>\n",
       "<table border=\"1\" class=\"dataframe\">\n",
       "  <thead>\n",
       "    <tr style=\"text-align: right;\">\n",
       "      <th></th>\n",
       "      <th>is_attributed</th>\n",
       "      <th>ip_app_avg_hour</th>\n",
       "    </tr>\n",
       "  </thead>\n",
       "  <tbody>\n",
       "    <tr>\n",
       "      <th>0</th>\n",
       "      <td>0</td>\n",
       "      <td>9.92</td>\n",
       "    </tr>\n",
       "    <tr>\n",
       "      <th>1</th>\n",
       "      <td>0</td>\n",
       "      <td>9.56</td>\n",
       "    </tr>\n",
       "    <tr>\n",
       "      <th>2</th>\n",
       "      <td>0</td>\n",
       "      <td>9.56</td>\n",
       "    </tr>\n",
       "    <tr>\n",
       "      <th>3</th>\n",
       "      <td>0</td>\n",
       "      <td>9.21</td>\n",
       "    </tr>\n",
       "    <tr>\n",
       "      <th>4</th>\n",
       "      <td>0</td>\n",
       "      <td>9.21</td>\n",
       "    </tr>\n",
       "  </tbody>\n",
       "</table>\n",
       "</div>"
      ],
      "text/plain": [
       "  is_attributed  ip_app_avg_hour\n",
       "0             0             9.92\n",
       "1             0             9.56\n",
       "2             0             9.56\n",
       "3             0             9.21\n",
       "4             0             9.21"
      ]
     },
     "execution_count": 63,
     "metadata": {},
     "output_type": "execute_result"
    }
   ],
   "source": [
    "PDF.head()"
   ]
  },
  {
   "cell_type": "code",
   "execution_count": 64,
   "metadata": {
    "collapsed": true
   },
   "outputs": [],
   "source": [
    "PDF_sorted = PDF.sort_values(by=feature)"
   ]
  },
  {
   "cell_type": "code",
   "execution_count": 65,
   "metadata": {
    "collapsed": true
   },
   "outputs": [],
   "source": [
    "PDF_sorted['roll'] = PDF_sorted.is_attributed.rolling(window=10000).mean()"
   ]
  },
  {
   "cell_type": "code",
   "execution_count": 66,
   "metadata": {
    "collapsed": false
   },
   "outputs": [
    {
     "data": {
      "text/html": [
       "<div>\n",
       "<style scoped>\n",
       "    .dataframe tbody tr th:only-of-type {\n",
       "        vertical-align: middle;\n",
       "    }\n",
       "\n",
       "    .dataframe tbody tr th {\n",
       "        vertical-align: top;\n",
       "    }\n",
       "\n",
       "    .dataframe thead th {\n",
       "        text-align: right;\n",
       "    }\n",
       "</style>\n",
       "<table border=\"1\" class=\"dataframe\">\n",
       "  <thead>\n",
       "    <tr style=\"text-align: right;\">\n",
       "      <th></th>\n",
       "      <th>is_attributed</th>\n",
       "      <th>ip_app_avg_hour</th>\n",
       "      <th>roll</th>\n",
       "    </tr>\n",
       "  </thead>\n",
       "  <tbody>\n",
       "    <tr>\n",
       "      <th>350477</th>\n",
       "      <td>0</td>\n",
       "      <td>0.0</td>\n",
       "      <td>NaN</td>\n",
       "    </tr>\n",
       "    <tr>\n",
       "      <th>4746128</th>\n",
       "      <td>0</td>\n",
       "      <td>0.0</td>\n",
       "      <td>NaN</td>\n",
       "    </tr>\n",
       "    <tr>\n",
       "      <th>5030203</th>\n",
       "      <td>0</td>\n",
       "      <td>0.0</td>\n",
       "      <td>NaN</td>\n",
       "    </tr>\n",
       "    <tr>\n",
       "      <th>1610622</th>\n",
       "      <td>0</td>\n",
       "      <td>0.0</td>\n",
       "      <td>NaN</td>\n",
       "    </tr>\n",
       "    <tr>\n",
       "      <th>5995093</th>\n",
       "      <td>0</td>\n",
       "      <td>0.0</td>\n",
       "      <td>NaN</td>\n",
       "    </tr>\n",
       "  </tbody>\n",
       "</table>\n",
       "</div>"
      ],
      "text/plain": [
       "        is_attributed  ip_app_avg_hour  roll\n",
       "350477              0              0.0   NaN\n",
       "4746128             0              0.0   NaN\n",
       "5030203             0              0.0   NaN\n",
       "1610622             0              0.0   NaN\n",
       "5995093             0              0.0   NaN"
      ]
     },
     "execution_count": 66,
     "metadata": {},
     "output_type": "execute_result"
    }
   ],
   "source": [
    "PDF_sorted.head()"
   ]
  },
  {
   "cell_type": "code",
   "execution_count": 67,
   "metadata": {
    "collapsed": false
   },
   "outputs": [
    {
     "data": {
      "text/plain": [
       "[<matplotlib.lines.Line2D at 0x7fe2f56f0b38>]"
      ]
     },
     "execution_count": 67,
     "metadata": {},
     "output_type": "execute_result"
    },
    {
     "data": {
      "image/png": "[encoded data removed]",
      "text/plain": [
       "<matplotlib.figure.Figure at 0x7fe227871b38>"
      ]
     },
     "metadata": {},
     "output_type": "display_data"
    }
   ],
   "source": [
    "plt.plot(PDF_sorted[feature], PDF_sorted.roll)"
   ]
  },
  {
   "cell_type": "markdown",
   "metadata": {},
   "source": [
    "Very interesting feature !  \n",
    "It looks like ip addresses that use same app in average between 5 and 15 download much less."
   ]
  },
  {
   "cell_type": "markdown",
   "metadata": {},
   "source": [
    "### ip_app_avg_minute"
   ]
  },
  {
   "cell_type": "code",
   "execution_count": 68,
   "metadata": {
    "collapsed": true
   },
   "outputs": [],
   "source": [
    "feature = 'ip_app_avg_minute'"
   ]
  },
  {
   "cell_type": "code",
   "execution_count": 69,
   "metadata": {
    "collapsed": true
   },
   "outputs": [],
   "source": [
    "PDF = train_sample.select('is_attributed', feature).toPandas()"
   ]
  },
  {
   "cell_type": "code",
   "execution_count": 70,
   "metadata": {
    "collapsed": false
   },
   "outputs": [
    {
     "data": {
      "text/html": [
       "<div>\n",
       "<style scoped>\n",
       "    .dataframe tbody tr th:only-of-type {\n",
       "        vertical-align: middle;\n",
       "    }\n",
       "\n",
       "    .dataframe tbody tr th {\n",
       "        vertical-align: top;\n",
       "    }\n",
       "\n",
       "    .dataframe thead th {\n",
       "        text-align: right;\n",
       "    }\n",
       "</style>\n",
       "<table border=\"1\" class=\"dataframe\">\n",
       "  <thead>\n",
       "    <tr style=\"text-align: right;\">\n",
       "      <th></th>\n",
       "      <th>is_attributed</th>\n",
       "      <th>ip_app_avg_minute</th>\n",
       "    </tr>\n",
       "  </thead>\n",
       "  <tbody>\n",
       "    <tr>\n",
       "      <th>0</th>\n",
       "      <td>0</td>\n",
       "      <td>26.65</td>\n",
       "    </tr>\n",
       "    <tr>\n",
       "      <th>1</th>\n",
       "      <td>0</td>\n",
       "      <td>28.74</td>\n",
       "    </tr>\n",
       "    <tr>\n",
       "      <th>2</th>\n",
       "      <td>0</td>\n",
       "      <td>28.74</td>\n",
       "    </tr>\n",
       "    <tr>\n",
       "      <th>3</th>\n",
       "      <td>0</td>\n",
       "      <td>29.12</td>\n",
       "    </tr>\n",
       "    <tr>\n",
       "      <th>4</th>\n",
       "      <td>0</td>\n",
       "      <td>29.12</td>\n",
       "    </tr>\n",
       "  </tbody>\n",
       "</table>\n",
       "</div>"
      ],
      "text/plain": [
       "  is_attributed  ip_app_avg_minute\n",
       "0             0              26.65\n",
       "1             0              28.74\n",
       "2             0              28.74\n",
       "3             0              29.12\n",
       "4             0              29.12"
      ]
     },
     "execution_count": 70,
     "metadata": {},
     "output_type": "execute_result"
    }
   ],
   "source": [
    "PDF.head()"
   ]
  },
  {
   "cell_type": "code",
   "execution_count": 71,
   "metadata": {
    "collapsed": true
   },
   "outputs": [],
   "source": [
    "PDF_sorted = PDF.sort_values(by=feature)"
   ]
  },
  {
   "cell_type": "code",
   "execution_count": 72,
   "metadata": {
    "collapsed": true
   },
   "outputs": [],
   "source": [
    "PDF_sorted['roll'] = PDF_sorted.is_attributed.rolling(window=10000).mean()"
   ]
  },
  {
   "cell_type": "code",
   "execution_count": 73,
   "metadata": {
    "collapsed": false
   },
   "outputs": [
    {
     "data": {
      "text/html": [
       "<div>\n",
       "<style scoped>\n",
       "    .dataframe tbody tr th:only-of-type {\n",
       "        vertical-align: middle;\n",
       "    }\n",
       "\n",
       "    .dataframe tbody tr th {\n",
       "        vertical-align: top;\n",
       "    }\n",
       "\n",
       "    .dataframe thead th {\n",
       "        text-align: right;\n",
       "    }\n",
       "</style>\n",
       "<table border=\"1\" class=\"dataframe\">\n",
       "  <thead>\n",
       "    <tr style=\"text-align: right;\">\n",
       "      <th></th>\n",
       "      <th>is_attributed</th>\n",
       "      <th>ip_app_avg_minute</th>\n",
       "      <th>roll</th>\n",
       "    </tr>\n",
       "  </thead>\n",
       "  <tbody>\n",
       "    <tr>\n",
       "      <th>9113080</th>\n",
       "      <td>0</td>\n",
       "      <td>0.0</td>\n",
       "      <td>NaN</td>\n",
       "    </tr>\n",
       "    <tr>\n",
       "      <th>2102979</th>\n",
       "      <td>0</td>\n",
       "      <td>0.0</td>\n",
       "      <td>NaN</td>\n",
       "    </tr>\n",
       "    <tr>\n",
       "      <th>2767495</th>\n",
       "      <td>0</td>\n",
       "      <td>0.0</td>\n",
       "      <td>NaN</td>\n",
       "    </tr>\n",
       "    <tr>\n",
       "      <th>6493850</th>\n",
       "      <td>0</td>\n",
       "      <td>0.0</td>\n",
       "      <td>NaN</td>\n",
       "    </tr>\n",
       "    <tr>\n",
       "      <th>5853521</th>\n",
       "      <td>0</td>\n",
       "      <td>0.0</td>\n",
       "      <td>NaN</td>\n",
       "    </tr>\n",
       "  </tbody>\n",
       "</table>\n",
       "</div>"
      ],
      "text/plain": [
       "        is_attributed  ip_app_avg_minute  roll\n",
       "9113080             0                0.0   NaN\n",
       "2102979             0                0.0   NaN\n",
       "2767495             0                0.0   NaN\n",
       "6493850             0                0.0   NaN\n",
       "5853521             0                0.0   NaN"
      ]
     },
     "execution_count": 73,
     "metadata": {},
     "output_type": "execute_result"
    }
   ],
   "source": [
    "PDF_sorted.head()"
   ]
  },
  {
   "cell_type": "code",
   "execution_count": 74,
   "metadata": {
    "collapsed": false
   },
   "outputs": [
    {
     "data": {
      "text/plain": [
       "[<matplotlib.lines.Line2D at 0x7fe1d8175ba8>]"
      ]
     },
     "execution_count": 74,
     "metadata": {},
     "output_type": "execute_result"
    },
    {
     "data": {
      "image/png": "[encoded data removed]",
      "text/plain": [
       "<matplotlib.figure.Figure at 0x7fe227a05748>"
      ]
     },
     "metadata": {},
     "output_type": "display_data"
    }
   ],
   "source": [
    "plt.plot(PDF_sorted[feature], PDF_sorted.roll)"
   ]
  },
  {
   "cell_type": "markdown",
   "metadata": {},
   "source": [
    "Very strong feature !  \n",
    "It looks like ip addresses that use same app in average at the half of a minute download much less.  "
   ]
  },
  {
   "cell_type": "code",
   "execution_count": null,
   "metadata": {
    "collapsed": true
   },
   "outputs": [],
   "source": []
  }
 ],
 "metadata": {
  "anaconda-cloud": {},
  "kernelspec": {
   "display_name": "PySpark",
   "language": "python3",
   "name": "pyspark"
  },
  "language_info": {
   "codemirror_mode": {
    "name": "ipython",
    "version": 3
   },
   "file_extension": ".py",
   "mimetype": "text/x-python",
   "name": "python",
   "nbconvert_exporter": "python",
   "pygments_lexer": "ipython3",
   "version": "3.6.4"
  }
 },
 "nbformat": 4,
 "nbformat_minor": 2
}
