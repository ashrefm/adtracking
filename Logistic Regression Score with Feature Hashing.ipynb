{
 "cells": [
  {
   "cell_type": "markdown",
   "metadata": {},
   "source": [
    "# Objective"
   ]
  },
  {
   "cell_type": "markdown",
   "metadata": {},
   "source": [
    "For this competition, your objective is to predict whether a user will download an app after clicking a mobile app advertisement.  \n",
    "\n",
    "**File descriptions**  \n",
    "\n",
    "    train.csv - the training set\n",
    "    train_sample.csv - 100,000 randomly-selected rows of training data, to inspect data before downloading full set\n",
    "    test.csv - the test set\n",
    "    sampleSubmission.csv - a sample submission file in the correct format\n",
    "\n",
    "**Data fields**  \n",
    "Each row of the training data contains a click record, with the following features.\n",
    "\n",
    "    ip: ip address of click.\n",
    "    app: app id for marketing.\n",
    "    device: device type id of user mobile phone (e.g., iphone 6 plus, iphone 7, huawei mate 7, etc.)\n",
    "    os: os version id of user mobile phone\n",
    "    channel: channel id of mobile ad publisher\n",
    "    click_time: timestamp of click (UTC)\n",
    "    attributed_time: if user download the app for after clicking an ad, this is the time of the app download\n",
    "    is_attributed: the target that is to be predicted, indicating the app was downloaded\n",
    "\n",
    "Note that ip, app, device, os, and channel are encoded.\n",
    "\n",
    "The test data is similar, with the following differences:\n",
    "\n",
    "    click_id: reference for making predictions\n",
    "    is_attributed: not included"
   ]
  },
  {
   "cell_type": "markdown",
   "metadata": {},
   "source": [
    "# Libraries"
   ]
  },
  {
   "cell_type": "code",
   "execution_count": 2,
   "metadata": {
    "collapsed": true
   },
   "outputs": [],
   "source": [
    "import numpy as np\n",
    "import pandas as pd\n",
    "import matplotlib.pyplot as plt\n",
    "% matplotlib inline\n",
    "\n",
    "import os\n",
    "\n",
    "import seaborn as sns\n",
    "sns.set(rc={'figure.figsize':(12, 5)},\n",
    "        font_scale=1.5,\n",
    "        style=\"whitegrid\")"
   ]
  },
  {
   "cell_type": "markdown",
   "metadata": {},
   "source": [
    "# Path"
   ]
  },
  {
   "cell_type": "code",
   "execution_count": 3,
   "metadata": {
    "collapsed": true
   },
   "outputs": [],
   "source": [
    "project_folder = \"../\"\n",
    "datapath = project_folder + \"data/\"\n",
    "plotpath = project_folder + \"graphs/\"\n",
    "mungepath = project_folder + \"munge/\"\n",
    "configpath = project_folder + \"config/\"\n",
    "diagnostic = project_folder + \"diagnostic/\"\n",
    "modelpath = project_folder + \"model/\"\n",
    "output = project_folder + \"output/\""
   ]
  },
  {
   "cell_type": "markdown",
   "metadata": {},
   "source": [
    "# Data Reading"
   ]
  },
  {
   "cell_type": "code",
   "execution_count": 4,
   "metadata": {
    "collapsed": false
   },
   "outputs": [
    {
     "name": "stdout",
     "output_type": "stream",
     "text": [
      "Found 184903890 observations in training set.\n"
     ]
    }
   ],
   "source": [
    "train = spark.read.csv(os.path.join(datapath,\"train.csv\"), header=True)\n",
    "print('Found %d observations in training set.' %train.count())"
   ]
  },
  {
   "cell_type": "code",
   "execution_count": 5,
   "metadata": {
    "collapsed": false
   },
   "outputs": [
    {
     "name": "stdout",
     "output_type": "stream",
     "text": [
      "+-----+---+------+---+-------+-------------------+---------------+-------------+\n",
      "|   ip|app|device| os|channel|         click_time|attributed_time|is_attributed|\n",
      "+-----+---+------+---+-------+-------------------+---------------+-------------+\n",
      "|83230|  3|     1| 13|    379|2017-11-06 14:32:21|           null|            0|\n",
      "|17357|  3|     1| 19|    379|2017-11-06 14:33:34|           null|            0|\n",
      "|35810|  3|     1| 13|    379|2017-11-06 14:34:12|           null|            0|\n",
      "+-----+---+------+---+-------+-------------------+---------------+-------------+\n",
      "only showing top 3 rows\n",
      "\n"
     ]
    }
   ],
   "source": [
    "train.show(3)"
   ]
  },
  {
   "cell_type": "code",
   "execution_count": 6,
   "metadata": {
    "collapsed": false
   },
   "outputs": [
    {
     "name": "stdout",
     "output_type": "stream",
     "text": [
      "root\n",
      " |-- ip: string (nullable = true)\n",
      " |-- app: string (nullable = true)\n",
      " |-- device: string (nullable = true)\n",
      " |-- os: string (nullable = true)\n",
      " |-- channel: string (nullable = true)\n",
      " |-- click_time: string (nullable = true)\n",
      " |-- attributed_time: string (nullable = true)\n",
      " |-- is_attributed: string (nullable = true)\n",
      "\n"
     ]
    }
   ],
   "source": [
    "train.printSchema()"
   ]
  },
  {
   "cell_type": "code",
   "execution_count": 7,
   "metadata": {
    "collapsed": false
   },
   "outputs": [
    {
     "name": "stdout",
     "output_type": "stream",
     "text": [
      "Found 18790469 observations in test set.\n"
     ]
    }
   ],
   "source": [
    "test = spark.read.csv(os.path.join(datapath,\"test.csv\"), header=True)\n",
    "print('Found %d observations in test set.' %test.count())"
   ]
  },
  {
   "cell_type": "markdown",
   "metadata": {},
   "source": [
    "# Row number as ID variable"
   ]
  },
  {
   "cell_type": "code",
   "execution_count": 8,
   "metadata": {
    "collapsed": false,
    "scrolled": true
   },
   "outputs": [
    {
     "name": "stdout",
     "output_type": "stream",
     "text": [
      "modeling size:  184903890\n"
     ]
    }
   ],
   "source": [
    "from pyspark.sql.functions import monotonically_increasing_id\n",
    "\n",
    "modeling1 = (train\n",
    "             .withColumn('id', monotonically_increasing_id())\n",
    "             .drop('click_time', 'attributed_time'))\n",
    "\n",
    "print(\"modeling size: \", modeling1.count())"
   ]
  },
  {
   "cell_type": "code",
   "execution_count": 9,
   "metadata": {
    "collapsed": false
   },
   "outputs": [
    {
     "name": "stdout",
     "output_type": "stream",
     "text": [
      "+------+---+------+---+-------+-------------+---+\n",
      "|    ip|app|device| os|channel|is_attributed| id|\n",
      "+------+---+------+---+-------+-------------+---+\n",
      "| 83230|  3|     1| 13|    379|            0|  0|\n",
      "| 17357|  3|     1| 19|    379|            0|  1|\n",
      "| 35810|  3|     1| 13|    379|            0|  2|\n",
      "| 45745| 14|     1| 13|    478|            0|  3|\n",
      "|161007|  3|     1| 13|    379|            0|  4|\n",
      "+------+---+------+---+-------+-------------+---+\n",
      "only showing top 5 rows\n",
      "\n"
     ]
    }
   ],
   "source": [
    "modeling1.show(5)"
   ]
  },
  {
   "cell_type": "code",
   "execution_count": 10,
   "metadata": {
    "collapsed": false
   },
   "outputs": [
    {
     "name": "stdout",
     "output_type": "stream",
     "text": [
      "test size:  18790469\n"
     ]
    }
   ],
   "source": [
    "from pyspark.sql.functions import monotonically_increasing_id\n",
    "\n",
    "test = (test\n",
    "        .withColumn('id', monotonically_increasing_id())\n",
    "        .drop('click_time'))\n",
    "print(\"test size: \", test.count())"
   ]
  },
  {
   "cell_type": "code",
   "execution_count": 11,
   "metadata": {
    "collapsed": false
   },
   "outputs": [
    {
     "name": "stdout",
     "output_type": "stream",
     "text": [
      "+--------+------+---+------+---+-------+---+\n",
      "|click_id|    ip|app|device| os|channel| id|\n",
      "+--------+------+---+------+---+-------+---+\n",
      "|       0|  5744|  9|     1|  3|    107|  0|\n",
      "|       1|119901|  9|     1|  3|    466|  1|\n",
      "|       2| 72287| 21|     1| 19|    128|  2|\n",
      "|       3| 78477| 15|     1| 13|    111|  3|\n",
      "|       4|123080| 12|     1| 13|    328|  4|\n",
      "+--------+------+---+------+---+-------+---+\n",
      "only showing top 5 rows\n",
      "\n"
     ]
    }
   ],
   "source": [
    "test.show(5)"
   ]
  },
  {
   "cell_type": "markdown",
   "metadata": {},
   "source": [
    "# Data Splitting\n",
    "\n",
    "We are now ready to start working with the actual click data, and our first task involves splitting it into training, validation, and test sets.  Use the [randomSplit method](https://spark.apache.org/docs/latest/api/python/pyspark.sql.html#pyspark.sql.DataFrame.randomSplit) with the specified weights and seed to create DFs storing each of these datasets, and then [cache](https://spark.apache.org/docs/latest/api/python/pyspark.sql.html#pyspark.sql.DataFrame.cache) each of these DFs, as we will be accessing them multiple times in the remainder of this lab. Finally, compute the size of each dataset."
   ]
  },
  {
   "cell_type": "code",
   "execution_count": 12,
   "metadata": {
    "collapsed": true
   },
   "outputs": [],
   "source": [
    "# We'll hold out 10% of our data for validation and leave 90% for training\n",
    "seed = 2210\n",
    "(train1, dev1, modeling2) = (modeling1\n",
    "                             .randomSplit([0.4, 0.1, 0.5], seed=seed))"
   ]
  },
  {
   "cell_type": "code",
   "execution_count": 13,
   "metadata": {
    "collapsed": false
   },
   "outputs": [
    {
     "name": "stdout",
     "output_type": "stream",
     "text": [
      "Number of observations in train set : 73956228\n",
      "Number of observations in dev set : 18489012\n",
      "Number of observations for next model training: 92458650\n"
     ]
    }
   ],
   "source": [
    "print(\"Number of observations in train set :\", train1.count())\n",
    "print(\"Number of observations in dev set :\", dev1.count())\n",
    "print(\"Number of observations for next model training:\", modeling2.count())"
   ]
  },
  {
   "cell_type": "markdown",
   "metadata": {},
   "source": [
    "# Dimentionality Reduction - Feature Hashing"
   ]
  },
  {
   "cell_type": "markdown",
   "metadata": {},
   "source": [
    "Using a one-hot-encoding featurization can yield a model with good statistical accuracy.  However, the number of distinct categories across all features is quite large -- recall that we observed thousands of categories in the training data (different ips, apps, devices, os, channels).  \n",
    "Hence, featurizing via a one-hot-encoding representation would lead to a very large feature vector. To reduce the dimensionality of the feature space, we will use feature hashing."
   ]
  },
  {
   "cell_type": "markdown",
   "metadata": {},
   "source": [
    "## Tokenizing levels"
   ]
  },
  {
   "cell_type": "markdown",
   "metadata": {},
   "source": [
    "This step is important as pyspark HashingTF function requires one single column containing a list of tokens for each observation.  \n",
    "Each token represents the level observed in one categorical variable.  \n",
    "HashingTF is originally created to hash text documents by reducing a large feature space of word dictionary.  "
   ]
  },
  {
   "cell_type": "code",
   "execution_count": 14,
   "metadata": {
    "collapsed": false,
    "scrolled": false
   },
   "outputs": [
    {
     "name": "stdout",
     "output_type": "stream",
     "text": [
      "+------+---+------+---+-------+-------------+---+\n",
      "|    ip|app|device| os|channel|is_attributed| id|\n",
      "+------+---+------+---+-------+-------------+---+\n",
      "|182113|  3|     1| 19|    379|            0|198|\n",
      "|102884|  3|     1| 18|    379|            0|250|\n",
      "|212224|  3|     1| 13|    379|            0|262|\n",
      "+------+---+------+---+-------+-------------+---+\n",
      "only showing top 3 rows\n",
      "\n"
     ]
    }
   ],
   "source": [
    "seed=2210\n",
    "train_sample = modeling1.sample(fraction=0.01, withReplacement=True, seed=seed)\n",
    "train_sample.show(3)"
   ]
  },
  {
   "cell_type": "code",
   "execution_count": 15,
   "metadata": {
    "collapsed": true
   },
   "outputs": [],
   "source": [
    "# User defined function to convert one row containing multiple feature columns\n",
    "# into one feature column containing the level token\n",
    "\n",
    "from pyspark.sql.functions import udf\n",
    "from pyspark.sql.types import ArrayType, StringType\n",
    "\n",
    "def level_tokenizer(app, device, os, channel):\n",
    "    app_token = 'app_'+str(app)\n",
    "    device_token = 'device_'+str(device)\n",
    "    os_token = 'os_'+str(os)\n",
    "    channel_token = 'channel_'+str(channel)\n",
    "    \n",
    "    app_device_token = 'app_device_'+str(app)+'_'+str(device)\n",
    "    app_os_token = 'app_os_'+str(app)+'_'+str(os)\n",
    "    app_channel_token = 'app_channel_'+str(app)+'_'+str(channel)\n",
    "    \n",
    "    device_os_token = 'device_os_'+str(device)+'_'+str(os)\n",
    "    device_channel_token = 'device_channel_'+str(device)+'_'+str(channel)\n",
    "    \n",
    "    os_channel_token = 'os_channel_'+str(os)+'_'+str(channel)\n",
    "    \n",
    "    return([app_token, device_token, os_token, channel_token,\n",
    "            app_device_token, app_os_token, app_channel_token,\n",
    "            device_os_token, device_channel_token,\n",
    "            os_channel_token])\n",
    "\n",
    "level_tokenizer_udf = udf(level_tokenizer, ArrayType(StringType()))"
   ]
  },
  {
   "cell_type": "code",
   "execution_count": 16,
   "metadata": {
    "collapsed": true
   },
   "outputs": [],
   "source": [
    "from pyspark.sql.functions import col, lit\n",
    "\n",
    "def parse_clickdf(click_df, dftype=None):\n",
    "    \"\"\"parse the click dataframe to convert each row in label and token features\n",
    "    \n",
    "    Args:\n",
    "        click_df -- dataframe containing ip, app, device, os, channel, is_attributed column\n",
    "        dftype -- string indicating whether the label is existing (modeling or test)\n",
    "        \n",
    "    Returns:\n",
    "        dataframe containing label and feature columns\n",
    "    \"\"\"\n",
    "    \n",
    "    output = (click_df\n",
    "              .withColumn('rawFeatures',\n",
    "                          level_tokenizer_udf(col('app'),\n",
    "                                              col('device'),\n",
    "                                              col('os'),\n",
    "                                              col('channel'))))\n",
    "    if dftype == \"modeling\":\n",
    "        output = (output\n",
    "                  .withColumnRenamed('is_attributed', 'label')\n",
    "                  .withColumn('label', col('label').cast('integer')))\n",
    "    \n",
    "    if dftype == \"test\":\n",
    "        output = output.withColumn('label', lit(-1))\n",
    "    \n",
    "    output = output.select('id', 'label', 'rawFeatures')\n",
    "    \n",
    "    return output\n",
    "    "
   ]
  },
  {
   "cell_type": "code",
   "execution_count": 17,
   "metadata": {
    "collapsed": true
   },
   "outputs": [],
   "source": [
    "from pyspark.sql.functions import col\n",
    "\n",
    "parsed_train_sample = parse_clickdf(train_sample, dftype=\"modeling\")\n",
    "\n",
    "parsed_train1 = parse_clickdf(train1, dftype=\"modeling\")\n",
    "parsed_dev1 = parse_clickdf(dev1, dftype=\"modeling\")\n",
    "parsed_modeling2 = parse_clickdf(modeling2, dftype=\"modeling\")\n",
    "parsed_test = parse_clickdf(test, dftype=\"test\")"
   ]
  },
  {
   "cell_type": "code",
   "execution_count": 18,
   "metadata": {
    "collapsed": false
   },
   "outputs": [
    {
     "name": "stdout",
     "output_type": "stream",
     "text": [
      "+---+-----+--------------------------------------------------------------------------------------------------------------------------------------------------+\n",
      "|id |label|rawFeatures                                                                                                                                       |\n",
      "+---+-----+--------------------------------------------------------------------------------------------------------------------------------------------------+\n",
      "|198|0    |[app_3, device_1, os_19, channel_379, app_device_3_1, app_os_3_19, app_channel_3_379, device_os_1_19, device_channel_1_379, os_channel_19_379]    |\n",
      "|250|0    |[app_3, device_1, os_18, channel_379, app_device_3_1, app_os_3_18, app_channel_3_379, device_os_1_18, device_channel_1_379, os_channel_18_379]    |\n",
      "|262|0    |[app_3, device_1, os_13, channel_379, app_device_3_1, app_os_3_13, app_channel_3_379, device_os_1_13, device_channel_1_379, os_channel_13_379]    |\n",
      "|297|0    |[app_3, device_1, os_13, channel_379, app_device_3_1, app_os_3_13, app_channel_3_379, device_os_1_13, device_channel_1_379, os_channel_13_379]    |\n",
      "|483|0    |[app_20, device_1, os_17, channel_259, app_device_20_1, app_os_20_17, app_channel_20_259, device_os_1_17, device_channel_1_259, os_channel_17_259]|\n",
      "|620|0    |[app_3, device_1, os_18, channel_153, app_device_3_1, app_os_3_18, app_channel_3_153, device_os_1_18, device_channel_1_153, os_channel_18_153]    |\n",
      "|671|0    |[app_15, device_1, os_13, channel_245, app_device_15_1, app_os_15_13, app_channel_15_245, device_os_1_13, device_channel_1_245, os_channel_13_245]|\n",
      "|929|0    |[app_15, device_1, os_19, channel_245, app_device_15_1, app_os_15_19, app_channel_15_245, device_os_1_19, device_channel_1_245, os_channel_19_245]|\n",
      "|990|0    |[app_24, device_2, os_20, channel_105, app_device_24_2, app_os_24_20, app_channel_24_105, device_os_2_20, device_channel_2_105, os_channel_20_105]|\n",
      "|992|0    |[app_15, device_2, os_3, channel_245, app_device_15_2, app_os_15_3, app_channel_15_245, device_os_2_3, device_channel_2_245, os_channel_3_245]    |\n",
      "+---+-----+--------------------------------------------------------------------------------------------------------------------------------------------------+\n",
      "only showing top 10 rows\n",
      "\n"
     ]
    }
   ],
   "source": [
    "parsed_train_sample.show(10, truncate=False)"
   ]
  },
  {
   "cell_type": "code",
   "execution_count": 19,
   "metadata": {
    "collapsed": false
   },
   "outputs": [
    {
     "name": "stdout",
     "output_type": "stream",
     "text": [
      "+------------+\n",
      "|     max(id)|\n",
      "+------------+\n",
      "|120260237348|\n",
      "+------------+\n",
      "\n"
     ]
    }
   ],
   "source": [
    "import pyspark.sql.functions as func\n",
    "\n",
    "test.groupBy().agg(func.max(col('id'))).show()"
   ]
  },
  {
   "cell_type": "code",
   "execution_count": 20,
   "metadata": {
    "collapsed": false
   },
   "outputs": [
    {
     "name": "stdout",
     "output_type": "stream",
     "text": [
      "+------------+\n",
      "|     max(id)|\n",
      "+------------+\n",
      "|120260237348|\n",
      "+------------+\n",
      "\n"
     ]
    }
   ],
   "source": [
    "import pyspark.sql.functions as func\n",
    "\n",
    "parsed_test.groupBy().agg(func.max(col('id'))).show()"
   ]
  },
  {
   "cell_type": "code",
   "execution_count": 21,
   "metadata": {
    "collapsed": false
   },
   "outputs": [
    {
     "name": "stdout",
     "output_type": "stream",
     "text": [
      "root\n",
      " |-- id: long (nullable = false)\n",
      " |-- label: integer (nullable = false)\n",
      " |-- rawFeatures: array (nullable = true)\n",
      " |    |-- element: string (containsNull = true)\n",
      "\n"
     ]
    }
   ],
   "source": [
    "parsed_test.printSchema()"
   ]
  },
  {
   "cell_type": "markdown",
   "metadata": {},
   "source": [
    "## Apply feature hashing"
   ]
  },
  {
   "cell_type": "markdown",
   "metadata": {},
   "source": [
    "The bigget the number of buckets used for hashing, the less risk we have concerning feature collision."
   ]
  },
  {
   "cell_type": "code",
   "execution_count": 22,
   "metadata": {
    "collapsed": true
   },
   "outputs": [],
   "source": [
    "from pyspark.ml.feature import HashingTF\n",
    "\n",
    "num_hash_buckets = 2 ** 18\n",
    "hashingTF = HashingTF(inputCol=\"rawFeatures\", outputCol=\"features\", numFeatures=num_hash_buckets)"
   ]
  },
  {
   "cell_type": "code",
   "execution_count": 23,
   "metadata": {
    "collapsed": true
   },
   "outputs": [],
   "source": [
    "hashed_train_sample = hashingTF.transform(parsed_train_sample).select('id', 'label', 'features').cache()\n",
    "\n",
    "hashed_train1 = hashingTF.transform(parsed_train1).select('id', 'label', 'features').cache()\n",
    "hashed_dev1 = hashingTF.transform(parsed_dev1).select('id', 'label', 'features').cache()\n",
    "hashed_modeling2 = hashingTF.transform(parsed_modeling2).select('id', 'label', 'features').cache()\n",
    "hashed_test = hashingTF.transform(parsed_test).select('id', 'label', 'features').cache()"
   ]
  },
  {
   "cell_type": "code",
   "execution_count": 24,
   "metadata": {
    "collapsed": false,
    "scrolled": false
   },
   "outputs": [
    {
     "name": "stdout",
     "output_type": "stream",
     "text": [
      "+---+-----+----------------------------------------------------------------------------------------------------------------------+\n",
      "|id |label|features                                                                                                              |\n",
      "+---+-----+----------------------------------------------------------------------------------------------------------------------+\n",
      "|198|0    |(262144,[5765,12503,17043,30052,118293,122496,128335,166893,244339,244811],[1.0,1.0,1.0,1.0,1.0,1.0,1.0,1.0,1.0,1.0]) |\n",
      "|250|0    |(262144,[5765,12503,14249,17043,103974,122496,166893,241679,244339,248351],[1.0,1.0,1.0,1.0,1.0,1.0,1.0,1.0,1.0,1.0]) |\n",
      "|262|0    |(262144,[5765,12503,17043,122496,126986,166893,194868,244339,247156,260292],[1.0,1.0,1.0,1.0,1.0,1.0,1.0,1.0,1.0,1.0])|\n",
      "|297|0    |(262144,[5765,12503,17043,122496,126986,166893,194868,244339,247156,260292],[1.0,1.0,1.0,1.0,1.0,1.0,1.0,1.0,1.0,1.0])|\n",
      "|483|0    |(262144,[176,12503,16619,28806,30722,61173,79782,96232,106347,199261],[1.0,1.0,1.0,1.0,1.0,1.0,1.0,1.0,1.0,1.0])      |\n",
      "+---+-----+----------------------------------------------------------------------------------------------------------------------+\n",
      "only showing top 5 rows\n",
      "\n"
     ]
    }
   ],
   "source": [
    "hashed_train_sample.show(5, truncate=False)"
   ]
  },
  {
   "cell_type": "code",
   "execution_count": 25,
   "metadata": {
    "collapsed": false
   },
   "outputs": [
    {
     "name": "stdout",
     "output_type": "stream",
     "text": [
      "+---+-----+------------------------------------------------------------------------------------------------------------------------+\n",
      "|id |label|features                                                                                                                |\n",
      "+---+-----+------------------------------------------------------------------------------------------------------------------------+\n",
      "|0  |-1   |(262144,[12503,73061,74731,101357,164359,177261,197416,218491,228176,240775],[1.0,1.0,1.0,1.0,1.0,1.0,1.0,1.0,1.0,1.0]) |\n",
      "|1  |-1   |(262144,[12503,72312,73061,91075,164210,164359,197416,218491,228176,257626],[1.0,1.0,1.0,1.0,1.0,1.0,1.0,1.0,1.0,1.0])  |\n",
      "|2  |-1   |(262144,[12503,46276,118293,128335,133677,160752,179241,188504,215478,227506],[1.0,1.0,1.0,1.0,1.0,1.0,1.0,1.0,1.0,1.0])|\n",
      "|3  |-1   |(262144,[12503,25483,82765,92823,103341,106407,118613,126986,144488,260292],[1.0,1.0,1.0,1.0,1.0,1.0,1.0,1.0,1.0,1.0])  |\n",
      "|4  |-1   |(262144,[12503,36901,79811,82851,126986,139989,160386,164076,202220,260292],[1.0,1.0,1.0,1.0,1.0,1.0,1.0,1.0,1.0,1.0])  |\n",
      "+---+-----+------------------------------------------------------------------------------------------------------------------------+\n",
      "only showing top 5 rows\n",
      "\n"
     ]
    }
   ],
   "source": [
    "hashed_test.show(5, truncate=False)"
   ]
  },
  {
   "cell_type": "code",
   "execution_count": 26,
   "metadata": {
    "collapsed": false
   },
   "outputs": [
    {
     "name": "stdout",
     "output_type": "stream",
     "text": [
      "+------------+\n",
      "|     max(id)|\n",
      "+------------+\n",
      "|120260237348|\n",
      "+------------+\n",
      "\n"
     ]
    }
   ],
   "source": [
    "import pyspark.sql.functions as func\n",
    "hashed_test.groupBy().agg(func.max(col('id'))).show()"
   ]
  },
  {
   "cell_type": "code",
   "execution_count": 27,
   "metadata": {
    "collapsed": false
   },
   "outputs": [
    {
     "name": "stdout",
     "output_type": "stream",
     "text": [
      "+-------+\n",
      "|min(id)|\n",
      "+-------+\n",
      "|      0|\n",
      "+-------+\n",
      "\n"
     ]
    }
   ],
   "source": [
    "import pyspark.sql.functions as func\n",
    "hashed_test.groupBy().agg(func.min(col('id'))).show()"
   ]
  },
  {
   "cell_type": "code",
   "execution_count": 28,
   "metadata": {
    "collapsed": false
   },
   "outputs": [
    {
     "data": {
      "text/plain": [
       "18790469"
      ]
     },
     "execution_count": 28,
     "metadata": {},
     "output_type": "execute_result"
    }
   ],
   "source": [
    "hashed_test.count()"
   ]
  },
  {
   "cell_type": "code",
   "execution_count": 29,
   "metadata": {
    "collapsed": false
   },
   "outputs": [
    {
     "name": "stdout",
     "output_type": "stream",
     "text": [
      "root\n",
      " |-- id: long (nullable = false)\n",
      " |-- label: integer (nullable = false)\n",
      " |-- features: vector (nullable = true)\n",
      "\n"
     ]
    }
   ],
   "source": [
    "hashed_test.printSchema()"
   ]
  },
  {
   "cell_type": "code",
   "execution_count": 30,
   "metadata": {
    "collapsed": false
   },
   "outputs": [
    {
     "name": "stdout",
     "output_type": "stream",
     "text": [
      "power\t buckets\n",
      "\n",
      "0 \t 1\n",
      "1 \t 2\n",
      "2 \t 4\n",
      "3 \t 8\n",
      "4 \t 16\n",
      "5 \t 32\n",
      "6 \t 64\n",
      "7 \t 128\n",
      "8 \t 256\n",
      "9 \t 512\n",
      "10 \t 1024\n",
      "11 \t 2048\n",
      "12 \t 4096\n",
      "13 \t 8192\n",
      "14 \t 16384\n",
      "15 \t 32768\n",
      "16 \t 65536\n",
      "17 \t 131072\n",
      "18 \t 262144\n",
      "19 \t 524288\n"
     ]
    }
   ],
   "source": [
    "# number of bucket as a power of 2\n",
    "print(\"power\\t\", \"buckets\\n\")\n",
    "for i in range(20):\n",
    "    print(i, \"\\t\", 2**i)"
   ]
  },
  {
   "cell_type": "markdown",
   "metadata": {},
   "source": [
    "# Python hash function (Optional - For education purpose)\n",
    "\n",
    "Below is a hash function that we will to explain feature hashing.  \n",
    "We will apply it to the three sample data points to gain some intuition."
   ]
  },
  {
   "cell_type": "code",
   "execution_count": 31,
   "metadata": {
    "collapsed": true
   },
   "outputs": [],
   "source": [
    "from collections import defaultdict\n",
    "import hashlib\n",
    "import functools\n",
    "\n",
    "def hash_function(raw_feats, num_buckets, print_mapping=False):\n",
    "    \"\"\"Calculate a feature dictionary for an observation's features based on hashing.\n",
    "\n",
    "    Note:\n",
    "        Use print_mapping=True for debug purposes and to better understand how the hashing works.\n",
    "\n",
    "    Args:\n",
    "        raw_feats (list of (int, str)): A list of features for an observation.  Represented as\n",
    "            (featureID, value) tuples.\n",
    "        num_buckets (int): Number of buckets to use as features.\n",
    "        print_mapping (bool, optional): If true, the mappings of featureString to index will be\n",
    "            printed.\n",
    "\n",
    "    Returns:\n",
    "        dict of int to float:  The keys will be integers which represent the buckets that the\n",
    "            features have been hashed to.  The value for a given key will contain the count of the\n",
    "            (featureID, value) tuples that have hashed to that key.\n",
    "    \"\"\"\n",
    "    mapping = {str(category) + ':' + str(ind):\n",
    "               int(int(hashlib.md5((str(category) + ':' + str(ind)).encode('utf-8')).hexdigest(), 16) % num_buckets)\n",
    "               for ind, category in raw_feats}\n",
    "    \n",
    "    if print_mapping: print(mapping)\n",
    "\n",
    "    def map_update(l, r):\n",
    "        l[r] += 1.0\n",
    "        return l\n",
    "\n",
    "    sparse_features = functools.reduce(map_update, mapping.values(), defaultdict(float))\n",
    "    return dict(sparse_features)\n",
    "\n"
   ]
  },
  {
   "cell_type": "code",
   "execution_count": 32,
   "metadata": {
    "collapsed": false
   },
   "outputs": [
    {
     "name": "stdout",
     "output_type": "stream",
     "text": [
      "{'mouse:0': 3, 'black:1': 3}\n",
      "{'cat:0': 1, 'tabby:1': 0, 'mouse:2': 1}\n",
      "{'bear:0': 2, 'black:1': 3, 'salmon:2': 0}\n",
      "{'mouse:0': 99, 'black:1': 51}\n",
      "{'cat:0': 21, 'tabby:1': 72, 'mouse:2': 9}\n",
      "{'bear:0': 82, 'black:1': 51, 'salmon:2': 80}\n",
      "\n",
      "\t\t 4 Buckets \t\t\t 100 Buckets\n",
      "SampleOne:\t {3: 2.0}\t\t\t {99: 1.0, 51: 1.0}\n",
      "SampleTwo:\t {1: 2.0, 0: 1.0}\t\t {21: 1.0, 72: 1.0, 9: 1.0}\n",
      "SampleThree:\t {2: 1.0, 3: 1.0, 0: 1.0}\t {82: 1.0, 51: 1.0, 80: 1.0}\n"
     ]
    }
   ],
   "source": [
    "# Sample values for testing\n",
    "sample_one = [(0, 'mouse'), (1, 'black')]\n",
    "sample_two = [(0, 'cat'), (1, 'tabby'), (2, 'mouse')]\n",
    "sample_three =  [(0, 'bear'), (1, 'black'), (2, 'salmon')]\n",
    "\n",
    "# Use four buckets\n",
    "samp_one_four_buckets = hash_function(sample_one, 4, True)\n",
    "samp_two_four_buckets = hash_function(sample_two, 4, True)\n",
    "samp_three_four_buckets = hash_function(sample_three, 4, True)\n",
    "\n",
    "# Use one hundred buckets\n",
    "samp_one_hundred_buckets = hash_function(sample_one, 100, True)\n",
    "samp_two_hundred_buckets = hash_function(sample_two, 100, True)\n",
    "samp_three_hundred_buckets = hash_function(sample_three, 100, True)\n",
    "\n",
    "print('\\n\\t\\t 4 Buckets \\t\\t\\t 100 Buckets')\n",
    "print('SampleOne:\\t {0}\\t\\t\\t {1}'.format(samp_one_four_buckets, samp_one_hundred_buckets))\n",
    "print('SampleTwo:\\t {0}\\t\\t {1}'.format(samp_two_four_buckets, samp_two_hundred_buckets))\n",
    "print('SampleThree:\\t {0}\\t {1}'.format(samp_three_four_buckets, samp_three_hundred_buckets))"
   ]
  },
  {
   "cell_type": "markdown",
   "metadata": {},
   "source": [
    "# Visualization: Feature frequency\n",
    "\n",
    "We will now visualize the number of times each of the 262144 hashed features appears in the training data. We first compute the number of times each feature appears, then bucket the features by these counts.  The buckets are sized by powers of 2, so the first bucket corresponds to features that appear exactly once ( \\\\( \\scriptsize 2^0 \\\\) ), the second to features that appear twice ( \\\\( \\scriptsize 2^1 \\\\) ), the third to features that occur between three and four ( \\\\( \\scriptsize 2^2 \\\\) ) times, the fifth bucket is five to eight ( \\\\( \\scriptsize 2^3 \\\\) ) times and so on. The scatter plot below shows the logarithm of the bucket thresholds versus the logarithm of the number of features that have counts that fall in the buckets."
   ]
  },
  {
   "cell_type": "code",
   "execution_count": 33,
   "metadata": {
    "collapsed": true
   },
   "outputs": [],
   "source": [
    "from pyspark.sql.types import ArrayType, IntegerType\n",
    "from pyspark.sql.functions import log, explode\n",
    "\n",
    "get_indices = udf(lambda sv: list(map(int, sv.indices)), ArrayType(IntegerType()))\n",
    "feature_counts = (hashed_train1\n",
    "                  .select(explode(get_indices('features')))\n",
    "                  .groupBy('col')\n",
    "                  .count()\n",
    "                  .withColumn('bucket', log('count').cast('int'))\n",
    "                  .groupBy('bucket')\n",
    "                  .count()\n",
    "                  .orderBy('bucket')\n",
    "                  .collect())"
   ]
  },
  {
   "cell_type": "code",
   "execution_count": 34,
   "metadata": {
    "collapsed": false,
    "scrolled": false
   },
   "outputs": [
    {
     "data": {
      "text/plain": [
       "<matplotlib.collections.PathCollection at 0x7f6ff5641630>"
      ]
     },
     "execution_count": 34,
     "metadata": {},
     "output_type": "execute_result"
    },
    {
     "data": {
      "image/png": "[encoded data removed]",
      "text/plain": [
       "<matplotlib.figure.Figure at 0x7f6ff5515438>"
      ]
     },
     "metadata": {},
     "output_type": "display_data"
    }
   ],
   "source": [
    "x, y = zip(*feature_counts)\n",
    "x, y = x, np.log(y)\n",
    "\n",
    "def prepare_plot(xticks, yticks, figsize=(10.5, 6), hide_labels=False, grid_color='#999cc9',\n",
    "                 grid_width=1.0):\n",
    "    \"\"\"Template for generating the plot layout.\"\"\"\n",
    "    plt.close()\n",
    "    fig, ax = plt.subplots(figsize=figsize, facecolor='white', edgecolor='white')\n",
    "    ax.axes.tick_params(labelcolor='#999cc9', labelsize='10')\n",
    "    for axis, ticks in [(ax.get_xaxis(), xticks), (ax.get_yaxis(), yticks)]:\n",
    "        axis.set_ticks_position('none')\n",
    "        axis.set_ticks(ticks)\n",
    "        axis.label.set_color('#999cc9')\n",
    "        if hide_labels: axis.set_ticklabels([])\n",
    "    plt.grid(color=grid_color, linewidth=grid_width, linestyle='-')\n",
    "    map(lambda position: ax.spines[position].set_visible(False), ['bottom', 'top', 'left', 'right'])\n",
    "    return fig, ax\n",
    "\n",
    "# generate layout and plot data\n",
    "fig, ax = prepare_plot(np.arange(0, 12, 1), np.arange(0, 14, 2))\n",
    "ax.set_xlabel(r'$\\log_e(bucketSize)$'), ax.set_ylabel(r'$\\log_e(countInBucket)$')\n",
    "plt.scatter(x, y, s=14**2, c='blue', edgecolors='red', alpha=0.75)\n"
   ]
  },
  {
   "cell_type": "markdown",
   "metadata": {
    "collapsed": true
   },
   "source": [
    "# Logistic Regression - Cross Validation"
   ]
  },
  {
   "cell_type": "code",
   "execution_count": 35,
   "metadata": {
    "collapsed": false
   },
   "outputs": [
    {
     "name": "stdout",
     "output_type": "stream",
     "text": [
      "reParam: 3e-07 \telasticNetParam: 0 \tauc_train: 0.963675 \tauc_dev: 0.961811\n",
      "reParam: 3e-07 \telasticNetParam: 0.5 \tauc_train: 0.964405 \tauc_dev: 0.962819\n",
      "reParam: 3e-07 \telasticNetParam: 1 \tauc_train: 0.963909 \tauc_dev: 0.962505\n",
      "reParam: 1e-07 \telasticNetParam: 0 \tauc_train: 0.965901 \tauc_dev: 0.963468\n",
      "reParam: 1e-07 \telasticNetParam: 0.5 \tauc_train: 0.96588 \tauc_dev: 0.963823\n",
      "reParam: 1e-07 \telasticNetParam: 1 \tauc_train: 0.965588 \tauc_dev: 0.963833\n",
      "reParam: 3e-08 \telasticNetParam: 0 \tauc_train: 0.967279 \tauc_dev: 0.963853\n",
      "reParam: 3e-08 \telasticNetParam: 0.5 \tauc_train: 0.96708 \tauc_dev: 0.964111\n",
      "reParam: 3e-08 \telasticNetParam: 1 \tauc_train: 0.966815 \tauc_dev: 0.964223\n",
      "reParam: 1e-08 \telasticNetParam: 0 \tauc_train: 0.967984 \tauc_dev: 0.963791\n",
      "reParam: 1e-08 \telasticNetParam: 0.5 \tauc_train: 0.967982 \tauc_dev: 0.964041\n",
      "reParam: 1e-08 \telasticNetParam: 1 \tauc_train: 0.967857 \tauc_dev: 0.964093\n",
      "reParam: 3e-09 \telasticNetParam: 0 \tauc_train: 0.968397 \tauc_dev: 0.963633\n",
      "reParam: 3e-09 \telasticNetParam: 0.5 \tauc_train: 0.968537 \tauc_dev: 0.963681\n",
      "reParam: 3e-09 \telasticNetParam: 1 \tauc_train: 0.968568 \tauc_dev: 0.963614\n",
      "reParam: 1e-09 \telasticNetParam: 0 \tauc_train: 0.968555 \tauc_dev: 0.963341\n",
      "reParam: 1e-09 \telasticNetParam: 0.5 \tauc_train: 0.968746 \tauc_dev: 0.963285\n",
      "reParam: 1e-09 \telasticNetParam: 1 \tauc_train: 0.968791 \tauc_dev: 0.962973\n"
     ]
    }
   ],
   "source": [
    "from pyspark.ml.classification import LogisticRegression\n",
    "from pyspark.ml.evaluation import BinaryClassificationEvaluator\n",
    "\n",
    "# Let's initialize our linear regression learner \n",
    "lr = LogisticRegression()\n",
    "\n",
    "# Create an AUC ROC evaluator using the label and predicted columns\n",
    "bcEval = BinaryClassificationEvaluator(metricName='areaUnderROC')\n",
    "\n",
    "lr.setStandardization(False)\n",
    "lr.setMaxIter(200)\n",
    "\n",
    "# Let's tune over our regularization parameter from 0.01 to 0.10\n",
    "regParams = [3e-07, 1e-07, 3e-08, 1e-08, 3e-09, 1e-09]\n",
    "elasticNetParams = [0, 0.5, 1]\n",
    "\n",
    "cross_validation = pd.DataFrame(columns=['regParam', 'elasticNetParam', 'auc_train', 'auc_dev'])\n",
    "model_dict = dict()\n",
    "\n",
    "# loop over tuning parameters\n",
    "for rp in regParams:\n",
    "    for enp in elasticNetParams:\n",
    "        lr.setRegParam(rp)\n",
    "        lr.setElasticNetParam(enp)\n",
    "        lr_model = LogisticRegression.fit(lr, hashed_train1)\n",
    "        model_dict[str((rp, enp))] = lr_model                                          \n",
    "        auc_train = round(bcEval.evaluate(lr_model.transform(hashed_train1)),6)\n",
    "        auc_dev = round(bcEval.evaluate(lr_model.transform(hashed_dev1)),6)\n",
    "        cross_validation = cross_validation.append({'regParam':rp,\n",
    "                                                    'elasticNetParam':enp,\n",
    "                                                    'auc_train':auc_train,\n",
    "                                                    'auc_dev':auc_dev},\n",
    "                                                   ignore_index=True)\n",
    "        print('reParam:', rp, '\\telasticNetParam:', enp, '\\tauc_train:', auc_train, '\\tauc_dev:', auc_dev)"
   ]
  },
  {
   "cell_type": "code",
   "execution_count": 36,
   "metadata": {
    "collapsed": false
   },
   "outputs": [
    {
     "data": {
      "text/plain": [
       "Text(0.5,1,'Grid Search on Validation Set')"
      ]
     },
     "execution_count": 36,
     "metadata": {},
     "output_type": "execute_result"
    },
    {
     "data": {
      "image/png": "[encoded data removed]",
      "text/plain": [
       "<matplotlib.figure.Figure at 0x7f6ff54d2cf8>"
      ]
     },
     "metadata": {},
     "output_type": "display_data"
    }
   ],
   "source": [
    "validation_grid = pd.DataFrame(cross_validation).pivot_table(values='auc_dev', index='elasticNetParam', columns='regParam')\n",
    "sns.heatmap(validation_grid,linecolor='white',linewidths=1, cmap=sns.cubehelix_palette(8)).set_title('Grid Search on Validation Set')"
   ]
  },
  {
   "cell_type": "markdown",
   "metadata": {
    "collapsed": true
   },
   "source": [
    "# Best Model"
   ]
  },
  {
   "cell_type": "code",
   "execution_count": 37,
   "metadata": {
    "collapsed": false,
    "scrolled": false
   },
   "outputs": [
    {
     "data": {
      "text/plain": [
       "{'(1e-07, 0)': LogisticRegression_471bbad66d815651046a,\n",
       " '(1e-07, 0.5)': LogisticRegression_471bbad66d815651046a,\n",
       " '(1e-07, 1)': LogisticRegression_471bbad66d815651046a,\n",
       " '(1e-08, 0)': LogisticRegression_471bbad66d815651046a,\n",
       " '(1e-08, 0.5)': LogisticRegression_471bbad66d815651046a,\n",
       " '(1e-08, 1)': LogisticRegression_471bbad66d815651046a,\n",
       " '(1e-09, 0)': LogisticRegression_471bbad66d815651046a,\n",
       " '(1e-09, 0.5)': LogisticRegression_471bbad66d815651046a,\n",
       " '(1e-09, 1)': LogisticRegression_471bbad66d815651046a,\n",
       " '(3e-07, 0)': LogisticRegression_471bbad66d815651046a,\n",
       " '(3e-07, 0.5)': LogisticRegression_471bbad66d815651046a,\n",
       " '(3e-07, 1)': LogisticRegression_471bbad66d815651046a,\n",
       " '(3e-08, 0)': LogisticRegression_471bbad66d815651046a,\n",
       " '(3e-08, 0.5)': LogisticRegression_471bbad66d815651046a,\n",
       " '(3e-08, 1)': LogisticRegression_471bbad66d815651046a,\n",
       " '(3e-09, 0)': LogisticRegression_471bbad66d815651046a,\n",
       " '(3e-09, 0.5)': LogisticRegression_471bbad66d815651046a,\n",
       " '(3e-09, 1)': LogisticRegression_471bbad66d815651046a}"
      ]
     },
     "execution_count": 37,
     "metadata": {},
     "output_type": "execute_result"
    }
   ],
   "source": [
    "model_dict"
   ]
  },
  {
   "cell_type": "code",
   "execution_count": 38,
   "metadata": {
    "collapsed": false
   },
   "outputs": [
    {
     "name": "stdout",
     "output_type": "stream",
     "text": [
      "reParam: 3e-08 \telasticNetParam: 1 \tauc_train: 0.966815 \tauc_dev: 0.964223 \tauc_modeling_next: 0.965345\n"
     ]
    }
   ],
   "source": [
    "best_rp = 3e-08\n",
    "best_enp = 1\n",
    "\n",
    "lr_best_model = model_dict['('+str(best_rp)+', '+str(best_enp)+')']\n",
    "                                 \n",
    "auc_train = round(bcEval.evaluate(lr_best_model.transform(hashed_train1)),6)\n",
    "auc_dev = round(bcEval.evaluate(lr_best_model.transform(hashed_dev1)),6)\n",
    "auc_modeling_next = round(bcEval.evaluate(lr_best_model.transform(hashed_modeling2)),6)\n",
    "\n",
    "print('reParam:', best_rp,\n",
    "      '\\telasticNetParam:', best_enp,\n",
    "      '\\tauc_train:', auc_train,\n",
    "      '\\tauc_dev:', auc_dev,\n",
    "      '\\tauc_modeling_next:', auc_modeling_next)"
   ]
  },
  {
   "cell_type": "code",
   "execution_count": 39,
   "metadata": {
    "collapsed": false,
    "scrolled": true
   },
   "outputs": [
    {
     "data": {
      "text/plain": [
       "DataFrame[id: bigint, label: int, features: vector]"
      ]
     },
     "execution_count": 39,
     "metadata": {},
     "output_type": "execute_result"
    }
   ],
   "source": [
    "hashed_train1.unpersist()\n",
    "hashed_dev1.unpersist()"
   ]
  },
  {
   "cell_type": "markdown",
   "metadata": {
    "collapsed": true
   },
   "source": [
    "# Scoring"
   ]
  },
  {
   "cell_type": "markdown",
   "metadata": {},
   "source": [
    "## Prediction on modeling2 dataset (50% of original training set)"
   ]
  },
  {
   "cell_type": "code",
   "execution_count": 40,
   "metadata": {
    "collapsed": false,
    "scrolled": true
   },
   "outputs": [
    {
     "name": "stdout",
     "output_type": "stream",
     "text": [
      "+-------+-----+---------------------------------------------------------------------------------------------------------------------+--------------------------------------+-----------------------------------------+----------+\n",
      "|id     |label|features                                                                                                             |rawPrediction                         |probability                              |prediction|\n",
      "+-------+-----+---------------------------------------------------------------------------------------------------------------------+--------------------------------------+-----------------------------------------+----------+\n",
      "|1039498|0    |(262144,[12503,14706,36901,68395,98169,103637,118293,128335,139989,208714],[1.0,1.0,1.0,1.0,1.0,1.0,1.0,1.0,1.0,1.0])|[9.099537331056421,-9.099537331056421]|[0.9998882949946568,1.117050053431097E-4]|0.0       |\n",
      "+-------+-----+---------------------------------------------------------------------------------------------------------------------+--------------------------------------+-----------------------------------------+----------+\n",
      "only showing top 1 row\n",
      "\n"
     ]
    }
   ],
   "source": [
    "# Apply best model to generate predictions\n",
    "prediction_modeling2 = lr_best_model.transform(hashed_modeling2).cache()\n",
    "prediction_modeling2.show(1, truncate=False)"
   ]
  },
  {
   "cell_type": "code",
   "execution_count": 41,
   "metadata": {
    "collapsed": false
   },
   "outputs": [
    {
     "name": "stdout",
     "output_type": "stream",
     "text": [
      "Estimated AUC modeling next: 0.965345\n"
     ]
    }
   ],
   "source": [
    "# Estimating the AUC score on modeling_next dataset\n",
    "auc_modeling_next = round(bcEval.evaluate(prediction_modeling2),6)\n",
    "print('Estimated AUC modeling next:', round(auc_modeling_next,6))"
   ]
  },
  {
   "cell_type": "code",
   "execution_count": 42,
   "metadata": {
    "collapsed": false
   },
   "outputs": [
    {
     "data": {
      "text/plain": [
       "DataFrame[id: bigint, label: int, features: vector]"
      ]
     },
     "execution_count": 42,
     "metadata": {},
     "output_type": "execute_result"
    }
   ],
   "source": [
    "# Free memory\n",
    "hashed_modeling2.unpersist()"
   ]
  },
  {
   "cell_type": "code",
   "execution_count": 43,
   "metadata": {
    "collapsed": true
   },
   "outputs": [],
   "source": [
    "# UDF to extract probability of positive class\n",
    "from pyspark.sql.functions import udf\n",
    "from pyspark.sql.types import DoubleType, StructType\n",
    "\n",
    "def get_pred(probability):\n",
    "\n",
    "    \"\"\"\n",
    "    Returns the probability of a converted click\n",
    "    Extracts the second element of vector probability\n",
    "    \n",
    "    Args:\n",
    "        probability -- vector of two elements (probability for 0 and 1)\n",
    "    \"\"\"\n",
    "    return(round(probability.toArray().tolist()[1],6))\n",
    "\n",
    "get_pred_udf = udf(get_pred, DoubleType())"
   ]
  },
  {
   "cell_type": "code",
   "execution_count": 44,
   "metadata": {
    "collapsed": false
   },
   "outputs": [
    {
     "name": "stdout",
     "output_type": "stream",
     "text": [
      "+-------+--------------------------+\n",
      "|     id|f_lr_hash_inter2_2p18_noip|\n",
      "+-------+--------------------------+\n",
      "|1039498|                   1.12E-4|\n",
      "|1039947|                   1.12E-4|\n",
      "|1863448|                   1.25E-4|\n",
      "+-------+--------------------------+\n",
      "only showing top 3 rows\n",
      "\n"
     ]
    }
   ],
   "source": [
    "# New Feature DataFrame\n",
    "f_lr_hash_modeling2 = (prediction_modeling2\n",
    "                       .withColumn('f_lr_hash_inter2_2p18_noip', get_pred_udf(col('probability')))\n",
    "                       .select('id', 'f_lr_hash_inter2_2p18_noip'))\n",
    "f_lr_hash_modeling2.show(3)"
   ]
  },
  {
   "cell_type": "code",
   "execution_count": 45,
   "metadata": {
    "collapsed": false
   },
   "outputs": [
    {
     "data": {
      "text/plain": [
       "DataFrame[id: bigint, label: int, features: vector, rawPrediction: vector, probability: vector, prediction: double]"
      ]
     },
     "execution_count": 45,
     "metadata": {},
     "output_type": "execute_result"
    }
   ],
   "source": [
    "# Free memory\n",
    "prediction_modeling2.unpersist()"
   ]
  },
  {
   "cell_type": "code",
   "execution_count": 46,
   "metadata": {
    "collapsed": false
   },
   "outputs": [
    {
     "data": {
      "text/plain": [
       "DataFrame[id: bigint, f_lr_hash_inter2_2p18_noip: double]"
      ]
     },
     "execution_count": 46,
     "metadata": {},
     "output_type": "execute_result"
    }
   ],
   "source": [
    "f_lr_hash_modeling2.cache()"
   ]
  },
  {
   "cell_type": "code",
   "execution_count": 47,
   "metadata": {
    "collapsed": true
   },
   "outputs": [],
   "source": [
    "# Saving new feature to disk\n",
    "(f_lr_hash_modeling2\n",
    " .write\n",
    " .format(\"com.databricks.spark.csv\")\n",
    " .option(\"header\", \"true\")\n",
    " .mode(\"overwrite\")\n",
    " .save(mungepath+\"logisitc_regression/lasso/f_lr_hash_inter2_2p18_noip_modeling2_split\", compression=\"None\"))"
   ]
  },
  {
   "cell_type": "markdown",
   "metadata": {},
   "source": [
    "## Prediction on test set"
   ]
  },
  {
   "cell_type": "code",
   "execution_count": 48,
   "metadata": {
    "collapsed": false,
    "scrolled": true
   },
   "outputs": [
    {
     "name": "stdout",
     "output_type": "stream",
     "text": [
      "+---+-----+-----------------------------------------------------------------------------------------------------------------------+--------------------------------------+------------------------------------------+----------+\n",
      "|id |label|features                                                                                                               |rawPrediction                         |probability                               |prediction|\n",
      "+---+-----+-----------------------------------------------------------------------------------------------------------------------+--------------------------------------+------------------------------------------+----------+\n",
      "|0  |-1   |(262144,[12503,73061,74731,101357,164359,177261,197416,218491,228176,240775],[1.0,1.0,1.0,1.0,1.0,1.0,1.0,1.0,1.0,1.0])|[7.655487389750511,-7.655487389750511]|[0.9995267849950147,4.7321500498543104E-4]|0.0       |\n",
      "+---+-----+-----------------------------------------------------------------------------------------------------------------------+--------------------------------------+------------------------------------------+----------+\n",
      "only showing top 1 row\n",
      "\n"
     ]
    }
   ],
   "source": [
    "# Apply best model to generate predictions\n",
    "prediction_test = lr_best_model.transform(hashed_test)\n",
    "prediction_test.show(1, truncate=False)"
   ]
  },
  {
   "cell_type": "code",
   "execution_count": 49,
   "metadata": {
    "collapsed": true
   },
   "outputs": [],
   "source": [
    "# UDF to extract probability of positive class\n",
    "from pyspark.sql.functions import udf\n",
    "from pyspark.sql.types import DoubleType, StructType\n",
    "\n",
    "def get_pred(probability):\n",
    "\n",
    "    \"\"\"\n",
    "    Returns the probability of a converted click\n",
    "    Extracts the second element of vector probability\n",
    "    \n",
    "    Args:\n",
    "        probability -- vector of two elements (probability for 0 and 1)\n",
    "    \"\"\"\n",
    "    return(round(probability.toArray().tolist()[1],6))\n",
    "\n",
    "get_pred_udf = udf(get_pred, DoubleType())"
   ]
  },
  {
   "cell_type": "code",
   "execution_count": 50,
   "metadata": {
    "collapsed": false
   },
   "outputs": [
    {
     "name": "stdout",
     "output_type": "stream",
     "text": [
      "+---+--------------------------+\n",
      "| id|f_lr_hash_inter2_2p18_noip|\n",
      "+---+--------------------------+\n",
      "|  0|                   4.73E-4|\n",
      "|  1|                    5.7E-4|\n",
      "|  2|                   1.15E-4|\n",
      "+---+--------------------------+\n",
      "only showing top 3 rows\n",
      "\n"
     ]
    }
   ],
   "source": [
    "# New Feature DataFrame\n",
    "f_lr_hash_test = (prediction_test\n",
    "                  .withColumn('f_lr_hash_inter2_2p18_noip', get_pred_udf(col('probability')))\n",
    "                  .select('id', 'f_lr_hash_inter2_2p18_noip'))\n",
    "f_lr_hash_test.show(3)"
   ]
  },
  {
   "cell_type": "code",
   "execution_count": 51,
   "metadata": {
    "collapsed": false
   },
   "outputs": [
    {
     "name": "stdout",
     "output_type": "stream",
     "text": [
      "+------------+\n",
      "|     max(id)|\n",
      "+------------+\n",
      "|120260237348|\n",
      "+------------+\n",
      "\n"
     ]
    }
   ],
   "source": [
    "import pyspark.sql.functions as func\n",
    "\n",
    "f_lr_hash_test.groupBy().agg(func.max(col('id'))).show()"
   ]
  },
  {
   "cell_type": "code",
   "execution_count": 53,
   "metadata": {
    "collapsed": true
   },
   "outputs": [],
   "source": [
    "# Saving new feature to disk\n",
    "(f_lr_hash_test\n",
    " .coalesce(1)\n",
    " .write\n",
    " .format(\"com.databricks.spark.csv\")\n",
    " .option(\"header\", \"true\")\n",
    " .mode(\"overwrite\")\n",
    " .save(mungepath+\"logisitc_regression/lasso/f_lr_hash_inter2_2p18_noip_test\", compression=\"None\"))"
   ]
  },
  {
   "cell_type": "code",
   "execution_count": 52,
   "metadata": {
    "collapsed": true
   },
   "outputs": [],
   "source": [
    "# Saving new feature to disk\n",
    "(f_lr_hash_test\n",
    " .write\n",
    " .format(\"com.databricks.spark.csv\")\n",
    " .option(\"header\", \"true\")\n",
    " .mode(\"overwrite\")\n",
    " .save(mungepath+\"logisitc_regression/lasso/f_lr_hash_inter2_2p18_noip_test_split\", compression=\"None\"))"
   ]
  },
  {
   "cell_type": "code",
   "execution_count": null,
   "metadata": {
    "collapsed": true
   },
   "outputs": [],
   "source": []
  }
 ],
 "metadata": {
  "anaconda-cloud": {},
  "kernelspec": {
   "display_name": "PySpark",
   "language": "python3",
   "name": "pyspark"
  },
  "language_info": {
   "codemirror_mode": {
    "name": "ipython",
    "version": 3
   },
   "file_extension": ".py",
   "mimetype": "text/x-python",
   "name": "python",
   "nbconvert_exporter": "python",
   "pygments_lexer": "ipython3",
   "version": "3.6.4"
  }
 },
 "nbformat": 4,
 "nbformat_minor": 1
}
